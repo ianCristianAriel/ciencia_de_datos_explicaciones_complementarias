{
  "cells": [
    {
      "cell_type": "markdown",
      "metadata": {
        "id": "JRlWUeHZqcZP"
      },
      "source": [
        "# **Unidad 2: Ejercicios de repaso (regresión y clasificación)**\n",
        "1. Carga y limpieza del dataset\n",
        "2. Separación de Datos\n",
        "3. Preprocesamiento de datos\n",
        "4. Machine learning\n",
        "5. Sistematización del Flujo"
      ]
    },
    {
      "cell_type": "markdown",
      "metadata": {
        "id": "Ljn6Mr1WQLHe"
      },
      "source": [
        "---\n",
        "## **Problemas de Clasificación**"
      ]
    },
    {
      "cell_type": "markdown",
      "metadata": {
        "id": "TJkpD6hgO9kM"
      },
      "source": [
        "### 1. Carga y limpieza del dataset\n",
        "\n",
        "\n"
      ]
    },
    {
      "cell_type": "markdown",
      "metadata": {
        "id": "2AzSCY9VliBk"
      },
      "source": [
        "#### Carga del dataset"
      ]
    },
    {
      "cell_type": "markdown",
      "metadata": {
        "id": "ncqNkHuenRm-"
      },
      "source": [
        "#### Solución Carga del dataset:\n",
        "\n"
      ]
    },
    {
      "cell_type": "code",
      "execution_count": null,
      "metadata": {},
      "outputs": [],
      "source": [
        "import warnings\n",
        "warnings.filterwarnings('ignore')"
      ]
    },
    {
      "cell_type": "code",
      "execution_count": null,
      "metadata": {
        "id": "n2H9AuQIL_29"
      },
      "outputs": [],
      "source": [
        "import pandas as pd\n",
        "import seaborn as sns"
      ]
    },
    {
      "cell_type": "code",
      "execution_count": null,
      "metadata": {
        "id": "CptzV6WRnRm_"
      },
      "outputs": [],
      "source": [
        "df = sns.load_dataset(\"penguins\")       # carga CSV integrado en seaborn"
      ]
    },
    {
      "cell_type": "code",
      "execution_count": null,
      "metadata": {
        "id": "V4tdoZ_IMTeY"
      },
      "outputs": [],
      "source": [
        "#df.read_csv('./penguins.csv')"
      ]
    },
    {
      "cell_type": "markdown",
      "metadata": {
        "id": "gw61gXyFljp7"
      },
      "source": [
        "#### Limpieza de datos:\n",
        "- Revisar valores nulos (NaN) y decidir si imputar o eliminar.\n",
        "- Revisar outliers extremos y decidir si transformarlos, eliminarlos o dejarlos según el contexto.\n",
        "- Eliminar duplicados si no aportan información relevante."
      ]
    },
    {
      "cell_type": "code",
      "execution_count": null,
      "metadata": {
        "id": "hRfRHSY99Stw"
      },
      "outputs": [],
      "source": [
        "# investigar libreria amissingno"
      ]
    },
    {
      "cell_type": "code",
      "execution_count": null,
      "metadata": {
        "colab": {
          "base_uri": "https://localhost:8080/"
        },
        "id": "P-SX3FRbO-ND",
        "outputId": "e0c847cb-c43d-4fa1-dcb1-0f71ae3622e6"
      },
      "outputs": [],
      "source": [
        "df.info()"
      ]
    },
    {
      "cell_type": "code",
      "execution_count": null,
      "metadata": {
        "colab": {
          "base_uri": "https://localhost:8080/",
          "height": 366
        },
        "id": "_OJZZvzm77is",
        "outputId": "347cd83e-9a61-44de-87d0-50fa3f6814a8"
      },
      "outputs": [],
      "source": [
        "df.isnull().sum()"
      ]
    },
    {
      "cell_type": "code",
      "execution_count": null,
      "metadata": {
        "colab": {
          "base_uri": "https://localhost:8080/"
        },
        "id": "5ZLkW3Ou8sXz",
        "outputId": "a361bca0-804c-41ce-c3ae-0ccf06e09949"
      },
      "outputs": [],
      "source": [
        "df.shape"
      ]
    },
    {
      "cell_type": "code",
      "execution_count": null,
      "metadata": {
        "id": "d32v3F76O-H0"
      },
      "outputs": [],
      "source": [
        "from sklearn.impute import SimpleImputer, KNNImputer"
      ]
    },
    {
      "cell_type": "code",
      "execution_count": null,
      "metadata": {
        "colab": {
          "base_uri": "https://localhost:8080/"
        },
        "id": "C3zlPsky-6OV",
        "outputId": "c8ddcf86-b502-4361-97ed-b931e52aaa33"
      },
      "outputs": [],
      "source": [
        "help(SimpleImputer())"
      ]
    },
    {
      "cell_type": "code",
      "execution_count": null,
      "metadata": {
        "id": "Bi_oEXgUAKnj"
      },
      "outputs": [],
      "source": [
        "import seaborn as sns\n",
        "import matplotlib.pyplot as plt"
      ]
    },
    {
      "cell_type": "markdown",
      "metadata": {
        "id": "d3WRxAF_nRI8"
      },
      "source": [
        "#### Solución Limpieza de datos::\n",
        "\n"
      ]
    },
    {
      "cell_type": "code",
      "execution_count": null,
      "metadata": {
        "id": "bCAf73htntd8"
      },
      "outputs": [],
      "source": [
        "# Revisar valores nulos\n",
        "df.isnull().sum()"
      ]
    },
    {
      "cell_type": "code",
      "execution_count": null,
      "metadata": {
        "id": "yG8zoxYDnwXm"
      },
      "outputs": [],
      "source": [
        "# Imputar valores faltantes (ejemplo: media para numéricas, moda para categóricas)\n",
        "for col in df.select_dtypes(include='number'):\n",
        "    df[col].fillna(df[col].mean(), inplace=True)\n",
        "for col in df.select_dtypes(include='object'):\n",
        "    df[col].fillna(df[col].mode()[0], inplace=True)"
      ]
    },
    {
      "cell_type": "code",
      "execution_count": null,
      "metadata": {
        "id": "-aPqLcPonygS"
      },
      "outputs": [],
      "source": [
        "# Eliminar duplicados\n",
        "df.drop_duplicates(inplace=True)"
      ]
    },
    {
      "cell_type": "markdown",
      "metadata": {
        "id": "Lb4vaaq_PBKJ"
      },
      "source": [
        "### 2. Separación de Datos\n",
        "- Separar variables predictoras (`X`) y target (`y`).\n",
        "- Dividir en conjunto de entrenamiento y testeo:\n",
        "  - `X_train`, `X_test`\n",
        "  - `y_train`, `y_test`."
      ]
    },
    {
      "cell_type": "code",
      "execution_count": null,
      "metadata": {
        "id": "s_H-UNqcPLez"
      },
      "outputs": [],
      "source": []
    },
    {
      "cell_type": "code",
      "execution_count": null,
      "metadata": {
        "id": "SWojiPp3PLTg"
      },
      "outputs": [],
      "source": []
    },
    {
      "cell_type": "markdown",
      "metadata": {
        "id": "SupDIYO7q2PC"
      },
      "source": [
        "#### Solución Separación de Datos:\n",
        "\n"
      ]
    },
    {
      "cell_type": "code",
      "execution_count": null,
      "metadata": {
        "id": "WtdzlSwGr7rK"
      },
      "outputs": [],
      "source": [
        "X = df.drop(columns='species').copy()\n",
        "y = df['species'].copy()"
      ]
    },
    {
      "cell_type": "code",
      "execution_count": null,
      "metadata": {},
      "outputs": [],
      "source": [
        "from sklearn.model_selection import train_test_split"
      ]
    },
    {
      "cell_type": "code",
      "execution_count": null,
      "metadata": {
        "id": "NYj_6aFdrxHs"
      },
      "outputs": [],
      "source": [
        "X_train, X_test, y_train, y_test = train_test_split(X, y, stratify=y, random_state=42)"
      ]
    },
    {
      "cell_type": "markdown",
      "metadata": {
        "id": "QN_phinFrR-d"
      },
      "source": [
        "### 3. Preprocesamiento\n",
        "\n",
        "- Encoding de variables categóricas. (usar solo X_train para ajustar el encoder).\n",
        "- Escalado de variables (usar solo X_train para ajustar el scaler).\n"
      ]
    },
    {
      "cell_type": "code",
      "execution_count": null,
      "metadata": {
        "id": "0LwV_E-x0-ZP"
      },
      "outputs": [],
      "source": [
        "# binarizar target para mayor compativilidad\n"
      ]
    },
    {
      "cell_type": "markdown",
      "metadata": {
        "id": "XDI94Jmsl0jb"
      },
      "source": [
        "#### Encoding de variables categóricas\n",
        "\n",
        "-\tEscoger entre:\n",
        "  - One-Hot Encoding: para categorías sin orden.\n",
        "  - Ordinal Encoding: si las categorías tienen un orden natural.\n",
        "\n",
        "- Solo ajustar el encoder usando X_train para evitar data leakage.\n",
        "- Aplicar el encoder ajustado a X_test sin recalibrar.\n",
        "\n"
      ]
    },
    {
      "cell_type": "code",
      "execution_count": null,
      "metadata": {
        "id": "WP88uuC0mDJE"
      },
      "outputs": [],
      "source": []
    },
    {
      "cell_type": "code",
      "execution_count": null,
      "metadata": {
        "id": "H-BWXqt7mC7l"
      },
      "outputs": [],
      "source": []
    },
    {
      "cell_type": "code",
      "execution_count": null,
      "metadata": {
        "id": "e0niRcAgmCsW"
      },
      "outputs": [],
      "source": []
    },
    {
      "cell_type": "markdown",
      "metadata": {
        "id": "XLTMwNNdnQrn"
      },
      "source": [
        "#### Solución Encoding de variables categóricas:\n",
        "\n"
      ]
    },
    {
      "cell_type": "code",
      "execution_count": null,
      "metadata": {
        "id": "mOUJ04jNoA9O"
      },
      "outputs": [],
      "source": [
        "# Separar variables categóricas nomianles\n",
        "cat_cols_nom = #\n",
        "\n",
        "# Separar variables categóricas ordinales\n",
        "cat_cols_ord = #"
      ]
    },
    {
      "cell_type": "code",
      "execution_count": null,
      "metadata": {
        "id": "3WVtJm01oLlB"
      },
      "outputs": [],
      "source": [
        "# Crear y ajustar el encoder solo con X_train\n",
        "encoder_nom = OneHotEncoder(sparse=False, handle_unknown='ignore')\n",
        "X_train_encoded = encoder_nom.fit_transform(X_train[cat_cols_nom])\n",
        "\n",
        "# Aplicar a X_test\n",
        "X_test_encoded = encoder_nom.transform(X_test[cat_cols])"
      ]
    },
    {
      "cell_type": "code",
      "execution_count": null,
      "metadata": {
        "id": "CX8Q7PUUoDEg"
      },
      "outputs": [],
      "source": [
        "# Crear y ajustar el encoder solo con X_train\n",
        "encoder_ord = OneHotEncoder(sparse=False, handle_unknown='ignore')\n",
        "X_train_encoded = encoder_ord.fit_transform(X_train[cat_cols_nom])\n",
        "\n",
        "# Aplicar a X_test\n",
        "X_test_encoded = encoder_ord.transform(X_test[cat_cols])"
      ]
    },
    {
      "cell_type": "markdown",
      "metadata": {
        "id": "uPPPbyUGmMSq"
      },
      "source": [
        "#### Escalado de variables\n",
        "\n",
        "- Escoger el tipo de escalado según distribución empirica de los datos:\n",
        "  - `StandardScaler` → normalización a media 0, desviación 1 (útil si la distribución se parece a una distribución teorica normal).\n",
        "  - `MinMaxScaler` → rango [0,1] (útil en distribuciones que se alejan bastante a una distribución teorica normal).\n",
        "- Ajustar el scaler solo en `X_trai` y aplicar a `X_test` para evitar data leakage."
      ]
    },
    {
      "cell_type": "code",
      "execution_count": null,
      "metadata": {
        "id": "pCmP78x9mv0S"
      },
      "outputs": [],
      "source": []
    },
    {
      "cell_type": "code",
      "execution_count": null,
      "metadata": {
        "id": "477XSB5omvyF"
      },
      "outputs": [],
      "source": []
    },
    {
      "cell_type": "markdown",
      "metadata": {
        "id": "v4_T-w17nC9h"
      },
      "source": [
        "#### Solución escalado de variables:\n",
        "\n"
      ]
    },
    {
      "cell_type": "code",
      "execution_count": null,
      "metadata": {
        "id": "rU7lTB9jpf_0"
      },
      "outputs": [],
      "source": [
        "# Seleccionar columnas numéricas\n",
        "num_cols = X_train.select_dtypes(include='number').columns"
      ]
    },
    {
      "cell_type": "code",
      "execution_count": null,
      "metadata": {
        "id": "CW4bt-AunG6U"
      },
      "outputs": [],
      "source": [
        "# Crear y ajustar el scaler solo con X_train\n",
        "scaler = StandardScaler()\n",
        "X_train[num_cols] = scaler.fit_transform(X_train[num_cols])\n",
        "\n",
        "# Aplicar a X_test\n",
        "X_test[num_cols] = scaler.transform(X_test[num_cols])"
      ]
    },
    {
      "cell_type": "markdown",
      "metadata": {
        "id": "5hY8rNy_QbRC"
      },
      "source": [
        "### 4. Machine learning"
      ]
    },
    {
      "cell_type": "markdown",
      "metadata": {
        "id": "HmvgmOByPPqk"
      },
      "source": [
        "#### 4.1. Modelos bases out of the box (sin optimización)\n",
        "\n",
        "- KNNClassifier\n",
        "- DecisionTreeClassifier.\n",
        "\n"
      ]
    },
    {
      "cell_type": "code",
      "execution_count": null,
      "metadata": {
        "id": "lY_ULHFhPiEF"
      },
      "outputs": [],
      "source": []
    },
    {
      "cell_type": "code",
      "execution_count": null,
      "metadata": {
        "id": "IhPgQomSPip9"
      },
      "outputs": [],
      "source": []
    },
    {
      "cell_type": "markdown",
      "metadata": {
        "id": "JFEZbHZCtW-7"
      },
      "source": [
        "#### Solución Modelos bases out of the box (sin optimización):"
      ]
    },
    {
      "cell_type": "code",
      "execution_count": null,
      "metadata": {
        "id": "bVr0JIWutZ8s"
      },
      "outputs": [],
      "source": [
        "from sklearn.neighbors import KNeighborsClassifier\n",
        "\n",
        "# Instanciar el modelo base\n",
        "knn = KNeighborsClassifier()  # parámetros por defecto: n_neighbors=5\n",
        "\n",
        "# Entrenar el modelo con X_train e y_train\n",
        "knn.fit(X_train, y_train)\n",
        "\n",
        "# Predecir sobre X_test\n",
        "y_pred_knn = knn.predict(X_test)"
      ]
    },
    {
      "cell_type": "code",
      "execution_count": null,
      "metadata": {
        "id": "e0E7t0aCtiiv"
      },
      "outputs": [],
      "source": [
        "from sklearn.tree import DecisionTreeClassifier\n",
        "\n",
        "# Instanciar el modelo base\n",
        "dt = DecisionTreeClassifier(random_state=42)  # random_state para reproducibilidad\n",
        "\n",
        "# Entrenar el modelo\n",
        "dt.fit(X_train, y_train)\n",
        "\n",
        "# Predecir sobre X_test\n",
        "y_pred_dt = dt.predict(X_test)"
      ]
    },
    {
      "cell_type": "markdown",
      "metadata": {
        "id": "JmmxUGVrPiUW"
      },
      "source": [
        "\n",
        "\n",
        "#### 4.2. Modelos de Ensemble out of the box (sin optimización)\n",
        "- Bagging (ej: [RandomForestClassifier](https://scikit-learn.org/stable/modules/generated/sklearn.ensemble.RandomForestClassifier.html)).\n",
        "- Boosting (ej: [XGBClassifier](https://xgboost.readthedocs.io/en/stable/python/python_api.html#xgboost.XGBClassifier))."
      ]
    },
    {
      "cell_type": "code",
      "execution_count": null,
      "metadata": {
        "id": "4f-lux5yPnEo"
      },
      "outputs": [],
      "source": []
    },
    {
      "cell_type": "code",
      "execution_count": null,
      "metadata": {
        "id": "sx6jDhUgPm8q"
      },
      "outputs": [],
      "source": []
    },
    {
      "cell_type": "markdown",
      "metadata": {
        "id": "UXZg1K3ktpUb"
      },
      "source": [
        "#### Solución Modelos de ensemble out of the box (sin optimización):"
      ]
    },
    {
      "cell_type": "code",
      "execution_count": null,
      "metadata": {
        "id": "5PO1793QtsAw"
      },
      "outputs": [],
      "source": [
        "from sklearn.ensemble import RandomForestClassifier\n",
        "\n",
        "# Instanciar el modelo base\n",
        "rf = RandomForestClassifier(random_state=42)  # random_state para reproducibilidad\n",
        "\n",
        "# Entrenar el modelo\n",
        "rf.fit(X_train, y_train)\n",
        "\n",
        "# Predecir sobre X_test\n",
        "y_pred_rf = rf.predict(X_test)"
      ]
    },
    {
      "cell_type": "code",
      "execution_count": null,
      "metadata": {
        "id": "M-iU4mjVt6SR"
      },
      "outputs": [],
      "source": [
        "from xgboost import XGBClassifier\n",
        "\n",
        "# Instanciar el modelo base\n",
        "xgb = XGBClassifier(use_label_encoder=False, eval_metric='logloss', random_state=42)\n",
        "\n",
        "# Entrenar el modelo\n",
        "xgb.fit(X_train, y_train)\n",
        "\n",
        "# Predecir sobre X_test\n",
        "y_pred_xgb = xgb.predict(X_test)"
      ]
    },
    {
      "cell_type": "markdown",
      "metadata": {
        "id": "uyInNUAIaDA-"
      },
      "source": [
        "#### 4.3. Optimización de Hiperparámetros sobre modelos base (GridSearchCV y RandomizedSearchCV)\n",
        "- Optimizar un Árbol de Decisión al máximo\n",
        "- Optimizar un KNN al máximo"
      ]
    },
    {
      "cell_type": "code",
      "execution_count": null,
      "metadata": {
        "id": "TUtmyEPRgbGy"
      },
      "outputs": [],
      "source": []
    },
    {
      "cell_type": "code",
      "execution_count": null,
      "metadata": {
        "id": "Bzv192tIgbEB"
      },
      "outputs": [],
      "source": []
    },
    {
      "cell_type": "markdown",
      "metadata": {
        "id": "EUeJem66uTrh"
      },
      "source": [
        "#### Solución Optimización de Hiperparámetros sobre modelos base (GridSearchCV y RandomizedSearchCV)"
      ]
    },
    {
      "cell_type": "code",
      "execution_count": null,
      "metadata": {
        "id": "wq1k1gJpuYbS"
      },
      "outputs": [],
      "source": [
        "from sklearn.model_selection import GridSearchCV"
      ]
    },
    {
      "cell_type": "code",
      "execution_count": null,
      "metadata": {
        "id": "M8uLqh5SuWGk"
      },
      "outputs": [],
      "source": [
        "# --- KNN ---\n",
        "knn = KNeighborsClassifier()\n",
        "param_grid_knn = {\n",
        "    'n_neighbors': [3, 5, 7, 9],\n",
        "    'weights': ['uniform', 'distance'],\n",
        "    'p': [1, 2]  # 1=L1, 2=L2\n",
        "}\n",
        "grid_knn = GridSearchCV(knn, param_grid_knn, cv=5, scoring='f1-macro', n_jobs=-1)\n",
        "grid_knn.fit(X_train, y_train)\n",
        "y_pred_knn = grid_knn.predict(X_test)"
      ]
    },
    {
      "cell_type": "code",
      "execution_count": null,
      "metadata": {
        "id": "k60A4fk0ul7g"
      },
      "outputs": [],
      "source": [
        "# --- Decision Tree ---\n",
        "dt = DecisionTreeClassifier(random_state=42)\n",
        "param_grid_dt = {\n",
        "    'max_depth': [None, 5, 10, 15],\n",
        "    'min_samples_split': [2, 5, 10],\n",
        "    'min_samples_leaf': [1, 2, 4],\n",
        "    'criterion': ['gini', 'entropy']\n",
        "}\n",
        "grid_dt = GridSearchCV(dt, param_grid_dt, cv=5, scoring='f1-macro', n_jobs=-1)\n",
        "grid_dt.fit(X_train, y_train)\n",
        "y_pred_dt = grid_dt.predict(X_test)"
      ]
    },
    {
      "cell_type": "markdown",
      "metadata": {
        "id": "jRnqyiJCaKJR"
      },
      "source": [
        "#### 4.4. Exploración Manual\n",
        "-\tUsar bucle for para variar hiperparámetros y visualizar impacto en rendimiento sobre modelos bases:\n",
        "  - KNN\n",
        "  - Árbol de Decisión"
      ]
    },
    {
      "cell_type": "code",
      "execution_count": null,
      "metadata": {
        "id": "nm2BLe9SgcP4"
      },
      "outputs": [],
      "source": []
    },
    {
      "cell_type": "code",
      "execution_count": null,
      "metadata": {
        "id": "GWGp4PwbgcNQ"
      },
      "outputs": [],
      "source": []
    },
    {
      "cell_type": "markdown",
      "metadata": {
        "id": "SujSOsgsvk_Y"
      },
      "source": [
        "#### Solución Exploración Manual"
      ]
    },
    {
      "cell_type": "code",
      "execution_count": null,
      "metadata": {
        "id": "ByY6n4x5vrQa"
      },
      "outputs": [],
      "source": [
        "import matplotlib.pyplot as plt\n",
        "from sklearn.metrics import f1_score"
      ]
    },
    {
      "cell_type": "code",
      "execution_count": null,
      "metadata": {
        "id": "WKI4L2_QvpSC"
      },
      "outputs": [],
      "source": [
        "# Rango de n_neighbors\n",
        "n_neighbors_range = [1, 3, 5, 7, 9, 11]\n",
        "f1_scores_knn = []\n",
        "\n",
        "for k in n_neighbors_range:\n",
        "    knn = KNeighborsClassifier(n_neighbors=k)\n",
        "    knn.fit(X_train, y_train)\n",
        "    y_pred = knn.predict(X_test)\n",
        "    f1_scores_knn.append(f1_score(y_test, y_pred, average='macro'))\n",
        "\n",
        "# Visualización\n",
        "plt.plot(n_neighbors_range, f1_scores_knn, marker='o')\n",
        "plt.xlabel('n_neighbors')\n",
        "plt.ylabel('F1 Macro')\n",
        "plt.title('Exploración manual KNN (n_neighbors)')\n",
        "plt.show()"
      ]
    },
    {
      "cell_type": "code",
      "execution_count": null,
      "metadata": {
        "id": "kHomgy80vt1g"
      },
      "outputs": [],
      "source": [
        "# Rango de max_depth\n",
        "max_depth_range = [None, 3, 5, 7, 10]\n",
        "f1_scores_dt = []\n",
        "\n",
        "for depth in max_depth_range:\n",
        "    dt = DecisionTreeClassifier(max_depth=depth, random_state=42)\n",
        "    dt.fit(X_train, y_train)\n",
        "    y_pred = dt.predict(X_test)\n",
        "    f1_scores_dt.append(f1_score(y_test, y_pred, average='macro'))\n",
        "\n",
        "# Visualización\n",
        "plt.plot([str(d) for d in max_depth_range], f1_scores_dt, marker='o')\n",
        "plt.xlabel('max_depth')\n",
        "plt.ylabel('F1 Macro')\n",
        "plt.title('Exploración manual Decision Tree (max_depth)')\n",
        "plt.show()"
      ]
    },
    {
      "cell_type": "markdown",
      "metadata": {
        "id": "Jm-fmiVxPnlg"
      },
      "source": [
        "#### 4.5. Métricas Avanzadas para cada modelo\n",
        "- Tiempos de entrenamiento.\n",
        "- Reporte de clasificación (classification_report).\n",
        "- Curva ROC (gráfico TPR vs FPR para todos los umbrales).\n",
        "- AUC (área bajo la curva ROC).\n"
      ]
    },
    {
      "cell_type": "code",
      "execution_count": null,
      "metadata": {
        "id": "WkFyI8YFQpwo"
      },
      "outputs": [],
      "source": []
    },
    {
      "cell_type": "code",
      "execution_count": null,
      "metadata": {
        "id": "cA2PZS3UQppq"
      },
      "outputs": [],
      "source": []
    },
    {
      "cell_type": "code",
      "execution_count": null,
      "metadata": {
        "id": "k43W0PXxQpi8"
      },
      "outputs": [],
      "source": []
    },
    {
      "cell_type": "code",
      "execution_count": null,
      "metadata": {
        "id": "lKOcPM-lQpdW"
      },
      "outputs": [],
      "source": []
    },
    {
      "cell_type": "markdown",
      "metadata": {
        "id": "DAaw2lSfwpuF"
      },
      "source": [
        "#### Solución metricas avanzadas para cada modelo"
      ]
    },
    {
      "cell_type": "code",
      "execution_count": null,
      "metadata": {
        "id": "ZSW0zyL00MOl"
      },
      "outputs": [],
      "source": [
        "import time\n",
        "from sklearn.metrics import classification_report, roc_curve, auc, f1_score, accuracy_score"
      ]
    },
    {
      "cell_type": "code",
      "execution_count": null,
      "metadata": {
        "id": "qYqqMsck0KRW"
      },
      "outputs": [],
      "source": [
        "# Lista de modelos y nombres\n",
        "models = [\n",
        "    ('KNN Base', knn),\n",
        "    ('KNN Optimizado', grid_knn.best_estimator_),\n",
        "    ('Decision Tree Base', dt),\n",
        "    ('Decision Tree Optimizado', grid_dt.best_estimator_),\n",
        "    ('Random Forest', rf),\n",
        "    ('XGBoost', xgb)\n",
        "]\n",
        "\n",
        "# Guardar métricas para comparativa final\n",
        "results = []\n",
        "\n",
        "plt.figure(figsize=(10, 8))\n",
        "colors = ['blue', 'green', 'red', 'orange', 'purple', 'brown']\n",
        "\n",
        "for i, (name, model) in enumerate(models):\n",
        "    # Entrenamiento y tiempo\n",
        "    start = time.time()\n",
        "    model.fit(X_train, y_train)\n",
        "    train_time = time.time() - start\n",
        "\n",
        "    # Predicciones\n",
        "    y_pred = model.predict(X_test)\n",
        "\n",
        "    # Métricas\n",
        "    acc = accuracy_score(y_test, y_pred)\n",
        "    f1 = f1_score(y_test, y_pred, average='macro')\n",
        "\n",
        "    # Probabilidades para ROC/AUC\n",
        "    if hasattr(model, \"predict_proba\"):\n",
        "        y_score = model.predict_proba(X_test)[:, 1]\n",
        "    else:\n",
        "        y_score = model.decision_function(X_test)\n",
        "\n",
        "    fpr, tpr, _ = roc_curve(y_test, y_score)\n",
        "    roc_auc = auc(fpr, tpr)\n",
        "\n",
        "    # Guardar resultados\n",
        "    results.append({\n",
        "        'Modelo': name,\n",
        "        'Tiempo': train_time,\n",
        "        'Accuracy': acc,\n",
        "        'F1': f1,\n",
        "        'AUC': roc_auc\n",
        "    })\n",
        "\n",
        "    # Mostrar reporte y ROC\n",
        "    print(f\"\\n{name} - Tiempo de entrenamiento: {train_time:.4f} s\")\n",
        "    print(classification_report(y_test, y_pred))\n",
        "    plt.plot(fpr, tpr, color=colors[i % len(colors)], label=f'{name} (AUC={roc_auc:.2f})')\n",
        "\n",
        "# Curva ROC\n",
        "plt.plot([0, 1], [0, 1], 'k--')\n",
        "plt.xlabel('False Positive Rate')\n",
        "plt.ylabel('True Positive Rate')\n",
        "plt.title('Curva ROC de todos los modelos')\n",
        "plt.legend()\n",
        "plt.show()"
      ]
    },
    {
      "cell_type": "markdown",
      "metadata": {
        "id": "iHl63rcmaWR9"
      },
      "source": [
        "#### 4.6. Comparaciones Finales\n",
        "- Gráfico comparativo entre todos los modelos:\n",
        "  - Tiempos de entrenamiento.\n",
        "  - Métricas de interés (accuracy, AUC, F1, etc.)."
      ]
    },
    {
      "cell_type": "code",
      "execution_count": null,
      "metadata": {
        "id": "vHvFCI780eS_"
      },
      "outputs": [],
      "source": []
    },
    {
      "cell_type": "code",
      "execution_count": null,
      "metadata": {
        "id": "hCiSGG7p0nhJ"
      },
      "outputs": [],
      "source": []
    },
    {
      "cell_type": "code",
      "execution_count": null,
      "metadata": {
        "id": "dSXECGzj0naX"
      },
      "outputs": [],
      "source": []
    },
    {
      "cell_type": "markdown",
      "metadata": {
        "id": "rhWT-3Sm0cP0"
      },
      "source": [
        "#### Solución comparativas finales"
      ]
    },
    {
      "cell_type": "code",
      "execution_count": null,
      "metadata": {
        "id": "QgSsz-lw0ieC"
      },
      "outputs": [],
      "source": [
        "import seaborn as sns"
      ]
    },
    {
      "cell_type": "code",
      "execution_count": null,
      "metadata": {
        "id": "YYvya6Cq0ljM"
      },
      "outputs": [],
      "source": [
        "df_results = pd.DataFrame(results)"
      ]
    },
    {
      "cell_type": "code",
      "execution_count": null,
      "metadata": {
        "id": "OM417w850jJW"
      },
      "outputs": [],
      "source": [
        "# Gráfico de tiempos de entrenamiento\n",
        "plt.figure(figsize=(8,5))\n",
        "sns.barplot(x='Modelo', y='Tiempo', data=df_results, palette='Set2')\n",
        "plt.xticks(rotation=45)\n",
        "plt.title('Tiempo de Entrenamiento por Modelo')\n",
        "plt.show()"
      ]
    },
    {
      "cell_type": "code",
      "execution_count": null,
      "metadata": {
        "id": "GfBI3jMj0kuU"
      },
      "outputs": [],
      "source": [
        "# Gráfico de métricas (Accuracy, F1, AUC)\n",
        "plt.figure(figsize=(10,5))\n",
        "df_plot = df_results.melt(id_vars='Modelo', value_vars=['Accuracy','F1','AUC'], var_name='Métrica', value_name='Valor')\n",
        "sns.barplot(x='Modelo', y='Valor', hue='Métrica', data=df_plot, palette='Set1')\n",
        "plt.xticks(rotation=45)\n",
        "plt.title('Comparativa de Métricas por Modelo')\n",
        "plt.show()"
      ]
    },
    {
      "cell_type": "markdown",
      "metadata": {
        "id": "pxmw3hZnQ9al"
      },
      "source": [
        "### 5. Sistematización del Flujo\n",
        "\n",
        "- Construir un Pipeline que encadene:\n",
        "  - Transformaciones de datos.\n",
        "  - Modelo final.\n",
        "  - Verificar que evita fugas de datos (data leakage)."
      ]
    },
    {
      "cell_type": "code",
      "execution_count": null,
      "metadata": {
        "id": "BrrzaZ7maA0p"
      },
      "outputs": [],
      "source": []
    },
    {
      "cell_type": "code",
      "execution_count": null,
      "metadata": {
        "id": "LTkJ9S5eaAsG"
      },
      "outputs": [],
      "source": []
    },
    {
      "cell_type": "code",
      "execution_count": null,
      "metadata": {
        "id": "l0IpXOrAaAJd"
      },
      "outputs": [],
      "source": []
    },
    {
      "cell_type": "markdown",
      "metadata": {
        "id": "8Ejbzhlkyn_u"
      },
      "source": [
        "#### Solución sistematización del flujo"
      ]
    },
    {
      "cell_type": "code",
      "execution_count": null,
      "metadata": {
        "id": "n2HoBkbry0K_"
      },
      "outputs": [],
      "source": [
        "from sklearn.pipeline import Pipeline\n",
        "from sklearn.compose import ColumnTransformer"
      ]
    },
    {
      "cell_type": "code",
      "execution_count": null,
      "metadata": {
        "id": "HjPyhsfqy05C"
      },
      "outputs": [],
      "source": [
        "# Columnas\n",
        "num_cols = X_train.select_dtypes(include='number').columns\n",
        "cat_cols = X_train.select_dtypes(include='object').columns"
      ]
    },
    {
      "cell_type": "code",
      "execution_count": null,
      "metadata": {
        "id": "_sOyVQ8Ey4J5"
      },
      "outputs": [],
      "source": [
        "# Transformaciones\n",
        "preprocessor = ColumnTransformer(transformers=[\n",
        "    ('num', StandardScaler(), num_cols),\n",
        "    ('cat', OneHotEncoder(handle_unknown='ignore'), cat_cols)\n",
        "])"
      ]
    },
    {
      "cell_type": "code",
      "execution_count": null,
      "metadata": {
        "id": "sIvhVS2Hy44C"
      },
      "outputs": [],
      "source": [
        "# Pipeline con modelo final\n",
        "pipeline_final_model = Pipeline(steps=[\n",
        "    ('preprocessor', preprocessor),\n",
        "    ('classifier', KNeighborsClassifier(n_neighbors=5)) # o otro\n",
        "])"
      ]
    },
    {
      "cell_type": "code",
      "execution_count": null,
      "metadata": {
        "id": "PC9i4W1My5xo"
      },
      "outputs": [],
      "source": [
        "# Entrenamiento\n",
        "pipeline_final_model.fit(X_train, y_train)"
      ]
    },
    {
      "cell_type": "code",
      "execution_count": null,
      "metadata": {
        "id": "VrOhNUh7y69K"
      },
      "outputs": [],
      "source": [
        "# Predicción\n",
        "y_pred = pipeline_final_model.predict(X_test)"
      ]
    },
    {
      "cell_type": "markdown",
      "metadata": {
        "id": "p8xKxM1Yav7r"
      },
      "source": [
        "---\n",
        "## **Problemas de Regresión**"
      ]
    },
    {
      "cell_type": "markdown",
      "metadata": {
        "id": "SEXPDj4w11gf"
      },
      "source": [
        "### 1. Carga y limpieza del dataset\n",
        "\n",
        "\n"
      ]
    },
    {
      "cell_type": "markdown",
      "metadata": {
        "id": "LILNxPut11gf"
      },
      "source": [
        "#### Carga del dataset"
      ]
    },
    {
      "cell_type": "code",
      "execution_count": null,
      "metadata": {
        "id": "zNjmygKe12oN"
      },
      "outputs": [],
      "source": []
    },
    {
      "cell_type": "markdown",
      "metadata": {
        "id": "VZbsAmMj11gf"
      },
      "source": [
        "#### Limpieza de datos:\n",
        "- Revisar valores nulos (NaN) y decidir si imputar o eliminar.\n",
        "- Revisar outliers extremos y decidir si transformarlos, eliminarlos o dejarlos según el contexto.\n",
        "- Eliminar duplicados si no aportan información relevante."
      ]
    },
    {
      "cell_type": "code",
      "execution_count": null,
      "metadata": {
        "id": "IPQ9JOvz13bf"
      },
      "outputs": [],
      "source": []
    },
    {
      "cell_type": "code",
      "execution_count": null,
      "metadata": {
        "id": "b67pfpyN13Ub"
      },
      "outputs": [],
      "source": []
    },
    {
      "cell_type": "code",
      "execution_count": null,
      "metadata": {
        "id": "UCFbphm313Ke"
      },
      "outputs": [],
      "source": []
    },
    {
      "cell_type": "markdown",
      "metadata": {
        "id": "HW-acc2zbP3w"
      },
      "source": [
        "### 2. Separación de Datos\n",
        "- Separar variables predictoras (`X`) y target (`y`).\n",
        "- Dividir en conjunto de entrenamiento y testeo:\n",
        "  - `X_train`, `X_test`\n",
        "  - `y_train`, `y_test`."
      ]
    },
    {
      "cell_type": "code",
      "execution_count": null,
      "metadata": {
        "id": "c3PXN8dHbP3w"
      },
      "outputs": [],
      "source": []
    },
    {
      "cell_type": "code",
      "execution_count": null,
      "metadata": {
        "id": "rHmlLsagbP3w"
      },
      "outputs": [],
      "source": []
    },
    {
      "cell_type": "markdown",
      "metadata": {
        "id": "1bzUZ-lwbP3u"
      },
      "source": [
        "### 3. Preprocesamiento\n",
        "- Cargar dataset.\n",
        "- Limpieza de datos.\n",
        "- Encoding de variables categóricas. (usar solo X_train para ajustar el encoder).\n",
        "- Escalado de variables (usar solo X_train para ajustar el scaler)."
      ]
    },
    {
      "cell_type": "code",
      "execution_count": null,
      "metadata": {
        "id": "7TgpR09HbP3v"
      },
      "outputs": [],
      "source": []
    },
    {
      "cell_type": "code",
      "execution_count": null,
      "metadata": {
        "id": "VEZO8rdHbP3v"
      },
      "outputs": [],
      "source": []
    },
    {
      "cell_type": "code",
      "execution_count": null,
      "metadata": {
        "id": "LDkbM82hbP3w"
      },
      "outputs": [],
      "source": []
    },
    {
      "cell_type": "code",
      "execution_count": null,
      "metadata": {
        "id": "et4lmnGObP3w"
      },
      "outputs": [],
      "source": []
    },
    {
      "cell_type": "markdown",
      "metadata": {
        "id": "Zc05G9IPbP3w"
      },
      "source": [
        "### 4. Machine learning"
      ]
    },
    {
      "cell_type": "markdown",
      "metadata": {
        "id": "hyC59UzebP3w"
      },
      "source": [
        "#### 4.1. Modelos bases out of the box (sin optimización)\n",
        "\n",
        "- [KNeighborsRegressor](https://scikit-learn.org/stable/modules/generated/sklearn.neighbors.KNeighborsRegressor.html)\n",
        "- [DecisionTreeRegressor](https://scikit-learn.org/stable/modules/generated/sklearn.tree.DecisionTreeRegressor.html)\n",
        "\n"
      ]
    },
    {
      "cell_type": "code",
      "execution_count": null,
      "metadata": {
        "id": "PRmhEV_jbP3w"
      },
      "outputs": [],
      "source": []
    },
    {
      "cell_type": "code",
      "execution_count": null,
      "metadata": {
        "id": "1wnN_LbUbP3w"
      },
      "outputs": [],
      "source": []
    },
    {
      "cell_type": "markdown",
      "metadata": {
        "id": "dXYyKxxFbP3w"
      },
      "source": [
        "\n",
        "\n",
        "#### 4.2. Modelos de Ensemble out of the box (sin optimización)\n",
        "- Bagging (ej: [RandomForestRegressor](https://scikit-learn.org/stable/modules/generated/sklearn.ensemble.RandomForestRegressor.html)).\n",
        "- Boosting (ej: [XGBRegressor](https://xgboost.readthedocs.io/en/stable/python/python_api.html#xgboost.XGBRegressor))."
      ]
    },
    {
      "cell_type": "code",
      "execution_count": null,
      "metadata": {
        "id": "FNWFnbYUbP3x"
      },
      "outputs": [],
      "source": []
    },
    {
      "cell_type": "code",
      "execution_count": null,
      "metadata": {
        "id": "vURFWVNhbP3x"
      },
      "outputs": [],
      "source": []
    },
    {
      "cell_type": "markdown",
      "metadata": {
        "id": "IhR33roubP3y"
      },
      "source": [
        "#### 4.3. Optimización de Hiperparámetros sobre modelos base (GridSearchCV o RandomizedSearchCV)\n",
        "\n",
        "- Optimizar un Árbol de Decisión al máximo\n",
        "- Optimizar un KNN al máximo"
      ]
    },
    {
      "cell_type": "code",
      "execution_count": null,
      "metadata": {
        "id": "2h9Di5u7bP3y"
      },
      "outputs": [],
      "source": []
    },
    {
      "cell_type": "code",
      "execution_count": null,
      "metadata": {
        "id": "fOVDDHGjbP3y"
      },
      "outputs": [],
      "source": []
    },
    {
      "cell_type": "markdown",
      "metadata": {
        "id": "84l50rgWbP3y"
      },
      "source": [
        "#### 4.4. Exploración Manual\n",
        "\n",
        "-\tUsar bucle for para variar hiperparámetros y visualizar impacto en rendimiento:\n",
        "  - KNN\n",
        "  - Árbol de Decisión"
      ]
    },
    {
      "cell_type": "code",
      "execution_count": null,
      "metadata": {
        "id": "7nFsfo_vbP3y"
      },
      "outputs": [],
      "source": []
    },
    {
      "cell_type": "code",
      "execution_count": null,
      "metadata": {
        "id": "mkHR0Y_gbP3y"
      },
      "outputs": [],
      "source": []
    },
    {
      "cell_type": "markdown",
      "metadata": {
        "id": "qIpI2IvwbP3x"
      },
      "source": [
        "#### 4.5. Métricas Avanzadas\n",
        "- Tiempos de entrenamiento.\n",
        "- R^2, RMSE y MAE.\n"
      ]
    },
    {
      "cell_type": "code",
      "execution_count": null,
      "metadata": {
        "id": "dGAaGX4BbP3x"
      },
      "outputs": [],
      "source": []
    },
    {
      "cell_type": "code",
      "execution_count": null,
      "metadata": {
        "id": "BKQVwuWNbP3x"
      },
      "outputs": [],
      "source": []
    },
    {
      "cell_type": "code",
      "execution_count": null,
      "metadata": {
        "id": "mzJcJW_gbP3x"
      },
      "outputs": [],
      "source": []
    },
    {
      "cell_type": "markdown",
      "metadata": {
        "id": "oF_2-V5lbP3y"
      },
      "source": [
        "#### 4.6. Comparaciones Finales\n",
        "- Gráfico comparativo entre todos los modelos:\n",
        "  - Tiempos de entrenamiento.\n",
        "  - Métricas de interés (R^2, RMSE, MAE, etc.)."
      ]
    },
    {
      "cell_type": "code",
      "execution_count": null,
      "metadata": {
        "id": "7UvTMfx-bP3z"
      },
      "outputs": [],
      "source": []
    },
    {
      "cell_type": "code",
      "execution_count": null,
      "metadata": {
        "id": "FhaQYw45bP3z"
      },
      "outputs": [],
      "source": []
    },
    {
      "cell_type": "code",
      "execution_count": null,
      "metadata": {
        "id": "Kix5EIDHbP3x"
      },
      "outputs": [],
      "source": []
    },
    {
      "cell_type": "markdown",
      "metadata": {
        "id": "QQY0ytGmbP3x"
      },
      "source": [
        "### 5. Sistematización del Flujo\n",
        "\n",
        "- Construir un Pipeline que encadene:\n",
        "  - Transformaciones de datos.\n",
        "  - Modelo final.\n",
        "  - Verificar que evita fugas de datos (data leakage)."
      ]
    },
    {
      "cell_type": "code",
      "execution_count": null,
      "metadata": {
        "id": "adSSEiFMbP3x"
      },
      "outputs": [],
      "source": []
    },
    {
      "cell_type": "code",
      "execution_count": null,
      "metadata": {
        "id": "mok3aWGQbP3y"
      },
      "outputs": [],
      "source": []
    },
    {
      "cell_type": "code",
      "execution_count": null,
      "metadata": {
        "id": "EbNaaczEbP3y"
      },
      "outputs": [],
      "source": []
    },
    {
      "cell_type": "code",
      "execution_count": null,
      "metadata": {
        "id": "FqCXeLxpbP3z"
      },
      "outputs": [],
      "source": []
    },
    {
      "cell_type": "markdown",
      "metadata": {
        "id": "gOT33m0hB8_l"
      },
      "source": [
        "---\n",
        "# Unidad 2: Ejercicios resueltos"
      ]
    }
  ],
  "metadata": {
    "colab": {
      "collapsed_sections": [
        "ncqNkHuenRm-",
        "d3WRxAF_nRI8",
        "SupDIYO7q2PC",
        "XLTMwNNdnQrn",
        "v4_T-w17nC9h",
        "JFEZbHZCtW-7",
        "UXZg1K3ktpUb",
        "EUeJem66uTrh",
        "SujSOsgsvk_Y",
        "DAaw2lSfwpuF",
        "rhWT-3Sm0cP0",
        "8Ejbzhlkyn_u"
      ],
      "provenance": []
    },
    "kernelspec": {
      "display_name": "data_science",
      "language": "python",
      "name": "python3"
    },
    "language_info": {
      "codemirror_mode": {
        "name": "ipython",
        "version": 3
      },
      "file_extension": ".py",
      "mimetype": "text/x-python",
      "name": "python",
      "nbconvert_exporter": "python",
      "pygments_lexer": "ipython3",
      "version": "3.12.2"
    }
  },
  "nbformat": 4,
  "nbformat_minor": 0
}
