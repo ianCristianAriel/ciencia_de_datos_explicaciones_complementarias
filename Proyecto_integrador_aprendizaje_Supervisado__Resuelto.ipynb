{
 "cells": [
  {
   "cell_type": "markdown",
   "metadata": {
    "id": "PJXTdiyJczTG"
   },
   "source": [
    "# Data Science - ICARO\n",
    "_________________________________\n",
    "Clase: 13\n",
    "Tema: Proyecto integrador - Supervisado\n",
    "_________________________________\n"
   ]
  },
  {
   "cell_type": "markdown",
   "metadata": {
    "id": "c7mPwfU1drJ3"
   },
   "source": [
    "## Objetivo:\n",
    "- Aplicar un flujo de trabajo de Machine Learning de principio a fin para resolver un problema de clasificación y uno de regresión, utilizando el dataset \"Wine Quality\".\n",
    "\n",
    "---\n",
    "\n",
    "## Índice\n",
    "\n",
    "1. [Imports y Configuración Inicial](#imports)\n",
    "2. [Carga y Preparación de Datos](#carga)\n",
    "3. [Análisis Exploratorio de Datos (EDA)](#eda)\n",
    "4. [**Tarea 1: Clasificación (Predecir Tipo de Vino)**](#clasificacion)\n",
    "    - 4.1. [Preparación de Datos para Clasificación](#prep_clasificacion)\n",
    "    - 4.2. [Modelos Base de Clasificación](#modelos_base_clasificacion)\n",
    "    - 4.3. [**(A COMPLETAR) Modelos Avanzados y Optimización**](#completar_clasificacion)\n",
    "    - 4.4. [**(A COMPLETAR) Tabla de Resultados y Conclusión de Clasificación**](#conclusion_clasificacion)\n",
    "5. [**Tarea 2: Regresión (Predecir Calidad del Vino)**](#regresion)\n",
    "    - 5.1. [Preparación de Datos para Regresión](#prep_regresion)\n",
    "    - 5.2. [Modelo Base de Regresión](#modelo_base_regresion)\n",
    "    - 5.3. [**(A COMPLETAR) Modelos Avanzados y Optimización**](#completar_regresion)\n",
    "    - 5.4. [**(A COMPLETAR) Tabla de Resultados y Conclusión de Regresión**](#conclusion_regresion)\n",
    "6. [**(A COMPLETAR) Conclusiones Finales del Proyecto**](#final)\n",
    "\n",
    "---\n"
   ]
  },
  {
   "cell_type": "markdown",
   "metadata": {
    "id": "duTItgOydHY6"
   },
   "source": [
    "<a name=\"imports\"></a>\n",
    "## 1. Imports y Configuración Inicial\n",
    "En esta primera celda, importaremos todas las librerías que necesitaremos para nuestro análisis."
   ]
  },
  {
   "cell_type": "code",
   "execution_count": 1,
   "metadata": {
    "executionInfo": {
     "elapsed": 11,
     "status": "ok",
     "timestamp": 1758848746904,
     "user": {
      "displayName": "Ian Yané",
      "userId": "09070912689777423281"
     },
     "user_tz": 180
    },
    "id": "LPaFY0g9X8aY"
   },
   "outputs": [],
   "source": [
    "from time import time"
   ]
  },
  {
   "cell_type": "code",
   "execution_count": 2,
   "metadata": {},
   "outputs": [],
   "source": [
    "import warnings\n",
    "warnings.filterwarnings('ignore')"
   ]
  },
  {
   "cell_type": "code",
   "execution_count": 3,
   "metadata": {
    "executionInfo": {
     "elapsed": 0,
     "status": "ok",
     "timestamp": 1758848746905,
     "user": {
      "displayName": "Ian Yané",
      "userId": "09070912689777423281"
     },
     "user_tz": 180
    },
    "id": "HmfWjZJ0kAjj"
   },
   "outputs": [],
   "source": [
    "# Manipulación de datos\n",
    "import pandas as pd\n",
    "import numpy as np"
   ]
  },
  {
   "cell_type": "code",
   "execution_count": 4,
   "metadata": {
    "executionInfo": {
     "elapsed": 1,
     "status": "ok",
     "timestamp": 1758848746906,
     "user": {
      "displayName": "Ian Yané",
      "userId": "09070912689777423281"
     },
     "user_tz": 180
    },
    "id": "Uv4cgDerkBMj"
   },
   "outputs": [],
   "source": [
    "# Visualización\n",
    "import matplotlib.pyplot as plt\n",
    "import seaborn as sns"
   ]
  },
  {
   "cell_type": "code",
   "execution_count": 5,
   "metadata": {
    "executionInfo": {
     "elapsed": 0,
     "status": "ok",
     "timestamp": 1758848746906,
     "user": {
      "displayName": "Ian Yané",
      "userId": "09070912689777423281"
     },
     "user_tz": 180
    },
    "id": "b2Jf0-CckCD2"
   },
   "outputs": [],
   "source": [
    "# Modelos y Preprocesamiento\n",
    "from sklearn.preprocessing import StandardScaler, OneHotEncoder\n",
    "\n",
    "from sklearn.linear_model import LogisticRegression, LinearRegression\n",
    "from sklearn.tree import DecisionTreeClassifier, DecisionTreeRegressor\n",
    "from sklearn.ensemble import RandomForestClassifier, RandomForestRegressor\n",
    "from xgboost import XGBClassifier, XGBRegressor\n",
    "\n",
    "from sklearn.model_selection import train_test_split, GridSearchCV, RandomizedSearchCV"
   ]
  },
  {
   "cell_type": "code",
   "execution_count": 6,
   "metadata": {
    "executionInfo": {
     "elapsed": 0,
     "status": "ok",
     "timestamp": 1758848746907,
     "user": {
      "displayName": "Ian Yané",
      "userId": "09070912689777423281"
     },
     "user_tz": 180
    },
    "id": "U2WenN8ukC_K"
   },
   "outputs": [],
   "source": [
    "# Métricas de evaluación\n",
    "from sklearn.metrics import (classification_report, confusion_matrix, accuracy_score, f1_score,\n",
    "                             mean_absolute_error, mean_squared_error, r2_score)"
   ]
  },
  {
   "cell_type": "code",
   "execution_count": 7,
   "metadata": {
    "executionInfo": {
     "elapsed": 1,
     "status": "ok",
     "timestamp": 1758848746908,
     "user": {
      "displayName": "Ian Yané",
      "userId": "09070912689777423281"
     },
     "user_tz": 180
    },
    "id": "GEtMjvK6EogY"
   },
   "outputs": [],
   "source": [
    "def highlight_best(row, row_index):\n",
    "    if row.name == row_index:\n",
    "        return ['background-color: lightgreen']*len(row)\n",
    "    else:\n",
    "        return ['']*len(row)"
   ]
  },
  {
   "cell_type": "code",
   "execution_count": 8,
   "metadata": {},
   "outputs": [],
   "source": [
    "def evaluar_modelo(nombre_modelo, y_train_true, y_train_pred, y_test_true, y_test_pred, train_time,df_resultados, tipo_modelo= 'c', pos_label='white'):\n",
    "    \"\"\"\n",
    "    Evalúa un modelo de clasificación o regresión, imprime métricas y guarda los resultados en un DataFrame.\n",
    "\n",
    "    Parámetros\n",
    "    ----------\n",
    "    nombre_modelo : str\n",
    "        Nombre del modelo (será el índice en df_resultados).\n",
    "    tipo_modelo : str\n",
    "        Tipo de modelo: 'c' = clasificación, 'r' = regresión.\n",
    "    y_train_true, y_train_pred : array-like\n",
    "        Valores verdaderos y predichos en entrenamiento.\n",
    "    y_test_true, y_test_pred : array-like\n",
    "        Valores verdaderos y predichos en prueba.\n",
    "    train_time : float\n",
    "        Tiempo de entrenamiento del modelo (en segundos).\n",
    "    df_resultados : pd.DataFrame\n",
    "        DataFrame donde se almacenarán las métricas.\n",
    "    pos_label : str o int, opcional (default='white')\n",
    "        Etiqueta considerada positiva para el cálculo de F1 (solo aplica a clasificación).\n",
    "\n",
    "    Retorna\n",
    "    --------\n",
    "    df_resultados : pd.DataFrame\n",
    "        DataFrame actualizado con las métricas del modelo.\n",
    "    \"\"\"\n",
    "\n",
    "    # Validación del parámetro tipo_modelo\n",
    "    tipo_modelo = tipo_modelo.lower()\n",
    "    if tipo_modelo not in ['c', 'r']:\n",
    "        raise ValueError(\"El parámetro 'tipo_modelo' debe ser 'c' (clasificación) o 'r' (regresión).\")\n",
    "    \n",
    "    print(f\"\\n=== {nombre_modelo} ===\")\n",
    "\n",
    "    # Agregar tiempo de entrenamiento\n",
    "    df_resultados.loc[nombre_modelo, 'train_time (s)'] = train_time\n",
    "\n",
    "    # CASO 1: CLASIFICACIÓN\n",
    "    if tipo_modelo.lower() == 'c':\n",
    "        acc = accuracy_score(y_true=y_test_true, y_pred=y_test_pred)\n",
    "        f1 = f1_score(y_true=y_test_true, y_pred=y_test_pred, pos_label=pos_label, average='weighted')\n",
    "        \n",
    "        # Guardar métricas en el DataFrame\n",
    "        df_resultados.loc[nombre_modelo, 'accuracy'] = acc\n",
    "        df_resultados.loc[nombre_modelo, 'f1_weighted'] = f1\n",
    "\n",
    "        # Mostrar resultados\n",
    "        print(f\"Accuracy score: {acc:.4f}\")\n",
    "        print(f\"F1-score (weighted): {f1:.4f}\\n\")\n",
    "\n",
    "        print(\"---- Reporte de entrenamiento ----\")\n",
    "        print(classification_report(y_true=y_train_true, y_pred=y_train_pred))\n",
    "        print(\"---- Reporte de prueba ----\")\n",
    "        print(classification_report(y_true=y_test_true, y_pred=y_test_pred))\n",
    "\n",
    "    # CASO 2: REGRESIÓN\n",
    "    elif tipo_modelo.lower() == 'r':\n",
    "        mse = mean_squared_error(y_test_true, y_test_pred)\n",
    "        rmse = np.sqrt(mse)\n",
    "        r2 = r2_score(y_test_true, y_test_pred)\n",
    "\n",
    "        # Guardar métricas en el DataFrame\n",
    "        df_resultados.loc[nombre_modelo, 'RMSE'] = rmse\n",
    "        df_resultados.loc[nombre_modelo, 'R2'] = r2\n",
    "\n",
    "        # Mostrar resultados\n",
    "        print(f\"Root Mean Squared Error (RMSE): {rmse:.4f}\")\n",
    "        print(f\"R² Score: {r2:.4f}\")\n",
    "\n",
    "    else:\n",
    "        raise ValueError(\"El parámetro 'tipo_modelo' debe ser 'c' (clasificación) o 'r' (regresión).\")\n",
    "\n",
    "    print('-------------------------\\n')\n",
    "\n",
    "    return df_resultados"
   ]
  },
  {
   "cell_type": "markdown",
   "metadata": {
    "id": "CK3OqNGV1bHf"
   },
   "source": [
    "<a name=\"carga\"></a>\n",
    "## 2. Carga y Preparación de Datos\n",
    "Vamos a cargar los dos datasets (vino tinto y vino blanco), añadiremos una columna para identificar el tipo de vino y luego los uniremos en un único DataFrame."
   ]
  },
  {
   "cell_type": "code",
   "execution_count": 9,
   "metadata": {
    "executionInfo": {
     "elapsed": 0,
     "status": "ok",
     "timestamp": 1758848746908,
     "user": {
      "displayName": "Ian Yané",
      "userId": "09070912689777423281"
     },
     "user_tz": 180
    },
    "id": "Y6_BHbgTnlCc"
   },
   "outputs": [],
   "source": [
    "# URLs de los datasets\n",
    "url_red = 'https://archive.ics.uci.edu/ml/machine-learning-databases/wine-quality/winequality-red.csv'\n",
    "url_white = 'https://archive.ics.uci.edu/ml/machine-learning-databases/wine-quality/winequality-white.csv'\n",
    "\n",
    "# Carga de los dataframes\n",
    "df_red = pd.read_csv(url_red, sep=';')\n",
    "df_white = pd.read_csv(url_white, sep=';')"
   ]
  },
  {
   "cell_type": "code",
   "execution_count": 10,
   "metadata": {
    "colab": {
     "base_uri": "https://localhost:8080/",
     "height": 206
    },
    "executionInfo": {
     "elapsed": 1,
     "status": "ok",
     "timestamp": 1758848746910,
     "user": {
      "displayName": "Ian Yané",
      "userId": "09070912689777423281"
     },
     "user_tz": 180
    },
    "id": "y4hoSVfHnonq",
    "outputId": "5b4ca0ec-73ac-48c6-b100-af918e55fe56"
   },
   "outputs": [
    {
     "data": {
      "text/html": [
       "<div>\n",
       "<style scoped>\n",
       "    .dataframe tbody tr th:only-of-type {\n",
       "        vertical-align: middle;\n",
       "    }\n",
       "\n",
       "    .dataframe tbody tr th {\n",
       "        vertical-align: top;\n",
       "    }\n",
       "\n",
       "    .dataframe thead th {\n",
       "        text-align: right;\n",
       "    }\n",
       "</style>\n",
       "<table border=\"1\" class=\"dataframe\">\n",
       "  <thead>\n",
       "    <tr style=\"text-align: right;\">\n",
       "      <th></th>\n",
       "      <th>fixed acidity</th>\n",
       "      <th>volatile acidity</th>\n",
       "      <th>citric acid</th>\n",
       "      <th>residual sugar</th>\n",
       "      <th>chlorides</th>\n",
       "      <th>free sulfur dioxide</th>\n",
       "      <th>total sulfur dioxide</th>\n",
       "      <th>density</th>\n",
       "      <th>pH</th>\n",
       "      <th>sulphates</th>\n",
       "      <th>alcohol</th>\n",
       "      <th>quality</th>\n",
       "    </tr>\n",
       "  </thead>\n",
       "  <tbody>\n",
       "    <tr>\n",
       "      <th>0</th>\n",
       "      <td>7.4</td>\n",
       "      <td>0.70</td>\n",
       "      <td>0.00</td>\n",
       "      <td>1.9</td>\n",
       "      <td>0.076</td>\n",
       "      <td>11.0</td>\n",
       "      <td>34.0</td>\n",
       "      <td>0.9978</td>\n",
       "      <td>3.51</td>\n",
       "      <td>0.56</td>\n",
       "      <td>9.4</td>\n",
       "      <td>5</td>\n",
       "    </tr>\n",
       "    <tr>\n",
       "      <th>1</th>\n",
       "      <td>7.8</td>\n",
       "      <td>0.88</td>\n",
       "      <td>0.00</td>\n",
       "      <td>2.6</td>\n",
       "      <td>0.098</td>\n",
       "      <td>25.0</td>\n",
       "      <td>67.0</td>\n",
       "      <td>0.9968</td>\n",
       "      <td>3.20</td>\n",
       "      <td>0.68</td>\n",
       "      <td>9.8</td>\n",
       "      <td>5</td>\n",
       "    </tr>\n",
       "    <tr>\n",
       "      <th>2</th>\n",
       "      <td>7.8</td>\n",
       "      <td>0.76</td>\n",
       "      <td>0.04</td>\n",
       "      <td>2.3</td>\n",
       "      <td>0.092</td>\n",
       "      <td>15.0</td>\n",
       "      <td>54.0</td>\n",
       "      <td>0.9970</td>\n",
       "      <td>3.26</td>\n",
       "      <td>0.65</td>\n",
       "      <td>9.8</td>\n",
       "      <td>5</td>\n",
       "    </tr>\n",
       "    <tr>\n",
       "      <th>3</th>\n",
       "      <td>11.2</td>\n",
       "      <td>0.28</td>\n",
       "      <td>0.56</td>\n",
       "      <td>1.9</td>\n",
       "      <td>0.075</td>\n",
       "      <td>17.0</td>\n",
       "      <td>60.0</td>\n",
       "      <td>0.9980</td>\n",
       "      <td>3.16</td>\n",
       "      <td>0.58</td>\n",
       "      <td>9.8</td>\n",
       "      <td>6</td>\n",
       "    </tr>\n",
       "    <tr>\n",
       "      <th>4</th>\n",
       "      <td>7.4</td>\n",
       "      <td>0.70</td>\n",
       "      <td>0.00</td>\n",
       "      <td>1.9</td>\n",
       "      <td>0.076</td>\n",
       "      <td>11.0</td>\n",
       "      <td>34.0</td>\n",
       "      <td>0.9978</td>\n",
       "      <td>3.51</td>\n",
       "      <td>0.56</td>\n",
       "      <td>9.4</td>\n",
       "      <td>5</td>\n",
       "    </tr>\n",
       "  </tbody>\n",
       "</table>\n",
       "</div>"
      ],
      "text/plain": [
       "   fixed acidity  volatile acidity  citric acid  residual sugar  chlorides  \\\n",
       "0            7.4              0.70         0.00             1.9      0.076   \n",
       "1            7.8              0.88         0.00             2.6      0.098   \n",
       "2            7.8              0.76         0.04             2.3      0.092   \n",
       "3           11.2              0.28         0.56             1.9      0.075   \n",
       "4            7.4              0.70         0.00             1.9      0.076   \n",
       "\n",
       "   free sulfur dioxide  total sulfur dioxide  density    pH  sulphates  \\\n",
       "0                 11.0                  34.0   0.9978  3.51       0.56   \n",
       "1                 25.0                  67.0   0.9968  3.20       0.68   \n",
       "2                 15.0                  54.0   0.9970  3.26       0.65   \n",
       "3                 17.0                  60.0   0.9980  3.16       0.58   \n",
       "4                 11.0                  34.0   0.9978  3.51       0.56   \n",
       "\n",
       "   alcohol  quality  \n",
       "0      9.4        5  \n",
       "1      9.8        5  \n",
       "2      9.8        5  \n",
       "3      9.8        6  \n",
       "4      9.4        5  "
      ]
     },
     "execution_count": 10,
     "metadata": {},
     "output_type": "execute_result"
    }
   ],
   "source": [
    "df_red.head()"
   ]
  },
  {
   "cell_type": "code",
   "execution_count": 11,
   "metadata": {
    "colab": {
     "base_uri": "https://localhost:8080/",
     "height": 206
    },
    "executionInfo": {
     "elapsed": 2,
     "status": "ok",
     "timestamp": 1758848746913,
     "user": {
      "displayName": "Ian Yané",
      "userId": "09070912689777423281"
     },
     "user_tz": 180
    },
    "id": "PkU0lBu5nqXB",
    "outputId": "a871705e-de7a-4efc-f24b-047781441c70"
   },
   "outputs": [
    {
     "data": {
      "text/html": [
       "<div>\n",
       "<style scoped>\n",
       "    .dataframe tbody tr th:only-of-type {\n",
       "        vertical-align: middle;\n",
       "    }\n",
       "\n",
       "    .dataframe tbody tr th {\n",
       "        vertical-align: top;\n",
       "    }\n",
       "\n",
       "    .dataframe thead th {\n",
       "        text-align: right;\n",
       "    }\n",
       "</style>\n",
       "<table border=\"1\" class=\"dataframe\">\n",
       "  <thead>\n",
       "    <tr style=\"text-align: right;\">\n",
       "      <th></th>\n",
       "      <th>fixed acidity</th>\n",
       "      <th>volatile acidity</th>\n",
       "      <th>citric acid</th>\n",
       "      <th>residual sugar</th>\n",
       "      <th>chlorides</th>\n",
       "      <th>free sulfur dioxide</th>\n",
       "      <th>total sulfur dioxide</th>\n",
       "      <th>density</th>\n",
       "      <th>pH</th>\n",
       "      <th>sulphates</th>\n",
       "      <th>alcohol</th>\n",
       "      <th>quality</th>\n",
       "    </tr>\n",
       "  </thead>\n",
       "  <tbody>\n",
       "    <tr>\n",
       "      <th>0</th>\n",
       "      <td>7.0</td>\n",
       "      <td>0.27</td>\n",
       "      <td>0.36</td>\n",
       "      <td>20.7</td>\n",
       "      <td>0.045</td>\n",
       "      <td>45.0</td>\n",
       "      <td>170.0</td>\n",
       "      <td>1.0010</td>\n",
       "      <td>3.00</td>\n",
       "      <td>0.45</td>\n",
       "      <td>8.8</td>\n",
       "      <td>6</td>\n",
       "    </tr>\n",
       "    <tr>\n",
       "      <th>1</th>\n",
       "      <td>6.3</td>\n",
       "      <td>0.30</td>\n",
       "      <td>0.34</td>\n",
       "      <td>1.6</td>\n",
       "      <td>0.049</td>\n",
       "      <td>14.0</td>\n",
       "      <td>132.0</td>\n",
       "      <td>0.9940</td>\n",
       "      <td>3.30</td>\n",
       "      <td>0.49</td>\n",
       "      <td>9.5</td>\n",
       "      <td>6</td>\n",
       "    </tr>\n",
       "    <tr>\n",
       "      <th>2</th>\n",
       "      <td>8.1</td>\n",
       "      <td>0.28</td>\n",
       "      <td>0.40</td>\n",
       "      <td>6.9</td>\n",
       "      <td>0.050</td>\n",
       "      <td>30.0</td>\n",
       "      <td>97.0</td>\n",
       "      <td>0.9951</td>\n",
       "      <td>3.26</td>\n",
       "      <td>0.44</td>\n",
       "      <td>10.1</td>\n",
       "      <td>6</td>\n",
       "    </tr>\n",
       "    <tr>\n",
       "      <th>3</th>\n",
       "      <td>7.2</td>\n",
       "      <td>0.23</td>\n",
       "      <td>0.32</td>\n",
       "      <td>8.5</td>\n",
       "      <td>0.058</td>\n",
       "      <td>47.0</td>\n",
       "      <td>186.0</td>\n",
       "      <td>0.9956</td>\n",
       "      <td>3.19</td>\n",
       "      <td>0.40</td>\n",
       "      <td>9.9</td>\n",
       "      <td>6</td>\n",
       "    </tr>\n",
       "    <tr>\n",
       "      <th>4</th>\n",
       "      <td>7.2</td>\n",
       "      <td>0.23</td>\n",
       "      <td>0.32</td>\n",
       "      <td>8.5</td>\n",
       "      <td>0.058</td>\n",
       "      <td>47.0</td>\n",
       "      <td>186.0</td>\n",
       "      <td>0.9956</td>\n",
       "      <td>3.19</td>\n",
       "      <td>0.40</td>\n",
       "      <td>9.9</td>\n",
       "      <td>6</td>\n",
       "    </tr>\n",
       "  </tbody>\n",
       "</table>\n",
       "</div>"
      ],
      "text/plain": [
       "   fixed acidity  volatile acidity  citric acid  residual sugar  chlorides  \\\n",
       "0            7.0              0.27         0.36            20.7      0.045   \n",
       "1            6.3              0.30         0.34             1.6      0.049   \n",
       "2            8.1              0.28         0.40             6.9      0.050   \n",
       "3            7.2              0.23         0.32             8.5      0.058   \n",
       "4            7.2              0.23         0.32             8.5      0.058   \n",
       "\n",
       "   free sulfur dioxide  total sulfur dioxide  density    pH  sulphates  \\\n",
       "0                 45.0                 170.0   1.0010  3.00       0.45   \n",
       "1                 14.0                 132.0   0.9940  3.30       0.49   \n",
       "2                 30.0                  97.0   0.9951  3.26       0.44   \n",
       "3                 47.0                 186.0   0.9956  3.19       0.40   \n",
       "4                 47.0                 186.0   0.9956  3.19       0.40   \n",
       "\n",
       "   alcohol  quality  \n",
       "0      8.8        6  \n",
       "1      9.5        6  \n",
       "2     10.1        6  \n",
       "3      9.9        6  \n",
       "4      9.9        6  "
      ]
     },
     "execution_count": 11,
     "metadata": {},
     "output_type": "execute_result"
    }
   ],
   "source": [
    "df_white.head()"
   ]
  },
  {
   "cell_type": "code",
   "execution_count": 12,
   "metadata": {
    "executionInfo": {
     "elapsed": 0,
     "status": "ok",
     "timestamp": 1758848746914,
     "user": {
      "displayName": "Ian Yané",
      "userId": "09070912689777423281"
     },
     "user_tz": 180
    },
    "id": "QWGmkrMTnnOX"
   },
   "outputs": [],
   "source": [
    "# Creación de la columna 'type'\n",
    "df_red['type'] = 'red'\n",
    "df_white['type'] = 'white'"
   ]
  },
  {
   "cell_type": "code",
   "execution_count": 13,
   "metadata": {
    "colab": {
     "base_uri": "https://localhost:8080/",
     "height": 206
    },
    "executionInfo": {
     "elapsed": 2,
     "status": "ok",
     "timestamp": 1758848746917,
     "user": {
      "displayName": "Ian Yané",
      "userId": "09070912689777423281"
     },
     "user_tz": 180
    },
    "id": "blwsrqwAbgyE",
    "outputId": "671227f9-667a-47a4-f014-cf9794a59ec0"
   },
   "outputs": [
    {
     "data": {
      "text/html": [
       "<div>\n",
       "<style scoped>\n",
       "    .dataframe tbody tr th:only-of-type {\n",
       "        vertical-align: middle;\n",
       "    }\n",
       "\n",
       "    .dataframe tbody tr th {\n",
       "        vertical-align: top;\n",
       "    }\n",
       "\n",
       "    .dataframe thead th {\n",
       "        text-align: right;\n",
       "    }\n",
       "</style>\n",
       "<table border=\"1\" class=\"dataframe\">\n",
       "  <thead>\n",
       "    <tr style=\"text-align: right;\">\n",
       "      <th></th>\n",
       "      <th>fixed acidity</th>\n",
       "      <th>volatile acidity</th>\n",
       "      <th>citric acid</th>\n",
       "      <th>residual sugar</th>\n",
       "      <th>chlorides</th>\n",
       "      <th>free sulfur dioxide</th>\n",
       "      <th>total sulfur dioxide</th>\n",
       "      <th>density</th>\n",
       "      <th>pH</th>\n",
       "      <th>sulphates</th>\n",
       "      <th>alcohol</th>\n",
       "      <th>quality</th>\n",
       "      <th>type</th>\n",
       "    </tr>\n",
       "  </thead>\n",
       "  <tbody>\n",
       "    <tr>\n",
       "      <th>0</th>\n",
       "      <td>7.4</td>\n",
       "      <td>0.70</td>\n",
       "      <td>0.00</td>\n",
       "      <td>1.9</td>\n",
       "      <td>0.076</td>\n",
       "      <td>11.0</td>\n",
       "      <td>34.0</td>\n",
       "      <td>0.9978</td>\n",
       "      <td>3.51</td>\n",
       "      <td>0.56</td>\n",
       "      <td>9.4</td>\n",
       "      <td>5</td>\n",
       "      <td>red</td>\n",
       "    </tr>\n",
       "    <tr>\n",
       "      <th>1</th>\n",
       "      <td>7.8</td>\n",
       "      <td>0.88</td>\n",
       "      <td>0.00</td>\n",
       "      <td>2.6</td>\n",
       "      <td>0.098</td>\n",
       "      <td>25.0</td>\n",
       "      <td>67.0</td>\n",
       "      <td>0.9968</td>\n",
       "      <td>3.20</td>\n",
       "      <td>0.68</td>\n",
       "      <td>9.8</td>\n",
       "      <td>5</td>\n",
       "      <td>red</td>\n",
       "    </tr>\n",
       "    <tr>\n",
       "      <th>2</th>\n",
       "      <td>7.8</td>\n",
       "      <td>0.76</td>\n",
       "      <td>0.04</td>\n",
       "      <td>2.3</td>\n",
       "      <td>0.092</td>\n",
       "      <td>15.0</td>\n",
       "      <td>54.0</td>\n",
       "      <td>0.9970</td>\n",
       "      <td>3.26</td>\n",
       "      <td>0.65</td>\n",
       "      <td>9.8</td>\n",
       "      <td>5</td>\n",
       "      <td>red</td>\n",
       "    </tr>\n",
       "    <tr>\n",
       "      <th>3</th>\n",
       "      <td>11.2</td>\n",
       "      <td>0.28</td>\n",
       "      <td>0.56</td>\n",
       "      <td>1.9</td>\n",
       "      <td>0.075</td>\n",
       "      <td>17.0</td>\n",
       "      <td>60.0</td>\n",
       "      <td>0.9980</td>\n",
       "      <td>3.16</td>\n",
       "      <td>0.58</td>\n",
       "      <td>9.8</td>\n",
       "      <td>6</td>\n",
       "      <td>red</td>\n",
       "    </tr>\n",
       "    <tr>\n",
       "      <th>4</th>\n",
       "      <td>7.4</td>\n",
       "      <td>0.70</td>\n",
       "      <td>0.00</td>\n",
       "      <td>1.9</td>\n",
       "      <td>0.076</td>\n",
       "      <td>11.0</td>\n",
       "      <td>34.0</td>\n",
       "      <td>0.9978</td>\n",
       "      <td>3.51</td>\n",
       "      <td>0.56</td>\n",
       "      <td>9.4</td>\n",
       "      <td>5</td>\n",
       "      <td>red</td>\n",
       "    </tr>\n",
       "  </tbody>\n",
       "</table>\n",
       "</div>"
      ],
      "text/plain": [
       "   fixed acidity  volatile acidity  citric acid  residual sugar  chlorides  \\\n",
       "0            7.4              0.70         0.00             1.9      0.076   \n",
       "1            7.8              0.88         0.00             2.6      0.098   \n",
       "2            7.8              0.76         0.04             2.3      0.092   \n",
       "3           11.2              0.28         0.56             1.9      0.075   \n",
       "4            7.4              0.70         0.00             1.9      0.076   \n",
       "\n",
       "   free sulfur dioxide  total sulfur dioxide  density    pH  sulphates  \\\n",
       "0                 11.0                  34.0   0.9978  3.51       0.56   \n",
       "1                 25.0                  67.0   0.9968  3.20       0.68   \n",
       "2                 15.0                  54.0   0.9970  3.26       0.65   \n",
       "3                 17.0                  60.0   0.9980  3.16       0.58   \n",
       "4                 11.0                  34.0   0.9978  3.51       0.56   \n",
       "\n",
       "   alcohol  quality type  \n",
       "0      9.4        5  red  \n",
       "1      9.8        5  red  \n",
       "2      9.8        5  red  \n",
       "3      9.8        6  red  \n",
       "4      9.4        5  red  "
      ]
     },
     "execution_count": 13,
     "metadata": {},
     "output_type": "execute_result"
    }
   ],
   "source": [
    "df_red.head()"
   ]
  },
  {
   "cell_type": "code",
   "execution_count": 14,
   "metadata": {
    "colab": {
     "base_uri": "https://localhost:8080/",
     "height": 206
    },
    "executionInfo": {
     "elapsed": 2,
     "status": "ok",
     "timestamp": 1758848746920,
     "user": {
      "displayName": "Ian Yané",
      "userId": "09070912689777423281"
     },
     "user_tz": 180
    },
    "id": "l0uHREsObjNq",
    "outputId": "45ce3ea6-ca43-4f82-efae-fba8e9ec5452"
   },
   "outputs": [
    {
     "data": {
      "text/html": [
       "<div>\n",
       "<style scoped>\n",
       "    .dataframe tbody tr th:only-of-type {\n",
       "        vertical-align: middle;\n",
       "    }\n",
       "\n",
       "    .dataframe tbody tr th {\n",
       "        vertical-align: top;\n",
       "    }\n",
       "\n",
       "    .dataframe thead th {\n",
       "        text-align: right;\n",
       "    }\n",
       "</style>\n",
       "<table border=\"1\" class=\"dataframe\">\n",
       "  <thead>\n",
       "    <tr style=\"text-align: right;\">\n",
       "      <th></th>\n",
       "      <th>fixed acidity</th>\n",
       "      <th>volatile acidity</th>\n",
       "      <th>citric acid</th>\n",
       "      <th>residual sugar</th>\n",
       "      <th>chlorides</th>\n",
       "      <th>free sulfur dioxide</th>\n",
       "      <th>total sulfur dioxide</th>\n",
       "      <th>density</th>\n",
       "      <th>pH</th>\n",
       "      <th>sulphates</th>\n",
       "      <th>alcohol</th>\n",
       "      <th>quality</th>\n",
       "      <th>type</th>\n",
       "    </tr>\n",
       "  </thead>\n",
       "  <tbody>\n",
       "    <tr>\n",
       "      <th>0</th>\n",
       "      <td>7.0</td>\n",
       "      <td>0.27</td>\n",
       "      <td>0.36</td>\n",
       "      <td>20.7</td>\n",
       "      <td>0.045</td>\n",
       "      <td>45.0</td>\n",
       "      <td>170.0</td>\n",
       "      <td>1.0010</td>\n",
       "      <td>3.00</td>\n",
       "      <td>0.45</td>\n",
       "      <td>8.8</td>\n",
       "      <td>6</td>\n",
       "      <td>white</td>\n",
       "    </tr>\n",
       "    <tr>\n",
       "      <th>1</th>\n",
       "      <td>6.3</td>\n",
       "      <td>0.30</td>\n",
       "      <td>0.34</td>\n",
       "      <td>1.6</td>\n",
       "      <td>0.049</td>\n",
       "      <td>14.0</td>\n",
       "      <td>132.0</td>\n",
       "      <td>0.9940</td>\n",
       "      <td>3.30</td>\n",
       "      <td>0.49</td>\n",
       "      <td>9.5</td>\n",
       "      <td>6</td>\n",
       "      <td>white</td>\n",
       "    </tr>\n",
       "    <tr>\n",
       "      <th>2</th>\n",
       "      <td>8.1</td>\n",
       "      <td>0.28</td>\n",
       "      <td>0.40</td>\n",
       "      <td>6.9</td>\n",
       "      <td>0.050</td>\n",
       "      <td>30.0</td>\n",
       "      <td>97.0</td>\n",
       "      <td>0.9951</td>\n",
       "      <td>3.26</td>\n",
       "      <td>0.44</td>\n",
       "      <td>10.1</td>\n",
       "      <td>6</td>\n",
       "      <td>white</td>\n",
       "    </tr>\n",
       "    <tr>\n",
       "      <th>3</th>\n",
       "      <td>7.2</td>\n",
       "      <td>0.23</td>\n",
       "      <td>0.32</td>\n",
       "      <td>8.5</td>\n",
       "      <td>0.058</td>\n",
       "      <td>47.0</td>\n",
       "      <td>186.0</td>\n",
       "      <td>0.9956</td>\n",
       "      <td>3.19</td>\n",
       "      <td>0.40</td>\n",
       "      <td>9.9</td>\n",
       "      <td>6</td>\n",
       "      <td>white</td>\n",
       "    </tr>\n",
       "    <tr>\n",
       "      <th>4</th>\n",
       "      <td>7.2</td>\n",
       "      <td>0.23</td>\n",
       "      <td>0.32</td>\n",
       "      <td>8.5</td>\n",
       "      <td>0.058</td>\n",
       "      <td>47.0</td>\n",
       "      <td>186.0</td>\n",
       "      <td>0.9956</td>\n",
       "      <td>3.19</td>\n",
       "      <td>0.40</td>\n",
       "      <td>9.9</td>\n",
       "      <td>6</td>\n",
       "      <td>white</td>\n",
       "    </tr>\n",
       "  </tbody>\n",
       "</table>\n",
       "</div>"
      ],
      "text/plain": [
       "   fixed acidity  volatile acidity  citric acid  residual sugar  chlorides  \\\n",
       "0            7.0              0.27         0.36            20.7      0.045   \n",
       "1            6.3              0.30         0.34             1.6      0.049   \n",
       "2            8.1              0.28         0.40             6.9      0.050   \n",
       "3            7.2              0.23         0.32             8.5      0.058   \n",
       "4            7.2              0.23         0.32             8.5      0.058   \n",
       "\n",
       "   free sulfur dioxide  total sulfur dioxide  density    pH  sulphates  \\\n",
       "0                 45.0                 170.0   1.0010  3.00       0.45   \n",
       "1                 14.0                 132.0   0.9940  3.30       0.49   \n",
       "2                 30.0                  97.0   0.9951  3.26       0.44   \n",
       "3                 47.0                 186.0   0.9956  3.19       0.40   \n",
       "4                 47.0                 186.0   0.9956  3.19       0.40   \n",
       "\n",
       "   alcohol  quality   type  \n",
       "0      8.8        6  white  \n",
       "1      9.5        6  white  \n",
       "2     10.1        6  white  \n",
       "3      9.9        6  white  \n",
       "4      9.9        6  white  "
      ]
     },
     "execution_count": 14,
     "metadata": {},
     "output_type": "execute_result"
    }
   ],
   "source": [
    "df_white.head()"
   ]
  },
  {
   "cell_type": "code",
   "execution_count": 15,
   "metadata": {
    "colab": {
     "base_uri": "https://localhost:8080/",
     "height": 441
    },
    "executionInfo": {
     "elapsed": 70,
     "status": "ok",
     "timestamp": 1758848746991,
     "user": {
      "displayName": "Ian Yané",
      "userId": "09070912689777423281"
     },
     "user_tz": 180
    },
    "id": "eGZ7l2Uqbqys",
    "outputId": "b3970c96-f801-4514-cc69-b9b272d6fe9c"
   },
   "outputs": [
    {
     "data": {
      "text/html": [
       "<div>\n",
       "<style scoped>\n",
       "    .dataframe tbody tr th:only-of-type {\n",
       "        vertical-align: middle;\n",
       "    }\n",
       "\n",
       "    .dataframe tbody tr th {\n",
       "        vertical-align: top;\n",
       "    }\n",
       "\n",
       "    .dataframe thead th {\n",
       "        text-align: right;\n",
       "    }\n",
       "</style>\n",
       "<table border=\"1\" class=\"dataframe\">\n",
       "  <thead>\n",
       "    <tr style=\"text-align: right;\">\n",
       "      <th></th>\n",
       "      <th>fixed acidity</th>\n",
       "      <th>volatile acidity</th>\n",
       "      <th>citric acid</th>\n",
       "      <th>residual sugar</th>\n",
       "      <th>chlorides</th>\n",
       "      <th>free sulfur dioxide</th>\n",
       "      <th>total sulfur dioxide</th>\n",
       "      <th>density</th>\n",
       "      <th>pH</th>\n",
       "      <th>sulphates</th>\n",
       "      <th>alcohol</th>\n",
       "      <th>quality</th>\n",
       "      <th>type</th>\n",
       "    </tr>\n",
       "  </thead>\n",
       "  <tbody>\n",
       "    <tr>\n",
       "      <th>0</th>\n",
       "      <td>7.4</td>\n",
       "      <td>0.70</td>\n",
       "      <td>0.00</td>\n",
       "      <td>1.9</td>\n",
       "      <td>0.076</td>\n",
       "      <td>11.0</td>\n",
       "      <td>34.0</td>\n",
       "      <td>0.99780</td>\n",
       "      <td>3.51</td>\n",
       "      <td>0.56</td>\n",
       "      <td>9.4</td>\n",
       "      <td>5</td>\n",
       "      <td>red</td>\n",
       "    </tr>\n",
       "    <tr>\n",
       "      <th>1</th>\n",
       "      <td>7.8</td>\n",
       "      <td>0.88</td>\n",
       "      <td>0.00</td>\n",
       "      <td>2.6</td>\n",
       "      <td>0.098</td>\n",
       "      <td>25.0</td>\n",
       "      <td>67.0</td>\n",
       "      <td>0.99680</td>\n",
       "      <td>3.20</td>\n",
       "      <td>0.68</td>\n",
       "      <td>9.8</td>\n",
       "      <td>5</td>\n",
       "      <td>red</td>\n",
       "    </tr>\n",
       "    <tr>\n",
       "      <th>2</th>\n",
       "      <td>7.8</td>\n",
       "      <td>0.76</td>\n",
       "      <td>0.04</td>\n",
       "      <td>2.3</td>\n",
       "      <td>0.092</td>\n",
       "      <td>15.0</td>\n",
       "      <td>54.0</td>\n",
       "      <td>0.99700</td>\n",
       "      <td>3.26</td>\n",
       "      <td>0.65</td>\n",
       "      <td>9.8</td>\n",
       "      <td>5</td>\n",
       "      <td>red</td>\n",
       "    </tr>\n",
       "    <tr>\n",
       "      <th>3</th>\n",
       "      <td>11.2</td>\n",
       "      <td>0.28</td>\n",
       "      <td>0.56</td>\n",
       "      <td>1.9</td>\n",
       "      <td>0.075</td>\n",
       "      <td>17.0</td>\n",
       "      <td>60.0</td>\n",
       "      <td>0.99800</td>\n",
       "      <td>3.16</td>\n",
       "      <td>0.58</td>\n",
       "      <td>9.8</td>\n",
       "      <td>6</td>\n",
       "      <td>red</td>\n",
       "    </tr>\n",
       "    <tr>\n",
       "      <th>4</th>\n",
       "      <td>7.4</td>\n",
       "      <td>0.70</td>\n",
       "      <td>0.00</td>\n",
       "      <td>1.9</td>\n",
       "      <td>0.076</td>\n",
       "      <td>11.0</td>\n",
       "      <td>34.0</td>\n",
       "      <td>0.99780</td>\n",
       "      <td>3.51</td>\n",
       "      <td>0.56</td>\n",
       "      <td>9.4</td>\n",
       "      <td>5</td>\n",
       "      <td>red</td>\n",
       "    </tr>\n",
       "    <tr>\n",
       "      <th>...</th>\n",
       "      <td>...</td>\n",
       "      <td>...</td>\n",
       "      <td>...</td>\n",
       "      <td>...</td>\n",
       "      <td>...</td>\n",
       "      <td>...</td>\n",
       "      <td>...</td>\n",
       "      <td>...</td>\n",
       "      <td>...</td>\n",
       "      <td>...</td>\n",
       "      <td>...</td>\n",
       "      <td>...</td>\n",
       "      <td>...</td>\n",
       "    </tr>\n",
       "    <tr>\n",
       "      <th>4893</th>\n",
       "      <td>6.2</td>\n",
       "      <td>0.21</td>\n",
       "      <td>0.29</td>\n",
       "      <td>1.6</td>\n",
       "      <td>0.039</td>\n",
       "      <td>24.0</td>\n",
       "      <td>92.0</td>\n",
       "      <td>0.99114</td>\n",
       "      <td>3.27</td>\n",
       "      <td>0.50</td>\n",
       "      <td>11.2</td>\n",
       "      <td>6</td>\n",
       "      <td>white</td>\n",
       "    </tr>\n",
       "    <tr>\n",
       "      <th>4894</th>\n",
       "      <td>6.6</td>\n",
       "      <td>0.32</td>\n",
       "      <td>0.36</td>\n",
       "      <td>8.0</td>\n",
       "      <td>0.047</td>\n",
       "      <td>57.0</td>\n",
       "      <td>168.0</td>\n",
       "      <td>0.99490</td>\n",
       "      <td>3.15</td>\n",
       "      <td>0.46</td>\n",
       "      <td>9.6</td>\n",
       "      <td>5</td>\n",
       "      <td>white</td>\n",
       "    </tr>\n",
       "    <tr>\n",
       "      <th>4895</th>\n",
       "      <td>6.5</td>\n",
       "      <td>0.24</td>\n",
       "      <td>0.19</td>\n",
       "      <td>1.2</td>\n",
       "      <td>0.041</td>\n",
       "      <td>30.0</td>\n",
       "      <td>111.0</td>\n",
       "      <td>0.99254</td>\n",
       "      <td>2.99</td>\n",
       "      <td>0.46</td>\n",
       "      <td>9.4</td>\n",
       "      <td>6</td>\n",
       "      <td>white</td>\n",
       "    </tr>\n",
       "    <tr>\n",
       "      <th>4896</th>\n",
       "      <td>5.5</td>\n",
       "      <td>0.29</td>\n",
       "      <td>0.30</td>\n",
       "      <td>1.1</td>\n",
       "      <td>0.022</td>\n",
       "      <td>20.0</td>\n",
       "      <td>110.0</td>\n",
       "      <td>0.98869</td>\n",
       "      <td>3.34</td>\n",
       "      <td>0.38</td>\n",
       "      <td>12.8</td>\n",
       "      <td>7</td>\n",
       "      <td>white</td>\n",
       "    </tr>\n",
       "    <tr>\n",
       "      <th>4897</th>\n",
       "      <td>6.0</td>\n",
       "      <td>0.21</td>\n",
       "      <td>0.38</td>\n",
       "      <td>0.8</td>\n",
       "      <td>0.020</td>\n",
       "      <td>22.0</td>\n",
       "      <td>98.0</td>\n",
       "      <td>0.98941</td>\n",
       "      <td>3.26</td>\n",
       "      <td>0.32</td>\n",
       "      <td>11.8</td>\n",
       "      <td>6</td>\n",
       "      <td>white</td>\n",
       "    </tr>\n",
       "  </tbody>\n",
       "</table>\n",
       "<p>6497 rows × 13 columns</p>\n",
       "</div>"
      ],
      "text/plain": [
       "      fixed acidity  volatile acidity  citric acid  residual sugar  chlorides  \\\n",
       "0               7.4              0.70         0.00             1.9      0.076   \n",
       "1               7.8              0.88         0.00             2.6      0.098   \n",
       "2               7.8              0.76         0.04             2.3      0.092   \n",
       "3              11.2              0.28         0.56             1.9      0.075   \n",
       "4               7.4              0.70         0.00             1.9      0.076   \n",
       "...             ...               ...          ...             ...        ...   \n",
       "4893            6.2              0.21         0.29             1.6      0.039   \n",
       "4894            6.6              0.32         0.36             8.0      0.047   \n",
       "4895            6.5              0.24         0.19             1.2      0.041   \n",
       "4896            5.5              0.29         0.30             1.1      0.022   \n",
       "4897            6.0              0.21         0.38             0.8      0.020   \n",
       "\n",
       "      free sulfur dioxide  total sulfur dioxide  density    pH  sulphates  \\\n",
       "0                    11.0                  34.0  0.99780  3.51       0.56   \n",
       "1                    25.0                  67.0  0.99680  3.20       0.68   \n",
       "2                    15.0                  54.0  0.99700  3.26       0.65   \n",
       "3                    17.0                  60.0  0.99800  3.16       0.58   \n",
       "4                    11.0                  34.0  0.99780  3.51       0.56   \n",
       "...                   ...                   ...      ...   ...        ...   \n",
       "4893                 24.0                  92.0  0.99114  3.27       0.50   \n",
       "4894                 57.0                 168.0  0.99490  3.15       0.46   \n",
       "4895                 30.0                 111.0  0.99254  2.99       0.46   \n",
       "4896                 20.0                 110.0  0.98869  3.34       0.38   \n",
       "4897                 22.0                  98.0  0.98941  3.26       0.32   \n",
       "\n",
       "      alcohol  quality   type  \n",
       "0         9.4        5    red  \n",
       "1         9.8        5    red  \n",
       "2         9.8        5    red  \n",
       "3         9.8        6    red  \n",
       "4         9.4        5    red  \n",
       "...       ...      ...    ...  \n",
       "4893     11.2        6  white  \n",
       "4894      9.6        5  white  \n",
       "4895      9.4        6  white  \n",
       "4896     12.8        7  white  \n",
       "4897     11.8        6  white  \n",
       "\n",
       "[6497 rows x 13 columns]"
      ]
     },
     "execution_count": 15,
     "metadata": {},
     "output_type": "execute_result"
    }
   ],
   "source": [
    "pd.concat([df_red, df_white], axis=0)"
   ]
  },
  {
   "cell_type": "code",
   "execution_count": 16,
   "metadata": {
    "colab": {
     "base_uri": "https://localhost:8080/",
     "height": 441
    },
    "executionInfo": {
     "elapsed": 62,
     "status": "ok",
     "timestamp": 1758848747053,
     "user": {
      "displayName": "Ian Yané",
      "userId": "09070912689777423281"
     },
     "user_tz": 180
    },
    "id": "b1_ZqFAwnw_4",
    "outputId": "f6e28790-1c13-45ab-9465-5512ca5c0ce9"
   },
   "outputs": [
    {
     "data": {
      "text/html": [
       "<div>\n",
       "<style scoped>\n",
       "    .dataframe tbody tr th:only-of-type {\n",
       "        vertical-align: middle;\n",
       "    }\n",
       "\n",
       "    .dataframe tbody tr th {\n",
       "        vertical-align: top;\n",
       "    }\n",
       "\n",
       "    .dataframe thead th {\n",
       "        text-align: right;\n",
       "    }\n",
       "</style>\n",
       "<table border=\"1\" class=\"dataframe\">\n",
       "  <thead>\n",
       "    <tr style=\"text-align: right;\">\n",
       "      <th></th>\n",
       "      <th>fixed acidity</th>\n",
       "      <th>volatile acidity</th>\n",
       "      <th>citric acid</th>\n",
       "      <th>residual sugar</th>\n",
       "      <th>chlorides</th>\n",
       "      <th>free sulfur dioxide</th>\n",
       "      <th>total sulfur dioxide</th>\n",
       "      <th>density</th>\n",
       "      <th>pH</th>\n",
       "      <th>sulphates</th>\n",
       "      <th>alcohol</th>\n",
       "      <th>quality</th>\n",
       "      <th>type</th>\n",
       "    </tr>\n",
       "  </thead>\n",
       "  <tbody>\n",
       "    <tr>\n",
       "      <th>0</th>\n",
       "      <td>7.4</td>\n",
       "      <td>0.70</td>\n",
       "      <td>0.00</td>\n",
       "      <td>1.9</td>\n",
       "      <td>0.076</td>\n",
       "      <td>11.0</td>\n",
       "      <td>34.0</td>\n",
       "      <td>0.99780</td>\n",
       "      <td>3.51</td>\n",
       "      <td>0.56</td>\n",
       "      <td>9.4</td>\n",
       "      <td>5</td>\n",
       "      <td>red</td>\n",
       "    </tr>\n",
       "    <tr>\n",
       "      <th>1</th>\n",
       "      <td>7.8</td>\n",
       "      <td>0.88</td>\n",
       "      <td>0.00</td>\n",
       "      <td>2.6</td>\n",
       "      <td>0.098</td>\n",
       "      <td>25.0</td>\n",
       "      <td>67.0</td>\n",
       "      <td>0.99680</td>\n",
       "      <td>3.20</td>\n",
       "      <td>0.68</td>\n",
       "      <td>9.8</td>\n",
       "      <td>5</td>\n",
       "      <td>red</td>\n",
       "    </tr>\n",
       "    <tr>\n",
       "      <th>2</th>\n",
       "      <td>7.8</td>\n",
       "      <td>0.76</td>\n",
       "      <td>0.04</td>\n",
       "      <td>2.3</td>\n",
       "      <td>0.092</td>\n",
       "      <td>15.0</td>\n",
       "      <td>54.0</td>\n",
       "      <td>0.99700</td>\n",
       "      <td>3.26</td>\n",
       "      <td>0.65</td>\n",
       "      <td>9.8</td>\n",
       "      <td>5</td>\n",
       "      <td>red</td>\n",
       "    </tr>\n",
       "    <tr>\n",
       "      <th>3</th>\n",
       "      <td>11.2</td>\n",
       "      <td>0.28</td>\n",
       "      <td>0.56</td>\n",
       "      <td>1.9</td>\n",
       "      <td>0.075</td>\n",
       "      <td>17.0</td>\n",
       "      <td>60.0</td>\n",
       "      <td>0.99800</td>\n",
       "      <td>3.16</td>\n",
       "      <td>0.58</td>\n",
       "      <td>9.8</td>\n",
       "      <td>6</td>\n",
       "      <td>red</td>\n",
       "    </tr>\n",
       "    <tr>\n",
       "      <th>4</th>\n",
       "      <td>7.4</td>\n",
       "      <td>0.70</td>\n",
       "      <td>0.00</td>\n",
       "      <td>1.9</td>\n",
       "      <td>0.076</td>\n",
       "      <td>11.0</td>\n",
       "      <td>34.0</td>\n",
       "      <td>0.99780</td>\n",
       "      <td>3.51</td>\n",
       "      <td>0.56</td>\n",
       "      <td>9.4</td>\n",
       "      <td>5</td>\n",
       "      <td>red</td>\n",
       "    </tr>\n",
       "    <tr>\n",
       "      <th>...</th>\n",
       "      <td>...</td>\n",
       "      <td>...</td>\n",
       "      <td>...</td>\n",
       "      <td>...</td>\n",
       "      <td>...</td>\n",
       "      <td>...</td>\n",
       "      <td>...</td>\n",
       "      <td>...</td>\n",
       "      <td>...</td>\n",
       "      <td>...</td>\n",
       "      <td>...</td>\n",
       "      <td>...</td>\n",
       "      <td>...</td>\n",
       "    </tr>\n",
       "    <tr>\n",
       "      <th>4893</th>\n",
       "      <td>6.2</td>\n",
       "      <td>0.21</td>\n",
       "      <td>0.29</td>\n",
       "      <td>1.6</td>\n",
       "      <td>0.039</td>\n",
       "      <td>24.0</td>\n",
       "      <td>92.0</td>\n",
       "      <td>0.99114</td>\n",
       "      <td>3.27</td>\n",
       "      <td>0.50</td>\n",
       "      <td>11.2</td>\n",
       "      <td>6</td>\n",
       "      <td>white</td>\n",
       "    </tr>\n",
       "    <tr>\n",
       "      <th>4894</th>\n",
       "      <td>6.6</td>\n",
       "      <td>0.32</td>\n",
       "      <td>0.36</td>\n",
       "      <td>8.0</td>\n",
       "      <td>0.047</td>\n",
       "      <td>57.0</td>\n",
       "      <td>168.0</td>\n",
       "      <td>0.99490</td>\n",
       "      <td>3.15</td>\n",
       "      <td>0.46</td>\n",
       "      <td>9.6</td>\n",
       "      <td>5</td>\n",
       "      <td>white</td>\n",
       "    </tr>\n",
       "    <tr>\n",
       "      <th>4895</th>\n",
       "      <td>6.5</td>\n",
       "      <td>0.24</td>\n",
       "      <td>0.19</td>\n",
       "      <td>1.2</td>\n",
       "      <td>0.041</td>\n",
       "      <td>30.0</td>\n",
       "      <td>111.0</td>\n",
       "      <td>0.99254</td>\n",
       "      <td>2.99</td>\n",
       "      <td>0.46</td>\n",
       "      <td>9.4</td>\n",
       "      <td>6</td>\n",
       "      <td>white</td>\n",
       "    </tr>\n",
       "    <tr>\n",
       "      <th>4896</th>\n",
       "      <td>5.5</td>\n",
       "      <td>0.29</td>\n",
       "      <td>0.30</td>\n",
       "      <td>1.1</td>\n",
       "      <td>0.022</td>\n",
       "      <td>20.0</td>\n",
       "      <td>110.0</td>\n",
       "      <td>0.98869</td>\n",
       "      <td>3.34</td>\n",
       "      <td>0.38</td>\n",
       "      <td>12.8</td>\n",
       "      <td>7</td>\n",
       "      <td>white</td>\n",
       "    </tr>\n",
       "    <tr>\n",
       "      <th>4897</th>\n",
       "      <td>6.0</td>\n",
       "      <td>0.21</td>\n",
       "      <td>0.38</td>\n",
       "      <td>0.8</td>\n",
       "      <td>0.020</td>\n",
       "      <td>22.0</td>\n",
       "      <td>98.0</td>\n",
       "      <td>0.98941</td>\n",
       "      <td>3.26</td>\n",
       "      <td>0.32</td>\n",
       "      <td>11.8</td>\n",
       "      <td>6</td>\n",
       "      <td>white</td>\n",
       "    </tr>\n",
       "  </tbody>\n",
       "</table>\n",
       "<p>6497 rows × 13 columns</p>\n",
       "</div>"
      ],
      "text/plain": [
       "      fixed acidity  volatile acidity  citric acid  residual sugar  chlorides  \\\n",
       "0               7.4              0.70         0.00             1.9      0.076   \n",
       "1               7.8              0.88         0.00             2.6      0.098   \n",
       "2               7.8              0.76         0.04             2.3      0.092   \n",
       "3              11.2              0.28         0.56             1.9      0.075   \n",
       "4               7.4              0.70         0.00             1.9      0.076   \n",
       "...             ...               ...          ...             ...        ...   \n",
       "4893            6.2              0.21         0.29             1.6      0.039   \n",
       "4894            6.6              0.32         0.36             8.0      0.047   \n",
       "4895            6.5              0.24         0.19             1.2      0.041   \n",
       "4896            5.5              0.29         0.30             1.1      0.022   \n",
       "4897            6.0              0.21         0.38             0.8      0.020   \n",
       "\n",
       "      free sulfur dioxide  total sulfur dioxide  density    pH  sulphates  \\\n",
       "0                    11.0                  34.0  0.99780  3.51       0.56   \n",
       "1                    25.0                  67.0  0.99680  3.20       0.68   \n",
       "2                    15.0                  54.0  0.99700  3.26       0.65   \n",
       "3                    17.0                  60.0  0.99800  3.16       0.58   \n",
       "4                    11.0                  34.0  0.99780  3.51       0.56   \n",
       "...                   ...                   ...      ...   ...        ...   \n",
       "4893                 24.0                  92.0  0.99114  3.27       0.50   \n",
       "4894                 57.0                 168.0  0.99490  3.15       0.46   \n",
       "4895                 30.0                 111.0  0.99254  2.99       0.46   \n",
       "4896                 20.0                 110.0  0.98869  3.34       0.38   \n",
       "4897                 22.0                  98.0  0.98941  3.26       0.32   \n",
       "\n",
       "      alcohol  quality   type  \n",
       "0         9.4        5    red  \n",
       "1         9.8        5    red  \n",
       "2         9.8        5    red  \n",
       "3         9.8        6    red  \n",
       "4         9.4        5    red  \n",
       "...       ...      ...    ...  \n",
       "4893     11.2        6  white  \n",
       "4894      9.6        5  white  \n",
       "4895      9.4        6  white  \n",
       "4896     12.8        7  white  \n",
       "4897     11.8        6  white  \n",
       "\n",
       "[6497 rows x 13 columns]"
      ]
     },
     "execution_count": 16,
     "metadata": {},
     "output_type": "execute_result"
    }
   ],
   "source": [
    "# Unión de los dataframes\n",
    "df = pd.concat([df_red, df_white], axis=0)\n",
    "df"
   ]
  },
  {
   "cell_type": "code",
   "execution_count": 17,
   "metadata": {
    "colab": {
     "base_uri": "https://localhost:8080/",
     "height": 223
    },
    "executionInfo": {
     "elapsed": 24,
     "status": "ok",
     "timestamp": 1758848747079,
     "user": {
      "displayName": "Ian Yané",
      "userId": "09070912689777423281"
     },
     "user_tz": 180
    },
    "id": "wZg0FvUXcRWN",
    "outputId": "bc63c3b3-bf00-4a70-a3fb-650bd57357c8"
   },
   "outputs": [
    {
     "data": {
      "text/html": [
       "<div>\n",
       "<style scoped>\n",
       "    .dataframe tbody tr th:only-of-type {\n",
       "        vertical-align: middle;\n",
       "    }\n",
       "\n",
       "    .dataframe tbody tr th {\n",
       "        vertical-align: top;\n",
       "    }\n",
       "\n",
       "    .dataframe thead th {\n",
       "        text-align: right;\n",
       "    }\n",
       "</style>\n",
       "<table border=\"1\" class=\"dataframe\">\n",
       "  <thead>\n",
       "    <tr style=\"text-align: right;\">\n",
       "      <th></th>\n",
       "      <th>fixed acidity</th>\n",
       "      <th>volatile acidity</th>\n",
       "      <th>citric acid</th>\n",
       "      <th>residual sugar</th>\n",
       "      <th>chlorides</th>\n",
       "      <th>free sulfur dioxide</th>\n",
       "      <th>total sulfur dioxide</th>\n",
       "      <th>density</th>\n",
       "      <th>pH</th>\n",
       "      <th>sulphates</th>\n",
       "      <th>alcohol</th>\n",
       "      <th>quality</th>\n",
       "      <th>type</th>\n",
       "    </tr>\n",
       "  </thead>\n",
       "  <tbody>\n",
       "    <tr>\n",
       "      <th>4893</th>\n",
       "      <td>6.2</td>\n",
       "      <td>0.21</td>\n",
       "      <td>0.29</td>\n",
       "      <td>1.6</td>\n",
       "      <td>0.039</td>\n",
       "      <td>24.0</td>\n",
       "      <td>92.0</td>\n",
       "      <td>0.99114</td>\n",
       "      <td>3.27</td>\n",
       "      <td>0.50</td>\n",
       "      <td>11.2</td>\n",
       "      <td>6</td>\n",
       "      <td>white</td>\n",
       "    </tr>\n",
       "    <tr>\n",
       "      <th>4894</th>\n",
       "      <td>6.6</td>\n",
       "      <td>0.32</td>\n",
       "      <td>0.36</td>\n",
       "      <td>8.0</td>\n",
       "      <td>0.047</td>\n",
       "      <td>57.0</td>\n",
       "      <td>168.0</td>\n",
       "      <td>0.99490</td>\n",
       "      <td>3.15</td>\n",
       "      <td>0.46</td>\n",
       "      <td>9.6</td>\n",
       "      <td>5</td>\n",
       "      <td>white</td>\n",
       "    </tr>\n",
       "    <tr>\n",
       "      <th>4895</th>\n",
       "      <td>6.5</td>\n",
       "      <td>0.24</td>\n",
       "      <td>0.19</td>\n",
       "      <td>1.2</td>\n",
       "      <td>0.041</td>\n",
       "      <td>30.0</td>\n",
       "      <td>111.0</td>\n",
       "      <td>0.99254</td>\n",
       "      <td>2.99</td>\n",
       "      <td>0.46</td>\n",
       "      <td>9.4</td>\n",
       "      <td>6</td>\n",
       "      <td>white</td>\n",
       "    </tr>\n",
       "    <tr>\n",
       "      <th>4896</th>\n",
       "      <td>5.5</td>\n",
       "      <td>0.29</td>\n",
       "      <td>0.30</td>\n",
       "      <td>1.1</td>\n",
       "      <td>0.022</td>\n",
       "      <td>20.0</td>\n",
       "      <td>110.0</td>\n",
       "      <td>0.98869</td>\n",
       "      <td>3.34</td>\n",
       "      <td>0.38</td>\n",
       "      <td>12.8</td>\n",
       "      <td>7</td>\n",
       "      <td>white</td>\n",
       "    </tr>\n",
       "    <tr>\n",
       "      <th>4897</th>\n",
       "      <td>6.0</td>\n",
       "      <td>0.21</td>\n",
       "      <td>0.38</td>\n",
       "      <td>0.8</td>\n",
       "      <td>0.020</td>\n",
       "      <td>22.0</td>\n",
       "      <td>98.0</td>\n",
       "      <td>0.98941</td>\n",
       "      <td>3.26</td>\n",
       "      <td>0.32</td>\n",
       "      <td>11.8</td>\n",
       "      <td>6</td>\n",
       "      <td>white</td>\n",
       "    </tr>\n",
       "  </tbody>\n",
       "</table>\n",
       "</div>"
      ],
      "text/plain": [
       "      fixed acidity  volatile acidity  citric acid  residual sugar  chlorides  \\\n",
       "4893            6.2              0.21         0.29             1.6      0.039   \n",
       "4894            6.6              0.32         0.36             8.0      0.047   \n",
       "4895            6.5              0.24         0.19             1.2      0.041   \n",
       "4896            5.5              0.29         0.30             1.1      0.022   \n",
       "4897            6.0              0.21         0.38             0.8      0.020   \n",
       "\n",
       "      free sulfur dioxide  total sulfur dioxide  density    pH  sulphates  \\\n",
       "4893                 24.0                  92.0  0.99114  3.27       0.50   \n",
       "4894                 57.0                 168.0  0.99490  3.15       0.46   \n",
       "4895                 30.0                 111.0  0.99254  2.99       0.46   \n",
       "4896                 20.0                 110.0  0.98869  3.34       0.38   \n",
       "4897                 22.0                  98.0  0.98941  3.26       0.32   \n",
       "\n",
       "      alcohol  quality   type  \n",
       "4893     11.2        6  white  \n",
       "4894      9.6        5  white  \n",
       "4895      9.4        6  white  \n",
       "4896     12.8        7  white  \n",
       "4897     11.8        6  white  "
      ]
     },
     "execution_count": 17,
     "metadata": {},
     "output_type": "execute_result"
    }
   ],
   "source": [
    "df_white.tail()"
   ]
  },
  {
   "cell_type": "code",
   "execution_count": 18,
   "metadata": {
    "colab": {
     "base_uri": "https://localhost:8080/",
     "height": 441
    },
    "executionInfo": {
     "elapsed": 30,
     "status": "ok",
     "timestamp": 1758848747109,
     "user": {
      "displayName": "Ian Yané",
      "userId": "09070912689777423281"
     },
     "user_tz": 180
    },
    "id": "OoiPpl9EnyUr",
    "outputId": "af1e3691-9eaa-457c-dfa0-f06f2e9c5346"
   },
   "outputs": [
    {
     "data": {
      "text/html": [
       "<div>\n",
       "<style scoped>\n",
       "    .dataframe tbody tr th:only-of-type {\n",
       "        vertical-align: middle;\n",
       "    }\n",
       "\n",
       "    .dataframe tbody tr th {\n",
       "        vertical-align: top;\n",
       "    }\n",
       "\n",
       "    .dataframe thead th {\n",
       "        text-align: right;\n",
       "    }\n",
       "</style>\n",
       "<table border=\"1\" class=\"dataframe\">\n",
       "  <thead>\n",
       "    <tr style=\"text-align: right;\">\n",
       "      <th></th>\n",
       "      <th>fixed acidity</th>\n",
       "      <th>volatile acidity</th>\n",
       "      <th>citric acid</th>\n",
       "      <th>residual sugar</th>\n",
       "      <th>chlorides</th>\n",
       "      <th>free sulfur dioxide</th>\n",
       "      <th>total sulfur dioxide</th>\n",
       "      <th>density</th>\n",
       "      <th>pH</th>\n",
       "      <th>sulphates</th>\n",
       "      <th>alcohol</th>\n",
       "      <th>quality</th>\n",
       "      <th>type</th>\n",
       "    </tr>\n",
       "  </thead>\n",
       "  <tbody>\n",
       "    <tr>\n",
       "      <th>0</th>\n",
       "      <td>7.4</td>\n",
       "      <td>0.70</td>\n",
       "      <td>0.00</td>\n",
       "      <td>1.9</td>\n",
       "      <td>0.076</td>\n",
       "      <td>11.0</td>\n",
       "      <td>34.0</td>\n",
       "      <td>0.99780</td>\n",
       "      <td>3.51</td>\n",
       "      <td>0.56</td>\n",
       "      <td>9.4</td>\n",
       "      <td>5</td>\n",
       "      <td>red</td>\n",
       "    </tr>\n",
       "    <tr>\n",
       "      <th>1</th>\n",
       "      <td>7.8</td>\n",
       "      <td>0.88</td>\n",
       "      <td>0.00</td>\n",
       "      <td>2.6</td>\n",
       "      <td>0.098</td>\n",
       "      <td>25.0</td>\n",
       "      <td>67.0</td>\n",
       "      <td>0.99680</td>\n",
       "      <td>3.20</td>\n",
       "      <td>0.68</td>\n",
       "      <td>9.8</td>\n",
       "      <td>5</td>\n",
       "      <td>red</td>\n",
       "    </tr>\n",
       "    <tr>\n",
       "      <th>2</th>\n",
       "      <td>7.8</td>\n",
       "      <td>0.76</td>\n",
       "      <td>0.04</td>\n",
       "      <td>2.3</td>\n",
       "      <td>0.092</td>\n",
       "      <td>15.0</td>\n",
       "      <td>54.0</td>\n",
       "      <td>0.99700</td>\n",
       "      <td>3.26</td>\n",
       "      <td>0.65</td>\n",
       "      <td>9.8</td>\n",
       "      <td>5</td>\n",
       "      <td>red</td>\n",
       "    </tr>\n",
       "    <tr>\n",
       "      <th>3</th>\n",
       "      <td>11.2</td>\n",
       "      <td>0.28</td>\n",
       "      <td>0.56</td>\n",
       "      <td>1.9</td>\n",
       "      <td>0.075</td>\n",
       "      <td>17.0</td>\n",
       "      <td>60.0</td>\n",
       "      <td>0.99800</td>\n",
       "      <td>3.16</td>\n",
       "      <td>0.58</td>\n",
       "      <td>9.8</td>\n",
       "      <td>6</td>\n",
       "      <td>red</td>\n",
       "    </tr>\n",
       "    <tr>\n",
       "      <th>4</th>\n",
       "      <td>7.4</td>\n",
       "      <td>0.70</td>\n",
       "      <td>0.00</td>\n",
       "      <td>1.9</td>\n",
       "      <td>0.076</td>\n",
       "      <td>11.0</td>\n",
       "      <td>34.0</td>\n",
       "      <td>0.99780</td>\n",
       "      <td>3.51</td>\n",
       "      <td>0.56</td>\n",
       "      <td>9.4</td>\n",
       "      <td>5</td>\n",
       "      <td>red</td>\n",
       "    </tr>\n",
       "    <tr>\n",
       "      <th>...</th>\n",
       "      <td>...</td>\n",
       "      <td>...</td>\n",
       "      <td>...</td>\n",
       "      <td>...</td>\n",
       "      <td>...</td>\n",
       "      <td>...</td>\n",
       "      <td>...</td>\n",
       "      <td>...</td>\n",
       "      <td>...</td>\n",
       "      <td>...</td>\n",
       "      <td>...</td>\n",
       "      <td>...</td>\n",
       "      <td>...</td>\n",
       "    </tr>\n",
       "    <tr>\n",
       "      <th>6492</th>\n",
       "      <td>6.2</td>\n",
       "      <td>0.21</td>\n",
       "      <td>0.29</td>\n",
       "      <td>1.6</td>\n",
       "      <td>0.039</td>\n",
       "      <td>24.0</td>\n",
       "      <td>92.0</td>\n",
       "      <td>0.99114</td>\n",
       "      <td>3.27</td>\n",
       "      <td>0.50</td>\n",
       "      <td>11.2</td>\n",
       "      <td>6</td>\n",
       "      <td>white</td>\n",
       "    </tr>\n",
       "    <tr>\n",
       "      <th>6493</th>\n",
       "      <td>6.6</td>\n",
       "      <td>0.32</td>\n",
       "      <td>0.36</td>\n",
       "      <td>8.0</td>\n",
       "      <td>0.047</td>\n",
       "      <td>57.0</td>\n",
       "      <td>168.0</td>\n",
       "      <td>0.99490</td>\n",
       "      <td>3.15</td>\n",
       "      <td>0.46</td>\n",
       "      <td>9.6</td>\n",
       "      <td>5</td>\n",
       "      <td>white</td>\n",
       "    </tr>\n",
       "    <tr>\n",
       "      <th>6494</th>\n",
       "      <td>6.5</td>\n",
       "      <td>0.24</td>\n",
       "      <td>0.19</td>\n",
       "      <td>1.2</td>\n",
       "      <td>0.041</td>\n",
       "      <td>30.0</td>\n",
       "      <td>111.0</td>\n",
       "      <td>0.99254</td>\n",
       "      <td>2.99</td>\n",
       "      <td>0.46</td>\n",
       "      <td>9.4</td>\n",
       "      <td>6</td>\n",
       "      <td>white</td>\n",
       "    </tr>\n",
       "    <tr>\n",
       "      <th>6495</th>\n",
       "      <td>5.5</td>\n",
       "      <td>0.29</td>\n",
       "      <td>0.30</td>\n",
       "      <td>1.1</td>\n",
       "      <td>0.022</td>\n",
       "      <td>20.0</td>\n",
       "      <td>110.0</td>\n",
       "      <td>0.98869</td>\n",
       "      <td>3.34</td>\n",
       "      <td>0.38</td>\n",
       "      <td>12.8</td>\n",
       "      <td>7</td>\n",
       "      <td>white</td>\n",
       "    </tr>\n",
       "    <tr>\n",
       "      <th>6496</th>\n",
       "      <td>6.0</td>\n",
       "      <td>0.21</td>\n",
       "      <td>0.38</td>\n",
       "      <td>0.8</td>\n",
       "      <td>0.020</td>\n",
       "      <td>22.0</td>\n",
       "      <td>98.0</td>\n",
       "      <td>0.98941</td>\n",
       "      <td>3.26</td>\n",
       "      <td>0.32</td>\n",
       "      <td>11.8</td>\n",
       "      <td>6</td>\n",
       "      <td>white</td>\n",
       "    </tr>\n",
       "  </tbody>\n",
       "</table>\n",
       "<p>6497 rows × 13 columns</p>\n",
       "</div>"
      ],
      "text/plain": [
       "      fixed acidity  volatile acidity  citric acid  residual sugar  chlorides  \\\n",
       "0               7.4              0.70         0.00             1.9      0.076   \n",
       "1               7.8              0.88         0.00             2.6      0.098   \n",
       "2               7.8              0.76         0.04             2.3      0.092   \n",
       "3              11.2              0.28         0.56             1.9      0.075   \n",
       "4               7.4              0.70         0.00             1.9      0.076   \n",
       "...             ...               ...          ...             ...        ...   \n",
       "6492            6.2              0.21         0.29             1.6      0.039   \n",
       "6493            6.6              0.32         0.36             8.0      0.047   \n",
       "6494            6.5              0.24         0.19             1.2      0.041   \n",
       "6495            5.5              0.29         0.30             1.1      0.022   \n",
       "6496            6.0              0.21         0.38             0.8      0.020   \n",
       "\n",
       "      free sulfur dioxide  total sulfur dioxide  density    pH  sulphates  \\\n",
       "0                    11.0                  34.0  0.99780  3.51       0.56   \n",
       "1                    25.0                  67.0  0.99680  3.20       0.68   \n",
       "2                    15.0                  54.0  0.99700  3.26       0.65   \n",
       "3                    17.0                  60.0  0.99800  3.16       0.58   \n",
       "4                    11.0                  34.0  0.99780  3.51       0.56   \n",
       "...                   ...                   ...      ...   ...        ...   \n",
       "6492                 24.0                  92.0  0.99114  3.27       0.50   \n",
       "6493                 57.0                 168.0  0.99490  3.15       0.46   \n",
       "6494                 30.0                 111.0  0.99254  2.99       0.46   \n",
       "6495                 20.0                 110.0  0.98869  3.34       0.38   \n",
       "6496                 22.0                  98.0  0.98941  3.26       0.32   \n",
       "\n",
       "      alcohol  quality   type  \n",
       "0         9.4        5    red  \n",
       "1         9.8        5    red  \n",
       "2         9.8        5    red  \n",
       "3         9.8        6    red  \n",
       "4         9.4        5    red  \n",
       "...       ...      ...    ...  \n",
       "6492     11.2        6  white  \n",
       "6493      9.6        5  white  \n",
       "6494      9.4        6  white  \n",
       "6495     12.8        7  white  \n",
       "6496     11.8        6  white  \n",
       "\n",
       "[6497 rows x 13 columns]"
      ]
     },
     "execution_count": 18,
     "metadata": {},
     "output_type": "execute_result"
    }
   ],
   "source": [
    "# Reseteamos el índice\n",
    "df.reset_index(drop=True, inplace=True)\n",
    "df"
   ]
  },
  {
   "cell_type": "code",
   "execution_count": 19,
   "metadata": {
    "colab": {
     "base_uri": "https://localhost:8080/",
     "height": 258
    },
    "executionInfo": {
     "elapsed": 9,
     "status": "ok",
     "timestamp": 1758848747119,
     "user": {
      "displayName": "Ian Yané",
      "userId": "09070912689777423281"
     },
     "user_tz": 180
    },
    "id": "wL9SUJIcHUf3",
    "outputId": "91a693d3-ab10-4ec3-80d5-5e6cbaaac254"
   },
   "outputs": [
    {
     "name": "stdout",
     "output_type": "stream",
     "text": [
      "Forma del dataset combinado: (6497, 13)\n",
      "\n",
      "Primeras 5 filas:\n"
     ]
    },
    {
     "data": {
      "text/html": [
       "<div>\n",
       "<style scoped>\n",
       "    .dataframe tbody tr th:only-of-type {\n",
       "        vertical-align: middle;\n",
       "    }\n",
       "\n",
       "    .dataframe tbody tr th {\n",
       "        vertical-align: top;\n",
       "    }\n",
       "\n",
       "    .dataframe thead th {\n",
       "        text-align: right;\n",
       "    }\n",
       "</style>\n",
       "<table border=\"1\" class=\"dataframe\">\n",
       "  <thead>\n",
       "    <tr style=\"text-align: right;\">\n",
       "      <th></th>\n",
       "      <th>fixed acidity</th>\n",
       "      <th>volatile acidity</th>\n",
       "      <th>citric acid</th>\n",
       "      <th>residual sugar</th>\n",
       "      <th>chlorides</th>\n",
       "      <th>free sulfur dioxide</th>\n",
       "      <th>total sulfur dioxide</th>\n",
       "      <th>density</th>\n",
       "      <th>pH</th>\n",
       "      <th>sulphates</th>\n",
       "      <th>alcohol</th>\n",
       "      <th>quality</th>\n",
       "      <th>type</th>\n",
       "    </tr>\n",
       "  </thead>\n",
       "  <tbody>\n",
       "    <tr>\n",
       "      <th>0</th>\n",
       "      <td>7.4</td>\n",
       "      <td>0.70</td>\n",
       "      <td>0.00</td>\n",
       "      <td>1.9</td>\n",
       "      <td>0.076</td>\n",
       "      <td>11.0</td>\n",
       "      <td>34.0</td>\n",
       "      <td>0.9978</td>\n",
       "      <td>3.51</td>\n",
       "      <td>0.56</td>\n",
       "      <td>9.4</td>\n",
       "      <td>5</td>\n",
       "      <td>red</td>\n",
       "    </tr>\n",
       "    <tr>\n",
       "      <th>1</th>\n",
       "      <td>7.8</td>\n",
       "      <td>0.88</td>\n",
       "      <td>0.00</td>\n",
       "      <td>2.6</td>\n",
       "      <td>0.098</td>\n",
       "      <td>25.0</td>\n",
       "      <td>67.0</td>\n",
       "      <td>0.9968</td>\n",
       "      <td>3.20</td>\n",
       "      <td>0.68</td>\n",
       "      <td>9.8</td>\n",
       "      <td>5</td>\n",
       "      <td>red</td>\n",
       "    </tr>\n",
       "    <tr>\n",
       "      <th>2</th>\n",
       "      <td>7.8</td>\n",
       "      <td>0.76</td>\n",
       "      <td>0.04</td>\n",
       "      <td>2.3</td>\n",
       "      <td>0.092</td>\n",
       "      <td>15.0</td>\n",
       "      <td>54.0</td>\n",
       "      <td>0.9970</td>\n",
       "      <td>3.26</td>\n",
       "      <td>0.65</td>\n",
       "      <td>9.8</td>\n",
       "      <td>5</td>\n",
       "      <td>red</td>\n",
       "    </tr>\n",
       "    <tr>\n",
       "      <th>3</th>\n",
       "      <td>11.2</td>\n",
       "      <td>0.28</td>\n",
       "      <td>0.56</td>\n",
       "      <td>1.9</td>\n",
       "      <td>0.075</td>\n",
       "      <td>17.0</td>\n",
       "      <td>60.0</td>\n",
       "      <td>0.9980</td>\n",
       "      <td>3.16</td>\n",
       "      <td>0.58</td>\n",
       "      <td>9.8</td>\n",
       "      <td>6</td>\n",
       "      <td>red</td>\n",
       "    </tr>\n",
       "    <tr>\n",
       "      <th>4</th>\n",
       "      <td>7.4</td>\n",
       "      <td>0.70</td>\n",
       "      <td>0.00</td>\n",
       "      <td>1.9</td>\n",
       "      <td>0.076</td>\n",
       "      <td>11.0</td>\n",
       "      <td>34.0</td>\n",
       "      <td>0.9978</td>\n",
       "      <td>3.51</td>\n",
       "      <td>0.56</td>\n",
       "      <td>9.4</td>\n",
       "      <td>5</td>\n",
       "      <td>red</td>\n",
       "    </tr>\n",
       "  </tbody>\n",
       "</table>\n",
       "</div>"
      ],
      "text/plain": [
       "   fixed acidity  volatile acidity  citric acid  residual sugar  chlorides  \\\n",
       "0            7.4              0.70         0.00             1.9      0.076   \n",
       "1            7.8              0.88         0.00             2.6      0.098   \n",
       "2            7.8              0.76         0.04             2.3      0.092   \n",
       "3           11.2              0.28         0.56             1.9      0.075   \n",
       "4            7.4              0.70         0.00             1.9      0.076   \n",
       "\n",
       "   free sulfur dioxide  total sulfur dioxide  density    pH  sulphates  \\\n",
       "0                 11.0                  34.0   0.9978  3.51       0.56   \n",
       "1                 25.0                  67.0   0.9968  3.20       0.68   \n",
       "2                 15.0                  54.0   0.9970  3.26       0.65   \n",
       "3                 17.0                  60.0   0.9980  3.16       0.58   \n",
       "4                 11.0                  34.0   0.9978  3.51       0.56   \n",
       "\n",
       "   alcohol  quality type  \n",
       "0      9.4        5  red  \n",
       "1      9.8        5  red  \n",
       "2      9.8        5  red  \n",
       "3      9.8        6  red  \n",
       "4      9.4        5  red  "
      ]
     },
     "metadata": {},
     "output_type": "display_data"
    }
   ],
   "source": [
    "print(\"Forma del dataset combinado:\", df.shape)\n",
    "print(\"\\nPrimeras 5 filas:\")\n",
    "display(df.head())"
   ]
  },
  {
   "cell_type": "markdown",
   "metadata": {
    "id": "YCWpX0mE5raK"
   },
   "source": [
    "<a name=\"eda\"></a>\n",
    "## 3. Análisis Exploratorio de Datos (EDA)\n",
    "Es fundamental entender nuestros datos antes de modelar. Realizaremos un análisis descriptivo y algunas visualizaciones clave."
   ]
  },
  {
   "cell_type": "code",
   "execution_count": 20,
   "metadata": {
    "colab": {
     "base_uri": "https://localhost:8080/"
    },
    "executionInfo": {
     "elapsed": 8,
     "status": "ok",
     "timestamp": 1758848747128,
     "user": {
      "displayName": "Ian Yané",
      "userId": "09070912689777423281"
     },
     "user_tz": 180
    },
    "id": "mxFgmE1Yv_Gb",
    "outputId": "f8f05e97-7a3d-4866-a044-39306a70786c"
   },
   "outputs": [
    {
     "name": "stdout",
     "output_type": "stream",
     "text": [
      "Información del DataFrame:\n",
      "<class 'pandas.core.frame.DataFrame'>\n",
      "RangeIndex: 6497 entries, 0 to 6496\n",
      "Data columns (total 13 columns):\n",
      " #   Column                Non-Null Count  Dtype  \n",
      "---  ------                --------------  -----  \n",
      " 0   fixed acidity         6497 non-null   float64\n",
      " 1   volatile acidity      6497 non-null   float64\n",
      " 2   citric acid           6497 non-null   float64\n",
      " 3   residual sugar        6497 non-null   float64\n",
      " 4   chlorides             6497 non-null   float64\n",
      " 5   free sulfur dioxide   6497 non-null   float64\n",
      " 6   total sulfur dioxide  6497 non-null   float64\n",
      " 7   density               6497 non-null   float64\n",
      " 8   pH                    6497 non-null   float64\n",
      " 9   sulphates             6497 non-null   float64\n",
      " 10  alcohol               6497 non-null   float64\n",
      " 11  quality               6497 non-null   int64  \n",
      " 12  type                  6497 non-null   object \n",
      "dtypes: float64(11), int64(1), object(1)\n",
      "memory usage: 660.0+ KB\n"
     ]
    }
   ],
   "source": [
    "# Información general y chequeo de nulos\n",
    "print(\"Información del DataFrame:\")\n",
    "df.info()"
   ]
  },
  {
   "cell_type": "code",
   "execution_count": 21,
   "metadata": {
    "colab": {
     "base_uri": "https://localhost:8080/",
     "height": 352
    },
    "executionInfo": {
     "elapsed": 263,
     "status": "ok",
     "timestamp": 1758848747392,
     "user": {
      "displayName": "Ian Yané",
      "userId": "09070912689777423281"
     },
     "user_tz": 180
    },
    "id": "VH0Os6vQv_yZ",
    "outputId": "5ac6684d-8fb9-4e31-cfee-52ef1ee1d37d"
   },
   "outputs": [
    {
     "name": "stdout",
     "output_type": "stream",
     "text": [
      "\n",
      "Estadísticas Descriptivas:\n"
     ]
    },
    {
     "data": {
      "text/html": [
       "<div>\n",
       "<style scoped>\n",
       "    .dataframe tbody tr th:only-of-type {\n",
       "        vertical-align: middle;\n",
       "    }\n",
       "\n",
       "    .dataframe tbody tr th {\n",
       "        vertical-align: top;\n",
       "    }\n",
       "\n",
       "    .dataframe thead th {\n",
       "        text-align: right;\n",
       "    }\n",
       "</style>\n",
       "<table border=\"1\" class=\"dataframe\">\n",
       "  <thead>\n",
       "    <tr style=\"text-align: right;\">\n",
       "      <th></th>\n",
       "      <th>fixed acidity</th>\n",
       "      <th>volatile acidity</th>\n",
       "      <th>citric acid</th>\n",
       "      <th>residual sugar</th>\n",
       "      <th>chlorides</th>\n",
       "      <th>free sulfur dioxide</th>\n",
       "      <th>total sulfur dioxide</th>\n",
       "      <th>density</th>\n",
       "      <th>pH</th>\n",
       "      <th>sulphates</th>\n",
       "      <th>alcohol</th>\n",
       "      <th>quality</th>\n",
       "    </tr>\n",
       "  </thead>\n",
       "  <tbody>\n",
       "    <tr>\n",
       "      <th>count</th>\n",
       "      <td>6497.000000</td>\n",
       "      <td>6497.000000</td>\n",
       "      <td>6497.000000</td>\n",
       "      <td>6497.000000</td>\n",
       "      <td>6497.000000</td>\n",
       "      <td>6497.000000</td>\n",
       "      <td>6497.000000</td>\n",
       "      <td>6497.000000</td>\n",
       "      <td>6497.000000</td>\n",
       "      <td>6497.000000</td>\n",
       "      <td>6497.000000</td>\n",
       "      <td>6497.000000</td>\n",
       "    </tr>\n",
       "    <tr>\n",
       "      <th>mean</th>\n",
       "      <td>7.215307</td>\n",
       "      <td>0.339666</td>\n",
       "      <td>0.318633</td>\n",
       "      <td>5.443235</td>\n",
       "      <td>0.056034</td>\n",
       "      <td>30.525319</td>\n",
       "      <td>115.744574</td>\n",
       "      <td>0.994697</td>\n",
       "      <td>3.218501</td>\n",
       "      <td>0.531268</td>\n",
       "      <td>10.491801</td>\n",
       "      <td>5.818378</td>\n",
       "    </tr>\n",
       "    <tr>\n",
       "      <th>std</th>\n",
       "      <td>1.296434</td>\n",
       "      <td>0.164636</td>\n",
       "      <td>0.145318</td>\n",
       "      <td>4.757804</td>\n",
       "      <td>0.035034</td>\n",
       "      <td>17.749400</td>\n",
       "      <td>56.521855</td>\n",
       "      <td>0.002999</td>\n",
       "      <td>0.160787</td>\n",
       "      <td>0.148806</td>\n",
       "      <td>1.192712</td>\n",
       "      <td>0.873255</td>\n",
       "    </tr>\n",
       "    <tr>\n",
       "      <th>min</th>\n",
       "      <td>3.800000</td>\n",
       "      <td>0.080000</td>\n",
       "      <td>0.000000</td>\n",
       "      <td>0.600000</td>\n",
       "      <td>0.009000</td>\n",
       "      <td>1.000000</td>\n",
       "      <td>6.000000</td>\n",
       "      <td>0.987110</td>\n",
       "      <td>2.720000</td>\n",
       "      <td>0.220000</td>\n",
       "      <td>8.000000</td>\n",
       "      <td>3.000000</td>\n",
       "    </tr>\n",
       "    <tr>\n",
       "      <th>25%</th>\n",
       "      <td>6.400000</td>\n",
       "      <td>0.230000</td>\n",
       "      <td>0.250000</td>\n",
       "      <td>1.800000</td>\n",
       "      <td>0.038000</td>\n",
       "      <td>17.000000</td>\n",
       "      <td>77.000000</td>\n",
       "      <td>0.992340</td>\n",
       "      <td>3.110000</td>\n",
       "      <td>0.430000</td>\n",
       "      <td>9.500000</td>\n",
       "      <td>5.000000</td>\n",
       "    </tr>\n",
       "    <tr>\n",
       "      <th>50%</th>\n",
       "      <td>7.000000</td>\n",
       "      <td>0.290000</td>\n",
       "      <td>0.310000</td>\n",
       "      <td>3.000000</td>\n",
       "      <td>0.047000</td>\n",
       "      <td>29.000000</td>\n",
       "      <td>118.000000</td>\n",
       "      <td>0.994890</td>\n",
       "      <td>3.210000</td>\n",
       "      <td>0.510000</td>\n",
       "      <td>10.300000</td>\n",
       "      <td>6.000000</td>\n",
       "    </tr>\n",
       "    <tr>\n",
       "      <th>75%</th>\n",
       "      <td>7.700000</td>\n",
       "      <td>0.400000</td>\n",
       "      <td>0.390000</td>\n",
       "      <td>8.100000</td>\n",
       "      <td>0.065000</td>\n",
       "      <td>41.000000</td>\n",
       "      <td>156.000000</td>\n",
       "      <td>0.996990</td>\n",
       "      <td>3.320000</td>\n",
       "      <td>0.600000</td>\n",
       "      <td>11.300000</td>\n",
       "      <td>6.000000</td>\n",
       "    </tr>\n",
       "    <tr>\n",
       "      <th>max</th>\n",
       "      <td>15.900000</td>\n",
       "      <td>1.580000</td>\n",
       "      <td>1.660000</td>\n",
       "      <td>65.800000</td>\n",
       "      <td>0.611000</td>\n",
       "      <td>289.000000</td>\n",
       "      <td>440.000000</td>\n",
       "      <td>1.038980</td>\n",
       "      <td>4.010000</td>\n",
       "      <td>2.000000</td>\n",
       "      <td>14.900000</td>\n",
       "      <td>9.000000</td>\n",
       "    </tr>\n",
       "  </tbody>\n",
       "</table>\n",
       "</div>"
      ],
      "text/plain": [
       "       fixed acidity  volatile acidity  citric acid  residual sugar  \\\n",
       "count    6497.000000       6497.000000  6497.000000     6497.000000   \n",
       "mean        7.215307          0.339666     0.318633        5.443235   \n",
       "std         1.296434          0.164636     0.145318        4.757804   \n",
       "min         3.800000          0.080000     0.000000        0.600000   \n",
       "25%         6.400000          0.230000     0.250000        1.800000   \n",
       "50%         7.000000          0.290000     0.310000        3.000000   \n",
       "75%         7.700000          0.400000     0.390000        8.100000   \n",
       "max        15.900000          1.580000     1.660000       65.800000   \n",
       "\n",
       "         chlorides  free sulfur dioxide  total sulfur dioxide      density  \\\n",
       "count  6497.000000          6497.000000           6497.000000  6497.000000   \n",
       "mean      0.056034            30.525319            115.744574     0.994697   \n",
       "std       0.035034            17.749400             56.521855     0.002999   \n",
       "min       0.009000             1.000000              6.000000     0.987110   \n",
       "25%       0.038000            17.000000             77.000000     0.992340   \n",
       "50%       0.047000            29.000000            118.000000     0.994890   \n",
       "75%       0.065000            41.000000            156.000000     0.996990   \n",
       "max       0.611000           289.000000            440.000000     1.038980   \n",
       "\n",
       "                pH    sulphates      alcohol      quality  \n",
       "count  6497.000000  6497.000000  6497.000000  6497.000000  \n",
       "mean      3.218501     0.531268    10.491801     5.818378  \n",
       "std       0.160787     0.148806     1.192712     0.873255  \n",
       "min       2.720000     0.220000     8.000000     3.000000  \n",
       "25%       3.110000     0.430000     9.500000     5.000000  \n",
       "50%       3.210000     0.510000    10.300000     6.000000  \n",
       "75%       3.320000     0.600000    11.300000     6.000000  \n",
       "max       4.010000     2.000000    14.900000     9.000000  "
      ]
     },
     "metadata": {},
     "output_type": "display_data"
    }
   ],
   "source": [
    "print(\"\\nEstadísticas Descriptivas:\")\n",
    "display(df.describe())"
   ]
  },
  {
   "cell_type": "code",
   "execution_count": 22,
   "metadata": {
    "colab": {
     "base_uri": "https://localhost:8080/"
    },
    "executionInfo": {
     "elapsed": 8,
     "status": "ok",
     "timestamp": 1758848747402,
     "user": {
      "displayName": "Ian Yané",
      "userId": "09070912689777423281"
     },
     "user_tz": 180
    },
    "id": "Uy3uKdGHd8iE",
    "outputId": "007899e9-0a3c-417c-a861-f4c9bb0c8d11"
   },
   "outputs": [
    {
     "data": {
      "text/plain": [
       "(4898, 13)"
      ]
     },
     "execution_count": 22,
     "metadata": {},
     "output_type": "execute_result"
    }
   ],
   "source": [
    "df_white.shape"
   ]
  },
  {
   "cell_type": "code",
   "execution_count": 23,
   "metadata": {
    "colab": {
     "base_uri": "https://localhost:8080/"
    },
    "executionInfo": {
     "elapsed": 9,
     "status": "ok",
     "timestamp": 1758848747412,
     "user": {
      "displayName": "Ian Yané",
      "userId": "09070912689777423281"
     },
     "user_tz": 180
    },
    "id": "7zIGbIWzd-9a",
    "outputId": "03a383cf-ea89-4215-9b46-3ed788ea08d7"
   },
   "outputs": [
    {
     "data": {
      "text/plain": [
       "(1599, 13)"
      ]
     },
     "execution_count": 23,
     "metadata": {},
     "output_type": "execute_result"
    }
   ],
   "source": [
    "df_red.shape"
   ]
  },
  {
   "cell_type": "code",
   "execution_count": 24,
   "metadata": {
    "colab": {
     "base_uri": "https://localhost:8080/",
     "height": 565
    },
    "executionInfo": {
     "elapsed": 3,
     "status": "ok",
     "timestamp": 1758848747416,
     "user": {
      "displayName": "Ian Yané",
      "userId": "09070912689777423281"
     },
     "user_tz": 180
    },
    "id": "cOvSwzwu5u72",
    "outputId": "8488ac80-b127-4a95-f446-495521220ca5"
   },
   "outputs": [
    {
     "data": {
      "image/png": "[encoded data removed]",
      "text/plain": [
       "<Figure size 1000x600 with 1 Axes>"
      ]
     },
     "metadata": {},
     "output_type": "display_data"
    }
   ],
   "source": [
    "# Distribución de la variable 'quality' por tipo de vino\n",
    "plt.figure(figsize=(10, 6))\n",
    "sns.countplot(data=df, x='quality', hue='type', palette={'red': '#B22222', 'white': '#F5F5DC'})\n",
    "plt.title('Distribución de la Calidad del Vino por Tipo')\n",
    "plt.show()"
   ]
  },
  {
   "cell_type": "code",
   "execution_count": 25,
   "metadata": {
    "colab": {
     "base_uri": "https://localhost:8080/",
     "height": 969
    },
    "executionInfo": {
     "elapsed": 273,
     "status": "ok",
     "timestamp": 1758848747690,
     "user": {
      "displayName": "Ian Yané",
      "userId": "09070912689777423281"
     },
     "user_tz": 180
    },
    "id": "aBP6yzE-5xRM",
    "outputId": "40c58f71-2aa6-4f31-bc4c-b68aac83c268"
   },
   "outputs": [
    {
     "data": {
      "image/png": "[encoded data removed]",
      "text/plain": [
       "<Figure size 1200x1000 with 2 Axes>"
      ]
     },
     "metadata": {},
     "output_type": "display_data"
    }
   ],
   "source": [
    "# Matriz de correlación de las variables fisicoquímicas\n",
    "plt.figure(figsize=(12, 10))\n",
    "# Excluimos la columna 'type' porque no es numérica\n",
    "correlation_matrix = df.drop('type', axis=1).corr()\n",
    "mask = np.triu(correlation_matrix)\n",
    "sns.heatmap(correlation_matrix, annot=True, cmap='coolwarm', fmt=\".2f\", mask=mask)\n",
    "plt.title('Matriz de Correlación de las Features')\n",
    "plt.show()"
   ]
  },
  {
   "cell_type": "markdown",
   "metadata": {
    "id": "ZHkT3b_q5zJz"
   },
   "source": [
    "### **(A COMPLETAR) Análisis del EDA**\n",
    "*Observando las visualizaciones y estadísticas, respondan:*\n",
    "- a. ¿Existen valores nulos en el dataset?\n",
    "- b. ¿Qué variables parecen tener una mayor correlación (positiva o negativa) con la `quality`?\n",
    "- c. ¿La distribución de la calidad es similar para vinos tintos y blancos? ¿Qué pueden decir de la distribución general de la calidad?\n",
    "\n",
    "**Escriban sus respuestas aquí.**"
   ]
  },
  {
   "cell_type": "markdown",
   "metadata": {
    "id": "5hgTCcYlXM-j"
   },
   "source": [
    "a. ¿Existen valores nulos en el dataset?"
   ]
  },
  {
   "cell_type": "code",
   "execution_count": 26,
   "metadata": {
    "executionInfo": {
     "elapsed": 1,
     "status": "ok",
     "timestamp": 1758848747692,
     "user": {
      "displayName": "Ian Yané",
      "userId": "09070912689777423281"
     },
     "user_tz": 180
    },
    "id": "qYtf-Kvt51cy"
   },
   "outputs": [],
   "source": [
    "nulos_por_columna = df.isnull().sum()"
   ]
  },
  {
   "cell_type": "code",
   "execution_count": 27,
   "metadata": {
    "colab": {
     "base_uri": "https://localhost:8080/",
     "height": 969
    },
    "executionInfo": {
     "elapsed": 137,
     "status": "ok",
     "timestamp": 1758848747829,
     "user": {
      "displayName": "Ian Yané",
      "userId": "09070912689777423281"
     },
     "user_tz": 180
    },
    "id": "6V-PaOMpXegt",
    "outputId": "539b4642-2efa-4c32-a9fe-a39d90d8f5b8"
   },
   "outputs": [
    {
     "data": {
      "image/png": "[encoded data removed]",
      "text/plain": [
       "<Figure size 1000x1000 with 1 Axes>"
      ]
     },
     "metadata": {},
     "output_type": "display_data"
    }
   ],
   "source": [
    "figure = plt.figure(figsize=(10, 10))\n",
    "ax = plt.axes()\n",
    "plt.title('Nulos por columna')\n",
    "sns.barplot(nulos_por_columna)\n",
    "plt.xticks(rotation=90)\n",
    "plt.show()"
   ]
  },
  {
   "cell_type": "markdown",
   "metadata": {
    "id": "Gv1dgCaymXoX"
   },
   "source": [
    "<font color='green'>Respuesta: </font> En este conjunto de datos no hay precesencia de valores nulos explicitos en ninguna de las columnas."
   ]
  },
  {
   "cell_type": "markdown",
   "metadata": {
    "id": "GHvb48RcYdU7"
   },
   "source": [
    "b. ¿Qué variables parecen tener una mayor correlación (positiva o negativa) con la quality?"
   ]
  },
  {
   "cell_type": "code",
   "execution_count": 28,
   "metadata": {
    "executionInfo": {
     "elapsed": 0,
     "status": "ok",
     "timestamp": 1758848747830,
     "user": {
      "displayName": "Ian Yané",
      "userId": "09070912689777423281"
     },
     "user_tz": 180
    },
    "id": "0M-KUTEFqdo0"
   },
   "outputs": [],
   "source": [
    "corr_matrix = df.corr(numeric_only=True)\n",
    "corr_con_quality = corr_matrix['quality'].copy()\n",
    "corr_con_quality = corr_con_quality.drop(index=['quality'])\n",
    "corr_con_quality.sort_values(ascending=True, inplace=True, key=abs)"
   ]
  },
  {
   "cell_type": "code",
   "execution_count": 29,
   "metadata": {
    "colab": {
     "base_uri": "https://localhost:8080/",
     "height": 873
    },
    "executionInfo": {
     "elapsed": 199,
     "status": "ok",
     "timestamp": 1758848748030,
     "user": {
      "displayName": "Ian Yané",
      "userId": "09070912689777423281"
     },
     "user_tz": 180
    },
    "id": "8aoNWhewYe6i",
    "outputId": "782881b1-8761-43de-c046-972d9d185de3"
   },
   "outputs": [
    {
     "data": {
      "image/png": "[encoded data removed]",
      "text/plain": [
       "<Figure size 1000x1000 with 2 Axes>"
      ]
     },
     "metadata": {},
     "output_type": "display_data"
    }
   ],
   "source": [
    "figure = plt.figure(figsize=(10, 10))\n",
    "ax = plt.axes()\n",
    "\n",
    "plt.title('Matriz de correlación con quality')\n",
    "sns.heatmap(corr_con_quality.to_frame(), cmap='coolwarm', annot=True)\n",
    "plt.xlabel('Columna quality')\n",
    "plt.ylabel('Correlación con otras columnas')\n",
    "plt.show()"
   ]
  },
  {
   "cell_type": "markdown",
   "metadata": {
    "id": "iSJd89j0oUoG"
   },
   "source": [
    "<font color='green'>Respuesta:</font>\n",
    "\n",
    "Las tres variables que presentan mayor correlación lineal con la variable quality son:\n",
    "1.\talcohol con una correlación positiva de 0.44,\n",
    "2.\tdensity con una correlación negativa de -0.31, y\n",
    "3.\tvolatile acidity con una correlación negativa de -0.27.\n",
    "\n",
    "Esto sugiere que a medida que aumenta el contenido de alcohol, la calidad del vino tiende a incrementarse, mientras que mayor densidad o acidez volátil se asocian con una menor calidad percibida. En conjunto, estas variables parecen aportar variabilidad relevante para explicar las diferencias en la puntuación de calidad."
   ]
  },
  {
   "cell_type": "markdown",
   "metadata": {
    "id": "DVmEkAdEZQSD"
   },
   "source": [
    "c. ¿La distribución de la calidad es similar para vinos tintos y blancos? ¿Qué pueden decir de la distribución general de la calidad?"
   ]
  },
  {
   "cell_type": "code",
   "execution_count": 30,
   "metadata": {
    "executionInfo": {
     "elapsed": 1,
     "status": "ok",
     "timestamp": 1758848748031,
     "user": {
      "displayName": "Ian Yané",
      "userId": "09070912689777423281"
     },
     "user_tz": 180
    },
    "id": "zOVKA7FJr-l-"
   },
   "outputs": [],
   "source": [
    "frecuencia_vinos = df['type'].value_counts(normalize=True)\n",
    "frecuencia_vinos = frecuencia_vinos.round(2)"
   ]
  },
  {
   "cell_type": "code",
   "execution_count": 31,
   "metadata": {
    "colab": {
     "base_uri": "https://localhost:8080/",
     "height": 807
    },
    "executionInfo": {
     "elapsed": 74,
     "status": "ok",
     "timestamp": 1758848748106,
     "user": {
      "displayName": "Ian Yané",
      "userId": "09070912689777423281"
     },
     "user_tz": 180
    },
    "id": "aruVVFbjskoF",
    "outputId": "244d9707-8eee-4e61-9167-e6a3585f9bc4"
   },
   "outputs": [
    {
     "data": {
      "image/png": "[encoded data removed]",
      "text/plain": [
       "<Figure size 1000x1000 with 1 Axes>"
      ]
     },
     "metadata": {},
     "output_type": "display_data"
    }
   ],
   "source": [
    "fig = plt.figure(figsize=(10, 10))\n",
    "ax = plt.axes()\n",
    "\n",
    "plt.pie(frecuencia_vinos, labels= frecuencia_vinos.index, autopct=\"%1.1f%%\")\n",
    "plt.legend()\n",
    "plt.show()"
   ]
  },
  {
   "cell_type": "markdown",
   "metadata": {
    "id": "eIzcXW52rciK"
   },
   "source": [
    "<font color='green'>Respuesta:</font> \n",
    "\n",
    "La distribución general de los vinos muestra una mayor proporción de vinos de tipo white, con una frecuencia relativa cercana al 75%, mientras que los vinos de tipo red representan el 25% restante.\n",
    "\n",
    "En cuanto a la variable quality, la distribución de puntuaciones es en general similar entre ambos tipos de vino, con excepción de la puntuación 6, donde se observa una menor frecuencia en los vinos red y una mayor en los vinos white (en comparación con la puntuación 5).\n",
    "\n",
    "Esto sugiere que la variable quality no aporta una diferenciación significativa entre los tipos de vino, sino que las diferencias observadas se deben principalmente a la disparidad en el número de registros por clase y no a una relación estructural entre tipo de vino y calidad."
   ]
  },
  {
   "cell_type": "markdown",
   "metadata": {
    "id": "-EHZof_P1rID"
   },
   "source": [
    "<a name=\"clasificacion\"></a>\n",
    "## 4. Tarea 1: Clasificación (Predecir Tipo de Vino)\n",
    "El objetivo aquí es construir un modelo que pueda identificar si un vino es tinto o blanco basándose en sus características fisicoquímicas."
   ]
  },
  {
   "cell_type": "code",
   "execution_count": 32,
   "metadata": {
    "executionInfo": {
     "elapsed": 10,
     "status": "ok",
     "timestamp": 1758849092301,
     "user": {
      "displayName": "Ian Yané",
      "userId": "09070912689777423281"
     },
     "user_tz": 180
    },
    "id": "IPy2Gy29E82y"
   },
   "outputs": [],
   "source": [
    "models = ['LogisticRegression', 'DecisionTreeClassifier', 'DecisionTreeClassifierOpt', 'RandomForestClassifier', 'RandomForestClassifierOpt', 'XGBClassifier', 'XGBClassifierOpt']"
   ]
  },
  {
   "cell_type": "code",
   "execution_count": 33,
   "metadata": {
    "executionInfo": {
     "elapsed": 8,
     "status": "ok",
     "timestamp": 1758849092985,
     "user": {
      "displayName": "Ian Yané",
      "userId": "09070912689777423281"
     },
     "user_tz": 180
    },
    "id": "pnpYWpX-FQNP"
   },
   "outputs": [],
   "source": [
    "columnas_rendimiento = ['train_time (s)', 'f1_weighted', 'accuracy']"
   ]
  },
  {
   "cell_type": "code",
   "execution_count": 34,
   "metadata": {
    "colab": {
     "base_uri": "https://localhost:8080/",
     "height": 268
    },
    "executionInfo": {
     "elapsed": 10,
     "status": "ok",
     "timestamp": 1758849094823,
     "user": {
      "displayName": "Ian Yané",
      "userId": "09070912689777423281"
     },
     "user_tz": 180
    },
    "id": "JHwq7olEFyfU",
    "outputId": "4bb13b0b-fefb-4c72-d96d-d3d1ce5d4f4d"
   },
   "outputs": [
    {
     "data": {
      "text/html": [
       "<div>\n",
       "<style scoped>\n",
       "    .dataframe tbody tr th:only-of-type {\n",
       "        vertical-align: middle;\n",
       "    }\n",
       "\n",
       "    .dataframe tbody tr th {\n",
       "        vertical-align: top;\n",
       "    }\n",
       "\n",
       "    .dataframe thead th {\n",
       "        text-align: right;\n",
       "    }\n",
       "</style>\n",
       "<table border=\"1\" class=\"dataframe\">\n",
       "  <thead>\n",
       "    <tr style=\"text-align: right;\">\n",
       "      <th></th>\n",
       "      <th>train_time (s)</th>\n",
       "      <th>f1_weighted</th>\n",
       "      <th>accuracy</th>\n",
       "    </tr>\n",
       "  </thead>\n",
       "  <tbody>\n",
       "    <tr>\n",
       "      <th>LogisticRegression</th>\n",
       "      <td>NaN</td>\n",
       "      <td>NaN</td>\n",
       "      <td>NaN</td>\n",
       "    </tr>\n",
       "    <tr>\n",
       "      <th>DecisionTreeClassifier</th>\n",
       "      <td>NaN</td>\n",
       "      <td>NaN</td>\n",
       "      <td>NaN</td>\n",
       "    </tr>\n",
       "    <tr>\n",
       "      <th>DecisionTreeClassifierOpt</th>\n",
       "      <td>NaN</td>\n",
       "      <td>NaN</td>\n",
       "      <td>NaN</td>\n",
       "    </tr>\n",
       "    <tr>\n",
       "      <th>RandomForestClassifier</th>\n",
       "      <td>NaN</td>\n",
       "      <td>NaN</td>\n",
       "      <td>NaN</td>\n",
       "    </tr>\n",
       "    <tr>\n",
       "      <th>RandomForestClassifierOpt</th>\n",
       "      <td>NaN</td>\n",
       "      <td>NaN</td>\n",
       "      <td>NaN</td>\n",
       "    </tr>\n",
       "    <tr>\n",
       "      <th>XGBClassifier</th>\n",
       "      <td>NaN</td>\n",
       "      <td>NaN</td>\n",
       "      <td>NaN</td>\n",
       "    </tr>\n",
       "    <tr>\n",
       "      <th>XGBClassifierOpt</th>\n",
       "      <td>NaN</td>\n",
       "      <td>NaN</td>\n",
       "      <td>NaN</td>\n",
       "    </tr>\n",
       "  </tbody>\n",
       "</table>\n",
       "</div>"
      ],
      "text/plain": [
       "                          train_time (s) f1_weighted accuracy\n",
       "LogisticRegression                   NaN         NaN      NaN\n",
       "DecisionTreeClassifier               NaN         NaN      NaN\n",
       "DecisionTreeClassifierOpt            NaN         NaN      NaN\n",
       "RandomForestClassifier               NaN         NaN      NaN\n",
       "RandomForestClassifierOpt            NaN         NaN      NaN\n",
       "XGBClassifier                        NaN         NaN      NaN\n",
       "XGBClassifierOpt                     NaN         NaN      NaN"
      ]
     },
     "execution_count": 34,
     "metadata": {},
     "output_type": "execute_result"
    }
   ],
   "source": [
    "type_modelos_clasificación_rendimiento = pd.DataFrame(\n",
    "    columns=columnas_rendimiento,\n",
    "    index=models\n",
    ")\n",
    "\n",
    "type_modelos_clasificación_rendimiento"
   ]
  },
  {
   "cell_type": "markdown",
   "metadata": {
    "id": "w79oR_s-563J"
   },
   "source": [
    "<a name=\"prep_clasificacion\"></a>\n",
    "### 4.1. Preparación de Datos para Clasificación\n",
    "Definiremos nuestras variables `X` (features) e `y` (target), y luego dividiremos los datos y los escalaremos."
   ]
  },
  {
   "cell_type": "code",
   "execution_count": 35,
   "metadata": {
    "executionInfo": {
     "elapsed": 0,
     "status": "ok",
     "timestamp": 1758848748145,
     "user": {
      "displayName": "Ian Yané",
      "userId": "09070912689777423281"
     },
     "user_tz": 180
    },
    "id": "BwsqW0N_wq3q"
   },
   "outputs": [],
   "source": [
    "# Definición de Features (X) y Target (y)\n",
    "X_clf = df.drop('type', axis=1)\n",
    "y_clf = df['type']"
   ]
  },
  {
   "cell_type": "code",
   "execution_count": 36,
   "metadata": {
    "executionInfo": {
     "elapsed": 1,
     "status": "ok",
     "timestamp": 1758848748147,
     "user": {
      "displayName": "Ian Yané",
      "userId": "09070912689777423281"
     },
     "user_tz": 180
    },
    "id": "6e15x8WuwsHj"
   },
   "outputs": [],
   "source": [
    "# División en Train y Test (estratificada para mantener la proporción de clases)\n",
    "X_train_clf, X_test_clf, y_train_clf, y_test_clf = train_test_split(\n",
    "    X_clf, y_clf, test_size=0.25, random_state=42, stratify=y_clf\n",
    ")"
   ]
  },
  {
   "cell_type": "code",
   "execution_count": 37,
   "metadata": {
    "executionInfo": {
     "elapsed": 50,
     "status": "ok",
     "timestamp": 1758848748197,
     "user": {
      "displayName": "Ian Yané",
      "userId": "09070912689777423281"
     },
     "user_tz": 180
    },
    "id": "tLbZY6D5wtZ7"
   },
   "outputs": [],
   "source": [
    "# Escalar las features es crucial para muchos modelos\n",
    "scaler_clf = StandardScaler()\n",
    "\n",
    "X_train_clf_scaled = scaler_clf.fit_transform(X_train_clf)\n",
    "X_test_clf_scaled = scaler_clf.transform(X_test_clf)"
   ]
  },
  {
   "cell_type": "code",
   "execution_count": 38,
   "metadata": {
    "colab": {
     "base_uri": "https://localhost:8080/"
    },
    "executionInfo": {
     "elapsed": 16,
     "status": "ok",
     "timestamp": 1758848748198,
     "user": {
      "displayName": "Ian Yané",
      "userId": "09070912689777423281"
     },
     "user_tz": 180
    },
    "id": "UahCTAHmwxgT",
    "outputId": "1559a48e-84c0-48d6-a673-14edd7745c10"
   },
   "outputs": [
    {
     "name": "stdout",
     "output_type": "stream",
     "text": [
      "Forma de X_train escalado: (4872, 12)\n",
      "Forma de X_test escalado: (1625, 12)\n"
     ]
    }
   ],
   "source": [
    "print(\"Forma de X_train escalado:\", X_train_clf_scaled.shape)\n",
    "print(\"Forma de X_test escalado:\", X_test_clf_scaled.shape)"
   ]
  },
  {
   "cell_type": "markdown",
   "metadata": {
    "id": "qWUF22-J59id"
   },
   "source": [
    "<a name=\"modelos_base_clasificacion\"></a>\n",
    "### 4.2. Modelos Base de Clasificación\n",
    "Comenzamos con modelos simples para tener una línea de base (baseline) de rendimiento."
   ]
  },
  {
   "cell_type": "markdown",
   "metadata": {
    "id": "2xfLoeX9w8RC"
   },
   "source": [
    "Modelo base 1: Regresión Logística"
   ]
  },
  {
   "cell_type": "code",
   "execution_count": 39,
   "metadata": {
    "executionInfo": {
     "elapsed": 3,
     "status": "ok",
     "timestamp": 1758848748198,
     "user": {
      "displayName": "Ian Yané",
      "userId": "09070912689777423281"
     },
     "user_tz": 180
    },
    "id": "B0EAB6DWw3JY"
   },
   "outputs": [],
   "source": [
    "log_reg_classification_type = LogisticRegression(random_state=42, max_iter=1000)"
   ]
  },
  {
   "cell_type": "code",
   "execution_count": 40,
   "metadata": {
    "executionInfo": {
     "elapsed": 2,
     "status": "ok",
     "timestamp": 1758848748198,
     "user": {
      "displayName": "Ian Yané",
      "userId": "09070912689777423281"
     },
     "user_tz": 180
    },
    "id": "YFRByIfLw4h3"
   },
   "outputs": [],
   "source": [
    "log_reg_classification_type_init_train_time = time()\n",
    "log_reg_classification_type.fit(X_train_clf_scaled, y_train_clf)\n",
    "log_reg_classification_type_finish_train_time = time()\n",
    "log_reg_classification_type_train_time = log_reg_classification_type_finish_train_time - log_reg_classification_type_init_train_time"
   ]
  },
  {
   "cell_type": "code",
   "execution_count": 41,
   "metadata": {
    "executionInfo": {
     "elapsed": 2,
     "status": "ok",
     "timestamp": 1758848748199,
     "user": {
      "displayName": "Ian Yané",
      "userId": "09070912689777423281"
     },
     "user_tz": 180
    },
    "id": "LssriaGTw5XR"
   },
   "outputs": [],
   "source": [
    "log_reg_classification_type_train_preds = log_reg_classification_type.predict(X_train_clf_scaled)\n",
    "log_reg_classification_type_test_preds = log_reg_classification_type.predict(X_test_clf_scaled)"
   ]
  },
  {
   "cell_type": "code",
   "execution_count": 42,
   "metadata": {
    "colab": {
     "base_uri": "https://localhost:8080/"
    },
    "executionInfo": {
     "elapsed": 48,
     "status": "ok",
     "timestamp": 1758848748273,
     "user": {
      "displayName": "Ian Yané",
      "userId": "09070912689777423281"
     },
     "user_tz": 180
    },
    "id": "S5Hvt92jY_Hk",
    "outputId": "8289cfc6-8015-4daa-ce71-405e8a270710"
   },
   "outputs": [
    {
     "name": "stdout",
     "output_type": "stream",
     "text": [
      "\n",
      "=== LogisticRegression ===\n",
      "Accuracy score: 0.9914\n",
      "F1-score (weighted): 0.9914\n",
      "\n",
      "---- Reporte de entrenamiento ----\n",
      "              precision    recall  f1-score   support\n",
      "\n",
      "         red       0.99      0.98      0.99      1199\n",
      "       white       0.99      1.00      1.00      3673\n",
      "\n",
      "    accuracy                           0.99      4872\n",
      "   macro avg       0.99      0.99      0.99      4872\n",
      "weighted avg       0.99      0.99      0.99      4872\n",
      "\n",
      "---- Reporte de prueba ----\n",
      "              precision    recall  f1-score   support\n",
      "\n",
      "         red       0.98      0.98      0.98       400\n",
      "       white       0.99      0.99      0.99      1225\n",
      "\n",
      "    accuracy                           0.99      1625\n",
      "   macro avg       0.99      0.99      0.99      1625\n",
      "weighted avg       0.99      0.99      0.99      1625\n",
      "\n",
      "-------------------------\n",
      "\n"
     ]
    },
    {
     "data": {
      "text/html": [
       "<div>\n",
       "<style scoped>\n",
       "    .dataframe tbody tr th:only-of-type {\n",
       "        vertical-align: middle;\n",
       "    }\n",
       "\n",
       "    .dataframe tbody tr th {\n",
       "        vertical-align: top;\n",
       "    }\n",
       "\n",
       "    .dataframe thead th {\n",
       "        text-align: right;\n",
       "    }\n",
       "</style>\n",
       "<table border=\"1\" class=\"dataframe\">\n",
       "  <thead>\n",
       "    <tr style=\"text-align: right;\">\n",
       "      <th></th>\n",
       "      <th>train_time (s)</th>\n",
       "      <th>f1_weighted</th>\n",
       "      <th>accuracy</th>\n",
       "    </tr>\n",
       "  </thead>\n",
       "  <tbody>\n",
       "    <tr>\n",
       "      <th>LogisticRegression</th>\n",
       "      <td>0.037896</td>\n",
       "      <td>0.991385</td>\n",
       "      <td>0.991385</td>\n",
       "    </tr>\n",
       "    <tr>\n",
       "      <th>DecisionTreeClassifier</th>\n",
       "      <td>NaN</td>\n",
       "      <td>NaN</td>\n",
       "      <td>NaN</td>\n",
       "    </tr>\n",
       "    <tr>\n",
       "      <th>DecisionTreeClassifierOpt</th>\n",
       "      <td>NaN</td>\n",
       "      <td>NaN</td>\n",
       "      <td>NaN</td>\n",
       "    </tr>\n",
       "    <tr>\n",
       "      <th>RandomForestClassifier</th>\n",
       "      <td>NaN</td>\n",
       "      <td>NaN</td>\n",
       "      <td>NaN</td>\n",
       "    </tr>\n",
       "    <tr>\n",
       "      <th>RandomForestClassifierOpt</th>\n",
       "      <td>NaN</td>\n",
       "      <td>NaN</td>\n",
       "      <td>NaN</td>\n",
       "    </tr>\n",
       "    <tr>\n",
       "      <th>XGBClassifier</th>\n",
       "      <td>NaN</td>\n",
       "      <td>NaN</td>\n",
       "      <td>NaN</td>\n",
       "    </tr>\n",
       "    <tr>\n",
       "      <th>XGBClassifierOpt</th>\n",
       "      <td>NaN</td>\n",
       "      <td>NaN</td>\n",
       "      <td>NaN</td>\n",
       "    </tr>\n",
       "  </tbody>\n",
       "</table>\n",
       "</div>"
      ],
      "text/plain": [
       "                          train_time (s) f1_weighted  accuracy\n",
       "LogisticRegression              0.037896    0.991385  0.991385\n",
       "DecisionTreeClassifier               NaN         NaN       NaN\n",
       "DecisionTreeClassifierOpt            NaN         NaN       NaN\n",
       "RandomForestClassifier               NaN         NaN       NaN\n",
       "RandomForestClassifierOpt            NaN         NaN       NaN\n",
       "XGBClassifier                        NaN         NaN       NaN\n",
       "XGBClassifierOpt                     NaN         NaN       NaN"
      ]
     },
     "execution_count": 42,
     "metadata": {},
     "output_type": "execute_result"
    }
   ],
   "source": [
    "evaluar_modelo(\n",
    "    nombre_modelo='LogisticRegression',\n",
    "    tipo_modelo='c',\n",
    "    y_train_true=y_train_clf,\n",
    "    y_train_pred=log_reg_classification_type_train_preds,\n",
    "    y_test_true=y_test_clf,\n",
    "    y_test_pred=log_reg_classification_type_test_preds,\n",
    "    df_resultados=type_modelos_clasificación_rendimiento,\n",
    "    train_time=log_reg_classification_type_train_time\n",
    ")"
   ]
  },
  {
   "cell_type": "markdown",
   "metadata": {
    "id": "fVMxo8iVxAV9"
   },
   "source": [
    "Modelo base 2: Árbol de Decisión"
   ]
  },
  {
   "cell_type": "code",
   "execution_count": 43,
   "metadata": {
    "executionInfo": {
     "elapsed": 2,
     "status": "ok",
     "timestamp": 1758848748274,
     "user": {
      "displayName": "Ian Yané",
      "userId": "09070912689777423281"
     },
     "user_tz": 180
    },
    "id": "27Tu5Pl7xEXK"
   },
   "outputs": [],
   "source": [
    "type_dt_clf = DecisionTreeClassifier(random_state=42)"
   ]
  },
  {
   "cell_type": "code",
   "execution_count": 44,
   "metadata": {
    "colab": {
     "base_uri": "https://localhost:8080/"
    },
    "executionInfo": {
     "elapsed": 33,
     "status": "ok",
     "timestamp": 1758848748307,
     "user": {
      "displayName": "Ian Yané",
      "userId": "09070912689777423281"
     },
     "user_tz": 180
    },
    "id": "47sV95F7xFCN",
    "outputId": "67634e02-afb0-4598-978d-3bb33bb224e8"
   },
   "outputs": [],
   "source": [
    "type_dt_clf_init_train_time = time()\n",
    "\n",
    "type_dt_clf.fit(X_train_clf_scaled, y_train_clf)\n",
    "\n",
    "type_dt_clf_finish_time = time()\n",
    "type_dt_clf_train_time = type_dt_clf_finish_time - type_dt_clf_init_train_time"
   ]
  },
  {
   "cell_type": "code",
   "execution_count": 45,
   "metadata": {
    "executionInfo": {
     "elapsed": 1,
     "status": "ok",
     "timestamp": 1758848748308,
     "user": {
      "displayName": "Ian Yané",
      "userId": "09070912689777423281"
     },
     "user_tz": 180
    },
    "id": "qHjDRzHsxFwd"
   },
   "outputs": [],
   "source": [
    "type_dt_clf_type_test_preds = type_dt_clf.predict(X_test_clf_scaled)\n",
    "type_dt_clf_type_train_preds = type_dt_clf.predict(X_train_clf_scaled)"
   ]
  },
  {
   "cell_type": "code",
   "execution_count": 46,
   "metadata": {
    "colab": {
     "base_uri": "https://localhost:8080/"
    },
    "executionInfo": {
     "elapsed": 53,
     "status": "ok",
     "timestamp": 1758848748369,
     "user": {
      "displayName": "Ian Yané",
      "userId": "09070912689777423281"
     },
     "user_tz": 180
    },
    "id": "RDupGJUgxGgP",
    "outputId": "ca58f530-43e4-4687-d487-6f11bdd3172f"
   },
   "outputs": [
    {
     "name": "stdout",
     "output_type": "stream",
     "text": [
      "\n",
      "=== DecisionTreeClassifier ===\n",
      "Accuracy score: 0.9852\n",
      "F1-score (weighted): 0.9853\n",
      "\n",
      "---- Reporte de entrenamiento ----\n",
      "              precision    recall  f1-score   support\n",
      "\n",
      "         red       1.00      1.00      1.00      1199\n",
      "       white       1.00      1.00      1.00      3673\n",
      "\n",
      "    accuracy                           1.00      4872\n",
      "   macro avg       1.00      1.00      1.00      4872\n",
      "weighted avg       1.00      1.00      1.00      4872\n",
      "\n",
      "---- Reporte de prueba ----\n",
      "              precision    recall  f1-score   support\n",
      "\n",
      "         red       0.96      0.98      0.97       400\n",
      "       white       1.00      0.99      0.99      1225\n",
      "\n",
      "    accuracy                           0.99      1625\n",
      "   macro avg       0.98      0.99      0.98      1625\n",
      "weighted avg       0.99      0.99      0.99      1625\n",
      "\n",
      "-------------------------\n",
      "\n"
     ]
    },
    {
     "data": {
      "text/html": [
       "<div>\n",
       "<style scoped>\n",
       "    .dataframe tbody tr th:only-of-type {\n",
       "        vertical-align: middle;\n",
       "    }\n",
       "\n",
       "    .dataframe tbody tr th {\n",
       "        vertical-align: top;\n",
       "    }\n",
       "\n",
       "    .dataframe thead th {\n",
       "        text-align: right;\n",
       "    }\n",
       "</style>\n",
       "<table border=\"1\" class=\"dataframe\">\n",
       "  <thead>\n",
       "    <tr style=\"text-align: right;\">\n",
       "      <th></th>\n",
       "      <th>train_time (s)</th>\n",
       "      <th>f1_weighted</th>\n",
       "      <th>accuracy</th>\n",
       "    </tr>\n",
       "  </thead>\n",
       "  <tbody>\n",
       "    <tr>\n",
       "      <th>LogisticRegression</th>\n",
       "      <td>0.037896</td>\n",
       "      <td>0.991385</td>\n",
       "      <td>0.991385</td>\n",
       "    </tr>\n",
       "    <tr>\n",
       "      <th>DecisionTreeClassifier</th>\n",
       "      <td>0.031052</td>\n",
       "      <td>0.985304</td>\n",
       "      <td>0.985231</td>\n",
       "    </tr>\n",
       "    <tr>\n",
       "      <th>DecisionTreeClassifierOpt</th>\n",
       "      <td>NaN</td>\n",
       "      <td>NaN</td>\n",
       "      <td>NaN</td>\n",
       "    </tr>\n",
       "    <tr>\n",
       "      <th>RandomForestClassifier</th>\n",
       "      <td>NaN</td>\n",
       "      <td>NaN</td>\n",
       "      <td>NaN</td>\n",
       "    </tr>\n",
       "    <tr>\n",
       "      <th>RandomForestClassifierOpt</th>\n",
       "      <td>NaN</td>\n",
       "      <td>NaN</td>\n",
       "      <td>NaN</td>\n",
       "    </tr>\n",
       "    <tr>\n",
       "      <th>XGBClassifier</th>\n",
       "      <td>NaN</td>\n",
       "      <td>NaN</td>\n",
       "      <td>NaN</td>\n",
       "    </tr>\n",
       "    <tr>\n",
       "      <th>XGBClassifierOpt</th>\n",
       "      <td>NaN</td>\n",
       "      <td>NaN</td>\n",
       "      <td>NaN</td>\n",
       "    </tr>\n",
       "  </tbody>\n",
       "</table>\n",
       "</div>"
      ],
      "text/plain": [
       "                          train_time (s) f1_weighted  accuracy\n",
       "LogisticRegression              0.037896    0.991385  0.991385\n",
       "DecisionTreeClassifier          0.031052    0.985304  0.985231\n",
       "DecisionTreeClassifierOpt            NaN         NaN       NaN\n",
       "RandomForestClassifier               NaN         NaN       NaN\n",
       "RandomForestClassifierOpt            NaN         NaN       NaN\n",
       "XGBClassifier                        NaN         NaN       NaN\n",
       "XGBClassifierOpt                     NaN         NaN       NaN"
      ]
     },
     "execution_count": 46,
     "metadata": {},
     "output_type": "execute_result"
    }
   ],
   "source": [
    "evaluar_modelo(\n",
    "    nombre_modelo='DecisionTreeClassifier',\n",
    "    tipo_modelo='c',\n",
    "    y_train_true=y_train_clf,\n",
    "    y_train_pred=type_dt_clf_type_train_preds,\n",
    "    y_test_true=y_test_clf,\n",
    "    y_test_pred=type_dt_clf_type_test_preds,\n",
    "    df_resultados=type_modelos_clasificación_rendimiento,\n",
    "    train_time=type_dt_clf_train_time\n",
    ")"
   ]
  },
  {
   "cell_type": "markdown",
   "metadata": {
    "id": "1FD-RAO76DB-"
   },
   "source": [
    "<a name=\"completar_clasificacion\"></a>\n",
    "### 4.3. (A COMPLETAR) Modelos Avanzados y Optimización\n",
    "Ahora es su turno. Deben entrenar un `RandomForestClassifier` y un `XGBClassifier`. Para ambos, utilicen `GridSearchCV` para encontrar los mejores hiperparámetros. Pueden utilizar las plantillas de las clases pasadas."
   ]
  },
  {
   "cell_type": "code",
   "execution_count": 47,
   "metadata": {
    "executionInfo": {
     "elapsed": 0,
     "status": "ok",
     "timestamp": 1758848748370,
     "user": {
      "displayName": "Ian Yané",
      "userId": "09070912689777423281"
     },
     "user_tz": 180
    },
    "id": "w0rjKM2i6ERO"
   },
   "outputs": [],
   "source": [
    "from sklearn.ensemble import RandomForestClassifier\n",
    "from xgboost import XGBClassifier"
   ]
  },
  {
   "cell_type": "code",
   "execution_count": 48,
   "metadata": {
    "executionInfo": {
     "elapsed": 0,
     "status": "ok",
     "timestamp": 1758848748371,
     "user": {
      "displayName": "Ian Yané",
      "userId": "09070912689777423281"
     },
     "user_tz": 180
    },
    "id": "F4WbMSOpZ4Pe"
   },
   "outputs": [],
   "source": [
    "from sklearn.model_selection import GridSearchCV, RandomizedSearchCV"
   ]
  },
  {
   "cell_type": "code",
   "execution_count": 49,
   "metadata": {
    "executionInfo": {
     "elapsed": 1,
     "status": "ok",
     "timestamp": 1758848748372,
     "user": {
      "displayName": "Ian Yané",
      "userId": "09070912689777423281"
     },
     "user_tz": 180
    },
    "id": "ALHKN63Xd5cL"
   },
   "outputs": [],
   "source": [
    "from time import time"
   ]
  },
  {
   "cell_type": "markdown",
   "metadata": {
    "id": "Ib3mf0Kmc9Yr"
   },
   "source": [
    "#### RandomForestClassifier"
   ]
  },
  {
   "cell_type": "code",
   "execution_count": 50,
   "metadata": {
    "executionInfo": {
     "elapsed": 1,
     "status": "ok",
     "timestamp": 1758848748373,
     "user": {
      "displayName": "Ian Yané",
      "userId": "09070912689777423281"
     },
     "user_tz": 180
    },
    "id": "knGvZsAwkxO8"
   },
   "outputs": [],
   "source": [
    "type_rf_clf = RandomForestClassifier(random_state=42)"
   ]
  },
  {
   "cell_type": "code",
   "execution_count": 51,
   "metadata": {
    "colab": {
     "base_uri": "https://localhost:8080/"
    },
    "executionInfo": {
     "elapsed": 652,
     "status": "ok",
     "timestamp": 1758848749029,
     "user": {
      "displayName": "Ian Yané",
      "userId": "09070912689777423281"
     },
     "user_tz": 180
    },
    "id": "zweFIa2pkl5H",
    "outputId": "d6c70dfb-ef9e-426d-a26c-66ee580e07eb"
   },
   "outputs": [],
   "source": [
    "type_rf_clf_init_time = time()\n",
    "\n",
    "type_rf_clf.fit(X_train_clf_scaled, y_train_clf)\n",
    "\n",
    "type_rf_clf_finish_time  = time()\n",
    "type_rf_train_time = type_rf_clf_finish_time - type_rf_clf_init_time"
   ]
  },
  {
   "cell_type": "code",
   "execution_count": 52,
   "metadata": {
    "executionInfo": {
     "elapsed": 1,
     "status": "ok",
     "timestamp": 1758848749032,
     "user": {
      "displayName": "Ian Yané",
      "userId": "09070912689777423281"
     },
     "user_tz": 180
    },
    "id": "fu3mtgcckl5I"
   },
   "outputs": [],
   "source": [
    "type_rf_clf_train_pred = type_rf_clf.predict(X_train_clf_scaled)\n",
    "type_rf_clf_test_pred = type_rf_clf.predict(X_test_clf_scaled)"
   ]
  },
  {
   "cell_type": "code",
   "execution_count": 53,
   "metadata": {
    "colab": {
     "base_uri": "https://localhost:8080/"
    },
    "executionInfo": {
     "elapsed": 25,
     "status": "ok",
     "timestamp": 1758848749063,
     "user": {
      "displayName": "Ian Yané",
      "userId": "09070912689777423281"
     },
     "user_tz": 180
    },
    "id": "MNcmiLpQkl5I",
    "outputId": "29879fdb-9ca3-49c2-d2eb-8a0ce2d9d11a"
   },
   "outputs": [
    {
     "name": "stdout",
     "output_type": "stream",
     "text": [
      "\n",
      "=== RandomForestClassifier ===\n",
      "Accuracy score: 0.9951\n",
      "F1-score (weighted): 0.9951\n",
      "\n",
      "---- Reporte de entrenamiento ----\n",
      "              precision    recall  f1-score   support\n",
      "\n",
      "         red       1.00      1.00      1.00      1199\n",
      "       white       1.00      1.00      1.00      3673\n",
      "\n",
      "    accuracy                           1.00      4872\n",
      "   macro avg       1.00      1.00      1.00      4872\n",
      "weighted avg       1.00      1.00      1.00      4872\n",
      "\n",
      "---- Reporte de prueba ----\n",
      "              precision    recall  f1-score   support\n",
      "\n",
      "         red       0.99      0.99      0.99       400\n",
      "       white       1.00      1.00      1.00      1225\n",
      "\n",
      "    accuracy                           1.00      1625\n",
      "   macro avg       0.99      0.99      0.99      1625\n",
      "weighted avg       1.00      1.00      1.00      1625\n",
      "\n",
      "-------------------------\n",
      "\n"
     ]
    },
    {
     "data": {
      "text/html": [
       "<div>\n",
       "<style scoped>\n",
       "    .dataframe tbody tr th:only-of-type {\n",
       "        vertical-align: middle;\n",
       "    }\n",
       "\n",
       "    .dataframe tbody tr th {\n",
       "        vertical-align: top;\n",
       "    }\n",
       "\n",
       "    .dataframe thead th {\n",
       "        text-align: right;\n",
       "    }\n",
       "</style>\n",
       "<table border=\"1\" class=\"dataframe\">\n",
       "  <thead>\n",
       "    <tr style=\"text-align: right;\">\n",
       "      <th></th>\n",
       "      <th>train_time (s)</th>\n",
       "      <th>f1_weighted</th>\n",
       "      <th>accuracy</th>\n",
       "    </tr>\n",
       "  </thead>\n",
       "  <tbody>\n",
       "    <tr>\n",
       "      <th>LogisticRegression</th>\n",
       "      <td>0.037896</td>\n",
       "      <td>0.991385</td>\n",
       "      <td>0.991385</td>\n",
       "    </tr>\n",
       "    <tr>\n",
       "      <th>DecisionTreeClassifier</th>\n",
       "      <td>0.031052</td>\n",
       "      <td>0.985304</td>\n",
       "      <td>0.985231</td>\n",
       "    </tr>\n",
       "    <tr>\n",
       "      <th>DecisionTreeClassifierOpt</th>\n",
       "      <td>NaN</td>\n",
       "      <td>NaN</td>\n",
       "      <td>NaN</td>\n",
       "    </tr>\n",
       "    <tr>\n",
       "      <th>RandomForestClassifier</th>\n",
       "      <td>0.369008</td>\n",
       "      <td>0.995077</td>\n",
       "      <td>0.995077</td>\n",
       "    </tr>\n",
       "    <tr>\n",
       "      <th>RandomForestClassifierOpt</th>\n",
       "      <td>NaN</td>\n",
       "      <td>NaN</td>\n",
       "      <td>NaN</td>\n",
       "    </tr>\n",
       "    <tr>\n",
       "      <th>XGBClassifier</th>\n",
       "      <td>NaN</td>\n",
       "      <td>NaN</td>\n",
       "      <td>NaN</td>\n",
       "    </tr>\n",
       "    <tr>\n",
       "      <th>XGBClassifierOpt</th>\n",
       "      <td>NaN</td>\n",
       "      <td>NaN</td>\n",
       "      <td>NaN</td>\n",
       "    </tr>\n",
       "  </tbody>\n",
       "</table>\n",
       "</div>"
      ],
      "text/plain": [
       "                          train_time (s) f1_weighted  accuracy\n",
       "LogisticRegression              0.037896    0.991385  0.991385\n",
       "DecisionTreeClassifier          0.031052    0.985304  0.985231\n",
       "DecisionTreeClassifierOpt            NaN         NaN       NaN\n",
       "RandomForestClassifier          0.369008    0.995077  0.995077\n",
       "RandomForestClassifierOpt            NaN         NaN       NaN\n",
       "XGBClassifier                        NaN         NaN       NaN\n",
       "XGBClassifierOpt                     NaN         NaN       NaN"
      ]
     },
     "execution_count": 53,
     "metadata": {},
     "output_type": "execute_result"
    }
   ],
   "source": [
    "evaluar_modelo(\n",
    "    nombre_modelo='RandomForestClassifier',\n",
    "    tipo_modelo='c',\n",
    "    y_train_true=y_train_clf,\n",
    "    y_train_pred=type_rf_clf_train_pred,\n",
    "    y_test_true=y_test_clf,\n",
    "    y_test_pred=type_rf_clf_test_pred,\n",
    "    df_resultados=type_modelos_clasificación_rendimiento,\n",
    "    train_time=type_rf_train_time\n",
    ")"
   ]
  },
  {
   "cell_type": "markdown",
   "metadata": {
    "id": "PP55ljUOkdQr"
   },
   "source": [
    "#### RandomForestClassifier optimizado"
   ]
  },
  {
   "cell_type": "markdown",
   "metadata": {
    "id": "FzVCrt97h8Sz"
   },
   "source": [
    "1. Definiendo grilla de hiperparámetros para `RandomForestClassifier`"
   ]
  },
  {
   "cell_type": "code",
   "execution_count": 54,
   "metadata": {
    "executionInfo": {
     "elapsed": 1,
     "status": "ok",
     "timestamp": 1758848749064,
     "user": {
      "displayName": "Ian Yané",
      "userId": "09070912689777423281"
     },
     "user_tz": 180
    },
    "id": "Vtgt4UL5Z_wt"
   },
   "outputs": [],
   "source": [
    "rf_grid_param = {\n",
    "    # Número de árboles en el bosque\n",
    "    \"n_estimators\": [100, 300, 500, 1000],\n",
    "    # Profundidad máxima de los árboles\n",
    "    \"max_depth\": [None, 5, 10, 20, 50],\n",
    "    # Número mínimo de muestras para dividir un nodo\n",
    "    \"min_samples_split\": [2, 5, 10],\n",
    "    # Número mínimo de muestras en una hoja\n",
    "    \"min_samples_leaf\": [1, 2, 4, 10],\n",
    "    # Número de características a considerar en cada división\n",
    "    \"max_features\": [\"sqrt\", \"log2\", None],\n",
    "    # Criterio de calidad de la división\n",
    "    \"criterion\": [\"gini\", \"entropy\", \"log_loss\"]\n",
    "}"
   ]
  },
  {
   "cell_type": "markdown",
   "metadata": {
    "id": "uATX27xMiAj2"
   },
   "source": [
    "2. Instanciando `RandomSearchCV` con una instancia de `RandomForestClassifier`"
   ]
  },
  {
   "cell_type": "code",
   "execution_count": 55,
   "metadata": {
    "executionInfo": {
     "elapsed": 1,
     "status": "ok",
     "timestamp": 1758848749072,
     "user": {
      "displayName": "Ian Yané",
      "userId": "09070912689777423281"
     },
     "user_tz": 180
    },
    "id": "OjrcmypTbEJ6"
   },
   "outputs": [],
   "source": [
    "type_rf_opt_clf = RandomizedSearchCV(\n",
    "    estimator = RandomForestClassifier(\n",
    "        class_weight='balanced',\n",
    "        random_state=42\n",
    "        ),\n",
    "    param_distributions=rf_grid_param,\n",
    "    scoring=['accuracy', 'f1_weighted'],\n",
    "    cv = 3,\n",
    "    refit = 'f1_weighted'\n",
    "    )"
   ]
  },
  {
   "cell_type": "markdown",
   "metadata": {
    "id": "IagjNHP7iP5D"
   },
   "source": [
    "3. Entrenando la instancia de `GridSearchCV`"
   ]
  },
  {
   "cell_type": "code",
   "execution_count": 56,
   "metadata": {},
   "outputs": [],
   "source": [
    "type_rf_opt_clf_init_time = time()\n",
    "type_rf_opt_clf.fit(X_train_clf_scaled, y_train_clf)\n",
    "type_rf_opt_clf_finish_time  = time()\n",
    "rf_opt_train_time = type_rf_opt_clf_finish_time - type_rf_opt_clf_init_time"
   ]
  },
  {
   "cell_type": "markdown",
   "metadata": {
    "id": "UhIhHkv-ihX-"
   },
   "source": [
    "4. Predicciones utilizando la instancia"
   ]
  },
  {
   "cell_type": "code",
   "execution_count": 57,
   "metadata": {},
   "outputs": [],
   "source": [
    "type_rf_opt_clf_train_pred = type_rf_opt_clf.predict(X_train_clf_scaled)\n",
    "type_rf_opt_clf_test_pred = type_rf_opt_clf.predict(X_test_clf_scaled)"
   ]
  },
  {
   "cell_type": "markdown",
   "metadata": {
    "id": "a6oMl1N3ijyP"
   },
   "source": [
    "5. Evaluación utilizando la instancia"
   ]
  },
  {
   "cell_type": "code",
   "execution_count": 58,
   "metadata": {},
   "outputs": [
    {
     "name": "stdout",
     "output_type": "stream",
     "text": [
      "\n",
      "=== RandomForestClassifierOpt ===\n",
      "Accuracy score: 0.9945\n",
      "F1-score (weighted): 0.9945\n",
      "\n",
      "---- Reporte de entrenamiento ----\n",
      "              precision    recall  f1-score   support\n",
      "\n",
      "         red       1.00      1.00      1.00      1199\n",
      "       white       1.00      1.00      1.00      3673\n",
      "\n",
      "    accuracy                           1.00      4872\n",
      "   macro avg       1.00      1.00      1.00      4872\n",
      "weighted avg       1.00      1.00      1.00      4872\n",
      "\n",
      "---- Reporte de prueba ----\n",
      "              precision    recall  f1-score   support\n",
      "\n",
      "         red       0.99      0.99      0.99       400\n",
      "       white       1.00      1.00      1.00      1225\n",
      "\n",
      "    accuracy                           0.99      1625\n",
      "   macro avg       0.99      0.99      0.99      1625\n",
      "weighted avg       0.99      0.99      0.99      1625\n",
      "\n",
      "-------------------------\n",
      "\n"
     ]
    },
    {
     "data": {
      "text/html": [
       "<div>\n",
       "<style scoped>\n",
       "    .dataframe tbody tr th:only-of-type {\n",
       "        vertical-align: middle;\n",
       "    }\n",
       "\n",
       "    .dataframe tbody tr th {\n",
       "        vertical-align: top;\n",
       "    }\n",
       "\n",
       "    .dataframe thead th {\n",
       "        text-align: right;\n",
       "    }\n",
       "</style>\n",
       "<table border=\"1\" class=\"dataframe\">\n",
       "  <thead>\n",
       "    <tr style=\"text-align: right;\">\n",
       "      <th></th>\n",
       "      <th>train_time (s)</th>\n",
       "      <th>f1_weighted</th>\n",
       "      <th>accuracy</th>\n",
       "    </tr>\n",
       "  </thead>\n",
       "  <tbody>\n",
       "    <tr>\n",
       "      <th>LogisticRegression</th>\n",
       "      <td>0.037896</td>\n",
       "      <td>0.991385</td>\n",
       "      <td>0.991385</td>\n",
       "    </tr>\n",
       "    <tr>\n",
       "      <th>DecisionTreeClassifier</th>\n",
       "      <td>0.031052</td>\n",
       "      <td>0.985304</td>\n",
       "      <td>0.985231</td>\n",
       "    </tr>\n",
       "    <tr>\n",
       "      <th>DecisionTreeClassifierOpt</th>\n",
       "      <td>NaN</td>\n",
       "      <td>NaN</td>\n",
       "      <td>NaN</td>\n",
       "    </tr>\n",
       "    <tr>\n",
       "      <th>RandomForestClassifier</th>\n",
       "      <td>0.369008</td>\n",
       "      <td>0.995077</td>\n",
       "      <td>0.995077</td>\n",
       "    </tr>\n",
       "    <tr>\n",
       "      <th>RandomForestClassifierOpt</th>\n",
       "      <td>29.581718</td>\n",
       "      <td>0.994464</td>\n",
       "      <td>0.994462</td>\n",
       "    </tr>\n",
       "    <tr>\n",
       "      <th>XGBClassifier</th>\n",
       "      <td>NaN</td>\n",
       "      <td>NaN</td>\n",
       "      <td>NaN</td>\n",
       "    </tr>\n",
       "    <tr>\n",
       "      <th>XGBClassifierOpt</th>\n",
       "      <td>NaN</td>\n",
       "      <td>NaN</td>\n",
       "      <td>NaN</td>\n",
       "    </tr>\n",
       "  </tbody>\n",
       "</table>\n",
       "</div>"
      ],
      "text/plain": [
       "                          train_time (s) f1_weighted  accuracy\n",
       "LogisticRegression              0.037896    0.991385  0.991385\n",
       "DecisionTreeClassifier          0.031052    0.985304  0.985231\n",
       "DecisionTreeClassifierOpt            NaN         NaN       NaN\n",
       "RandomForestClassifier          0.369008    0.995077  0.995077\n",
       "RandomForestClassifierOpt      29.581718    0.994464  0.994462\n",
       "XGBClassifier                        NaN         NaN       NaN\n",
       "XGBClassifierOpt                     NaN         NaN       NaN"
      ]
     },
     "execution_count": 58,
     "metadata": {},
     "output_type": "execute_result"
    }
   ],
   "source": [
    "evaluar_modelo(\n",
    "    nombre_modelo='RandomForestClassifierOpt',\n",
    "    tipo_modelo='c',\n",
    "    y_train_true=y_train_clf,\n",
    "    y_train_pred=type_rf_opt_clf_train_pred,\n",
    "    y_test_true=y_test_clf,\n",
    "    y_test_pred=type_rf_opt_clf_test_pred,\n",
    "    df_resultados=type_modelos_clasificación_rendimiento,\n",
    "    train_time=rf_opt_train_time\n",
    ")"
   ]
  },
  {
   "cell_type": "markdown",
   "metadata": {
    "id": "yisQOMz5dA2-"
   },
   "source": [
    "#### XGBClassifier"
   ]
  },
  {
   "cell_type": "markdown",
   "metadata": {},
   "source": [
    "Breve preprocesamiento de variables"
   ]
  },
  {
   "cell_type": "code",
   "execution_count": 59,
   "metadata": {
    "executionInfo": {
     "elapsed": 0,
     "status": "ok",
     "timestamp": 1758848790281,
     "user": {
      "displayName": "Ian Yané",
      "userId": "09070912689777423281"
     },
     "user_tz": 180
    },
    "id": "9sUqaOAehhVg"
   },
   "outputs": [],
   "source": [
    "xgb_oh_enc = OneHotEncoder(drop='if_binary', handle_unknown='ignore', sparse_output=False)"
   ]
  },
  {
   "cell_type": "code",
   "execution_count": 60,
   "metadata": {
    "colab": {
     "base_uri": "https://localhost:8080/",
     "height": 80
    },
    "executionInfo": {
     "elapsed": 13,
     "status": "ok",
     "timestamp": 1758848790295,
     "user": {
      "displayName": "Ian Yané",
      "userId": "09070912689777423281"
     },
     "user_tz": 180
    },
    "id": "gxMQp0lhhnG4",
    "outputId": "ae86305e-f69d-43fa-d91a-bbeff09019f7"
   },
   "outputs": [
    {
     "data": {
      "text/html": [
       "<style>#sk-container-id-1 {\n",
       "  /* Definition of color scheme common for light and dark mode */\n",
       "  --sklearn-color-text: #000;\n",
       "  --sklearn-color-text-muted: #666;\n",
       "  --sklearn-color-line: gray;\n",
       "  /* Definition of color scheme for unfitted estimators */\n",
       "  --sklearn-color-unfitted-level-0: #fff5e6;\n",
       "  --sklearn-color-unfitted-level-1: #f6e4d2;\n",
       "  --sklearn-color-unfitted-level-2: #ffe0b3;\n",
       "  --sklearn-color-unfitted-level-3: chocolate;\n",
       "  /* Definition of color scheme for fitted estimators */\n",
       "  --sklearn-color-fitted-level-0: #f0f8ff;\n",
       "  --sklearn-color-fitted-level-1: #d4ebff;\n",
       "  --sklearn-color-fitted-level-2: #b3dbfd;\n",
       "  --sklearn-color-fitted-level-3: cornflowerblue;\n",
       "\n",
       "  /* Specific color for light theme */\n",
       "  --sklearn-color-text-on-default-background: var(--sg-text-color, var(--theme-code-foreground, var(--jp-content-font-color1, black)));\n",
       "  --sklearn-color-background: var(--sg-background-color, var(--theme-background, var(--jp-layout-color0, white)));\n",
       "  --sklearn-color-border-box: var(--sg-text-color, var(--theme-code-foreground, var(--jp-content-font-color1, black)));\n",
       "  --sklearn-color-icon: #696969;\n",
       "\n",
       "  @media (prefers-color-scheme: dark) {\n",
       "    /* Redefinition of color scheme for dark theme */\n",
       "    --sklearn-color-text-on-default-background: var(--sg-text-color, var(--theme-code-foreground, var(--jp-content-font-color1, white)));\n",
       "    --sklearn-color-background: var(--sg-background-color, var(--theme-background, var(--jp-layout-color0, #111)));\n",
       "    --sklearn-color-border-box: var(--sg-text-color, var(--theme-code-foreground, var(--jp-content-font-color1, white)));\n",
       "    --sklearn-color-icon: #878787;\n",
       "  }\n",
       "}\n",
       "\n",
       "#sk-container-id-1 {\n",
       "  color: var(--sklearn-color-text);\n",
       "}\n",
       "\n",
       "#sk-container-id-1 pre {\n",
       "  padding: 0;\n",
       "}\n",
       "\n",
       "#sk-container-id-1 input.sk-hidden--visually {\n",
       "  border: 0;\n",
       "  clip: rect(1px 1px 1px 1px);\n",
       "  clip: rect(1px, 1px, 1px, 1px);\n",
       "  height: 1px;\n",
       "  margin: -1px;\n",
       "  overflow: hidden;\n",
       "  padding: 0;\n",
       "  position: absolute;\n",
       "  width: 1px;\n",
       "}\n",
       "\n",
       "#sk-container-id-1 div.sk-dashed-wrapped {\n",
       "  border: 1px dashed var(--sklearn-color-line);\n",
       "  margin: 0 0.4em 0.5em 0.4em;\n",
       "  box-sizing: border-box;\n",
       "  padding-bottom: 0.4em;\n",
       "  background-color: var(--sklearn-color-background);\n",
       "}\n",
       "\n",
       "#sk-container-id-1 div.sk-container {\n",
       "  /* jupyter's `normalize.less` sets `[hidden] { display: none; }`\n",
       "     but bootstrap.min.css set `[hidden] { display: none !important; }`\n",
       "     so we also need the `!important` here to be able to override the\n",
       "     default hidden behavior on the sphinx rendered scikit-learn.org.\n",
       "     See: https://github.com/scikit-learn/scikit-learn/issues/21755 */\n",
       "  display: inline-block !important;\n",
       "  position: relative;\n",
       "}\n",
       "\n",
       "#sk-container-id-1 div.sk-text-repr-fallback {\n",
       "  display: none;\n",
       "}\n",
       "\n",
       "div.sk-parallel-item,\n",
       "div.sk-serial,\n",
       "div.sk-item {\n",
       "  /* draw centered vertical line to link estimators */\n",
       "  background-image: linear-gradient(var(--sklearn-color-text-on-default-background), var(--sklearn-color-text-on-default-background));\n",
       "  background-size: 2px 100%;\n",
       "  background-repeat: no-repeat;\n",
       "  background-position: center center;\n",
       "}\n",
       "\n",
       "/* Parallel-specific style estimator block */\n",
       "\n",
       "#sk-container-id-1 div.sk-parallel-item::after {\n",
       "  content: \"\";\n",
       "  width: 100%;\n",
       "  border-bottom: 2px solid var(--sklearn-color-text-on-default-background);\n",
       "  flex-grow: 1;\n",
       "}\n",
       "\n",
       "#sk-container-id-1 div.sk-parallel {\n",
       "  display: flex;\n",
       "  align-items: stretch;\n",
       "  justify-content: center;\n",
       "  background-color: var(--sklearn-color-background);\n",
       "  position: relative;\n",
       "}\n",
       "\n",
       "#sk-container-id-1 div.sk-parallel-item {\n",
       "  display: flex;\n",
       "  flex-direction: column;\n",
       "}\n",
       "\n",
       "#sk-container-id-1 div.sk-parallel-item:first-child::after {\n",
       "  align-self: flex-end;\n",
       "  width: 50%;\n",
       "}\n",
       "\n",
       "#sk-container-id-1 div.sk-parallel-item:last-child::after {\n",
       "  align-self: flex-start;\n",
       "  width: 50%;\n",
       "}\n",
       "\n",
       "#sk-container-id-1 div.sk-parallel-item:only-child::after {\n",
       "  width: 0;\n",
       "}\n",
       "\n",
       "/* Serial-specific style estimator block */\n",
       "\n",
       "#sk-container-id-1 div.sk-serial {\n",
       "  display: flex;\n",
       "  flex-direction: column;\n",
       "  align-items: center;\n",
       "  background-color: var(--sklearn-color-background);\n",
       "  padding-right: 1em;\n",
       "  padding-left: 1em;\n",
       "}\n",
       "\n",
       "\n",
       "/* Toggleable style: style used for estimator/Pipeline/ColumnTransformer box that is\n",
       "clickable and can be expanded/collapsed.\n",
       "- Pipeline and ColumnTransformer use this feature and define the default style\n",
       "- Estimators will overwrite some part of the style using the `sk-estimator` class\n",
       "*/\n",
       "\n",
       "/* Pipeline and ColumnTransformer style (default) */\n",
       "\n",
       "#sk-container-id-1 div.sk-toggleable {\n",
       "  /* Default theme specific background. It is overwritten whether we have a\n",
       "  specific estimator or a Pipeline/ColumnTransformer */\n",
       "  background-color: var(--sklearn-color-background);\n",
       "}\n",
       "\n",
       "/* Toggleable label */\n",
       "#sk-container-id-1 label.sk-toggleable__label {\n",
       "  cursor: pointer;\n",
       "  display: flex;\n",
       "  width: 100%;\n",
       "  margin-bottom: 0;\n",
       "  padding: 0.5em;\n",
       "  box-sizing: border-box;\n",
       "  text-align: center;\n",
       "  align-items: start;\n",
       "  justify-content: space-between;\n",
       "  gap: 0.5em;\n",
       "}\n",
       "\n",
       "#sk-container-id-1 label.sk-toggleable__label .caption {\n",
       "  font-size: 0.6rem;\n",
       "  font-weight: lighter;\n",
       "  color: var(--sklearn-color-text-muted);\n",
       "}\n",
       "\n",
       "#sk-container-id-1 label.sk-toggleable__label-arrow:before {\n",
       "  /* Arrow on the left of the label */\n",
       "  content: \"▸\";\n",
       "  float: left;\n",
       "  margin-right: 0.25em;\n",
       "  color: var(--sklearn-color-icon);\n",
       "}\n",
       "\n",
       "#sk-container-id-1 label.sk-toggleable__label-arrow:hover:before {\n",
       "  color: var(--sklearn-color-text);\n",
       "}\n",
       "\n",
       "/* Toggleable content - dropdown */\n",
       "\n",
       "#sk-container-id-1 div.sk-toggleable__content {\n",
       "  max-height: 0;\n",
       "  max-width: 0;\n",
       "  overflow: hidden;\n",
       "  text-align: left;\n",
       "  /* unfitted */\n",
       "  background-color: var(--sklearn-color-unfitted-level-0);\n",
       "}\n",
       "\n",
       "#sk-container-id-1 div.sk-toggleable__content.fitted {\n",
       "  /* fitted */\n",
       "  background-color: var(--sklearn-color-fitted-level-0);\n",
       "}\n",
       "\n",
       "#sk-container-id-1 div.sk-toggleable__content pre {\n",
       "  margin: 0.2em;\n",
       "  border-radius: 0.25em;\n",
       "  color: var(--sklearn-color-text);\n",
       "  /* unfitted */\n",
       "  background-color: var(--sklearn-color-unfitted-level-0);\n",
       "}\n",
       "\n",
       "#sk-container-id-1 div.sk-toggleable__content.fitted pre {\n",
       "  /* unfitted */\n",
       "  background-color: var(--sklearn-color-fitted-level-0);\n",
       "}\n",
       "\n",
       "#sk-container-id-1 input.sk-toggleable__control:checked~div.sk-toggleable__content {\n",
       "  /* Expand drop-down */\n",
       "  max-height: 200px;\n",
       "  max-width: 100%;\n",
       "  overflow: auto;\n",
       "}\n",
       "\n",
       "#sk-container-id-1 input.sk-toggleable__control:checked~label.sk-toggleable__label-arrow:before {\n",
       "  content: \"▾\";\n",
       "}\n",
       "\n",
       "/* Pipeline/ColumnTransformer-specific style */\n",
       "\n",
       "#sk-container-id-1 div.sk-label input.sk-toggleable__control:checked~label.sk-toggleable__label {\n",
       "  color: var(--sklearn-color-text);\n",
       "  background-color: var(--sklearn-color-unfitted-level-2);\n",
       "}\n",
       "\n",
       "#sk-container-id-1 div.sk-label.fitted input.sk-toggleable__control:checked~label.sk-toggleable__label {\n",
       "  background-color: var(--sklearn-color-fitted-level-2);\n",
       "}\n",
       "\n",
       "/* Estimator-specific style */\n",
       "\n",
       "/* Colorize estimator box */\n",
       "#sk-container-id-1 div.sk-estimator input.sk-toggleable__control:checked~label.sk-toggleable__label {\n",
       "  /* unfitted */\n",
       "  background-color: var(--sklearn-color-unfitted-level-2);\n",
       "}\n",
       "\n",
       "#sk-container-id-1 div.sk-estimator.fitted input.sk-toggleable__control:checked~label.sk-toggleable__label {\n",
       "  /* fitted */\n",
       "  background-color: var(--sklearn-color-fitted-level-2);\n",
       "}\n",
       "\n",
       "#sk-container-id-1 div.sk-label label.sk-toggleable__label,\n",
       "#sk-container-id-1 div.sk-label label {\n",
       "  /* The background is the default theme color */\n",
       "  color: var(--sklearn-color-text-on-default-background);\n",
       "}\n",
       "\n",
       "/* On hover, darken the color of the background */\n",
       "#sk-container-id-1 div.sk-label:hover label.sk-toggleable__label {\n",
       "  color: var(--sklearn-color-text);\n",
       "  background-color: var(--sklearn-color-unfitted-level-2);\n",
       "}\n",
       "\n",
       "/* Label box, darken color on hover, fitted */\n",
       "#sk-container-id-1 div.sk-label.fitted:hover label.sk-toggleable__label.fitted {\n",
       "  color: var(--sklearn-color-text);\n",
       "  background-color: var(--sklearn-color-fitted-level-2);\n",
       "}\n",
       "\n",
       "/* Estimator label */\n",
       "\n",
       "#sk-container-id-1 div.sk-label label {\n",
       "  font-family: monospace;\n",
       "  font-weight: bold;\n",
       "  display: inline-block;\n",
       "  line-height: 1.2em;\n",
       "}\n",
       "\n",
       "#sk-container-id-1 div.sk-label-container {\n",
       "  text-align: center;\n",
       "}\n",
       "\n",
       "/* Estimator-specific */\n",
       "#sk-container-id-1 div.sk-estimator {\n",
       "  font-family: monospace;\n",
       "  border: 1px dotted var(--sklearn-color-border-box);\n",
       "  border-radius: 0.25em;\n",
       "  box-sizing: border-box;\n",
       "  margin-bottom: 0.5em;\n",
       "  /* unfitted */\n",
       "  background-color: var(--sklearn-color-unfitted-level-0);\n",
       "}\n",
       "\n",
       "#sk-container-id-1 div.sk-estimator.fitted {\n",
       "  /* fitted */\n",
       "  background-color: var(--sklearn-color-fitted-level-0);\n",
       "}\n",
       "\n",
       "/* on hover */\n",
       "#sk-container-id-1 div.sk-estimator:hover {\n",
       "  /* unfitted */\n",
       "  background-color: var(--sklearn-color-unfitted-level-2);\n",
       "}\n",
       "\n",
       "#sk-container-id-1 div.sk-estimator.fitted:hover {\n",
       "  /* fitted */\n",
       "  background-color: var(--sklearn-color-fitted-level-2);\n",
       "}\n",
       "\n",
       "/* Specification for estimator info (e.g. \"i\" and \"?\") */\n",
       "\n",
       "/* Common style for \"i\" and \"?\" */\n",
       "\n",
       ".sk-estimator-doc-link,\n",
       "a:link.sk-estimator-doc-link,\n",
       "a:visited.sk-estimator-doc-link {\n",
       "  float: right;\n",
       "  font-size: smaller;\n",
       "  line-height: 1em;\n",
       "  font-family: monospace;\n",
       "  background-color: var(--sklearn-color-background);\n",
       "  border-radius: 1em;\n",
       "  height: 1em;\n",
       "  width: 1em;\n",
       "  text-decoration: none !important;\n",
       "  margin-left: 0.5em;\n",
       "  text-align: center;\n",
       "  /* unfitted */\n",
       "  border: var(--sklearn-color-unfitted-level-1) 1pt solid;\n",
       "  color: var(--sklearn-color-unfitted-level-1);\n",
       "}\n",
       "\n",
       ".sk-estimator-doc-link.fitted,\n",
       "a:link.sk-estimator-doc-link.fitted,\n",
       "a:visited.sk-estimator-doc-link.fitted {\n",
       "  /* fitted */\n",
       "  border: var(--sklearn-color-fitted-level-1) 1pt solid;\n",
       "  color: var(--sklearn-color-fitted-level-1);\n",
       "}\n",
       "\n",
       "/* On hover */\n",
       "div.sk-estimator:hover .sk-estimator-doc-link:hover,\n",
       ".sk-estimator-doc-link:hover,\n",
       "div.sk-label-container:hover .sk-estimator-doc-link:hover,\n",
       ".sk-estimator-doc-link:hover {\n",
       "  /* unfitted */\n",
       "  background-color: var(--sklearn-color-unfitted-level-3);\n",
       "  color: var(--sklearn-color-background);\n",
       "  text-decoration: none;\n",
       "}\n",
       "\n",
       "div.sk-estimator.fitted:hover .sk-estimator-doc-link.fitted:hover,\n",
       ".sk-estimator-doc-link.fitted:hover,\n",
       "div.sk-label-container:hover .sk-estimator-doc-link.fitted:hover,\n",
       ".sk-estimator-doc-link.fitted:hover {\n",
       "  /* fitted */\n",
       "  background-color: var(--sklearn-color-fitted-level-3);\n",
       "  color: var(--sklearn-color-background);\n",
       "  text-decoration: none;\n",
       "}\n",
       "\n",
       "/* Span, style for the box shown on hovering the info icon */\n",
       ".sk-estimator-doc-link span {\n",
       "  display: none;\n",
       "  z-index: 9999;\n",
       "  position: relative;\n",
       "  font-weight: normal;\n",
       "  right: .2ex;\n",
       "  padding: .5ex;\n",
       "  margin: .5ex;\n",
       "  width: min-content;\n",
       "  min-width: 20ex;\n",
       "  max-width: 50ex;\n",
       "  color: var(--sklearn-color-text);\n",
       "  box-shadow: 2pt 2pt 4pt #999;\n",
       "  /* unfitted */\n",
       "  background: var(--sklearn-color-unfitted-level-0);\n",
       "  border: .5pt solid var(--sklearn-color-unfitted-level-3);\n",
       "}\n",
       "\n",
       ".sk-estimator-doc-link.fitted span {\n",
       "  /* fitted */\n",
       "  background: var(--sklearn-color-fitted-level-0);\n",
       "  border: var(--sklearn-color-fitted-level-3);\n",
       "}\n",
       "\n",
       ".sk-estimator-doc-link:hover span {\n",
       "  display: block;\n",
       "}\n",
       "\n",
       "/* \"?\"-specific style due to the `<a>` HTML tag */\n",
       "\n",
       "#sk-container-id-1 a.estimator_doc_link {\n",
       "  float: right;\n",
       "  font-size: 1rem;\n",
       "  line-height: 1em;\n",
       "  font-family: monospace;\n",
       "  background-color: var(--sklearn-color-background);\n",
       "  border-radius: 1rem;\n",
       "  height: 1rem;\n",
       "  width: 1rem;\n",
       "  text-decoration: none;\n",
       "  /* unfitted */\n",
       "  color: var(--sklearn-color-unfitted-level-1);\n",
       "  border: var(--sklearn-color-unfitted-level-1) 1pt solid;\n",
       "}\n",
       "\n",
       "#sk-container-id-1 a.estimator_doc_link.fitted {\n",
       "  /* fitted */\n",
       "  border: var(--sklearn-color-fitted-level-1) 1pt solid;\n",
       "  color: var(--sklearn-color-fitted-level-1);\n",
       "}\n",
       "\n",
       "/* On hover */\n",
       "#sk-container-id-1 a.estimator_doc_link:hover {\n",
       "  /* unfitted */\n",
       "  background-color: var(--sklearn-color-unfitted-level-3);\n",
       "  color: var(--sklearn-color-background);\n",
       "  text-decoration: none;\n",
       "}\n",
       "\n",
       "#sk-container-id-1 a.estimator_doc_link.fitted:hover {\n",
       "  /* fitted */\n",
       "  background-color: var(--sklearn-color-fitted-level-3);\n",
       "}\n",
       "</style><div id=\"sk-container-id-1\" class=\"sk-top-container\"><div class=\"sk-text-repr-fallback\"><pre>OneHotEncoder(drop=&#x27;if_binary&#x27;, handle_unknown=&#x27;ignore&#x27;, sparse_output=False)</pre><b>In a Jupyter environment, please rerun this cell to show the HTML representation or trust the notebook. <br />On GitHub, the HTML representation is unable to render, please try loading this page with nbviewer.org.</b></div><div class=\"sk-container\" hidden><div class=\"sk-item\"><div class=\"sk-estimator fitted sk-toggleable\"><input class=\"sk-toggleable__control sk-hidden--visually\" id=\"sk-estimator-id-1\" type=\"checkbox\" checked><label for=\"sk-estimator-id-1\" class=\"sk-toggleable__label fitted sk-toggleable__label-arrow\"><div><div>OneHotEncoder</div></div><div><a class=\"sk-estimator-doc-link fitted\" rel=\"noreferrer\" target=\"_blank\" href=\"https://scikit-learn.org/1.6/modules/generated/sklearn.preprocessing.OneHotEncoder.html\">?<span>Documentation for OneHotEncoder</span></a><span class=\"sk-estimator-doc-link fitted\">i<span>Fitted</span></span></div></label><div class=\"sk-toggleable__content fitted\"><pre>OneHotEncoder(drop=&#x27;if_binary&#x27;, handle_unknown=&#x27;ignore&#x27;, sparse_output=False)</pre></div> </div></div></div></div>"
      ],
      "text/plain": [
       "OneHotEncoder(drop='if_binary', handle_unknown='ignore', sparse_output=False)"
      ]
     },
     "execution_count": 60,
     "metadata": {},
     "output_type": "execute_result"
    }
   ],
   "source": [
    "xgb_oh_enc.fit(y_train_clf.to_frame())"
   ]
  },
  {
   "cell_type": "code",
   "execution_count": 61,
   "metadata": {
    "executionInfo": {
     "elapsed": 4,
     "status": "ok",
     "timestamp": 1758848790302,
     "user": {
      "displayName": "Ian Yané",
      "userId": "09070912689777423281"
     },
     "user_tz": 180
    },
    "id": "C6X8YphUfhW3"
   },
   "outputs": [],
   "source": [
    "y_train_clf_xgb = xgb_oh_enc.transform(y_train_clf.to_frame())\n",
    "y_test_clf_xgb = xgb_oh_enc.transform(y_test_clf.to_frame())"
   ]
  },
  {
   "cell_type": "markdown",
   "metadata": {},
   "source": [
    "Ml con XGBClassifier"
   ]
  },
  {
   "cell_type": "code",
   "execution_count": 62,
   "metadata": {
    "executionInfo": {
     "elapsed": 3,
     "status": "ok",
     "timestamp": 1758848790307,
     "user": {
      "displayName": "Ian Yané",
      "userId": "09070912689777423281"
     },
     "user_tz": 180
    },
    "id": "gRXaNb6beZ5t"
   },
   "outputs": [],
   "source": [
    "type_xgb_clf = XGBClassifier()"
   ]
  },
  {
   "cell_type": "code",
   "execution_count": 63,
   "metadata": {
    "colab": {
     "base_uri": "https://localhost:8080/"
    },
    "executionInfo": {
     "elapsed": 97,
     "status": "ok",
     "timestamp": 1758848790407,
     "user": {
      "displayName": "Ian Yané",
      "userId": "09070912689777423281"
     },
     "user_tz": 180
    },
    "id": "kEYugHOveec9",
    "outputId": "2b7d1fa5-ba5c-46ec-d918-44c31f5487f8"
   },
   "outputs": [],
   "source": [
    "type_xgb_clf_init_time = time()\n",
    "type_xgb_clf.fit(X_train_clf_scaled, y_train_clf_xgb)\n",
    "type_xgb_clf_finish_time = time()\n",
    "type_xgb_clf_time = type_xgb_clf_finish_time - type_xgb_clf_init_time"
   ]
  },
  {
   "cell_type": "code",
   "execution_count": 64,
   "metadata": {
    "executionInfo": {
     "elapsed": 4,
     "status": "ok",
     "timestamp": 1758848790407,
     "user": {
      "displayName": "Ian Yané",
      "userId": "09070912689777423281"
     },
     "user_tz": 180
    },
    "id": "GOLn8VdShFKX"
   },
   "outputs": [],
   "source": [
    "type_xgb_clf_train_pred = type_xgb_clf.predict(X_train_clf_scaled)\n",
    "type_xgb_clf_test_pred  = type_xgb_clf.predict(X_test_clf_scaled)"
   ]
  },
  {
   "cell_type": "code",
   "execution_count": 65,
   "metadata": {},
   "outputs": [
    {
     "name": "stdout",
     "output_type": "stream",
     "text": [
      "\n",
      "=== XGBClassifier ===\n",
      "Accuracy score: 0.9957\n",
      "F1-score (weighted): 0.9957\n",
      "\n",
      "---- Reporte de entrenamiento ----\n",
      "              precision    recall  f1-score   support\n",
      "\n",
      "         0.0       1.00      1.00      1.00      1199\n",
      "         1.0       1.00      1.00      1.00      3673\n",
      "\n",
      "    accuracy                           1.00      4872\n",
      "   macro avg       1.00      1.00      1.00      4872\n",
      "weighted avg       1.00      1.00      1.00      4872\n",
      "\n",
      "---- Reporte de prueba ----\n",
      "              precision    recall  f1-score   support\n",
      "\n",
      "         0.0       0.99      0.99      0.99       400\n",
      "         1.0       1.00      1.00      1.00      1225\n",
      "\n",
      "    accuracy                           1.00      1625\n",
      "   macro avg       0.99      1.00      0.99      1625\n",
      "weighted avg       1.00      1.00      1.00      1625\n",
      "\n",
      "-------------------------\n",
      "\n"
     ]
    },
    {
     "data": {
      "text/html": [
       "<div>\n",
       "<style scoped>\n",
       "    .dataframe tbody tr th:only-of-type {\n",
       "        vertical-align: middle;\n",
       "    }\n",
       "\n",
       "    .dataframe tbody tr th {\n",
       "        vertical-align: top;\n",
       "    }\n",
       "\n",
       "    .dataframe thead th {\n",
       "        text-align: right;\n",
       "    }\n",
       "</style>\n",
       "<table border=\"1\" class=\"dataframe\">\n",
       "  <thead>\n",
       "    <tr style=\"text-align: right;\">\n",
       "      <th></th>\n",
       "      <th>train_time (s)</th>\n",
       "      <th>f1_weighted</th>\n",
       "      <th>accuracy</th>\n",
       "    </tr>\n",
       "  </thead>\n",
       "  <tbody>\n",
       "    <tr>\n",
       "      <th>LogisticRegression</th>\n",
       "      <td>0.037896</td>\n",
       "      <td>0.991385</td>\n",
       "      <td>0.991385</td>\n",
       "    </tr>\n",
       "    <tr>\n",
       "      <th>DecisionTreeClassifier</th>\n",
       "      <td>0.031052</td>\n",
       "      <td>0.985304</td>\n",
       "      <td>0.985231</td>\n",
       "    </tr>\n",
       "    <tr>\n",
       "      <th>DecisionTreeClassifierOpt</th>\n",
       "      <td>NaN</td>\n",
       "      <td>NaN</td>\n",
       "      <td>NaN</td>\n",
       "    </tr>\n",
       "    <tr>\n",
       "      <th>RandomForestClassifier</th>\n",
       "      <td>0.369008</td>\n",
       "      <td>0.995077</td>\n",
       "      <td>0.995077</td>\n",
       "    </tr>\n",
       "    <tr>\n",
       "      <th>RandomForestClassifierOpt</th>\n",
       "      <td>29.581718</td>\n",
       "      <td>0.994464</td>\n",
       "      <td>0.994462</td>\n",
       "    </tr>\n",
       "    <tr>\n",
       "      <th>XGBClassifier</th>\n",
       "      <td>0.080772</td>\n",
       "      <td>0.995698</td>\n",
       "      <td>0.995692</td>\n",
       "    </tr>\n",
       "    <tr>\n",
       "      <th>XGBClassifierOpt</th>\n",
       "      <td>NaN</td>\n",
       "      <td>NaN</td>\n",
       "      <td>NaN</td>\n",
       "    </tr>\n",
       "  </tbody>\n",
       "</table>\n",
       "</div>"
      ],
      "text/plain": [
       "                          train_time (s) f1_weighted  accuracy\n",
       "LogisticRegression              0.037896    0.991385  0.991385\n",
       "DecisionTreeClassifier          0.031052    0.985304  0.985231\n",
       "DecisionTreeClassifierOpt            NaN         NaN       NaN\n",
       "RandomForestClassifier          0.369008    0.995077  0.995077\n",
       "RandomForestClassifierOpt      29.581718    0.994464  0.994462\n",
       "XGBClassifier                   0.080772    0.995698  0.995692\n",
       "XGBClassifierOpt                     NaN         NaN       NaN"
      ]
     },
     "execution_count": 65,
     "metadata": {},
     "output_type": "execute_result"
    }
   ],
   "source": [
    "evaluar_modelo(\n",
    "    nombre_modelo='XGBClassifier',\n",
    "    tipo_modelo='c',\n",
    "    y_train_true=y_train_clf_xgb,\n",
    "    y_train_pred=type_xgb_clf_train_pred,\n",
    "    y_test_true=y_test_clf_xgb,\n",
    "    y_test_pred=type_xgb_clf_test_pred,\n",
    "    df_resultados=type_modelos_clasificación_rendimiento,\n",
    "    train_time=type_xgb_clf_time,\n",
    "    pos_label=1\n",
    ")"
   ]
  },
  {
   "cell_type": "markdown",
   "metadata": {
    "id": "ndoYK0BUeVIW"
   },
   "source": [
    "#### XGBClassifier optimizado"
   ]
  },
  {
   "cell_type": "markdown",
   "metadata": {
    "id": "y5L6PUXej1BG"
   },
   "source": [
    "1. Definiendo grilla de hiperparámetros para `RandomForestClassifier`"
   ]
  },
  {
   "cell_type": "code",
   "execution_count": 66,
   "metadata": {
    "executionInfo": {
     "elapsed": 1,
     "status": "ok",
     "timestamp": 1758848790422,
     "user": {
      "displayName": "Ian Yané",
      "userId": "09070912689777423281"
     },
     "user_tz": 180
    },
    "id": "uv_hcJTgegLN"
   },
   "outputs": [],
   "source": [
    "xgb_grid_param = {\n",
    "    # Número de árboles (boosting rounds)\n",
    "    \"n_estimators\": [100, 300, 500, 1000],\n",
    "    # Tasa de aprendizaje\n",
    "    \"learning_rate\": [0.01, 0.05, 0.1, 0.2],\n",
    "    # Profundidad máxima del árbol\n",
    "    \"max_depth\": [3, 5, 7, 10],\n",
    "    # Número mínimo de muestras en una hoja\n",
    "    \"min_child_weight\": [1, 3, 5, 10],\n",
    "    # Gamma: reducción mínima de pérdida para hacer un split\n",
    "    \"gamma\": [0, 0.1, 0.5, 1]\n",
    "}"
   ]
  },
  {
   "cell_type": "markdown",
   "metadata": {
    "id": "0Xa1fzcbj1BI"
   },
   "source": [
    "2. Instanciando `RandomSearchCV` con una instancia de `XGBClassifier`"
   ]
  },
  {
   "cell_type": "code",
   "execution_count": 67,
   "metadata": {
    "executionInfo": {
     "elapsed": 0,
     "status": "ok",
     "timestamp": 1758848790423,
     "user": {
      "displayName": "Ian Yané",
      "userId": "09070912689777423281"
     },
     "user_tz": 180
    },
    "id": "f3iMtkVxegLN"
   },
   "outputs": [],
   "source": [
    "type_xgb_opt_clf = RandomizedSearchCV(\n",
    "    estimator = XGBClassifier(\n",
    "        random_state=42\n",
    "        ),\n",
    "    param_distributions=xgb_grid_param,\n",
    "    scoring=['accuracy', 'f1_weighted'],\n",
    "    cv = 3,\n",
    "    refit = 'f1_weighted'\n",
    "    )"
   ]
  },
  {
   "cell_type": "markdown",
   "metadata": {
    "id": "0NJWJJF3j1BI"
   },
   "source": [
    "3. Entrenando la instancia de `GridSearchCV`"
   ]
  },
  {
   "cell_type": "code",
   "execution_count": 68,
   "metadata": {
    "colab": {
     "base_uri": "https://localhost:8080/"
    },
    "executionInfo": {
     "elapsed": 4047,
     "status": "ok",
     "timestamp": 1758848794493,
     "user": {
      "displayName": "Ian Yané",
      "userId": "09070912689777423281"
     },
     "user_tz": 180
    },
    "id": "Nz-lG0dfj5TK",
    "outputId": "11f379c9-392b-4ba4-827a-63a1d60efac9"
   },
   "outputs": [],
   "source": [
    "type_xgb_opt_clf_init_time = time()\n",
    "\n",
    "type_xgb_opt_clf.fit(X_train_clf_scaled, y_train_clf_xgb)\n",
    "\n",
    "type_xgb_opt_clf_final_time = time()\n",
    "type_xgb_opt_clf_train_time = type_xgb_opt_clf_final_time - type_xgb_opt_clf_init_time"
   ]
  },
  {
   "cell_type": "markdown",
   "metadata": {
    "id": "-yoaWQ7Uj1BI"
   },
   "source": [
    "4. Predicciones utilizando la instancia"
   ]
  },
  {
   "cell_type": "code",
   "execution_count": 69,
   "metadata": {
    "executionInfo": {
     "elapsed": 4,
     "status": "ok",
     "timestamp": 1758848794510,
     "user": {
      "displayName": "Ian Yané",
      "userId": "09070912689777423281"
     },
     "user_tz": 180
    },
    "id": "yvzhTnTzj9RP"
   },
   "outputs": [],
   "source": [
    "type_xgb_opt_clf_train_pred = type_xgb_opt_clf.predict(X_train_clf_scaled)\n",
    "type_xgb_opt_clf_test_pred = type_xgb_opt_clf.predict(X_test_clf_scaled)"
   ]
  },
  {
   "cell_type": "markdown",
   "metadata": {
    "id": "a0iQeusbj1BI"
   },
   "source": [
    "5. Evaluación utilizando la instancia"
   ]
  },
  {
   "cell_type": "code",
   "execution_count": 70,
   "metadata": {
    "colab": {
     "base_uri": "https://localhost:8080/"
    },
    "executionInfo": {
     "elapsed": 33,
     "status": "ok",
     "timestamp": 1758848794541,
     "user": {
      "displayName": "Ian Yané",
      "userId": "09070912689777423281"
     },
     "user_tz": 180
    },
    "id": "YZIQuglgj95F",
    "outputId": "31a4e1b5-ac1d-41ab-c3cf-63302febb415"
   },
   "outputs": [
    {
     "name": "stdout",
     "output_type": "stream",
     "text": [
      "\n",
      "=== XGBClassifierOpt ===\n",
      "Accuracy score: 0.9963\n",
      "F1-score (weighted): 0.9963\n",
      "\n",
      "---- Reporte de entrenamiento ----\n",
      "              precision    recall  f1-score   support\n",
      "\n",
      "         0.0       1.00      1.00      1.00      1199\n",
      "         1.0       1.00      1.00      1.00      3673\n",
      "\n",
      "    accuracy                           1.00      4872\n",
      "   macro avg       1.00      1.00      1.00      4872\n",
      "weighted avg       1.00      1.00      1.00      4872\n",
      "\n",
      "---- Reporte de prueba ----\n",
      "              precision    recall  f1-score   support\n",
      "\n",
      "         0.0       0.99      0.99      0.99       400\n",
      "         1.0       1.00      1.00      1.00      1225\n",
      "\n",
      "    accuracy                           1.00      1625\n",
      "   macro avg       1.00      0.99      1.00      1625\n",
      "weighted avg       1.00      1.00      1.00      1625\n",
      "\n",
      "-------------------------\n",
      "\n"
     ]
    },
    {
     "data": {
      "text/html": [
       "<div>\n",
       "<style scoped>\n",
       "    .dataframe tbody tr th:only-of-type {\n",
       "        vertical-align: middle;\n",
       "    }\n",
       "\n",
       "    .dataframe tbody tr th {\n",
       "        vertical-align: top;\n",
       "    }\n",
       "\n",
       "    .dataframe thead th {\n",
       "        text-align: right;\n",
       "    }\n",
       "</style>\n",
       "<table border=\"1\" class=\"dataframe\">\n",
       "  <thead>\n",
       "    <tr style=\"text-align: right;\">\n",
       "      <th></th>\n",
       "      <th>train_time (s)</th>\n",
       "      <th>f1_weighted</th>\n",
       "      <th>accuracy</th>\n",
       "    </tr>\n",
       "  </thead>\n",
       "  <tbody>\n",
       "    <tr>\n",
       "      <th>LogisticRegression</th>\n",
       "      <td>0.037896</td>\n",
       "      <td>0.991385</td>\n",
       "      <td>0.991385</td>\n",
       "    </tr>\n",
       "    <tr>\n",
       "      <th>DecisionTreeClassifier</th>\n",
       "      <td>0.031052</td>\n",
       "      <td>0.985304</td>\n",
       "      <td>0.985231</td>\n",
       "    </tr>\n",
       "    <tr>\n",
       "      <th>DecisionTreeClassifierOpt</th>\n",
       "      <td>NaN</td>\n",
       "      <td>NaN</td>\n",
       "      <td>NaN</td>\n",
       "    </tr>\n",
       "    <tr>\n",
       "      <th>RandomForestClassifier</th>\n",
       "      <td>0.369008</td>\n",
       "      <td>0.995077</td>\n",
       "      <td>0.995077</td>\n",
       "    </tr>\n",
       "    <tr>\n",
       "      <th>RandomForestClassifierOpt</th>\n",
       "      <td>29.581718</td>\n",
       "      <td>0.994464</td>\n",
       "      <td>0.994462</td>\n",
       "    </tr>\n",
       "    <tr>\n",
       "      <th>XGBClassifier</th>\n",
       "      <td>0.080772</td>\n",
       "      <td>0.995698</td>\n",
       "      <td>0.995692</td>\n",
       "    </tr>\n",
       "    <tr>\n",
       "      <th>XGBClassifierOpt</th>\n",
       "      <td>16.044848</td>\n",
       "      <td>0.996305</td>\n",
       "      <td>0.996308</td>\n",
       "    </tr>\n",
       "  </tbody>\n",
       "</table>\n",
       "</div>"
      ],
      "text/plain": [
       "                          train_time (s) f1_weighted  accuracy\n",
       "LogisticRegression              0.037896    0.991385  0.991385\n",
       "DecisionTreeClassifier          0.031052    0.985304  0.985231\n",
       "DecisionTreeClassifierOpt            NaN         NaN       NaN\n",
       "RandomForestClassifier          0.369008    0.995077  0.995077\n",
       "RandomForestClassifierOpt      29.581718    0.994464  0.994462\n",
       "XGBClassifier                   0.080772    0.995698  0.995692\n",
       "XGBClassifierOpt               16.044848    0.996305  0.996308"
      ]
     },
     "execution_count": 70,
     "metadata": {},
     "output_type": "execute_result"
    }
   ],
   "source": [
    "evaluar_modelo(\n",
    "    nombre_modelo='XGBClassifierOpt',\n",
    "    tipo_modelo='c',\n",
    "    y_train_true=y_train_clf_xgb,\n",
    "    y_train_pred=type_xgb_opt_clf_train_pred,\n",
    "    y_test_true=y_test_clf_xgb,\n",
    "    y_test_pred=type_xgb_opt_clf_test_pred,\n",
    "    df_resultados=type_modelos_clasificación_rendimiento,\n",
    "    train_time=type_xgb_opt_clf_train_time\n",
    ")"
   ]
  },
  {
   "cell_type": "markdown",
   "metadata": {
    "id": "m1VdPcoU7_qG"
   },
   "source": [
    "#### DecisionTreeClassifier optimizado"
   ]
  },
  {
   "cell_type": "markdown",
   "metadata": {
    "id": "jWjQim5x_4mW"
   },
   "source": [
    "1. Definiendo grilla de hiperparámetros para `DecisionTreeClassifier` optimizado"
   ]
  },
  {
   "cell_type": "code",
   "execution_count": 71,
   "metadata": {
    "executionInfo": {
     "elapsed": 1,
     "status": "ok",
     "timestamp": 1758848794542,
     "user": {
      "displayName": "Ian Yané",
      "userId": "09070912689777423281"
     },
     "user_tz": 180
    },
    "id": "EHoPZxmC8INb"
   },
   "outputs": [],
   "source": [
    "param_grid_dt = {\n",
    "    \"max_depth\": [None, 5, 10, 20, 30],\n",
    "    \"min_samples_split\": [2, 5, 10, 20],\n",
    "    \"min_samples_leaf\": [1, 2, 4, 10],\n",
    "    \"max_features\": [None, \"sqrt\", \"log2\"],\n",
    "    \"criterion\": [\"gini\", \"entropy\"]\n",
    "}"
   ]
  },
  {
   "cell_type": "markdown",
   "metadata": {
    "id": "ox3SFma5_4mY"
   },
   "source": [
    "2. Instanciando `GridSearchCV` con una instancia de `DecisionTreeClassifier` optimizado "
   ]
  },
  {
   "cell_type": "code",
   "execution_count": 72,
   "metadata": {
    "executionInfo": {
     "elapsed": 1,
     "status": "ok",
     "timestamp": 1758848794544,
     "user": {
      "displayName": "Ian Yané",
      "userId": "09070912689777423281"
     },
     "user_tz": 180
    },
    "id": "kJsClZ6h8fWM"
   },
   "outputs": [],
   "source": [
    "type_dt_opt_clf = GridSearchCV(\n",
    "    estimator = DecisionTreeClassifier(\n",
    "        random_state=42\n",
    "    ),\n",
    "    cv=3,\n",
    "    param_grid=param_grid_dt,\n",
    "    scoring=['accuracy', 'f1_weighted'],\n",
    "    refit = 'f1_weighted'\n",
    ")"
   ]
  },
  {
   "cell_type": "markdown",
   "metadata": {
    "id": "7tAC5c4i_4mZ"
   },
   "source": [
    "3. Entrenando la instancia de `GridSearchCV`"
   ]
  },
  {
   "cell_type": "code",
   "execution_count": 73,
   "metadata": {
    "colab": {
     "base_uri": "https://localhost:8080/"
    },
    "executionInfo": {
     "elapsed": 29199,
     "status": "ok",
     "timestamp": 1758848823743,
     "user": {
      "displayName": "Ian Yané",
      "userId": "09070912689777423281"
     },
     "user_tz": 180
    },
    "id": "0s2unLzA-PtK",
    "outputId": "d46a0e30-79c5-4c35-f9a2-8f80778ce771"
   },
   "outputs": [],
   "source": [
    "type_dt_opt_clf_init_time = time()\n",
    "\n",
    "type_dt_opt_clf.fit(X_train_clf_scaled, y_train_clf)\n",
    "\n",
    "type_dt_opt_clf_finish_time = time()\n",
    "type_dt_opt_clf_time = type_dt_opt_clf_finish_time - type_dt_opt_clf_init_time"
   ]
  },
  {
   "cell_type": "markdown",
   "metadata": {
    "id": "UCZHiIXo_4mZ"
   },
   "source": [
    "4. Predicciones utilizando la instancia"
   ]
  },
  {
   "cell_type": "code",
   "execution_count": 74,
   "metadata": {
    "executionInfo": {
     "elapsed": 23,
     "status": "ok",
     "timestamp": 1758848823745,
     "user": {
      "displayName": "Ian Yané",
      "userId": "09070912689777423281"
     },
     "user_tz": 180
    },
    "id": "TVj6QJF7_79f"
   },
   "outputs": [],
   "source": [
    "type_dt_opt_clf_train_pred = type_dt_opt_clf.predict(X_train_clf_scaled)\n",
    "type_dt_opt_clf_test_pred = type_dt_opt_clf.predict(X_test_clf_scaled)"
   ]
  },
  {
   "cell_type": "markdown",
   "metadata": {
    "id": "dnB9BfXI_4mZ"
   },
   "source": [
    "5. Evaluación utilizando la instancia"
   ]
  },
  {
   "cell_type": "code",
   "execution_count": 75,
   "metadata": {
    "colab": {
     "base_uri": "https://localhost:8080/"
    },
    "executionInfo": {
     "elapsed": 28,
     "status": "ok",
     "timestamp": 1758848823763,
     "user": {
      "displayName": "Ian Yané",
      "userId": "09070912689777423281"
     },
     "user_tz": 180
    },
    "id": "owUCjEeHAb3u",
    "outputId": "967e2f3c-cced-446b-9109-1bc0499ad96e"
   },
   "outputs": [
    {
     "name": "stdout",
     "output_type": "stream",
     "text": [
      "\n",
      "=== DecisionTreeClassifierOpt ===\n",
      "Accuracy score: 0.9902\n",
      "F1-score (weighted): 0.9901\n",
      "\n",
      "---- Reporte de entrenamiento ----\n",
      "              precision    recall  f1-score   support\n",
      "\n",
      "         red       1.00      1.00      1.00      1199\n",
      "       white       1.00      1.00      1.00      3673\n",
      "\n",
      "    accuracy                           1.00      4872\n",
      "   macro avg       1.00      1.00      1.00      4872\n",
      "weighted avg       1.00      1.00      1.00      4872\n",
      "\n",
      "---- Reporte de prueba ----\n",
      "              precision    recall  f1-score   support\n",
      "\n",
      "         red       0.98      0.98      0.98       400\n",
      "       white       0.99      0.99      0.99      1225\n",
      "\n",
      "    accuracy                           0.99      1625\n",
      "   macro avg       0.99      0.99      0.99      1625\n",
      "weighted avg       0.99      0.99      0.99      1625\n",
      "\n",
      "-------------------------\n",
      "\n"
     ]
    },
    {
     "data": {
      "text/html": [
       "<div>\n",
       "<style scoped>\n",
       "    .dataframe tbody tr th:only-of-type {\n",
       "        vertical-align: middle;\n",
       "    }\n",
       "\n",
       "    .dataframe tbody tr th {\n",
       "        vertical-align: top;\n",
       "    }\n",
       "\n",
       "    .dataframe thead th {\n",
       "        text-align: right;\n",
       "    }\n",
       "</style>\n",
       "<table border=\"1\" class=\"dataframe\">\n",
       "  <thead>\n",
       "    <tr style=\"text-align: right;\">\n",
       "      <th></th>\n",
       "      <th>train_time (s)</th>\n",
       "      <th>f1_weighted</th>\n",
       "      <th>accuracy</th>\n",
       "    </tr>\n",
       "  </thead>\n",
       "  <tbody>\n",
       "    <tr>\n",
       "      <th>LogisticRegression</th>\n",
       "      <td>0.037896</td>\n",
       "      <td>0.991385</td>\n",
       "      <td>0.991385</td>\n",
       "    </tr>\n",
       "    <tr>\n",
       "      <th>DecisionTreeClassifier</th>\n",
       "      <td>0.031052</td>\n",
       "      <td>0.985304</td>\n",
       "      <td>0.985231</td>\n",
       "    </tr>\n",
       "    <tr>\n",
       "      <th>DecisionTreeClassifierOpt</th>\n",
       "      <td>18.064909</td>\n",
       "      <td>0.990146</td>\n",
       "      <td>0.990154</td>\n",
       "    </tr>\n",
       "    <tr>\n",
       "      <th>RandomForestClassifier</th>\n",
       "      <td>0.369008</td>\n",
       "      <td>0.995077</td>\n",
       "      <td>0.995077</td>\n",
       "    </tr>\n",
       "    <tr>\n",
       "      <th>RandomForestClassifierOpt</th>\n",
       "      <td>29.581718</td>\n",
       "      <td>0.994464</td>\n",
       "      <td>0.994462</td>\n",
       "    </tr>\n",
       "    <tr>\n",
       "      <th>XGBClassifier</th>\n",
       "      <td>0.080772</td>\n",
       "      <td>0.995698</td>\n",
       "      <td>0.995692</td>\n",
       "    </tr>\n",
       "    <tr>\n",
       "      <th>XGBClassifierOpt</th>\n",
       "      <td>16.044848</td>\n",
       "      <td>0.996305</td>\n",
       "      <td>0.996308</td>\n",
       "    </tr>\n",
       "  </tbody>\n",
       "</table>\n",
       "</div>"
      ],
      "text/plain": [
       "                          train_time (s) f1_weighted  accuracy\n",
       "LogisticRegression              0.037896    0.991385  0.991385\n",
       "DecisionTreeClassifier          0.031052    0.985304  0.985231\n",
       "DecisionTreeClassifierOpt      18.064909    0.990146  0.990154\n",
       "RandomForestClassifier          0.369008    0.995077  0.995077\n",
       "RandomForestClassifierOpt      29.581718    0.994464  0.994462\n",
       "XGBClassifier                   0.080772    0.995698  0.995692\n",
       "XGBClassifierOpt               16.044848    0.996305  0.996308"
      ]
     },
     "execution_count": 75,
     "metadata": {},
     "output_type": "execute_result"
    }
   ],
   "source": [
    "evaluar_modelo(\n",
    "    nombre_modelo='DecisionTreeClassifierOpt',\n",
    "    tipo_modelo='c',\n",
    "    y_train_true=y_train_clf,\n",
    "    y_train_pred=type_dt_opt_clf_train_pred,\n",
    "    y_test_true=y_test_clf,\n",
    "    y_test_pred=type_dt_opt_clf_test_pred,\n",
    "    df_resultados=type_modelos_clasificación_rendimiento,\n",
    "    train_time=type_dt_opt_clf_time\n",
    ")"
   ]
  },
  {
   "cell_type": "markdown",
   "metadata": {
    "id": "2q3D4QOYBa9t"
   },
   "source": [
    "#### LogisticRegression optimizado"
   ]
  },
  {
   "cell_type": "markdown",
   "metadata": {
    "id": "-Y7DdE6GBa9v"
   },
   "source": [
    "1. Definiendo grilla de hiperparámetros para `LogisticRegression optimizado `"
   ]
  },
  {
   "cell_type": "code",
   "execution_count": 76,
   "metadata": {
    "executionInfo": {
     "elapsed": 1,
     "status": "ok",
     "timestamp": 1758848823765,
     "user": {
      "displayName": "Ian Yané",
      "userId": "09070912689777423281"
     },
     "user_tz": 180
    },
    "id": "C-ASytaDBmNL"
   },
   "outputs": [],
   "source": [
    "param_grid_logreg = {\n",
    "    \"penalty\": [\"l1\", \"l2\", \"elasticnet\", \"none\"],\n",
    "    \"C\": [0.01, 0.1, 1, 10, 100],\n",
    "    \"solver\": [\"lbfgs\", \"liblinear\", \"saga\"],\n",
    "    \"max_iter\": [100, 500, 1000],\n",
    "    \"class_weight\": [None, \"balanced\"]\n",
    "}"
   ]
  },
  {
   "cell_type": "markdown",
   "metadata": {
    "id": "Y5NmCfLxBa9v"
   },
   "source": [
    "2. Instanciando `GridSearchCV` con una instancia de `LogisticRegression optimizado `"
   ]
  },
  {
   "cell_type": "code",
   "execution_count": 77,
   "metadata": {
    "executionInfo": {
     "elapsed": 0,
     "status": "ok",
     "timestamp": 1758848823766,
     "user": {
      "displayName": "Ian Yané",
      "userId": "09070912689777423281"
     },
     "user_tz": 180
    },
    "id": "I4hrKHTgBxI_"
   },
   "outputs": [],
   "source": [
    "type_log_reg_opt = GridSearchCV(\n",
    "    estimator=LogisticRegression(\n",
    "        random_state=42\n",
    "        ),\n",
    "    param_grid=param_grid_logreg,\n",
    "    cv=3,\n",
    "    scoring=['accuracy', 'f1_weighted'],\n",
    "    refit = 'f1_weighted'\n",
    ")"
   ]
  },
  {
   "cell_type": "markdown",
   "metadata": {
    "id": "bMDg-4s2Ba9v"
   },
   "source": [
    "3. Entrenando la instancia de `GridSearchCV`"
   ]
  },
  {
   "cell_type": "code",
   "execution_count": 78,
   "metadata": {
    "colab": {
     "base_uri": "https://localhost:8080/"
    },
    "executionInfo": {
     "elapsed": 41312,
     "status": "ok",
     "timestamp": 1758848865079,
     "user": {
      "displayName": "Ian Yané",
      "userId": "09070912689777423281"
     },
     "user_tz": 180
    },
    "id": "KF90VFg-CINR",
    "outputId": "4cf78bb6-7b9d-4bc1-ce3e-b5acd44efca0"
   },
   "outputs": [],
   "source": [
    "type_log_reg_opt_init_time = time()\n",
    "\n",
    "type_log_reg_opt.fit(X_train_clf_scaled, y_train_clf)\n",
    "\n",
    "type_log_reg_opt_finish_time = time()\n",
    "type_log_reg_opt_time = type_log_reg_opt_finish_time - type_log_reg_opt_init_time"
   ]
  },
  {
   "cell_type": "markdown",
   "metadata": {
    "id": "iq-Rt5WDBa9w"
   },
   "source": [
    "4. Predicciones utilizando la instancia"
   ]
  },
  {
   "cell_type": "code",
   "execution_count": 79,
   "metadata": {
    "executionInfo": {
     "elapsed": 5,
     "status": "ok",
     "timestamp": 1758848865108,
     "user": {
      "displayName": "Ian Yané",
      "userId": "09070912689777423281"
     },
     "user_tz": 180
    },
    "id": "XZAlUBT6CjlB"
   },
   "outputs": [],
   "source": [
    "type_log_reg_opt_train_preds = type_log_reg_opt.predict(X_train_clf_scaled)\n",
    "type_log_reg_opt_test_preds = type_log_reg_opt.predict(X_test_clf_scaled)"
   ]
  },
  {
   "cell_type": "markdown",
   "metadata": {
    "id": "KLNaGE-0Ba9w"
   },
   "source": [
    "5. Evaluación utilizando la instancia"
   ]
  },
  {
   "cell_type": "code",
   "execution_count": 80,
   "metadata": {
    "colab": {
     "base_uri": "https://localhost:8080/"
    },
    "executionInfo": {
     "elapsed": 57,
     "status": "ok",
     "timestamp": 1758848865168,
     "user": {
      "displayName": "Ian Yané",
      "userId": "09070912689777423281"
     },
     "user_tz": 180
    },
    "id": "r8b2G5QjC1OC",
    "outputId": "a01c755e-2dea-428b-b7a6-54042006b790"
   },
   "outputs": [
    {
     "name": "stdout",
     "output_type": "stream",
     "text": [
      "\n",
      "=== LogisticRegressionOpt ===\n",
      "Accuracy score: 0.9945\n",
      "F1-score (weighted): 0.9945\n",
      "\n",
      "---- Reporte de entrenamiento ----\n",
      "              precision    recall  f1-score   support\n",
      "\n",
      "         red       0.99      0.99      0.99      1199\n",
      "       white       1.00      1.00      1.00      3673\n",
      "\n",
      "    accuracy                           0.99      4872\n",
      "   macro avg       0.99      0.99      0.99      4872\n",
      "weighted avg       0.99      0.99      0.99      4872\n",
      "\n",
      "---- Reporte de prueba ----\n",
      "              precision    recall  f1-score   support\n",
      "\n",
      "         red       0.99      0.99      0.99       400\n",
      "       white       1.00      1.00      1.00      1225\n",
      "\n",
      "    accuracy                           0.99      1625\n",
      "   macro avg       0.99      0.99      0.99      1625\n",
      "weighted avg       0.99      0.99      0.99      1625\n",
      "\n",
      "-------------------------\n",
      "\n"
     ]
    },
    {
     "data": {
      "text/html": [
       "<div>\n",
       "<style scoped>\n",
       "    .dataframe tbody tr th:only-of-type {\n",
       "        vertical-align: middle;\n",
       "    }\n",
       "\n",
       "    .dataframe tbody tr th {\n",
       "        vertical-align: top;\n",
       "    }\n",
       "\n",
       "    .dataframe thead th {\n",
       "        text-align: right;\n",
       "    }\n",
       "</style>\n",
       "<table border=\"1\" class=\"dataframe\">\n",
       "  <thead>\n",
       "    <tr style=\"text-align: right;\">\n",
       "      <th></th>\n",
       "      <th>train_time (s)</th>\n",
       "      <th>f1_weighted</th>\n",
       "      <th>accuracy</th>\n",
       "    </tr>\n",
       "  </thead>\n",
       "  <tbody>\n",
       "    <tr>\n",
       "      <th>LogisticRegression</th>\n",
       "      <td>0.037896</td>\n",
       "      <td>0.991385</td>\n",
       "      <td>0.991385</td>\n",
       "    </tr>\n",
       "    <tr>\n",
       "      <th>DecisionTreeClassifier</th>\n",
       "      <td>0.031052</td>\n",
       "      <td>0.985304</td>\n",
       "      <td>0.985231</td>\n",
       "    </tr>\n",
       "    <tr>\n",
       "      <th>DecisionTreeClassifierOpt</th>\n",
       "      <td>18.064909</td>\n",
       "      <td>0.990146</td>\n",
       "      <td>0.990154</td>\n",
       "    </tr>\n",
       "    <tr>\n",
       "      <th>RandomForestClassifier</th>\n",
       "      <td>0.369008</td>\n",
       "      <td>0.995077</td>\n",
       "      <td>0.995077</td>\n",
       "    </tr>\n",
       "    <tr>\n",
       "      <th>RandomForestClassifierOpt</th>\n",
       "      <td>29.581718</td>\n",
       "      <td>0.994464</td>\n",
       "      <td>0.994462</td>\n",
       "    </tr>\n",
       "    <tr>\n",
       "      <th>XGBClassifier</th>\n",
       "      <td>0.080772</td>\n",
       "      <td>0.995698</td>\n",
       "      <td>0.995692</td>\n",
       "    </tr>\n",
       "    <tr>\n",
       "      <th>XGBClassifierOpt</th>\n",
       "      <td>16.044848</td>\n",
       "      <td>0.996305</td>\n",
       "      <td>0.996308</td>\n",
       "    </tr>\n",
       "    <tr>\n",
       "      <th>LogisticRegressionOpt</th>\n",
       "      <td>34.873835</td>\n",
       "      <td>0.994464</td>\n",
       "      <td>0.994462</td>\n",
       "    </tr>\n",
       "  </tbody>\n",
       "</table>\n",
       "</div>"
      ],
      "text/plain": [
       "                          train_time (s) f1_weighted  accuracy\n",
       "LogisticRegression              0.037896    0.991385  0.991385\n",
       "DecisionTreeClassifier          0.031052    0.985304  0.985231\n",
       "DecisionTreeClassifierOpt      18.064909    0.990146  0.990154\n",
       "RandomForestClassifier          0.369008    0.995077  0.995077\n",
       "RandomForestClassifierOpt      29.581718    0.994464  0.994462\n",
       "XGBClassifier                   0.080772    0.995698  0.995692\n",
       "XGBClassifierOpt               16.044848    0.996305  0.996308\n",
       "LogisticRegressionOpt          34.873835    0.994464  0.994462"
      ]
     },
     "execution_count": 80,
     "metadata": {},
     "output_type": "execute_result"
    }
   ],
   "source": [
    "evaluar_modelo(\n",
    "    nombre_modelo='LogisticRegressionOpt',\n",
    "    tipo_modelo='c',\n",
    "    y_train_true=y_train_clf,\n",
    "    y_train_pred=type_log_reg_opt_train_preds,\n",
    "    y_test_true=y_test_clf,\n",
    "    y_test_pred=type_log_reg_opt_test_preds,\n",
    "    df_resultados=type_modelos_clasificación_rendimiento,\n",
    "    train_time=type_log_reg_opt_time\n",
    ")"
   ]
  },
  {
   "cell_type": "markdown",
   "metadata": {
    "id": "O6qiAm0a6OGG"
   },
   "source": [
    "<a name=\"conclusion_clasificacion\"></a>\n",
    "### 4.4. (A COMPLETAR) Tabla de Resultados y Conclusión de Clasificación\n",
    "Completen la siguiente tabla con los resultados obtenidos y escriban una conclusión clara."
   ]
  },
  {
   "cell_type": "code",
   "execution_count": 81,
   "metadata": {
    "colab": {
     "base_uri": "https://localhost:8080/",
     "height": 331
    },
    "executionInfo": {
     "elapsed": 7,
     "status": "ok",
     "timestamp": 1758848865176,
     "user": {
      "displayName": "Ian Yané",
      "userId": "09070912689777423281"
     },
     "user_tz": 180
    },
    "id": "Lfw2oyfp6O7B",
    "outputId": "5cf42372-54ca-487b-984e-b55fc1091105"
   },
   "outputs": [],
   "source": [
    "type_modelos_clasificación_rendimiento = type_modelos_clasificación_rendimiento.round(2)"
   ]
  },
  {
   "cell_type": "code",
   "execution_count": 82,
   "metadata": {
    "colab": {
     "base_uri": "https://localhost:8080/",
     "height": 815
    },
    "executionInfo": {
     "elapsed": 206,
     "status": "ok",
     "timestamp": 1758848865384,
     "user": {
      "displayName": "Ian Yané",
      "userId": "09070912689777423281"
     },
     "user_tz": 180
    },
    "id": "_YxigY2x6Pbj",
    "outputId": "2ac3c364-4a6a-41ed-cdeb-9b18f2269cad"
   },
   "outputs": [
    {
     "data": {
      "image/png": "[encoded data removed]",
      "text/plain": [
       "<Figure size 1000x1000 with 1 Axes>"
      ]
     },
     "metadata": {},
     "output_type": "display_data"
    }
   ],
   "source": [
    "train_time_mean = type_modelos_clasificación_rendimiento['train_time (s)'].mean()\n",
    "train_time_min = type_modelos_clasificación_rendimiento['train_time (s)'].min()\n",
    "\n",
    "fig = plt.figure(figsize=(10, 10))\n",
    "ax = plt.axes()\n",
    "\n",
    "sns.barplot(y='train_time (s)', data=type_modelos_clasificación_rendimiento, ax=ax, hue=type_modelos_clasificación_rendimiento.index)\n",
    "ax.axhline(train_time_mean, label=f'Mean of train time: {train_time_mean}', c='red', linestyle='--')\n",
    "ax.axhline(train_time_min, label=f'Min of train time: {train_time_min}', c='green', linestyle='-')\n",
    "ax.legend()\n",
    "\n",
    "plt.show()"
   ]
  },
  {
   "cell_type": "code",
   "execution_count": 83,
   "metadata": {
    "colab": {
     "base_uri": "https://localhost:8080/",
     "height": 815
    },
    "executionInfo": {
     "elapsed": 221,
     "status": "ok",
     "timestamp": 1758848865625,
     "user": {
      "displayName": "Ian Yané",
      "userId": "09070912689777423281"
     },
     "user_tz": 180
    },
    "id": "6vOM1AGK9sYj",
    "outputId": "88411cde-5f5b-42ca-ed36-819fdfb8fa24"
   },
   "outputs": [
    {
     "data": {
      "image/png": "[encoded data removed]",
      "text/plain": [
       "<Figure size 1000x1000 with 1 Axes>"
      ]
     },
     "metadata": {},
     "output_type": "display_data"
    }
   ],
   "source": [
    "accuracy_mean = type_modelos_clasificación_rendimiento['accuracy'].mean()\n",
    "accuracy_max = type_modelos_clasificación_rendimiento['accuracy'].max()\n",
    "\n",
    "fig = plt.figure(figsize=(10, 10))\n",
    "ax = plt.axes()\n",
    "\n",
    "sns.barplot(y='accuracy', data=type_modelos_clasificación_rendimiento, ax=ax, hue=type_modelos_clasificación_rendimiento.index)\n",
    "ax.axhline(accuracy_mean, label=f'Mean of accuracy: {accuracy_mean}', c='red', linestyle='--')\n",
    "ax.axhline(accuracy_max, label=f'Max of accuracy: {accuracy_max}', c='green', linestyle='-')\n",
    "\n",
    "ax.legend()\n",
    "plt.show()"
   ]
  },
  {
   "cell_type": "code",
   "execution_count": 84,
   "metadata": {
    "colab": {
     "base_uri": "https://localhost:8080/",
     "height": 815
    },
    "executionInfo": {
     "elapsed": 179,
     "status": "ok",
     "timestamp": 1758848865881,
     "user": {
      "displayName": "Ian Yané",
      "userId": "09070912689777423281"
     },
     "user_tz": 180
    },
    "id": "lC4HOPkQ_O0M",
    "outputId": "402f3235-6f2f-4c89-bda4-8e05752222bd"
   },
   "outputs": [
    {
     "data": {
      "image/png": "[encoded data removed]",
      "text/plain": [
       "<Figure size 1000x1000 with 1 Axes>"
      ]
     },
     "metadata": {},
     "output_type": "display_data"
    }
   ],
   "source": [
    "f1_mean = type_modelos_clasificación_rendimiento['f1_weighted'].mean()\n",
    "f1_max = type_modelos_clasificación_rendimiento['f1_weighted'].max()\n",
    "\n",
    "fig = plt.figure(figsize=(10, 10))\n",
    "ax = plt.axes()\n",
    "\n",
    "sns.barplot(y='f1_weighted', data=type_modelos_clasificación_rendimiento, ax=ax, hue=type_modelos_clasificación_rendimiento.index)\n",
    "ax.axhline(accuracy_mean, label=f'Mean of f1: {f1_mean}', c='red', linestyle='--')\n",
    "ax.axhline(accuracy_max, label=f'Max of f1: {f1_max}', c='green', linestyle='-')\n",
    "\n",
    "ax.legend()\n",
    "plt.show()"
   ]
  },
  {
   "cell_type": "code",
   "execution_count": 85,
   "metadata": {},
   "outputs": [
    {
     "data": {
      "text/html": [
       "<div>\n",
       "<style scoped>\n",
       "    .dataframe tbody tr th:only-of-type {\n",
       "        vertical-align: middle;\n",
       "    }\n",
       "\n",
       "    .dataframe tbody tr th {\n",
       "        vertical-align: top;\n",
       "    }\n",
       "\n",
       "    .dataframe thead th {\n",
       "        text-align: right;\n",
       "    }\n",
       "</style>\n",
       "<table border=\"1\" class=\"dataframe\">\n",
       "  <thead>\n",
       "    <tr style=\"text-align: right;\">\n",
       "      <th></th>\n",
       "      <th>train_time (s)</th>\n",
       "      <th>f1_weighted</th>\n",
       "      <th>accuracy</th>\n",
       "    </tr>\n",
       "  </thead>\n",
       "  <tbody>\n",
       "    <tr>\n",
       "      <th>LogisticRegression</th>\n",
       "      <td>0.037896</td>\n",
       "      <td>0.991385</td>\n",
       "      <td>0.991385</td>\n",
       "    </tr>\n",
       "    <tr>\n",
       "      <th>DecisionTreeClassifier</th>\n",
       "      <td>0.031052</td>\n",
       "      <td>0.985304</td>\n",
       "      <td>0.985231</td>\n",
       "    </tr>\n",
       "    <tr>\n",
       "      <th>DecisionTreeClassifierOpt</th>\n",
       "      <td>18.064909</td>\n",
       "      <td>0.990146</td>\n",
       "      <td>0.990154</td>\n",
       "    </tr>\n",
       "    <tr>\n",
       "      <th>RandomForestClassifier</th>\n",
       "      <td>0.369008</td>\n",
       "      <td>0.995077</td>\n",
       "      <td>0.995077</td>\n",
       "    </tr>\n",
       "    <tr>\n",
       "      <th>RandomForestClassifierOpt</th>\n",
       "      <td>29.581718</td>\n",
       "      <td>0.994464</td>\n",
       "      <td>0.994462</td>\n",
       "    </tr>\n",
       "    <tr>\n",
       "      <th>XGBClassifier</th>\n",
       "      <td>0.080772</td>\n",
       "      <td>0.995698</td>\n",
       "      <td>0.995692</td>\n",
       "    </tr>\n",
       "    <tr>\n",
       "      <th>XGBClassifierOpt</th>\n",
       "      <td>16.044848</td>\n",
       "      <td>0.996305</td>\n",
       "      <td>0.996308</td>\n",
       "    </tr>\n",
       "    <tr>\n",
       "      <th>LogisticRegressionOpt</th>\n",
       "      <td>34.873835</td>\n",
       "      <td>0.994464</td>\n",
       "      <td>0.994462</td>\n",
       "    </tr>\n",
       "  </tbody>\n",
       "</table>\n",
       "</div>"
      ],
      "text/plain": [
       "                          train_time (s) f1_weighted  accuracy\n",
       "LogisticRegression              0.037896    0.991385  0.991385\n",
       "DecisionTreeClassifier          0.031052    0.985304  0.985231\n",
       "DecisionTreeClassifierOpt      18.064909    0.990146  0.990154\n",
       "RandomForestClassifier          0.369008    0.995077  0.995077\n",
       "RandomForestClassifierOpt      29.581718    0.994464  0.994462\n",
       "XGBClassifier                   0.080772    0.995698  0.995692\n",
       "XGBClassifierOpt               16.044848    0.996305  0.996308\n",
       "LogisticRegressionOpt          34.873835    0.994464  0.994462"
      ]
     },
     "execution_count": 85,
     "metadata": {},
     "output_type": "execute_result"
    }
   ],
   "source": [
    "type_modelos_clasificación_rendimiento"
   ]
  },
  {
   "cell_type": "code",
   "execution_count": 86,
   "metadata": {
    "executionInfo": {
     "elapsed": 1,
     "status": "ok",
     "timestamp": 1758848865883,
     "user": {
      "displayName": "Ian Yané",
      "userId": "09070912689777423281"
     },
     "user_tz": 180
    },
    "id": "-Q1Omd6MBq-F"
   },
   "outputs": [
    {
     "data": {
      "text/html": [
       "<div>\n",
       "<style scoped>\n",
       "    .dataframe tbody tr th:only-of-type {\n",
       "        vertical-align: middle;\n",
       "    }\n",
       "\n",
       "    .dataframe tbody tr th {\n",
       "        vertical-align: top;\n",
       "    }\n",
       "\n",
       "    .dataframe thead th {\n",
       "        text-align: right;\n",
       "    }\n",
       "</style>\n",
       "<table border=\"1\" class=\"dataframe\">\n",
       "  <thead>\n",
       "    <tr style=\"text-align: right;\">\n",
       "      <th></th>\n",
       "      <th>train_time (s)</th>\n",
       "      <th>f1_weighted</th>\n",
       "      <th>accuracy</th>\n",
       "    </tr>\n",
       "  </thead>\n",
       "  <tbody>\n",
       "  </tbody>\n",
       "</table>\n",
       "</div>"
      ],
      "text/plain": [
       "Empty DataFrame\n",
       "Columns: [train_time (s), f1_weighted, accuracy]\n",
       "Index: []"
      ]
     },
     "execution_count": 86,
     "metadata": {},
     "output_type": "execute_result"
    }
   ],
   "source": [
    "mask_type_modelos_clasificación_rendimiento = (\n",
    "    (type_modelos_clasificación_rendimiento['f1_weighted'] >= type_modelos_clasificación_rendimiento['f1_weighted'].quantile(0.90)) &\n",
    "    (type_modelos_clasificación_rendimiento['accuracy'] >= type_modelos_clasificación_rendimiento['accuracy'].quantile(0.90)) &\n",
    "    (type_modelos_clasificación_rendimiento['train_time (s)'] < type_modelos_clasificación_rendimiento['train_time (s)'].quantile(0.50))\n",
    ")\n",
    "\n",
    "type_modelos_clasificación_rendimiento_filtrado = type_modelos_clasificación_rendimiento[mask_type_modelos_clasificación_rendimiento]\n",
    "type_modelos_clasificación_rendimiento_filtrado"
   ]
  },
  {
   "cell_type": "code",
   "execution_count": 87,
   "metadata": {
    "colab": {
     "base_uri": "https://localhost:8080/",
     "height": 49
    },
    "executionInfo": {
     "elapsed": 3,
     "status": "ok",
     "timestamp": 1758848865887,
     "user": {
      "displayName": "Ian Yané",
      "userId": "09070912689777423281"
     },
     "user_tz": 180
    },
    "id": "7OD_jQc3ER16",
    "outputId": "0806c4ab-132d-447c-f725-cc7abfa0d900"
   },
   "outputs": [
    {
     "data": {
      "text/html": [
       "<style type=\"text/css\">\n",
       "#T_38d6b_row5_col0, #T_38d6b_row5_col1, #T_38d6b_row5_col2 {\n",
       "  background-color: lightgreen;\n",
       "}\n",
       "</style>\n",
       "<table id=\"T_38d6b\">\n",
       "  <thead>\n",
       "    <tr>\n",
       "      <th class=\"blank level0\" >&nbsp;</th>\n",
       "      <th id=\"T_38d6b_level0_col0\" class=\"col_heading level0 col0\" >train_time (s)</th>\n",
       "      <th id=\"T_38d6b_level0_col1\" class=\"col_heading level0 col1\" >f1_weighted</th>\n",
       "      <th id=\"T_38d6b_level0_col2\" class=\"col_heading level0 col2\" >accuracy</th>\n",
       "    </tr>\n",
       "  </thead>\n",
       "  <tbody>\n",
       "    <tr>\n",
       "      <th id=\"T_38d6b_level0_row0\" class=\"row_heading level0 row0\" >LogisticRegression</th>\n",
       "      <td id=\"T_38d6b_row0_col0\" class=\"data row0 col0\" >0.037896</td>\n",
       "      <td id=\"T_38d6b_row0_col1\" class=\"data row0 col1\" >0.991385</td>\n",
       "      <td id=\"T_38d6b_row0_col2\" class=\"data row0 col2\" >0.991385</td>\n",
       "    </tr>\n",
       "    <tr>\n",
       "      <th id=\"T_38d6b_level0_row1\" class=\"row_heading level0 row1\" >DecisionTreeClassifier</th>\n",
       "      <td id=\"T_38d6b_row1_col0\" class=\"data row1 col0\" >0.031052</td>\n",
       "      <td id=\"T_38d6b_row1_col1\" class=\"data row1 col1\" >0.985304</td>\n",
       "      <td id=\"T_38d6b_row1_col2\" class=\"data row1 col2\" >0.985231</td>\n",
       "    </tr>\n",
       "    <tr>\n",
       "      <th id=\"T_38d6b_level0_row2\" class=\"row_heading level0 row2\" >DecisionTreeClassifierOpt</th>\n",
       "      <td id=\"T_38d6b_row2_col0\" class=\"data row2 col0\" >18.064909</td>\n",
       "      <td id=\"T_38d6b_row2_col1\" class=\"data row2 col1\" >0.990146</td>\n",
       "      <td id=\"T_38d6b_row2_col2\" class=\"data row2 col2\" >0.990154</td>\n",
       "    </tr>\n",
       "    <tr>\n",
       "      <th id=\"T_38d6b_level0_row3\" class=\"row_heading level0 row3\" >RandomForestClassifier</th>\n",
       "      <td id=\"T_38d6b_row3_col0\" class=\"data row3 col0\" >0.369008</td>\n",
       "      <td id=\"T_38d6b_row3_col1\" class=\"data row3 col1\" >0.995077</td>\n",
       "      <td id=\"T_38d6b_row3_col2\" class=\"data row3 col2\" >0.995077</td>\n",
       "    </tr>\n",
       "    <tr>\n",
       "      <th id=\"T_38d6b_level0_row4\" class=\"row_heading level0 row4\" >RandomForestClassifierOpt</th>\n",
       "      <td id=\"T_38d6b_row4_col0\" class=\"data row4 col0\" >29.581718</td>\n",
       "      <td id=\"T_38d6b_row4_col1\" class=\"data row4 col1\" >0.994464</td>\n",
       "      <td id=\"T_38d6b_row4_col2\" class=\"data row4 col2\" >0.994462</td>\n",
       "    </tr>\n",
       "    <tr>\n",
       "      <th id=\"T_38d6b_level0_row5\" class=\"row_heading level0 row5\" >XGBClassifier</th>\n",
       "      <td id=\"T_38d6b_row5_col0\" class=\"data row5 col0\" >0.080772</td>\n",
       "      <td id=\"T_38d6b_row5_col1\" class=\"data row5 col1\" >0.995698</td>\n",
       "      <td id=\"T_38d6b_row5_col2\" class=\"data row5 col2\" >0.995692</td>\n",
       "    </tr>\n",
       "    <tr>\n",
       "      <th id=\"T_38d6b_level0_row6\" class=\"row_heading level0 row6\" >XGBClassifierOpt</th>\n",
       "      <td id=\"T_38d6b_row6_col0\" class=\"data row6 col0\" >16.044848</td>\n",
       "      <td id=\"T_38d6b_row6_col1\" class=\"data row6 col1\" >0.996305</td>\n",
       "      <td id=\"T_38d6b_row6_col2\" class=\"data row6 col2\" >0.996308</td>\n",
       "    </tr>\n",
       "    <tr>\n",
       "      <th id=\"T_38d6b_level0_row7\" class=\"row_heading level0 row7\" >LogisticRegressionOpt</th>\n",
       "      <td id=\"T_38d6b_row7_col0\" class=\"data row7 col0\" >34.873835</td>\n",
       "      <td id=\"T_38d6b_row7_col1\" class=\"data row7 col1\" >0.994464</td>\n",
       "      <td id=\"T_38d6b_row7_col2\" class=\"data row7 col2\" >0.994462</td>\n",
       "    </tr>\n",
       "  </tbody>\n",
       "</table>\n"
      ],
      "text/plain": [
       "<pandas.io.formats.style.Styler at 0x133c85ee0>"
      ]
     },
     "execution_count": 87,
     "metadata": {},
     "output_type": "execute_result"
    }
   ],
   "source": [
    "row_index = 'XGBClassifier'\n",
    "\n",
    "# Aplicar estilo\n",
    "type_modelos_clasificación_rendimiento.style.apply(highlight_best, axis=1, row_index=row_index)"
   ]
  },
  {
   "cell_type": "markdown",
   "metadata": {
    "id": "r33hrnfi6QB3"
   },
   "source": [
    "Deberán completar la siguiente tabla:\n",
    "\n",
    "| Modelo                     | train_time (s) | f1_weighted | accuracy |\n",
    "|-----------------------------|----------------|--------------|-----------|\n",
    "| LogisticRegression          | 0.026981       | 0.991385     | 0.991385  |\n",
    "| DecisionTreeClassifier      | 0.032411       | 0.985304     | 0.985231  |\n",
    "| DecisionTreeClassifierOpt   | 17.013472      | 0.990146     | 0.990154  |\n",
    "| RandomForestClassifier      | 0.357099       | 0.995077     | 0.995077  |\n",
    "| RandomForestClassifierOpt   | 41.767387      | 0.995690     | 0.995692  |\n",
    "| XGBClassifier               | 0.406215       | 0.995698     | 0.995692  |\n",
    "| XGBClassifierOpt            | 9.272773       | 0.996924     | 0.996923  |\n",
    "| LogisticRegressionOpt       | 40.269545      | 0.994464     | 0.994462  |\n",
    "---\n",
    "\n",
    "### Conclusión de la Tarea de Clasificación\n",
    "\n",
    "**Escriban su conclusión aquí.**\n",
    "*Basándose en las métricas, ¿qué modelo es el mejor para esta tarea? ¿Por qué? Consideren no solo la performance (Accuracy/F1-score) sino también otros factores como el tiempo de entrenamiento o la interpretabilidad.*"
   ]
  },
  {
   "cell_type": "markdown",
   "metadata": {},
   "source": [
    "<font color='green'>Respuesta:</font>\n",
    "\n",
    "El modelo que mostró el mejor equilibrio entre rendimiento, tiempo de entrenamiento e interpretabilidad fue el XGBClassifier en su configuración base, sin la aplicación de GridSearchCV. Este modelo logró una alta tasa de aciertos con un costo computacional moderado, lo que lo convierte en una opción sólida y eficiente para este tipo de tarea."
   ]
  },
  {
   "cell_type": "markdown",
   "metadata": {},
   "source": [
    "---"
   ]
  },
  {
   "cell_type": "markdown",
   "metadata": {
    "id": "tOGfjvw16dea"
   },
   "source": [
    "<a name=\"regresion\"></a>\n",
    "## 5. Tarea 2: Regresión (Predecir Calidad del Vino)\n",
    "Ahora, el objetivo es predecir la puntuación de `quality` del vino."
   ]
  },
  {
   "cell_type": "markdown",
   "metadata": {
    "id": "8DHmxryj6epp"
   },
   "source": [
    "<a name=\"prep_regresion\"></a>\n",
    "### 5.1. Preparación de Datos para Regresión"
   ]
  },
  {
   "cell_type": "code",
   "execution_count": 88,
   "metadata": {},
   "outputs": [],
   "source": [
    "models = ['LinearRegression', 'DecisionTreeRegressor', 'RandomForestRegressor']\n",
    "\n",
    "columnas_rendimiento = ['train_time (s)', 'RMSE', 'R2']\n",
    "\n",
    "quality_modelos_regression_rendimiento = pd.DataFrame(\n",
    "    columns=columnas_rendimiento,\n",
    "    index=models\n",
    ")"
   ]
  },
  {
   "cell_type": "code",
   "execution_count": 89,
   "metadata": {
    "executionInfo": {
     "elapsed": 1,
     "status": "ok",
     "timestamp": 1758848865909,
     "user": {
      "displayName": "Ian Yané",
      "userId": "09070912689777423281"
     },
     "user_tz": 180
    },
    "id": "mSlQ0q66yMzN"
   },
   "outputs": [],
   "source": [
    "# Definición de Features (X) y Target (y)\n",
    "# Usaremos las mismas features, pero sin 'type' y el target ahora es 'quality'\n",
    "X_reg = df.drop(['type', 'quality'], axis=1)\n",
    "y_reg = df['quality']"
   ]
  },
  {
   "cell_type": "code",
   "execution_count": 90,
   "metadata": {
    "executionInfo": {
     "elapsed": 0,
     "status": "ok",
     "timestamp": 1758848865910,
     "user": {
      "displayName": "Ian Yané",
      "userId": "09070912689777423281"
     },
     "user_tz": 180
    },
    "id": "lq8_n9MOyODY"
   },
   "outputs": [],
   "source": [
    "# División en Train y Test\n",
    "X_train_reg, X_test_reg, y_train_reg, y_test_reg = train_test_split(\n",
    "    X_reg, y_reg, test_size=0.25, random_state=42\n",
    ")"
   ]
  },
  {
   "cell_type": "code",
   "execution_count": 91,
   "metadata": {
    "executionInfo": {
     "elapsed": 1,
     "status": "ok",
     "timestamp": 1758848865912,
     "user": {
      "displayName": "Ian Yané",
      "userId": "09070912689777423281"
     },
     "user_tz": 180
    },
    "id": "wZYIqHz-yTVI"
   },
   "outputs": [],
   "source": [
    "# Escalamiento de datos\n",
    "scaler_reg = StandardScaler()\n",
    "\n",
    "X_train_reg_scaled = scaler_reg.fit_transform(X_train_reg)\n",
    "X_test_reg_scaled = scaler_reg.transform(X_test_reg)"
   ]
  },
  {
   "cell_type": "markdown",
   "metadata": {
    "id": "uzYURZkX6gzt"
   },
   "source": [
    "<a name=\"modelo_base_regresion\"></a>\n",
    "### 5.2. Modelo Base de Regresión"
   ]
  },
  {
   "cell_type": "markdown",
   "metadata": {
    "id": "GkaYN4n-yYS4"
   },
   "source": [
    "Modelo base 1: Regresión Lineal"
   ]
  },
  {
   "cell_type": "code",
   "execution_count": 92,
   "metadata": {
    "executionInfo": {
     "elapsed": 2,
     "status": "ok",
     "timestamp": 1758848865915,
     "user": {
      "displayName": "Ian Yané",
      "userId": "09070912689777423281"
     },
     "user_tz": 180
    },
    "id": "E27p7DXEya0u"
   },
   "outputs": [],
   "source": [
    "quality_lin_reg = LinearRegression()"
   ]
  },
  {
   "cell_type": "code",
   "execution_count": 93,
   "metadata": {
    "colab": {
     "base_uri": "https://localhost:8080/",
     "height": 80
    },
    "executionInfo": {
     "elapsed": 14,
     "status": "ok",
     "timestamp": 1758848865930,
     "user": {
      "displayName": "Ian Yané",
      "userId": "09070912689777423281"
     },
     "user_tz": 180
    },
    "id": "iy_Ei3yJycba",
    "outputId": "d0bc2a13-3f88-42b1-c273-6d3050b23c31"
   },
   "outputs": [],
   "source": [
    "quality_lin_reg_init_time = time()\n",
    "\n",
    "quality_lin_reg.fit(X_train_reg_scaled, y_train_reg)\n",
    "\n",
    "quality_lin_reg_finish_time = time()\n",
    "quality_lin_reg_train_time = quality_lin_reg_finish_time - quality_lin_reg_init_time"
   ]
  },
  {
   "cell_type": "code",
   "execution_count": 94,
   "metadata": {
    "executionInfo": {
     "elapsed": 1,
     "status": "ok",
     "timestamp": 1758848865932,
     "user": {
      "displayName": "Ian Yané",
      "userId": "09070912689777423281"
     },
     "user_tz": 180
    },
    "id": "iM2pZAgiydU8"
   },
   "outputs": [],
   "source": [
    "y_test_pred_lin_reg = quality_lin_reg.predict(X_test_reg_scaled)\n",
    "y_train_pred_lin_reg = quality_lin_reg.predict(X_train_reg_scaled)"
   ]
  },
  {
   "cell_type": "code",
   "execution_count": 95,
   "metadata": {
    "colab": {
     "base_uri": "https://localhost:8080/"
    },
    "executionInfo": {
     "elapsed": 48,
     "status": "ok",
     "timestamp": 1758848865981,
     "user": {
      "displayName": "Ian Yané",
      "userId": "09070912689777423281"
     },
     "user_tz": 180
    },
    "id": "TLhjt2AlyfHm",
    "outputId": "6dc6ad5b-68a1-4f97-fa18-8c57f8927f5f"
   },
   "outputs": [
    {
     "name": "stdout",
     "output_type": "stream",
     "text": [
      "\n",
      "=== LinearRegression ===\n",
      "Root Mean Squared Error (RMSE): 0.7421\n",
      "R² Score: 0.2589\n",
      "-------------------------\n",
      "\n"
     ]
    },
    {
     "data": {
      "text/html": [
       "<div>\n",
       "<style scoped>\n",
       "    .dataframe tbody tr th:only-of-type {\n",
       "        vertical-align: middle;\n",
       "    }\n",
       "\n",
       "    .dataframe tbody tr th {\n",
       "        vertical-align: top;\n",
       "    }\n",
       "\n",
       "    .dataframe thead th {\n",
       "        text-align: right;\n",
       "    }\n",
       "</style>\n",
       "<table border=\"1\" class=\"dataframe\">\n",
       "  <thead>\n",
       "    <tr style=\"text-align: right;\">\n",
       "      <th></th>\n",
       "      <th>train_time (s)</th>\n",
       "      <th>RMSE</th>\n",
       "      <th>R2</th>\n",
       "    </tr>\n",
       "  </thead>\n",
       "  <tbody>\n",
       "    <tr>\n",
       "      <th>LinearRegression</th>\n",
       "      <td>0.007915</td>\n",
       "      <td>0.742092</td>\n",
       "      <td>0.258879</td>\n",
       "    </tr>\n",
       "    <tr>\n",
       "      <th>DecisionTreeRegressor</th>\n",
       "      <td>NaN</td>\n",
       "      <td>NaN</td>\n",
       "      <td>NaN</td>\n",
       "    </tr>\n",
       "    <tr>\n",
       "      <th>RandomForestRegressor</th>\n",
       "      <td>NaN</td>\n",
       "      <td>NaN</td>\n",
       "      <td>NaN</td>\n",
       "    </tr>\n",
       "  </tbody>\n",
       "</table>\n",
       "</div>"
      ],
      "text/plain": [
       "                      train_time (s)      RMSE        R2\n",
       "LinearRegression            0.007915  0.742092  0.258879\n",
       "DecisionTreeRegressor            NaN       NaN       NaN\n",
       "RandomForestRegressor            NaN       NaN       NaN"
      ]
     },
     "execution_count": 95,
     "metadata": {},
     "output_type": "execute_result"
    }
   ],
   "source": [
    "evaluar_modelo(\n",
    "    nombre_modelo= 'LinearRegression', \n",
    "    y_train_true= y_train_reg, \n",
    "    y_train_pred=y_train_pred_lin_reg, \n",
    "    y_test_true= y_test_reg, \n",
    "    y_test_pred=y_test_pred_lin_reg, \n",
    "    train_time=quality_lin_reg_train_time,\n",
    "    df_resultados=quality_modelos_regression_rendimiento, \n",
    "    tipo_modelo= 'r'\n",
    "    )"
   ]
  },
  {
   "cell_type": "markdown",
   "metadata": {
    "id": "SgI216ZSyn1t"
   },
   "source": [
    "Modelo base 2: Árbol de Decisión para Regresión"
   ]
  },
  {
   "cell_type": "code",
   "execution_count": 96,
   "metadata": {
    "executionInfo": {
     "elapsed": 3,
     "status": "ok",
     "timestamp": 1758848865981,
     "user": {
      "displayName": "Ian Yané",
      "userId": "09070912689777423281"
     },
     "user_tz": 180
    },
    "id": "qLsIMBYZypt-"
   },
   "outputs": [],
   "source": [
    "quality_tree_reg = DecisionTreeRegressor(max_depth = 3, random_state=42)"
   ]
  },
  {
   "cell_type": "code",
   "execution_count": 97,
   "metadata": {
    "colab": {
     "base_uri": "https://localhost:8080/",
     "height": 80
    },
    "executionInfo": {
     "elapsed": 5,
     "status": "ok",
     "timestamp": 1758848865984,
     "user": {
      "displayName": "Ian Yané",
      "userId": "09070912689777423281"
     },
     "user_tz": 180
    },
    "id": "mZhoiqvKyqi9",
    "outputId": "7f4194c6-f965-47ba-f554-afbba309d119"
   },
   "outputs": [],
   "source": [
    "quality_tree_reg_init_time = time()\n",
    "\n",
    "quality_tree_reg.fit(X_train_reg_scaled, y_train_reg)\n",
    "\n",
    "quality_tree_reg_finish_time = time()\n",
    "quality_tree_reg_train_time = quality_tree_reg_finish_time - quality_tree_reg_init_time"
   ]
  },
  {
   "cell_type": "code",
   "execution_count": 98,
   "metadata": {
    "executionInfo": {
     "elapsed": 1,
     "status": "ok",
     "timestamp": 1758848865986,
     "user": {
      "displayName": "Ian Yané",
      "userId": "09070912689777423281"
     },
     "user_tz": 180
    },
    "id": "foUKxoWPyre8"
   },
   "outputs": [],
   "source": [
    "quality_y_pred_train_tree_reg = quality_tree_reg.predict(X_train_reg_scaled)\n",
    "quality_y_pred_test_tree_reg = quality_tree_reg.predict(X_test_reg_scaled)"
   ]
  },
  {
   "cell_type": "code",
   "execution_count": 99,
   "metadata": {},
   "outputs": [
    {
     "name": "stdout",
     "output_type": "stream",
     "text": [
      "\n",
      "=== DecisionTreeRegressor ===\n",
      "Root Mean Squared Error (RMSE): 0.7493\n",
      "R² Score: 0.2444\n",
      "-------------------------\n",
      "\n"
     ]
    },
    {
     "data": {
      "text/html": [
       "<div>\n",
       "<style scoped>\n",
       "    .dataframe tbody tr th:only-of-type {\n",
       "        vertical-align: middle;\n",
       "    }\n",
       "\n",
       "    .dataframe tbody tr th {\n",
       "        vertical-align: top;\n",
       "    }\n",
       "\n",
       "    .dataframe thead th {\n",
       "        text-align: right;\n",
       "    }\n",
       "</style>\n",
       "<table border=\"1\" class=\"dataframe\">\n",
       "  <thead>\n",
       "    <tr style=\"text-align: right;\">\n",
       "      <th></th>\n",
       "      <th>train_time (s)</th>\n",
       "      <th>RMSE</th>\n",
       "      <th>R2</th>\n",
       "    </tr>\n",
       "  </thead>\n",
       "  <tbody>\n",
       "    <tr>\n",
       "      <th>LinearRegression</th>\n",
       "      <td>0.007915</td>\n",
       "      <td>0.742092</td>\n",
       "      <td>0.258879</td>\n",
       "    </tr>\n",
       "    <tr>\n",
       "      <th>DecisionTreeRegressor</th>\n",
       "      <td>0.007915</td>\n",
       "      <td>0.749311</td>\n",
       "      <td>0.24439</td>\n",
       "    </tr>\n",
       "    <tr>\n",
       "      <th>RandomForestRegressor</th>\n",
       "      <td>NaN</td>\n",
       "      <td>NaN</td>\n",
       "      <td>NaN</td>\n",
       "    </tr>\n",
       "  </tbody>\n",
       "</table>\n",
       "</div>"
      ],
      "text/plain": [
       "                      train_time (s)      RMSE        R2\n",
       "LinearRegression            0.007915  0.742092  0.258879\n",
       "DecisionTreeRegressor       0.007915  0.749311   0.24439\n",
       "RandomForestRegressor            NaN       NaN       NaN"
      ]
     },
     "execution_count": 99,
     "metadata": {},
     "output_type": "execute_result"
    }
   ],
   "source": [
    "evaluar_modelo(\n",
    "    nombre_modelo= 'DecisionTreeRegressor', \n",
    "    y_train_true= y_train_reg, \n",
    "    y_train_pred=quality_y_pred_train_tree_reg, \n",
    "    y_test_true=y_test_reg, \n",
    "    y_test_pred=quality_y_pred_test_tree_reg, \n",
    "    train_time=quality_lin_reg_train_time,\n",
    "    df_resultados=quality_modelos_regression_rendimiento, \n",
    "    tipo_modelo= 'r'\n",
    "    )"
   ]
  },
  {
   "cell_type": "markdown",
   "metadata": {
    "id": "deONCFwXyzoY"
   },
   "source": [
    "Modelo base 3: RandomForest para Regresión"
   ]
  },
  {
   "cell_type": "code",
   "execution_count": 100,
   "metadata": {
    "executionInfo": {
     "elapsed": 3,
     "status": "ok",
     "timestamp": 1758848866033,
     "user": {
      "displayName": "Ian Yané",
      "userId": "09070912689777423281"
     },
     "user_tz": 180
    },
    "id": "EG-il6-9y3bE"
   },
   "outputs": [],
   "source": [
    "quality_rf_reg = RandomForestRegressor(max_depth = 3, random_state=42)"
   ]
  },
  {
   "cell_type": "code",
   "execution_count": 101,
   "metadata": {
    "colab": {
     "base_uri": "https://localhost:8080/",
     "height": 80
    },
    "executionInfo": {
     "elapsed": 666,
     "status": "ok",
     "timestamp": 1758848866697,
     "user": {
      "displayName": "Ian Yané",
      "userId": "09070912689777423281"
     },
     "user_tz": 180
    },
    "id": "TsF6fp0Ry4hP",
    "outputId": "4cc81d1b-0b0c-449b-ad9e-098ffc5e0db7"
   },
   "outputs": [
    {
     "data": {
      "text/html": [
       "<style>#sk-container-id-2 {\n",
       "  /* Definition of color scheme common for light and dark mode */\n",
       "  --sklearn-color-text: #000;\n",
       "  --sklearn-color-text-muted: #666;\n",
       "  --sklearn-color-line: gray;\n",
       "  /* Definition of color scheme for unfitted estimators */\n",
       "  --sklearn-color-unfitted-level-0: #fff5e6;\n",
       "  --sklearn-color-unfitted-level-1: #f6e4d2;\n",
       "  --sklearn-color-unfitted-level-2: #ffe0b3;\n",
       "  --sklearn-color-unfitted-level-3: chocolate;\n",
       "  /* Definition of color scheme for fitted estimators */\n",
       "  --sklearn-color-fitted-level-0: #f0f8ff;\n",
       "  --sklearn-color-fitted-level-1: #d4ebff;\n",
       "  --sklearn-color-fitted-level-2: #b3dbfd;\n",
       "  --sklearn-color-fitted-level-3: cornflowerblue;\n",
       "\n",
       "  /* Specific color for light theme */\n",
       "  --sklearn-color-text-on-default-background: var(--sg-text-color, var(--theme-code-foreground, var(--jp-content-font-color1, black)));\n",
       "  --sklearn-color-background: var(--sg-background-color, var(--theme-background, var(--jp-layout-color0, white)));\n",
       "  --sklearn-color-border-box: var(--sg-text-color, var(--theme-code-foreground, var(--jp-content-font-color1, black)));\n",
       "  --sklearn-color-icon: #696969;\n",
       "\n",
       "  @media (prefers-color-scheme: dark) {\n",
       "    /* Redefinition of color scheme for dark theme */\n",
       "    --sklearn-color-text-on-default-background: var(--sg-text-color, var(--theme-code-foreground, var(--jp-content-font-color1, white)));\n",
       "    --sklearn-color-background: var(--sg-background-color, var(--theme-background, var(--jp-layout-color0, #111)));\n",
       "    --sklearn-color-border-box: var(--sg-text-color, var(--theme-code-foreground, var(--jp-content-font-color1, white)));\n",
       "    --sklearn-color-icon: #878787;\n",
       "  }\n",
       "}\n",
       "\n",
       "#sk-container-id-2 {\n",
       "  color: var(--sklearn-color-text);\n",
       "}\n",
       "\n",
       "#sk-container-id-2 pre {\n",
       "  padding: 0;\n",
       "}\n",
       "\n",
       "#sk-container-id-2 input.sk-hidden--visually {\n",
       "  border: 0;\n",
       "  clip: rect(1px 1px 1px 1px);\n",
       "  clip: rect(1px, 1px, 1px, 1px);\n",
       "  height: 1px;\n",
       "  margin: -1px;\n",
       "  overflow: hidden;\n",
       "  padding: 0;\n",
       "  position: absolute;\n",
       "  width: 1px;\n",
       "}\n",
       "\n",
       "#sk-container-id-2 div.sk-dashed-wrapped {\n",
       "  border: 1px dashed var(--sklearn-color-line);\n",
       "  margin: 0 0.4em 0.5em 0.4em;\n",
       "  box-sizing: border-box;\n",
       "  padding-bottom: 0.4em;\n",
       "  background-color: var(--sklearn-color-background);\n",
       "}\n",
       "\n",
       "#sk-container-id-2 div.sk-container {\n",
       "  /* jupyter's `normalize.less` sets `[hidden] { display: none; }`\n",
       "     but bootstrap.min.css set `[hidden] { display: none !important; }`\n",
       "     so we also need the `!important` here to be able to override the\n",
       "     default hidden behavior on the sphinx rendered scikit-learn.org.\n",
       "     See: https://github.com/scikit-learn/scikit-learn/issues/21755 */\n",
       "  display: inline-block !important;\n",
       "  position: relative;\n",
       "}\n",
       "\n",
       "#sk-container-id-2 div.sk-text-repr-fallback {\n",
       "  display: none;\n",
       "}\n",
       "\n",
       "div.sk-parallel-item,\n",
       "div.sk-serial,\n",
       "div.sk-item {\n",
       "  /* draw centered vertical line to link estimators */\n",
       "  background-image: linear-gradient(var(--sklearn-color-text-on-default-background), var(--sklearn-color-text-on-default-background));\n",
       "  background-size: 2px 100%;\n",
       "  background-repeat: no-repeat;\n",
       "  background-position: center center;\n",
       "}\n",
       "\n",
       "/* Parallel-specific style estimator block */\n",
       "\n",
       "#sk-container-id-2 div.sk-parallel-item::after {\n",
       "  content: \"\";\n",
       "  width: 100%;\n",
       "  border-bottom: 2px solid var(--sklearn-color-text-on-default-background);\n",
       "  flex-grow: 1;\n",
       "}\n",
       "\n",
       "#sk-container-id-2 div.sk-parallel {\n",
       "  display: flex;\n",
       "  align-items: stretch;\n",
       "  justify-content: center;\n",
       "  background-color: var(--sklearn-color-background);\n",
       "  position: relative;\n",
       "}\n",
       "\n",
       "#sk-container-id-2 div.sk-parallel-item {\n",
       "  display: flex;\n",
       "  flex-direction: column;\n",
       "}\n",
       "\n",
       "#sk-container-id-2 div.sk-parallel-item:first-child::after {\n",
       "  align-self: flex-end;\n",
       "  width: 50%;\n",
       "}\n",
       "\n",
       "#sk-container-id-2 div.sk-parallel-item:last-child::after {\n",
       "  align-self: flex-start;\n",
       "  width: 50%;\n",
       "}\n",
       "\n",
       "#sk-container-id-2 div.sk-parallel-item:only-child::after {\n",
       "  width: 0;\n",
       "}\n",
       "\n",
       "/* Serial-specific style estimator block */\n",
       "\n",
       "#sk-container-id-2 div.sk-serial {\n",
       "  display: flex;\n",
       "  flex-direction: column;\n",
       "  align-items: center;\n",
       "  background-color: var(--sklearn-color-background);\n",
       "  padding-right: 1em;\n",
       "  padding-left: 1em;\n",
       "}\n",
       "\n",
       "\n",
       "/* Toggleable style: style used for estimator/Pipeline/ColumnTransformer box that is\n",
       "clickable and can be expanded/collapsed.\n",
       "- Pipeline and ColumnTransformer use this feature and define the default style\n",
       "- Estimators will overwrite some part of the style using the `sk-estimator` class\n",
       "*/\n",
       "\n",
       "/* Pipeline and ColumnTransformer style (default) */\n",
       "\n",
       "#sk-container-id-2 div.sk-toggleable {\n",
       "  /* Default theme specific background. It is overwritten whether we have a\n",
       "  specific estimator or a Pipeline/ColumnTransformer */\n",
       "  background-color: var(--sklearn-color-background);\n",
       "}\n",
       "\n",
       "/* Toggleable label */\n",
       "#sk-container-id-2 label.sk-toggleable__label {\n",
       "  cursor: pointer;\n",
       "  display: flex;\n",
       "  width: 100%;\n",
       "  margin-bottom: 0;\n",
       "  padding: 0.5em;\n",
       "  box-sizing: border-box;\n",
       "  text-align: center;\n",
       "  align-items: start;\n",
       "  justify-content: space-between;\n",
       "  gap: 0.5em;\n",
       "}\n",
       "\n",
       "#sk-container-id-2 label.sk-toggleable__label .caption {\n",
       "  font-size: 0.6rem;\n",
       "  font-weight: lighter;\n",
       "  color: var(--sklearn-color-text-muted);\n",
       "}\n",
       "\n",
       "#sk-container-id-2 label.sk-toggleable__label-arrow:before {\n",
       "  /* Arrow on the left of the label */\n",
       "  content: \"▸\";\n",
       "  float: left;\n",
       "  margin-right: 0.25em;\n",
       "  color: var(--sklearn-color-icon);\n",
       "}\n",
       "\n",
       "#sk-container-id-2 label.sk-toggleable__label-arrow:hover:before {\n",
       "  color: var(--sklearn-color-text);\n",
       "}\n",
       "\n",
       "/* Toggleable content - dropdown */\n",
       "\n",
       "#sk-container-id-2 div.sk-toggleable__content {\n",
       "  max-height: 0;\n",
       "  max-width: 0;\n",
       "  overflow: hidden;\n",
       "  text-align: left;\n",
       "  /* unfitted */\n",
       "  background-color: var(--sklearn-color-unfitted-level-0);\n",
       "}\n",
       "\n",
       "#sk-container-id-2 div.sk-toggleable__content.fitted {\n",
       "  /* fitted */\n",
       "  background-color: var(--sklearn-color-fitted-level-0);\n",
       "}\n",
       "\n",
       "#sk-container-id-2 div.sk-toggleable__content pre {\n",
       "  margin: 0.2em;\n",
       "  border-radius: 0.25em;\n",
       "  color: var(--sklearn-color-text);\n",
       "  /* unfitted */\n",
       "  background-color: var(--sklearn-color-unfitted-level-0);\n",
       "}\n",
       "\n",
       "#sk-container-id-2 div.sk-toggleable__content.fitted pre {\n",
       "  /* unfitted */\n",
       "  background-color: var(--sklearn-color-fitted-level-0);\n",
       "}\n",
       "\n",
       "#sk-container-id-2 input.sk-toggleable__control:checked~div.sk-toggleable__content {\n",
       "  /* Expand drop-down */\n",
       "  max-height: 200px;\n",
       "  max-width: 100%;\n",
       "  overflow: auto;\n",
       "}\n",
       "\n",
       "#sk-container-id-2 input.sk-toggleable__control:checked~label.sk-toggleable__label-arrow:before {\n",
       "  content: \"▾\";\n",
       "}\n",
       "\n",
       "/* Pipeline/ColumnTransformer-specific style */\n",
       "\n",
       "#sk-container-id-2 div.sk-label input.sk-toggleable__control:checked~label.sk-toggleable__label {\n",
       "  color: var(--sklearn-color-text);\n",
       "  background-color: var(--sklearn-color-unfitted-level-2);\n",
       "}\n",
       "\n",
       "#sk-container-id-2 div.sk-label.fitted input.sk-toggleable__control:checked~label.sk-toggleable__label {\n",
       "  background-color: var(--sklearn-color-fitted-level-2);\n",
       "}\n",
       "\n",
       "/* Estimator-specific style */\n",
       "\n",
       "/* Colorize estimator box */\n",
       "#sk-container-id-2 div.sk-estimator input.sk-toggleable__control:checked~label.sk-toggleable__label {\n",
       "  /* unfitted */\n",
       "  background-color: var(--sklearn-color-unfitted-level-2);\n",
       "}\n",
       "\n",
       "#sk-container-id-2 div.sk-estimator.fitted input.sk-toggleable__control:checked~label.sk-toggleable__label {\n",
       "  /* fitted */\n",
       "  background-color: var(--sklearn-color-fitted-level-2);\n",
       "}\n",
       "\n",
       "#sk-container-id-2 div.sk-label label.sk-toggleable__label,\n",
       "#sk-container-id-2 div.sk-label label {\n",
       "  /* The background is the default theme color */\n",
       "  color: var(--sklearn-color-text-on-default-background);\n",
       "}\n",
       "\n",
       "/* On hover, darken the color of the background */\n",
       "#sk-container-id-2 div.sk-label:hover label.sk-toggleable__label {\n",
       "  color: var(--sklearn-color-text);\n",
       "  background-color: var(--sklearn-color-unfitted-level-2);\n",
       "}\n",
       "\n",
       "/* Label box, darken color on hover, fitted */\n",
       "#sk-container-id-2 div.sk-label.fitted:hover label.sk-toggleable__label.fitted {\n",
       "  color: var(--sklearn-color-text);\n",
       "  background-color: var(--sklearn-color-fitted-level-2);\n",
       "}\n",
       "\n",
       "/* Estimator label */\n",
       "\n",
       "#sk-container-id-2 div.sk-label label {\n",
       "  font-family: monospace;\n",
       "  font-weight: bold;\n",
       "  display: inline-block;\n",
       "  line-height: 1.2em;\n",
       "}\n",
       "\n",
       "#sk-container-id-2 div.sk-label-container {\n",
       "  text-align: center;\n",
       "}\n",
       "\n",
       "/* Estimator-specific */\n",
       "#sk-container-id-2 div.sk-estimator {\n",
       "  font-family: monospace;\n",
       "  border: 1px dotted var(--sklearn-color-border-box);\n",
       "  border-radius: 0.25em;\n",
       "  box-sizing: border-box;\n",
       "  margin-bottom: 0.5em;\n",
       "  /* unfitted */\n",
       "  background-color: var(--sklearn-color-unfitted-level-0);\n",
       "}\n",
       "\n",
       "#sk-container-id-2 div.sk-estimator.fitted {\n",
       "  /* fitted */\n",
       "  background-color: var(--sklearn-color-fitted-level-0);\n",
       "}\n",
       "\n",
       "/* on hover */\n",
       "#sk-container-id-2 div.sk-estimator:hover {\n",
       "  /* unfitted */\n",
       "  background-color: var(--sklearn-color-unfitted-level-2);\n",
       "}\n",
       "\n",
       "#sk-container-id-2 div.sk-estimator.fitted:hover {\n",
       "  /* fitted */\n",
       "  background-color: var(--sklearn-color-fitted-level-2);\n",
       "}\n",
       "\n",
       "/* Specification for estimator info (e.g. \"i\" and \"?\") */\n",
       "\n",
       "/* Common style for \"i\" and \"?\" */\n",
       "\n",
       ".sk-estimator-doc-link,\n",
       "a:link.sk-estimator-doc-link,\n",
       "a:visited.sk-estimator-doc-link {\n",
       "  float: right;\n",
       "  font-size: smaller;\n",
       "  line-height: 1em;\n",
       "  font-family: monospace;\n",
       "  background-color: var(--sklearn-color-background);\n",
       "  border-radius: 1em;\n",
       "  height: 1em;\n",
       "  width: 1em;\n",
       "  text-decoration: none !important;\n",
       "  margin-left: 0.5em;\n",
       "  text-align: center;\n",
       "  /* unfitted */\n",
       "  border: var(--sklearn-color-unfitted-level-1) 1pt solid;\n",
       "  color: var(--sklearn-color-unfitted-level-1);\n",
       "}\n",
       "\n",
       ".sk-estimator-doc-link.fitted,\n",
       "a:link.sk-estimator-doc-link.fitted,\n",
       "a:visited.sk-estimator-doc-link.fitted {\n",
       "  /* fitted */\n",
       "  border: var(--sklearn-color-fitted-level-1) 1pt solid;\n",
       "  color: var(--sklearn-color-fitted-level-1);\n",
       "}\n",
       "\n",
       "/* On hover */\n",
       "div.sk-estimator:hover .sk-estimator-doc-link:hover,\n",
       ".sk-estimator-doc-link:hover,\n",
       "div.sk-label-container:hover .sk-estimator-doc-link:hover,\n",
       ".sk-estimator-doc-link:hover {\n",
       "  /* unfitted */\n",
       "  background-color: var(--sklearn-color-unfitted-level-3);\n",
       "  color: var(--sklearn-color-background);\n",
       "  text-decoration: none;\n",
       "}\n",
       "\n",
       "div.sk-estimator.fitted:hover .sk-estimator-doc-link.fitted:hover,\n",
       ".sk-estimator-doc-link.fitted:hover,\n",
       "div.sk-label-container:hover .sk-estimator-doc-link.fitted:hover,\n",
       ".sk-estimator-doc-link.fitted:hover {\n",
       "  /* fitted */\n",
       "  background-color: var(--sklearn-color-fitted-level-3);\n",
       "  color: var(--sklearn-color-background);\n",
       "  text-decoration: none;\n",
       "}\n",
       "\n",
       "/* Span, style for the box shown on hovering the info icon */\n",
       ".sk-estimator-doc-link span {\n",
       "  display: none;\n",
       "  z-index: 9999;\n",
       "  position: relative;\n",
       "  font-weight: normal;\n",
       "  right: .2ex;\n",
       "  padding: .5ex;\n",
       "  margin: .5ex;\n",
       "  width: min-content;\n",
       "  min-width: 20ex;\n",
       "  max-width: 50ex;\n",
       "  color: var(--sklearn-color-text);\n",
       "  box-shadow: 2pt 2pt 4pt #999;\n",
       "  /* unfitted */\n",
       "  background: var(--sklearn-color-unfitted-level-0);\n",
       "  border: .5pt solid var(--sklearn-color-unfitted-level-3);\n",
       "}\n",
       "\n",
       ".sk-estimator-doc-link.fitted span {\n",
       "  /* fitted */\n",
       "  background: var(--sklearn-color-fitted-level-0);\n",
       "  border: var(--sklearn-color-fitted-level-3);\n",
       "}\n",
       "\n",
       ".sk-estimator-doc-link:hover span {\n",
       "  display: block;\n",
       "}\n",
       "\n",
       "/* \"?\"-specific style due to the `<a>` HTML tag */\n",
       "\n",
       "#sk-container-id-2 a.estimator_doc_link {\n",
       "  float: right;\n",
       "  font-size: 1rem;\n",
       "  line-height: 1em;\n",
       "  font-family: monospace;\n",
       "  background-color: var(--sklearn-color-background);\n",
       "  border-radius: 1rem;\n",
       "  height: 1rem;\n",
       "  width: 1rem;\n",
       "  text-decoration: none;\n",
       "  /* unfitted */\n",
       "  color: var(--sklearn-color-unfitted-level-1);\n",
       "  border: var(--sklearn-color-unfitted-level-1) 1pt solid;\n",
       "}\n",
       "\n",
       "#sk-container-id-2 a.estimator_doc_link.fitted {\n",
       "  /* fitted */\n",
       "  border: var(--sklearn-color-fitted-level-1) 1pt solid;\n",
       "  color: var(--sklearn-color-fitted-level-1);\n",
       "}\n",
       "\n",
       "/* On hover */\n",
       "#sk-container-id-2 a.estimator_doc_link:hover {\n",
       "  /* unfitted */\n",
       "  background-color: var(--sklearn-color-unfitted-level-3);\n",
       "  color: var(--sklearn-color-background);\n",
       "  text-decoration: none;\n",
       "}\n",
       "\n",
       "#sk-container-id-2 a.estimator_doc_link.fitted:hover {\n",
       "  /* fitted */\n",
       "  background-color: var(--sklearn-color-fitted-level-3);\n",
       "}\n",
       "</style><div id=\"sk-container-id-2\" class=\"sk-top-container\"><div class=\"sk-text-repr-fallback\"><pre>RandomForestRegressor(max_depth=3, random_state=42)</pre><b>In a Jupyter environment, please rerun this cell to show the HTML representation or trust the notebook. <br />On GitHub, the HTML representation is unable to render, please try loading this page with nbviewer.org.</b></div><div class=\"sk-container\" hidden><div class=\"sk-item\"><div class=\"sk-estimator fitted sk-toggleable\"><input class=\"sk-toggleable__control sk-hidden--visually\" id=\"sk-estimator-id-2\" type=\"checkbox\" checked><label for=\"sk-estimator-id-2\" class=\"sk-toggleable__label fitted sk-toggleable__label-arrow\"><div><div>RandomForestRegressor</div></div><div><a class=\"sk-estimator-doc-link fitted\" rel=\"noreferrer\" target=\"_blank\" href=\"https://scikit-learn.org/1.6/modules/generated/sklearn.ensemble.RandomForestRegressor.html\">?<span>Documentation for RandomForestRegressor</span></a><span class=\"sk-estimator-doc-link fitted\">i<span>Fitted</span></span></div></label><div class=\"sk-toggleable__content fitted\"><pre>RandomForestRegressor(max_depth=3, random_state=42)</pre></div> </div></div></div></div>"
      ],
      "text/plain": [
       "RandomForestRegressor(max_depth=3, random_state=42)"
      ]
     },
     "execution_count": 101,
     "metadata": {},
     "output_type": "execute_result"
    }
   ],
   "source": [
    "quality_rf_reg.fit(X_train_reg_scaled, y_train_reg)"
   ]
  },
  {
   "cell_type": "code",
   "execution_count": 102,
   "metadata": {
    "executionInfo": {
     "elapsed": 5,
     "status": "ok",
     "timestamp": 1758848866699,
     "user": {
      "displayName": "Ian Yané",
      "userId": "09070912689777423281"
     },
     "user_tz": 180
    },
    "id": "lJyqfHT9y6gT"
   },
   "outputs": [],
   "source": [
    "y_pred_train_quality_rf_reg = quality_rf_reg.predict(X_train_reg_scaled)\n",
    "y_pred_test_quality_rf_reg = quality_rf_reg.predict(X_test_reg_scaled)"
   ]
  },
  {
   "cell_type": "code",
   "execution_count": 103,
   "metadata": {
    "colab": {
     "base_uri": "https://localhost:8080/"
    },
    "executionInfo": {
     "elapsed": 18,
     "status": "ok",
     "timestamp": 1758848866718,
     "user": {
      "displayName": "Ian Yané",
      "userId": "09070912689777423281"
     },
     "user_tz": 180
    },
    "id": "yfZlaEfBy8N2",
    "outputId": "2a74c253-f49e-41ca-c9a9-9555bf10f3c6"
   },
   "outputs": [
    {
     "name": "stdout",
     "output_type": "stream",
     "text": [
      "\n",
      "=== RandomForestRegressor ===\n",
      "Root Mean Squared Error (RMSE): 0.7386\n",
      "R² Score: 0.2659\n",
      "-------------------------\n",
      "\n"
     ]
    },
    {
     "data": {
      "text/html": [
       "<div>\n",
       "<style scoped>\n",
       "    .dataframe tbody tr th:only-of-type {\n",
       "        vertical-align: middle;\n",
       "    }\n",
       "\n",
       "    .dataframe tbody tr th {\n",
       "        vertical-align: top;\n",
       "    }\n",
       "\n",
       "    .dataframe thead th {\n",
       "        text-align: right;\n",
       "    }\n",
       "</style>\n",
       "<table border=\"1\" class=\"dataframe\">\n",
       "  <thead>\n",
       "    <tr style=\"text-align: right;\">\n",
       "      <th></th>\n",
       "      <th>train_time (s)</th>\n",
       "      <th>RMSE</th>\n",
       "      <th>R2</th>\n",
       "    </tr>\n",
       "  </thead>\n",
       "  <tbody>\n",
       "    <tr>\n",
       "      <th>LinearRegression</th>\n",
       "      <td>0.007915</td>\n",
       "      <td>0.742092</td>\n",
       "      <td>0.258879</td>\n",
       "    </tr>\n",
       "    <tr>\n",
       "      <th>DecisionTreeRegressor</th>\n",
       "      <td>0.007915</td>\n",
       "      <td>0.749311</td>\n",
       "      <td>0.24439</td>\n",
       "    </tr>\n",
       "    <tr>\n",
       "      <th>RandomForestRegressor</th>\n",
       "      <td>0.007915</td>\n",
       "      <td>0.738584</td>\n",
       "      <td>0.265869</td>\n",
       "    </tr>\n",
       "  </tbody>\n",
       "</table>\n",
       "</div>"
      ],
      "text/plain": [
       "                      train_time (s)      RMSE        R2\n",
       "LinearRegression            0.007915  0.742092  0.258879\n",
       "DecisionTreeRegressor       0.007915  0.749311   0.24439\n",
       "RandomForestRegressor       0.007915  0.738584  0.265869"
      ]
     },
     "execution_count": 103,
     "metadata": {},
     "output_type": "execute_result"
    }
   ],
   "source": [
    "evaluar_modelo(\n",
    "    nombre_modelo= 'RandomForestRegressor', \n",
    "    y_train_true= y_train_reg, \n",
    "    y_train_pred=y_pred_train_quality_rf_reg, \n",
    "    y_test_true=y_test_reg, \n",
    "    y_test_pred=y_pred_test_quality_rf_reg, \n",
    "    train_time=quality_lin_reg_train_time,\n",
    "    df_resultados=quality_modelos_regression_rendimiento, \n",
    "    tipo_modelo= 'r'\n",
    "    )"
   ]
  },
  {
   "cell_type": "markdown",
   "metadata": {
    "id": "0HO1XYMt6jtC"
   },
   "source": [
    "<a name=\"completar_regresion\"></a>\n",
    "### 5.3. (A COMPLETAR) Modelos Avanzados y Optimización\n",
    "Al igual que en la tarea de clasificación, deben implementar y optimizar los modelos `RandomForestRegressor` y `XGBRegressor`. Pueden utilizar las plantillas de las clases pasadas."
   ]
  },
  {
   "cell_type": "markdown",
   "metadata": {
    "id": "xS7F_MRaXf6A"
   },
   "source": [
    "Convertimos el problema a uno de clasificación"
   ]
  },
  {
   "cell_type": "code",
   "execution_count": 104,
   "metadata": {},
   "outputs": [],
   "source": [
    "models = ['DecisionTreeClassifierOpt', 'LogisticRegressionOpt', 'RandomForestClassifierOpt', 'XGBClassifierOpt']\n",
    "\n",
    "columnas_rendimiento = ['train_time (s)', 'f1_weighted', 'accuracy']\n",
    "\n",
    "quality_modelos_clasificacion_rendimiento = pd.DataFrame(\n",
    "    columns=columnas_rendimiento,\n",
    "    index=models\n",
    ")"
   ]
  },
  {
   "cell_type": "code",
   "execution_count": 105,
   "metadata": {
    "executionInfo": {
     "elapsed": 1,
     "status": "ok",
     "timestamp": 1758848866721,
     "user": {
      "displayName": "Ian Yané",
      "userId": "09070912689777423281"
     },
     "user_tz": 180
    },
    "id": "ea6UupKHQI-x"
   },
   "outputs": [],
   "source": [
    "X_reg_clf = df.drop(columns=['quality']).copy()\n",
    "y_reg_clf = df['quality']"
   ]
  },
  {
   "cell_type": "code",
   "execution_count": 106,
   "metadata": {
    "executionInfo": {
     "elapsed": 1,
     "status": "ok",
     "timestamp": 1758848866741,
     "user": {
      "displayName": "Ian Yané",
      "userId": "09070912689777423281"
     },
     "user_tz": 180
    },
    "id": "YsIbBT_BSXn3"
   },
   "outputs": [],
   "source": [
    "X_reg_clf.drop(columns=['type'], inplace=True)"
   ]
  },
  {
   "cell_type": "code",
   "execution_count": 107,
   "metadata": {
    "colab": {
     "base_uri": "https://localhost:8080/",
     "height": 319
    },
    "executionInfo": {
     "elapsed": 12,
     "status": "ok",
     "timestamp": 1758848866734,
     "user": {
      "displayName": "Ian Yané",
      "userId": "09070912689777423281"
     },
     "user_tz": 180
    },
    "id": "XWSrimraQplO",
    "outputId": "2de07e8f-f882-4aa8-dfd8-95b0a61f3955"
   },
   "outputs": [
    {
     "data": {
      "text/plain": [
       "quality\n",
       "good_quality    4113\n",
       "bad_quality     2384\n",
       "Name: count, dtype: int64"
      ]
     },
     "execution_count": 107,
     "metadata": {},
     "output_type": "execute_result"
    }
   ],
   "source": [
    "bad_quality_mask = y_reg_clf <= 5\n",
    "good_quality_mask = y_reg_clf > 5\n",
    "\n",
    "y_reg_clf[bad_quality_mask] = 'bad_quality'\n",
    "y_reg_clf[good_quality_mask] = 'good_quality'\n",
    "\n",
    "y_reg_clf.value_counts()"
   ]
  },
  {
   "cell_type": "code",
   "execution_count": 108,
   "metadata": {
    "executionInfo": {
     "elapsed": 38,
     "status": "ok",
     "timestamp": 1758848866780,
     "user": {
      "displayName": "Ian Yané",
      "userId": "09070912689777423281"
     },
     "user_tz": 180
    },
    "id": "9gL_jUEsSiTo"
   },
   "outputs": [],
   "source": [
    "X_quality_train, X_quality_test, y_quality_train, y_quality_test = train_test_split(X_reg_clf, y_reg_clf, random_state=42, stratify=y_reg_clf)"
   ]
  },
  {
   "cell_type": "markdown",
   "metadata": {
    "id": "f-K8eUHfXnYu"
   },
   "source": [
    "DecisionTreeClassifier"
   ]
  },
  {
   "cell_type": "code",
   "execution_count": 109,
   "metadata": {
    "executionInfo": {
     "elapsed": 1,
     "status": "ok",
     "timestamp": 1758848866736,
     "user": {
      "displayName": "Ian Yané",
      "userId": "09070912689777423281"
     },
     "user_tz": 180
    },
    "id": "l0gFe5qlawaA"
   },
   "outputs": [],
   "source": [
    "param_grid_dt = {\n",
    "    \"max_depth\": [None, 5, 10, 20, 30],\n",
    "    \"min_samples_split\": [2, 5, 10, 20],\n",
    "    \"min_samples_leaf\": [1, 2, 4, 10],\n",
    "    \"max_features\": [None, \"sqrt\", \"log2\"],\n",
    "    \"criterion\": [\"gini\", \"entropy\"]\n",
    "}"
   ]
  },
  {
   "cell_type": "code",
   "execution_count": 110,
   "metadata": {
    "executionInfo": {
     "elapsed": 1,
     "status": "ok",
     "timestamp": 1758848866738,
     "user": {
      "displayName": "Ian Yané",
      "userId": "09070912689777423281"
     },
     "user_tz": 180
    },
    "id": "hPE0_UlnawaC"
   },
   "outputs": [],
   "source": [
    "d_tree_quality_opt = GridSearchCV(\n",
    "    estimator = DecisionTreeClassifier(\n",
    "        random_state=42\n",
    "    ),\n",
    "    cv=3,\n",
    "    param_grid=param_grid_dt,\n",
    "    scoring=['accuracy', 'f1_weighted'],\n",
    "    refit = 'f1_weighted'\n",
    ")"
   ]
  },
  {
   "cell_type": "code",
   "execution_count": 111,
   "metadata": {
    "executionInfo": {
     "elapsed": 35610,
     "status": "ok",
     "timestamp": 1758848902396,
     "user": {
      "displayName": "Ian Yané",
      "userId": "09070912689777423281"
     },
     "user_tz": 180
    },
    "id": "CBA6EmfCSN_m"
   },
   "outputs": [],
   "source": [
    "d_tree_quality_opt_init_time = time()\n",
    "\n",
    "d_tree_quality_opt.fit(X_quality_train, y_quality_train)\n",
    "\n",
    "d_tree_quality_opt_final_time = time()\n",
    "d_tree_quality_opt_time = d_tree_quality_opt_final_time - d_tree_quality_opt_init_time"
   ]
  },
  {
   "cell_type": "code",
   "execution_count": 112,
   "metadata": {
    "executionInfo": {
     "elapsed": 3,
     "status": "ok",
     "timestamp": 1758848902427,
     "user": {
      "displayName": "Ian Yané",
      "userId": "09070912689777423281"
     },
     "user_tz": 180
    },
    "id": "2Tvx5O6LSfSw"
   },
   "outputs": [],
   "source": [
    "d_tree_quality_opt_test_pred = d_tree_quality_opt.predict(X_quality_test)\n",
    "d_tree_quality_opt_train_pred = d_tree_quality_opt.predict(X_quality_train)"
   ]
  },
  {
   "cell_type": "code",
   "execution_count": 113,
   "metadata": {
    "colab": {
     "base_uri": "https://localhost:8080/"
    },
    "executionInfo": {
     "elapsed": 62,
     "status": "ok",
     "timestamp": 1758848902490,
     "user": {
      "displayName": "Ian Yané",
      "userId": "09070912689777423281"
     },
     "user_tz": 180
    },
    "id": "5WbMfBsYTlob",
    "outputId": "0a2c297e-b3c4-460a-b300-0f5652e03210"
   },
   "outputs": [
    {
     "name": "stdout",
     "output_type": "stream",
     "text": [
      "\n",
      "=== DecisionTreeClassifierOpt ===\n",
      "Accuracy score: 0.7483\n",
      "F1-score (weighted): 0.7500\n",
      "\n",
      "---- Reporte de entrenamiento ----\n",
      "              precision    recall  f1-score   support\n",
      "\n",
      " bad_quality       0.93      0.97      0.95      1788\n",
      "good_quality       0.98      0.96      0.97      3084\n",
      "\n",
      "    accuracy                           0.96      4872\n",
      "   macro avg       0.96      0.97      0.96      4872\n",
      "weighted avg       0.97      0.96      0.96      4872\n",
      "\n",
      "---- Reporte de prueba ----\n",
      "              precision    recall  f1-score   support\n",
      "\n",
      " bad_quality       0.65      0.69      0.67       596\n",
      "good_quality       0.81      0.78      0.80      1029\n",
      "\n",
      "    accuracy                           0.75      1625\n",
      "   macro avg       0.73      0.74      0.73      1625\n",
      "weighted avg       0.75      0.75      0.75      1625\n",
      "\n",
      "-------------------------\n",
      "\n"
     ]
    },
    {
     "data": {
      "text/html": [
       "<div>\n",
       "<style scoped>\n",
       "    .dataframe tbody tr th:only-of-type {\n",
       "        vertical-align: middle;\n",
       "    }\n",
       "\n",
       "    .dataframe tbody tr th {\n",
       "        vertical-align: top;\n",
       "    }\n",
       "\n",
       "    .dataframe thead th {\n",
       "        text-align: right;\n",
       "    }\n",
       "</style>\n",
       "<table border=\"1\" class=\"dataframe\">\n",
       "  <thead>\n",
       "    <tr style=\"text-align: right;\">\n",
       "      <th></th>\n",
       "      <th>train_time (s)</th>\n",
       "      <th>f1_weighted</th>\n",
       "      <th>accuracy</th>\n",
       "    </tr>\n",
       "  </thead>\n",
       "  <tbody>\n",
       "    <tr>\n",
       "      <th>DecisionTreeClassifierOpt</th>\n",
       "      <td>24.000408</td>\n",
       "      <td>0.750004</td>\n",
       "      <td>0.748308</td>\n",
       "    </tr>\n",
       "    <tr>\n",
       "      <th>LogisticRegressionOpt</th>\n",
       "      <td>NaN</td>\n",
       "      <td>NaN</td>\n",
       "      <td>NaN</td>\n",
       "    </tr>\n",
       "    <tr>\n",
       "      <th>RandomForestClassifierOpt</th>\n",
       "      <td>NaN</td>\n",
       "      <td>NaN</td>\n",
       "      <td>NaN</td>\n",
       "    </tr>\n",
       "    <tr>\n",
       "      <th>XGBClassifierOpt</th>\n",
       "      <td>NaN</td>\n",
       "      <td>NaN</td>\n",
       "      <td>NaN</td>\n",
       "    </tr>\n",
       "  </tbody>\n",
       "</table>\n",
       "</div>"
      ],
      "text/plain": [
       "                          train_time (s) f1_weighted  accuracy\n",
       "DecisionTreeClassifierOpt      24.000408    0.750004  0.748308\n",
       "LogisticRegressionOpt                NaN         NaN       NaN\n",
       "RandomForestClassifierOpt            NaN         NaN       NaN\n",
       "XGBClassifierOpt                     NaN         NaN       NaN"
      ]
     },
     "execution_count": 113,
     "metadata": {},
     "output_type": "execute_result"
    }
   ],
   "source": [
    "evaluar_modelo(\n",
    "    nombre_modelo= 'DecisionTreeClassifierOpt', \n",
    "    y_train_true= y_quality_train, \n",
    "    y_train_pred=d_tree_quality_opt_train_pred, \n",
    "    y_test_true=y_quality_test, \n",
    "    y_test_pred=d_tree_quality_opt_test_pred, \n",
    "    train_time=d_tree_quality_opt_time,\n",
    "    df_resultados=quality_modelos_clasificacion_rendimiento, \n",
    "    tipo_modelo= 'c',\n",
    "    pos_label='good_quality'\n",
    "    )"
   ]
  },
  {
   "cell_type": "markdown",
   "metadata": {
    "id": "aQkHCpQnXt9a"
   },
   "source": [
    "LogisticRegression"
   ]
  },
  {
   "cell_type": "code",
   "execution_count": 114,
   "metadata": {
    "executionInfo": {
     "elapsed": 2,
     "status": "ok",
     "timestamp": 1758848902493,
     "user": {
      "displayName": "Ian Yané",
      "userId": "09070912689777423281"
     },
     "user_tz": 180
    },
    "id": "iHVEx6M-bP2p"
   },
   "outputs": [],
   "source": [
    "sc_x_quality = StandardScaler()\n",
    "\n",
    "sc_x_quality.fit(X_quality_train)\n",
    "\n",
    "X_quality_train_scaled = sc_x_quality.transform(X_quality_train)\n",
    "X_quality_test_scaled = sc_x_quality.transform(X_quality_test)"
   ]
  },
  {
   "cell_type": "code",
   "execution_count": 115,
   "metadata": {
    "executionInfo": {
     "elapsed": 4,
     "status": "ok",
     "timestamp": 1758848902499,
     "user": {
      "displayName": "Ian Yané",
      "userId": "09070912689777423281"
     },
     "user_tz": 180
    },
    "id": "xqtPZ9iLYBOv"
   },
   "outputs": [],
   "source": [
    "param_grid_log_reg = {\n",
    "    \"penalty\": [\"l1\", \"l2\", \"elasticnet\", \"none\"],\n",
    "    \"C\": [0.01, 0.1, 1, 10, 100],\n",
    "    \"solver\": [\"lbfgs\", \"liblinear\", \"saga\"],\n",
    "    \"max_iter\": [100, 500, 1000],\n",
    "    \"class_weight\": [None, \"balanced\"]\n",
    "}"
   ]
  },
  {
   "cell_type": "code",
   "execution_count": 116,
   "metadata": {
    "executionInfo": {
     "elapsed": 1,
     "status": "ok",
     "timestamp": 1758848902501,
     "user": {
      "displayName": "Ian Yané",
      "userId": "09070912689777423281"
     },
     "user_tz": 180
    },
    "id": "MvypY1cVYBOw"
   },
   "outputs": [],
   "source": [
    "log_reg_opt = GridSearchCV(\n",
    "    estimator=LogisticRegression(\n",
    "        random_state=42\n",
    "        ),\n",
    "    param_grid=param_grid_logreg,\n",
    "    cv=3,\n",
    "    scoring=['accuracy', 'f1_weighted'],\n",
    "    refit = 'f1_weighted'\n",
    ")"
   ]
  },
  {
   "cell_type": "code",
   "execution_count": 117,
   "metadata": {
    "colab": {
     "base_uri": "https://localhost:8080/"
    },
    "executionInfo": {
     "elapsed": 12940,
     "status": "ok",
     "timestamp": 1758848915442,
     "user": {
      "displayName": "Ian Yané",
      "userId": "09070912689777423281"
     },
     "user_tz": 180
    },
    "id": "LGMszMQJYBOw",
    "outputId": "4f140f90-5c5a-4406-fb27-bbfe2d227488"
   },
   "outputs": [],
   "source": [
    "log_reg_opt_init_time = time()\n",
    "\n",
    "log_reg_opt.fit(X_quality_train_scaled, y_quality_train)\n",
    "\n",
    "log_reg_opt_finish_time = time()\n",
    "log_reg_opt_time = log_reg_opt_finish_time - log_reg_opt_init_time"
   ]
  },
  {
   "cell_type": "code",
   "execution_count": 118,
   "metadata": {
    "colab": {
     "base_uri": "https://localhost:8080/"
    },
    "executionInfo": {
     "elapsed": 26,
     "status": "ok",
     "timestamp": 1758848915474,
     "user": {
      "displayName": "Ian Yané",
      "userId": "09070912689777423281"
     },
     "user_tz": 180
    },
    "id": "Gjg99cWPYBOw",
    "outputId": "08a0a568-9063-4242-f5aa-102ca508c149"
   },
   "outputs": [],
   "source": [
    "log_reg_quality_opt_train_preds = log_reg_opt.predict(X_quality_train)"
   ]
  },
  {
   "cell_type": "code",
   "execution_count": 119,
   "metadata": {
    "colab": {
     "base_uri": "https://localhost:8080/"
    },
    "executionInfo": {
     "elapsed": 10,
     "status": "ok",
     "timestamp": 1758848915486,
     "user": {
      "displayName": "Ian Yané",
      "userId": "09070912689777423281"
     },
     "user_tz": 180
    },
    "id": "vv6YtPq0YBOw",
    "outputId": "b5942986-3532-4e83-c88a-3c4c322bed7a"
   },
   "outputs": [],
   "source": [
    "log_reg_quality_opt_test_preds = log_reg_opt.predict(X_quality_test)"
   ]
  },
  {
   "cell_type": "code",
   "execution_count": 120,
   "metadata": {
    "colab": {
     "base_uri": "https://localhost:8080/"
    },
    "executionInfo": {
     "elapsed": 6,
     "status": "ok",
     "timestamp": 1758848915493,
     "user": {
      "displayName": "Ian Yané",
      "userId": "09070912689777423281"
     },
     "user_tz": 180
    },
    "id": "kKgPdji_YBOw",
    "outputId": "91f67399-cafb-4052-b22a-afb557715550"
   },
   "outputs": [
    {
     "name": "stdout",
     "output_type": "stream",
     "text": [
      "\n",
      "=== LogisticRegressionOpt ===\n",
      "Accuracy score: 0.4105\n",
      "F1-score (weighted): 0.3402\n",
      "\n",
      "---- Reporte de entrenamiento ----\n",
      "              precision    recall  f1-score   support\n",
      "\n",
      " bad_quality       0.36      0.83      0.51      1788\n",
      "good_quality       0.62      0.16      0.25      3084\n",
      "\n",
      "    accuracy                           0.40      4872\n",
      "   macro avg       0.49      0.49      0.38      4872\n",
      "weighted avg       0.52      0.40      0.34      4872\n",
      "\n",
      "---- Reporte de prueba ----\n",
      "              precision    recall  f1-score   support\n",
      "\n",
      " bad_quality       0.37      0.87      0.52       596\n",
      "good_quality       0.66      0.14      0.24      1029\n",
      "\n",
      "    accuracy                           0.41      1625\n",
      "   macro avg       0.51      0.51      0.38      1625\n",
      "weighted avg       0.55      0.41      0.34      1625\n",
      "\n",
      "-------------------------\n",
      "\n"
     ]
    },
    {
     "data": {
      "text/html": [
       "<div>\n",
       "<style scoped>\n",
       "    .dataframe tbody tr th:only-of-type {\n",
       "        vertical-align: middle;\n",
       "    }\n",
       "\n",
       "    .dataframe tbody tr th {\n",
       "        vertical-align: top;\n",
       "    }\n",
       "\n",
       "    .dataframe thead th {\n",
       "        text-align: right;\n",
       "    }\n",
       "</style>\n",
       "<table border=\"1\" class=\"dataframe\">\n",
       "  <thead>\n",
       "    <tr style=\"text-align: right;\">\n",
       "      <th></th>\n",
       "      <th>train_time (s)</th>\n",
       "      <th>f1_weighted</th>\n",
       "      <th>accuracy</th>\n",
       "    </tr>\n",
       "  </thead>\n",
       "  <tbody>\n",
       "    <tr>\n",
       "      <th>DecisionTreeClassifierOpt</th>\n",
       "      <td>24.000408</td>\n",
       "      <td>0.750004</td>\n",
       "      <td>0.748308</td>\n",
       "    </tr>\n",
       "    <tr>\n",
       "      <th>LogisticRegressionOpt</th>\n",
       "      <td>14.530353</td>\n",
       "      <td>0.340205</td>\n",
       "      <td>0.410462</td>\n",
       "    </tr>\n",
       "    <tr>\n",
       "      <th>RandomForestClassifierOpt</th>\n",
       "      <td>NaN</td>\n",
       "      <td>NaN</td>\n",
       "      <td>NaN</td>\n",
       "    </tr>\n",
       "    <tr>\n",
       "      <th>XGBClassifierOpt</th>\n",
       "      <td>NaN</td>\n",
       "      <td>NaN</td>\n",
       "      <td>NaN</td>\n",
       "    </tr>\n",
       "  </tbody>\n",
       "</table>\n",
       "</div>"
      ],
      "text/plain": [
       "                          train_time (s) f1_weighted  accuracy\n",
       "DecisionTreeClassifierOpt      24.000408    0.750004  0.748308\n",
       "LogisticRegressionOpt          14.530353    0.340205  0.410462\n",
       "RandomForestClassifierOpt            NaN         NaN       NaN\n",
       "XGBClassifierOpt                     NaN         NaN       NaN"
      ]
     },
     "execution_count": 120,
     "metadata": {},
     "output_type": "execute_result"
    }
   ],
   "source": [
    "evaluar_modelo(\n",
    "    nombre_modelo= 'LogisticRegressionOpt', \n",
    "    y_train_true= y_quality_train, \n",
    "    y_train_pred=log_reg_quality_opt_train_preds, \n",
    "    y_test_true=y_quality_test, \n",
    "    y_test_pred=log_reg_quality_opt_test_preds, \n",
    "    train_time=log_reg_opt_time,\n",
    "    df_resultados=quality_modelos_clasificacion_rendimiento, \n",
    "    tipo_modelo= 'c',\n",
    "    pos_label='good_quality'\n",
    "    )"
   ]
  },
  {
   "cell_type": "markdown",
   "metadata": {
    "id": "rR285_VmcyiC"
   },
   "source": [
    "RandomForestClassifier Optimizado sobre columna Quality"
   ]
  },
  {
   "cell_type": "markdown",
   "metadata": {
    "id": "N1ivEtm_dcyj"
   },
   "source": [
    "1. Definiendo grilla de hiperparámetros para `RandomForestClassifier`"
   ]
  },
  {
   "cell_type": "code",
   "execution_count": 121,
   "metadata": {
    "executionInfo": {
     "elapsed": 3,
     "status": "ok",
     "timestamp": 1758848915497,
     "user": {
      "displayName": "Ian Yané",
      "userId": "09070912689777423281"
     },
     "user_tz": 180
    },
    "id": "HBdHamR2dcyj"
   },
   "outputs": [],
   "source": [
    "rf_grid_param = {\n",
    "    # Número de árboles en el bosque\n",
    "    \"n_estimators\": [100, 300, 500, 1000],\n",
    "    # Profundidad máxima de los árboles\n",
    "    \"max_depth\": [None, 5, 10, 20, 50],\n",
    "    # Número mínimo de muestras para dividir un nodo\n",
    "    \"min_samples_split\": [2, 5, 10],\n",
    "    # Número mínimo de muestras en una hoja\n",
    "    \"min_samples_leaf\": [1, 2, 4, 10],\n",
    "    # Número de características a considerar en cada división\n",
    "    \"max_features\": [\"sqrt\", \"log2\", None],\n",
    "    # Criterio de calidad de la división\n",
    "    \"criterion\": [\"gini\", \"entropy\", \"log_loss\"]\n",
    "}"
   ]
  },
  {
   "cell_type": "markdown",
   "metadata": {
    "id": "IV5mWUuLdcyj"
   },
   "source": [
    "2. Instanciando `RandomSearchCV` con una instancia de `RandomForestClassifier`"
   ]
  },
  {
   "cell_type": "code",
   "execution_count": 122,
   "metadata": {
    "executionInfo": {
     "elapsed": 3,
     "status": "ok",
     "timestamp": 1758848915498,
     "user": {
      "displayName": "Ian Yané",
      "userId": "09070912689777423281"
     },
     "user_tz": 180
    },
    "id": "wj0U7UX6dcyj"
   },
   "outputs": [],
   "source": [
    "quality_rf_opt_clf = RandomizedSearchCV(\n",
    "    estimator = RandomForestClassifier(\n",
    "        class_weight='balanced',\n",
    "        random_state=42\n",
    "        ),\n",
    "    param_distributions=rf_grid_param,\n",
    "    scoring=['accuracy', 'f1_weighted'],\n",
    "    cv = 3,\n",
    "    refit = 'f1_weighted'\n",
    "    )"
   ]
  },
  {
   "cell_type": "markdown",
   "metadata": {
    "id": "Zkys4WDKdcyj"
   },
   "source": [
    "3. Entrenando la instancia de `GridSearchCV`"
   ]
  },
  {
   "cell_type": "code",
   "execution_count": 123,
   "metadata": {
    "colab": {
     "base_uri": "https://localhost:8080/"
    },
    "executionInfo": {
     "elapsed": 111783,
     "status": "ok",
     "timestamp": 1758849027281,
     "user": {
      "displayName": "Ian Yané",
      "userId": "09070912689777423281"
     },
     "user_tz": 180
    },
    "id": "mP4YiqQ0dcyj",
    "outputId": "98186265-ab0a-4bb6-cda7-ce2541b8bd7f"
   },
   "outputs": [],
   "source": [
    "quality_rf_opt_clf_init_time = time()\n",
    "\n",
    "quality_rf_opt_clf.fit(X_quality_train_scaled, y_quality_train)\n",
    "\n",
    "quality_rf_opt_clf_final_time = time()\n",
    "quality_rf_opt_clf_train_time = quality_rf_opt_clf_final_time - quality_rf_opt_clf_init_time"
   ]
  },
  {
   "cell_type": "markdown",
   "metadata": {
    "id": "ed9oWvbFdcyk"
   },
   "source": [
    "4. Predicciones utilizando la instancia"
   ]
  },
  {
   "cell_type": "code",
   "execution_count": 124,
   "metadata": {
    "executionInfo": {
     "elapsed": 698,
     "status": "ok",
     "timestamp": 1758849027967,
     "user": {
      "displayName": "Ian Yané",
      "userId": "09070912689777423281"
     },
     "user_tz": 180
    },
    "id": "UkPzoUpjdcyk"
   },
   "outputs": [],
   "source": [
    "quality_rf_clf_opt_train_pred = quality_rf_opt_clf.predict(X_quality_train_scaled)\n",
    "quality_rf_clf_opt_test_pred = quality_rf_opt_clf.predict(X_quality_test_scaled)"
   ]
  },
  {
   "cell_type": "markdown",
   "metadata": {
    "id": "wy-S8JvGdcyk"
   },
   "source": [
    "5. Evaluación utilizando la instancia"
   ]
  },
  {
   "cell_type": "code",
   "execution_count": 125,
   "metadata": {
    "colab": {
     "base_uri": "https://localhost:8080/"
    },
    "executionInfo": {
     "elapsed": 62,
     "status": "ok",
     "timestamp": 1758849028030,
     "user": {
      "displayName": "Ian Yané",
      "userId": "09070912689777423281"
     },
     "user_tz": 180
    },
    "id": "ldbzJRiodcyk",
    "outputId": "b1f6435b-f6c9-4947-f38c-201576e776bd"
   },
   "outputs": [
    {
     "name": "stdout",
     "output_type": "stream",
     "text": [
      "\n",
      "=== RandomForestClassifierOpt ===\n",
      "Accuracy score: 0.8351\n",
      "F1-score (weighted): 0.8341\n",
      "\n",
      "---- Reporte de entrenamiento ----\n",
      "              precision    recall  f1-score   support\n",
      "\n",
      " bad_quality       0.99      0.99      0.99      1788\n",
      "good_quality       1.00      0.99      0.99      3084\n",
      "\n",
      "    accuracy                           0.99      4872\n",
      "   macro avg       0.99      0.99      0.99      4872\n",
      "weighted avg       0.99      0.99      0.99      4872\n",
      "\n",
      "---- Reporte de prueba ----\n",
      "              precision    recall  f1-score   support\n",
      "\n",
      " bad_quality       0.79      0.75      0.77       596\n",
      "good_quality       0.86      0.89      0.87      1029\n",
      "\n",
      "    accuracy                           0.84      1625\n",
      "   macro avg       0.82      0.82      0.82      1625\n",
      "weighted avg       0.83      0.84      0.83      1625\n",
      "\n",
      "-------------------------\n",
      "\n"
     ]
    },
    {
     "data": {
      "text/html": [
       "<div>\n",
       "<style scoped>\n",
       "    .dataframe tbody tr th:only-of-type {\n",
       "        vertical-align: middle;\n",
       "    }\n",
       "\n",
       "    .dataframe tbody tr th {\n",
       "        vertical-align: top;\n",
       "    }\n",
       "\n",
       "    .dataframe thead th {\n",
       "        text-align: right;\n",
       "    }\n",
       "</style>\n",
       "<table border=\"1\" class=\"dataframe\">\n",
       "  <thead>\n",
       "    <tr style=\"text-align: right;\">\n",
       "      <th></th>\n",
       "      <th>train_time (s)</th>\n",
       "      <th>f1_weighted</th>\n",
       "      <th>accuracy</th>\n",
       "    </tr>\n",
       "  </thead>\n",
       "  <tbody>\n",
       "    <tr>\n",
       "      <th>DecisionTreeClassifierOpt</th>\n",
       "      <td>24.000408</td>\n",
       "      <td>0.750004</td>\n",
       "      <td>0.748308</td>\n",
       "    </tr>\n",
       "    <tr>\n",
       "      <th>LogisticRegressionOpt</th>\n",
       "      <td>14.530353</td>\n",
       "      <td>0.340205</td>\n",
       "      <td>0.410462</td>\n",
       "    </tr>\n",
       "    <tr>\n",
       "      <th>RandomForestClassifierOpt</th>\n",
       "      <td>88.000986</td>\n",
       "      <td>0.834065</td>\n",
       "      <td>0.835077</td>\n",
       "    </tr>\n",
       "    <tr>\n",
       "      <th>XGBClassifierOpt</th>\n",
       "      <td>NaN</td>\n",
       "      <td>NaN</td>\n",
       "      <td>NaN</td>\n",
       "    </tr>\n",
       "  </tbody>\n",
       "</table>\n",
       "</div>"
      ],
      "text/plain": [
       "                          train_time (s) f1_weighted  accuracy\n",
       "DecisionTreeClassifierOpt      24.000408    0.750004  0.748308\n",
       "LogisticRegressionOpt          14.530353    0.340205  0.410462\n",
       "RandomForestClassifierOpt      88.000986    0.834065  0.835077\n",
       "XGBClassifierOpt                     NaN         NaN       NaN"
      ]
     },
     "execution_count": 125,
     "metadata": {},
     "output_type": "execute_result"
    }
   ],
   "source": [
    "evaluar_modelo(\n",
    "    nombre_modelo= 'RandomForestClassifierOpt', \n",
    "    y_train_true= y_quality_train, \n",
    "    y_train_pred=quality_rf_clf_opt_train_pred, \n",
    "    y_test_true=y_quality_test, \n",
    "    y_test_pred=quality_rf_clf_opt_test_pred, \n",
    "    train_time=quality_rf_opt_clf_train_time,\n",
    "    df_resultados=quality_modelos_clasificacion_rendimiento, \n",
    "    tipo_modelo= 'c',\n",
    "    pos_label='good_quality'\n",
    ")"
   ]
  },
  {
   "cell_type": "markdown",
   "metadata": {
    "id": "aUfkb-DYdcyk"
   },
   "source": [
    "#### XGBClassifier optimizado para columna `quality`"
   ]
  },
  {
   "cell_type": "code",
   "execution_count": 126,
   "metadata": {
    "executionInfo": {
     "elapsed": 1,
     "status": "ok",
     "timestamp": 1758849028032,
     "user": {
      "displayName": "Ian Yané",
      "userId": "09070912689777423281"
     },
     "user_tz": 180
    },
    "id": "6eR8Vgg0dcyk"
   },
   "outputs": [],
   "source": [
    "xgb_oh_enc = OneHotEncoder(drop='if_binary', handle_unknown='ignore', sparse_output=False)"
   ]
  },
  {
   "cell_type": "code",
   "execution_count": 127,
   "metadata": {
    "colab": {
     "base_uri": "https://localhost:8080/",
     "height": 80
    },
    "executionInfo": {
     "elapsed": 16,
     "status": "ok",
     "timestamp": 1758849028049,
     "user": {
      "displayName": "Ian Yané",
      "userId": "09070912689777423281"
     },
     "user_tz": 180
    },
    "id": "pPAVyjIgdcyk",
    "outputId": "e93eb53b-07e6-4449-b0bd-545fe65338b0"
   },
   "outputs": [
    {
     "data": {
      "text/html": [
       "<style>#sk-container-id-3 {\n",
       "  /* Definition of color scheme common for light and dark mode */\n",
       "  --sklearn-color-text: #000;\n",
       "  --sklearn-color-text-muted: #666;\n",
       "  --sklearn-color-line: gray;\n",
       "  /* Definition of color scheme for unfitted estimators */\n",
       "  --sklearn-color-unfitted-level-0: #fff5e6;\n",
       "  --sklearn-color-unfitted-level-1: #f6e4d2;\n",
       "  --sklearn-color-unfitted-level-2: #ffe0b3;\n",
       "  --sklearn-color-unfitted-level-3: chocolate;\n",
       "  /* Definition of color scheme for fitted estimators */\n",
       "  --sklearn-color-fitted-level-0: #f0f8ff;\n",
       "  --sklearn-color-fitted-level-1: #d4ebff;\n",
       "  --sklearn-color-fitted-level-2: #b3dbfd;\n",
       "  --sklearn-color-fitted-level-3: cornflowerblue;\n",
       "\n",
       "  /* Specific color for light theme */\n",
       "  --sklearn-color-text-on-default-background: var(--sg-text-color, var(--theme-code-foreground, var(--jp-content-font-color1, black)));\n",
       "  --sklearn-color-background: var(--sg-background-color, var(--theme-background, var(--jp-layout-color0, white)));\n",
       "  --sklearn-color-border-box: var(--sg-text-color, var(--theme-code-foreground, var(--jp-content-font-color1, black)));\n",
       "  --sklearn-color-icon: #696969;\n",
       "\n",
       "  @media (prefers-color-scheme: dark) {\n",
       "    /* Redefinition of color scheme for dark theme */\n",
       "    --sklearn-color-text-on-default-background: var(--sg-text-color, var(--theme-code-foreground, var(--jp-content-font-color1, white)));\n",
       "    --sklearn-color-background: var(--sg-background-color, var(--theme-background, var(--jp-layout-color0, #111)));\n",
       "    --sklearn-color-border-box: var(--sg-text-color, var(--theme-code-foreground, var(--jp-content-font-color1, white)));\n",
       "    --sklearn-color-icon: #878787;\n",
       "  }\n",
       "}\n",
       "\n",
       "#sk-container-id-3 {\n",
       "  color: var(--sklearn-color-text);\n",
       "}\n",
       "\n",
       "#sk-container-id-3 pre {\n",
       "  padding: 0;\n",
       "}\n",
       "\n",
       "#sk-container-id-3 input.sk-hidden--visually {\n",
       "  border: 0;\n",
       "  clip: rect(1px 1px 1px 1px);\n",
       "  clip: rect(1px, 1px, 1px, 1px);\n",
       "  height: 1px;\n",
       "  margin: -1px;\n",
       "  overflow: hidden;\n",
       "  padding: 0;\n",
       "  position: absolute;\n",
       "  width: 1px;\n",
       "}\n",
       "\n",
       "#sk-container-id-3 div.sk-dashed-wrapped {\n",
       "  border: 1px dashed var(--sklearn-color-line);\n",
       "  margin: 0 0.4em 0.5em 0.4em;\n",
       "  box-sizing: border-box;\n",
       "  padding-bottom: 0.4em;\n",
       "  background-color: var(--sklearn-color-background);\n",
       "}\n",
       "\n",
       "#sk-container-id-3 div.sk-container {\n",
       "  /* jupyter's `normalize.less` sets `[hidden] { display: none; }`\n",
       "     but bootstrap.min.css set `[hidden] { display: none !important; }`\n",
       "     so we also need the `!important` here to be able to override the\n",
       "     default hidden behavior on the sphinx rendered scikit-learn.org.\n",
       "     See: https://github.com/scikit-learn/scikit-learn/issues/21755 */\n",
       "  display: inline-block !important;\n",
       "  position: relative;\n",
       "}\n",
       "\n",
       "#sk-container-id-3 div.sk-text-repr-fallback {\n",
       "  display: none;\n",
       "}\n",
       "\n",
       "div.sk-parallel-item,\n",
       "div.sk-serial,\n",
       "div.sk-item {\n",
       "  /* draw centered vertical line to link estimators */\n",
       "  background-image: linear-gradient(var(--sklearn-color-text-on-default-background), var(--sklearn-color-text-on-default-background));\n",
       "  background-size: 2px 100%;\n",
       "  background-repeat: no-repeat;\n",
       "  background-position: center center;\n",
       "}\n",
       "\n",
       "/* Parallel-specific style estimator block */\n",
       "\n",
       "#sk-container-id-3 div.sk-parallel-item::after {\n",
       "  content: \"\";\n",
       "  width: 100%;\n",
       "  border-bottom: 2px solid var(--sklearn-color-text-on-default-background);\n",
       "  flex-grow: 1;\n",
       "}\n",
       "\n",
       "#sk-container-id-3 div.sk-parallel {\n",
       "  display: flex;\n",
       "  align-items: stretch;\n",
       "  justify-content: center;\n",
       "  background-color: var(--sklearn-color-background);\n",
       "  position: relative;\n",
       "}\n",
       "\n",
       "#sk-container-id-3 div.sk-parallel-item {\n",
       "  display: flex;\n",
       "  flex-direction: column;\n",
       "}\n",
       "\n",
       "#sk-container-id-3 div.sk-parallel-item:first-child::after {\n",
       "  align-self: flex-end;\n",
       "  width: 50%;\n",
       "}\n",
       "\n",
       "#sk-container-id-3 div.sk-parallel-item:last-child::after {\n",
       "  align-self: flex-start;\n",
       "  width: 50%;\n",
       "}\n",
       "\n",
       "#sk-container-id-3 div.sk-parallel-item:only-child::after {\n",
       "  width: 0;\n",
       "}\n",
       "\n",
       "/* Serial-specific style estimator block */\n",
       "\n",
       "#sk-container-id-3 div.sk-serial {\n",
       "  display: flex;\n",
       "  flex-direction: column;\n",
       "  align-items: center;\n",
       "  background-color: var(--sklearn-color-background);\n",
       "  padding-right: 1em;\n",
       "  padding-left: 1em;\n",
       "}\n",
       "\n",
       "\n",
       "/* Toggleable style: style used for estimator/Pipeline/ColumnTransformer box that is\n",
       "clickable and can be expanded/collapsed.\n",
       "- Pipeline and ColumnTransformer use this feature and define the default style\n",
       "- Estimators will overwrite some part of the style using the `sk-estimator` class\n",
       "*/\n",
       "\n",
       "/* Pipeline and ColumnTransformer style (default) */\n",
       "\n",
       "#sk-container-id-3 div.sk-toggleable {\n",
       "  /* Default theme specific background. It is overwritten whether we have a\n",
       "  specific estimator or a Pipeline/ColumnTransformer */\n",
       "  background-color: var(--sklearn-color-background);\n",
       "}\n",
       "\n",
       "/* Toggleable label */\n",
       "#sk-container-id-3 label.sk-toggleable__label {\n",
       "  cursor: pointer;\n",
       "  display: flex;\n",
       "  width: 100%;\n",
       "  margin-bottom: 0;\n",
       "  padding: 0.5em;\n",
       "  box-sizing: border-box;\n",
       "  text-align: center;\n",
       "  align-items: start;\n",
       "  justify-content: space-between;\n",
       "  gap: 0.5em;\n",
       "}\n",
       "\n",
       "#sk-container-id-3 label.sk-toggleable__label .caption {\n",
       "  font-size: 0.6rem;\n",
       "  font-weight: lighter;\n",
       "  color: var(--sklearn-color-text-muted);\n",
       "}\n",
       "\n",
       "#sk-container-id-3 label.sk-toggleable__label-arrow:before {\n",
       "  /* Arrow on the left of the label */\n",
       "  content: \"▸\";\n",
       "  float: left;\n",
       "  margin-right: 0.25em;\n",
       "  color: var(--sklearn-color-icon);\n",
       "}\n",
       "\n",
       "#sk-container-id-3 label.sk-toggleable__label-arrow:hover:before {\n",
       "  color: var(--sklearn-color-text);\n",
       "}\n",
       "\n",
       "/* Toggleable content - dropdown */\n",
       "\n",
       "#sk-container-id-3 div.sk-toggleable__content {\n",
       "  max-height: 0;\n",
       "  max-width: 0;\n",
       "  overflow: hidden;\n",
       "  text-align: left;\n",
       "  /* unfitted */\n",
       "  background-color: var(--sklearn-color-unfitted-level-0);\n",
       "}\n",
       "\n",
       "#sk-container-id-3 div.sk-toggleable__content.fitted {\n",
       "  /* fitted */\n",
       "  background-color: var(--sklearn-color-fitted-level-0);\n",
       "}\n",
       "\n",
       "#sk-container-id-3 div.sk-toggleable__content pre {\n",
       "  margin: 0.2em;\n",
       "  border-radius: 0.25em;\n",
       "  color: var(--sklearn-color-text);\n",
       "  /* unfitted */\n",
       "  background-color: var(--sklearn-color-unfitted-level-0);\n",
       "}\n",
       "\n",
       "#sk-container-id-3 div.sk-toggleable__content.fitted pre {\n",
       "  /* unfitted */\n",
       "  background-color: var(--sklearn-color-fitted-level-0);\n",
       "}\n",
       "\n",
       "#sk-container-id-3 input.sk-toggleable__control:checked~div.sk-toggleable__content {\n",
       "  /* Expand drop-down */\n",
       "  max-height: 200px;\n",
       "  max-width: 100%;\n",
       "  overflow: auto;\n",
       "}\n",
       "\n",
       "#sk-container-id-3 input.sk-toggleable__control:checked~label.sk-toggleable__label-arrow:before {\n",
       "  content: \"▾\";\n",
       "}\n",
       "\n",
       "/* Pipeline/ColumnTransformer-specific style */\n",
       "\n",
       "#sk-container-id-3 div.sk-label input.sk-toggleable__control:checked~label.sk-toggleable__label {\n",
       "  color: var(--sklearn-color-text);\n",
       "  background-color: var(--sklearn-color-unfitted-level-2);\n",
       "}\n",
       "\n",
       "#sk-container-id-3 div.sk-label.fitted input.sk-toggleable__control:checked~label.sk-toggleable__label {\n",
       "  background-color: var(--sklearn-color-fitted-level-2);\n",
       "}\n",
       "\n",
       "/* Estimator-specific style */\n",
       "\n",
       "/* Colorize estimator box */\n",
       "#sk-container-id-3 div.sk-estimator input.sk-toggleable__control:checked~label.sk-toggleable__label {\n",
       "  /* unfitted */\n",
       "  background-color: var(--sklearn-color-unfitted-level-2);\n",
       "}\n",
       "\n",
       "#sk-container-id-3 div.sk-estimator.fitted input.sk-toggleable__control:checked~label.sk-toggleable__label {\n",
       "  /* fitted */\n",
       "  background-color: var(--sklearn-color-fitted-level-2);\n",
       "}\n",
       "\n",
       "#sk-container-id-3 div.sk-label label.sk-toggleable__label,\n",
       "#sk-container-id-3 div.sk-label label {\n",
       "  /* The background is the default theme color */\n",
       "  color: var(--sklearn-color-text-on-default-background);\n",
       "}\n",
       "\n",
       "/* On hover, darken the color of the background */\n",
       "#sk-container-id-3 div.sk-label:hover label.sk-toggleable__label {\n",
       "  color: var(--sklearn-color-text);\n",
       "  background-color: var(--sklearn-color-unfitted-level-2);\n",
       "}\n",
       "\n",
       "/* Label box, darken color on hover, fitted */\n",
       "#sk-container-id-3 div.sk-label.fitted:hover label.sk-toggleable__label.fitted {\n",
       "  color: var(--sklearn-color-text);\n",
       "  background-color: var(--sklearn-color-fitted-level-2);\n",
       "}\n",
       "\n",
       "/* Estimator label */\n",
       "\n",
       "#sk-container-id-3 div.sk-label label {\n",
       "  font-family: monospace;\n",
       "  font-weight: bold;\n",
       "  display: inline-block;\n",
       "  line-height: 1.2em;\n",
       "}\n",
       "\n",
       "#sk-container-id-3 div.sk-label-container {\n",
       "  text-align: center;\n",
       "}\n",
       "\n",
       "/* Estimator-specific */\n",
       "#sk-container-id-3 div.sk-estimator {\n",
       "  font-family: monospace;\n",
       "  border: 1px dotted var(--sklearn-color-border-box);\n",
       "  border-radius: 0.25em;\n",
       "  box-sizing: border-box;\n",
       "  margin-bottom: 0.5em;\n",
       "  /* unfitted */\n",
       "  background-color: var(--sklearn-color-unfitted-level-0);\n",
       "}\n",
       "\n",
       "#sk-container-id-3 div.sk-estimator.fitted {\n",
       "  /* fitted */\n",
       "  background-color: var(--sklearn-color-fitted-level-0);\n",
       "}\n",
       "\n",
       "/* on hover */\n",
       "#sk-container-id-3 div.sk-estimator:hover {\n",
       "  /* unfitted */\n",
       "  background-color: var(--sklearn-color-unfitted-level-2);\n",
       "}\n",
       "\n",
       "#sk-container-id-3 div.sk-estimator.fitted:hover {\n",
       "  /* fitted */\n",
       "  background-color: var(--sklearn-color-fitted-level-2);\n",
       "}\n",
       "\n",
       "/* Specification for estimator info (e.g. \"i\" and \"?\") */\n",
       "\n",
       "/* Common style for \"i\" and \"?\" */\n",
       "\n",
       ".sk-estimator-doc-link,\n",
       "a:link.sk-estimator-doc-link,\n",
       "a:visited.sk-estimator-doc-link {\n",
       "  float: right;\n",
       "  font-size: smaller;\n",
       "  line-height: 1em;\n",
       "  font-family: monospace;\n",
       "  background-color: var(--sklearn-color-background);\n",
       "  border-radius: 1em;\n",
       "  height: 1em;\n",
       "  width: 1em;\n",
       "  text-decoration: none !important;\n",
       "  margin-left: 0.5em;\n",
       "  text-align: center;\n",
       "  /* unfitted */\n",
       "  border: var(--sklearn-color-unfitted-level-1) 1pt solid;\n",
       "  color: var(--sklearn-color-unfitted-level-1);\n",
       "}\n",
       "\n",
       ".sk-estimator-doc-link.fitted,\n",
       "a:link.sk-estimator-doc-link.fitted,\n",
       "a:visited.sk-estimator-doc-link.fitted {\n",
       "  /* fitted */\n",
       "  border: var(--sklearn-color-fitted-level-1) 1pt solid;\n",
       "  color: var(--sklearn-color-fitted-level-1);\n",
       "}\n",
       "\n",
       "/* On hover */\n",
       "div.sk-estimator:hover .sk-estimator-doc-link:hover,\n",
       ".sk-estimator-doc-link:hover,\n",
       "div.sk-label-container:hover .sk-estimator-doc-link:hover,\n",
       ".sk-estimator-doc-link:hover {\n",
       "  /* unfitted */\n",
       "  background-color: var(--sklearn-color-unfitted-level-3);\n",
       "  color: var(--sklearn-color-background);\n",
       "  text-decoration: none;\n",
       "}\n",
       "\n",
       "div.sk-estimator.fitted:hover .sk-estimator-doc-link.fitted:hover,\n",
       ".sk-estimator-doc-link.fitted:hover,\n",
       "div.sk-label-container:hover .sk-estimator-doc-link.fitted:hover,\n",
       ".sk-estimator-doc-link.fitted:hover {\n",
       "  /* fitted */\n",
       "  background-color: var(--sklearn-color-fitted-level-3);\n",
       "  color: var(--sklearn-color-background);\n",
       "  text-decoration: none;\n",
       "}\n",
       "\n",
       "/* Span, style for the box shown on hovering the info icon */\n",
       ".sk-estimator-doc-link span {\n",
       "  display: none;\n",
       "  z-index: 9999;\n",
       "  position: relative;\n",
       "  font-weight: normal;\n",
       "  right: .2ex;\n",
       "  padding: .5ex;\n",
       "  margin: .5ex;\n",
       "  width: min-content;\n",
       "  min-width: 20ex;\n",
       "  max-width: 50ex;\n",
       "  color: var(--sklearn-color-text);\n",
       "  box-shadow: 2pt 2pt 4pt #999;\n",
       "  /* unfitted */\n",
       "  background: var(--sklearn-color-unfitted-level-0);\n",
       "  border: .5pt solid var(--sklearn-color-unfitted-level-3);\n",
       "}\n",
       "\n",
       ".sk-estimator-doc-link.fitted span {\n",
       "  /* fitted */\n",
       "  background: var(--sklearn-color-fitted-level-0);\n",
       "  border: var(--sklearn-color-fitted-level-3);\n",
       "}\n",
       "\n",
       ".sk-estimator-doc-link:hover span {\n",
       "  display: block;\n",
       "}\n",
       "\n",
       "/* \"?\"-specific style due to the `<a>` HTML tag */\n",
       "\n",
       "#sk-container-id-3 a.estimator_doc_link {\n",
       "  float: right;\n",
       "  font-size: 1rem;\n",
       "  line-height: 1em;\n",
       "  font-family: monospace;\n",
       "  background-color: var(--sklearn-color-background);\n",
       "  border-radius: 1rem;\n",
       "  height: 1rem;\n",
       "  width: 1rem;\n",
       "  text-decoration: none;\n",
       "  /* unfitted */\n",
       "  color: var(--sklearn-color-unfitted-level-1);\n",
       "  border: var(--sklearn-color-unfitted-level-1) 1pt solid;\n",
       "}\n",
       "\n",
       "#sk-container-id-3 a.estimator_doc_link.fitted {\n",
       "  /* fitted */\n",
       "  border: var(--sklearn-color-fitted-level-1) 1pt solid;\n",
       "  color: var(--sklearn-color-fitted-level-1);\n",
       "}\n",
       "\n",
       "/* On hover */\n",
       "#sk-container-id-3 a.estimator_doc_link:hover {\n",
       "  /* unfitted */\n",
       "  background-color: var(--sklearn-color-unfitted-level-3);\n",
       "  color: var(--sklearn-color-background);\n",
       "  text-decoration: none;\n",
       "}\n",
       "\n",
       "#sk-container-id-3 a.estimator_doc_link.fitted:hover {\n",
       "  /* fitted */\n",
       "  background-color: var(--sklearn-color-fitted-level-3);\n",
       "}\n",
       "</style><div id=\"sk-container-id-3\" class=\"sk-top-container\"><div class=\"sk-text-repr-fallback\"><pre>OneHotEncoder(drop=&#x27;if_binary&#x27;, handle_unknown=&#x27;ignore&#x27;, sparse_output=False)</pre><b>In a Jupyter environment, please rerun this cell to show the HTML representation or trust the notebook. <br />On GitHub, the HTML representation is unable to render, please try loading this page with nbviewer.org.</b></div><div class=\"sk-container\" hidden><div class=\"sk-item\"><div class=\"sk-estimator fitted sk-toggleable\"><input class=\"sk-toggleable__control sk-hidden--visually\" id=\"sk-estimator-id-3\" type=\"checkbox\" checked><label for=\"sk-estimator-id-3\" class=\"sk-toggleable__label fitted sk-toggleable__label-arrow\"><div><div>OneHotEncoder</div></div><div><a class=\"sk-estimator-doc-link fitted\" rel=\"noreferrer\" target=\"_blank\" href=\"https://scikit-learn.org/1.6/modules/generated/sklearn.preprocessing.OneHotEncoder.html\">?<span>Documentation for OneHotEncoder</span></a><span class=\"sk-estimator-doc-link fitted\">i<span>Fitted</span></span></div></label><div class=\"sk-toggleable__content fitted\"><pre>OneHotEncoder(drop=&#x27;if_binary&#x27;, handle_unknown=&#x27;ignore&#x27;, sparse_output=False)</pre></div> </div></div></div></div>"
      ],
      "text/plain": [
       "OneHotEncoder(drop='if_binary', handle_unknown='ignore', sparse_output=False)"
      ]
     },
     "execution_count": 127,
     "metadata": {},
     "output_type": "execute_result"
    }
   ],
   "source": [
    "xgb_oh_enc.fit(y_quality_train.to_frame())"
   ]
  },
  {
   "cell_type": "code",
   "execution_count": 128,
   "metadata": {
    "executionInfo": {
     "elapsed": 33,
     "status": "ok",
     "timestamp": 1758849028085,
     "user": {
      "displayName": "Ian Yané",
      "userId": "09070912689777423281"
     },
     "user_tz": 180
    },
    "id": "QTB8Xy5Fdcyk"
   },
   "outputs": [],
   "source": [
    "y_quality_train_clf_xgb = xgb_oh_enc.transform(y_quality_train.to_frame())\n",
    "y_quality_test_clf_xgb = xgb_oh_enc.transform(y_quality_test.to_frame())"
   ]
  },
  {
   "cell_type": "markdown",
   "metadata": {
    "id": "Giakzi83dcyk"
   },
   "source": [
    "1. Definiendo grilla de hiperparámetros para `XGBClassifier`"
   ]
  },
  {
   "cell_type": "code",
   "execution_count": 129,
   "metadata": {
    "executionInfo": {
     "elapsed": 5,
     "status": "ok",
     "timestamp": 1758849028096,
     "user": {
      "displayName": "Ian Yané",
      "userId": "09070912689777423281"
     },
     "user_tz": 180
    },
    "id": "guKgXSD1dcyk"
   },
   "outputs": [],
   "source": [
    "xgb_grid_param = {\n",
    "    # Número de árboles (boosting rounds)\n",
    "    \"n_estimators\": [100, 300, 500, 1000],\n",
    "    # Tasa de aprendizaje\n",
    "    \"learning_rate\": [0.01, 0.05, 0.1, 0.2],\n",
    "    # Profundidad máxima del árbol\n",
    "    \"max_depth\": [3, 5, 7, 10],\n",
    "    # Número mínimo de muestras en una hoja\n",
    "    \"min_child_weight\": [1, 3, 5, 10],\n",
    "    # Gamma: reducción mínima de pérdida para hacer un split\n",
    "    \"gamma\": [0, 0.1, 0.5, 1]\n",
    "}"
   ]
  },
  {
   "cell_type": "markdown",
   "metadata": {
    "id": "w5r-mYFudcyk"
   },
   "source": [
    "2. Instanciando `RandomSearchCV` con una instancia de `RandomForestClassifier`"
   ]
  },
  {
   "cell_type": "code",
   "execution_count": 130,
   "metadata": {
    "executionInfo": {
     "elapsed": 1,
     "status": "ok",
     "timestamp": 1758849028099,
     "user": {
      "displayName": "Ian Yané",
      "userId": "09070912689777423281"
     },
     "user_tz": 180
    },
    "id": "2uOO6Zhydcyk"
   },
   "outputs": [],
   "source": [
    "quality_xgb_opt = RandomizedSearchCV(\n",
    "    estimator = XGBClassifier(\n",
    "        random_state=42\n",
    "        ),\n",
    "    param_distributions=xgb_grid_param,\n",
    "    scoring=['accuracy', 'f1_weighted'],\n",
    "    cv = 3,\n",
    "    refit = 'f1_weighted'\n",
    "    )"
   ]
  },
  {
   "cell_type": "markdown",
   "metadata": {
    "id": "oe_n3Fwmdcyk"
   },
   "source": [
    "3. Entrenando la instancia de `GridSearchCV`"
   ]
  },
  {
   "cell_type": "code",
   "execution_count": 131,
   "metadata": {
    "colab": {
     "base_uri": "https://localhost:8080/"
    },
    "executionInfo": {
     "elapsed": 12985,
     "status": "ok",
     "timestamp": 1758849041085,
     "user": {
      "displayName": "Ian Yané",
      "userId": "09070912689777423281"
     },
     "user_tz": 180
    },
    "id": "dX6zzyqPdcyl",
    "outputId": "71ca0aea-3189-4af8-8b5a-66b36500810a"
   },
   "outputs": [],
   "source": [
    "quality_xgb_opt_init_time = time()\n",
    "\n",
    "quality_xgb_opt.fit(X_quality_train_scaled, y_quality_train_clf_xgb)\n",
    "\n",
    "quality_xgb_opt_final_time = time()\n",
    "quality_xgb_opt_train_time = quality_xgb_opt_final_time - quality_xgb_opt_init_time"
   ]
  },
  {
   "cell_type": "markdown",
   "metadata": {
    "id": "sE0aMR3adcyl"
   },
   "source": [
    "4. Predicciones utilizando la instancia"
   ]
  },
  {
   "cell_type": "code",
   "execution_count": 132,
   "metadata": {
    "executionInfo": {
     "elapsed": 139,
     "status": "ok",
     "timestamp": 1758849041221,
     "user": {
      "displayName": "Ian Yané",
      "userId": "09070912689777423281"
     },
     "user_tz": 180
    },
    "id": "iBJ2IrLxdcyl"
   },
   "outputs": [],
   "source": [
    "quality_xgb_opt_train_pred = quality_xgb_opt.predict(X_quality_train_scaled)\n",
    "quality_xgb_opt_test_pred = quality_xgb_opt.predict(X_quality_test_scaled)"
   ]
  },
  {
   "cell_type": "markdown",
   "metadata": {
    "id": "HeTGBAsvdcyl"
   },
   "source": [
    "5. Evaluación utilizando la instancia"
   ]
  },
  {
   "cell_type": "code",
   "execution_count": 133,
   "metadata": {
    "colab": {
     "base_uri": "https://localhost:8080/"
    },
    "executionInfo": {
     "elapsed": 35,
     "status": "ok",
     "timestamp": 1758849041259,
     "user": {
      "displayName": "Ian Yané",
      "userId": "09070912689777423281"
     },
     "user_tz": 180
    },
    "id": "aGcIMyNhdcyl",
    "outputId": "babd10d9-146e-4776-b001-1b79e9e15d42"
   },
   "outputs": [
    {
     "name": "stdout",
     "output_type": "stream",
     "text": [
      "\n",
      "=== XGBClassifierOpt ===\n",
      "Accuracy score: 0.8203\n",
      "F1-score (weighted): 0.8191\n",
      "\n",
      "---- Reporte de entrenamiento ----\n",
      "              precision    recall  f1-score   support\n",
      "\n",
      "         0.0       1.00      1.00      1.00      1788\n",
      "         1.0       1.00      1.00      1.00      3084\n",
      "\n",
      "    accuracy                           1.00      4872\n",
      "   macro avg       1.00      1.00      1.00      4872\n",
      "weighted avg       1.00      1.00      1.00      4872\n",
      "\n",
      "---- Reporte de prueba ----\n",
      "              precision    recall  f1-score   support\n",
      "\n",
      "         0.0       0.77      0.73      0.75       596\n",
      "         1.0       0.85      0.87      0.86      1029\n",
      "\n",
      "    accuracy                           0.82      1625\n",
      "   macro avg       0.81      0.80      0.80      1625\n",
      "weighted avg       0.82      0.82      0.82      1625\n",
      "\n",
      "-------------------------\n",
      "\n"
     ]
    },
    {
     "data": {
      "text/html": [
       "<div>\n",
       "<style scoped>\n",
       "    .dataframe tbody tr th:only-of-type {\n",
       "        vertical-align: middle;\n",
       "    }\n",
       "\n",
       "    .dataframe tbody tr th {\n",
       "        vertical-align: top;\n",
       "    }\n",
       "\n",
       "    .dataframe thead th {\n",
       "        text-align: right;\n",
       "    }\n",
       "</style>\n",
       "<table border=\"1\" class=\"dataframe\">\n",
       "  <thead>\n",
       "    <tr style=\"text-align: right;\">\n",
       "      <th></th>\n",
       "      <th>train_time (s)</th>\n",
       "      <th>f1_weighted</th>\n",
       "      <th>accuracy</th>\n",
       "    </tr>\n",
       "  </thead>\n",
       "  <tbody>\n",
       "    <tr>\n",
       "      <th>DecisionTreeClassifierOpt</th>\n",
       "      <td>24.000408</td>\n",
       "      <td>0.750004</td>\n",
       "      <td>0.748308</td>\n",
       "    </tr>\n",
       "    <tr>\n",
       "      <th>LogisticRegressionOpt</th>\n",
       "      <td>14.530353</td>\n",
       "      <td>0.340205</td>\n",
       "      <td>0.410462</td>\n",
       "    </tr>\n",
       "    <tr>\n",
       "      <th>RandomForestClassifierOpt</th>\n",
       "      <td>88.000986</td>\n",
       "      <td>0.834065</td>\n",
       "      <td>0.835077</td>\n",
       "    </tr>\n",
       "    <tr>\n",
       "      <th>XGBClassifierOpt</th>\n",
       "      <td>8.179859</td>\n",
       "      <td>0.81913</td>\n",
       "      <td>0.820308</td>\n",
       "    </tr>\n",
       "  </tbody>\n",
       "</table>\n",
       "</div>"
      ],
      "text/plain": [
       "                          train_time (s) f1_weighted  accuracy\n",
       "DecisionTreeClassifierOpt      24.000408    0.750004  0.748308\n",
       "LogisticRegressionOpt          14.530353    0.340205  0.410462\n",
       "RandomForestClassifierOpt      88.000986    0.834065  0.835077\n",
       "XGBClassifierOpt                8.179859     0.81913  0.820308"
      ]
     },
     "execution_count": 133,
     "metadata": {},
     "output_type": "execute_result"
    }
   ],
   "source": [
    "evaluar_modelo(\n",
    "    nombre_modelo= 'XGBClassifierOpt', \n",
    "    y_train_true= y_quality_train_clf_xgb, \n",
    "    y_train_pred=quality_xgb_opt_train_pred, \n",
    "    y_test_true=y_quality_test_clf_xgb, \n",
    "    y_test_pred=quality_xgb_opt_test_pred, \n",
    "    train_time=quality_xgb_opt_train_time,\n",
    "    df_resultados=quality_modelos_clasificacion_rendimiento, \n",
    "    tipo_modelo= 'c',\n",
    "    pos_label='good_quality'\n",
    ")"
   ]
  },
  {
   "cell_type": "markdown",
   "metadata": {
    "id": "Rjvn5FZ_6lrc"
   },
   "source": [
    "Deberán completar la siguiente tabla:\n",
    "\n",
    "---\n",
    "\n",
    "| Modelo                     | train_time (s) | f1_weighted | accuracy |\n",
    "|-----------------------------|----------------|--------------|-----------|\n",
    "| DecisionTreeClassifierOpt   | 21.459401       | 0.750004     | 0.748308  |\n",
    "| LogisticRegressionOpt       | 14.369754       | 0.340205     | 0.410462  |\n",
    "| RandomForestClassifierOpt   | 53.639851       | 0.836471     | 0.838769  |\n",
    "| XGBClassifierOpt            | 11.418807       | 0.823482     | 0.824000  |\n",
    "\n",
    "---\n",
    "\n",
    "| Modelo | Tiempo entrenamiento | RMSE| R^2 | \n",
    "| :--- | :--- | :--- | :--- |\n",
    "| Regresión Lineal | 0.011314 | 0.742092 |0.258879| \n",
    "| DecisionTreeRegressor| 0.011314    | 0.749311    | 0.24439  | \n",
    "| XGBoost Regressor     | 0.011314    | 0.738584    | 0.265869 | \n",
    "\n",
    "---\n",
    "\n",
    "### Gráfico de Dispersión: Valores Reales vs. Predichos\n",
    "*Generen aquí un scatter plot con los valores de `y_test_reg` en el eje X y las predicciones de su **mejor modelo** en el eje Y. Añadan una línea diagonal de referencia para visualizar qué tan buenas son las predicciones.*"
   ]
  },
  {
   "cell_type": "code",
   "execution_count": 134,
   "metadata": {},
   "outputs": [
    {
     "data": {
      "image/png": "[encoded data removed]",
      "text/plain": [
       "<Figure size 640x480 with 1 Axes>"
      ]
     },
     "metadata": {},
     "output_type": "display_data"
    }
   ],
   "source": [
    "fig = plt.figure()\n",
    "ax = plt.axes()\n",
    "\n",
    "ax.scatter(y_test_reg, y_pred_test_quality_rf_reg)\n",
    "plt.plot([y_test_reg.min(), y_test_reg.max()], [y_pred_train_quality_rf_reg.min(), y_pred_train_quality_rf_reg.max()])\n",
    "plt.show()"
   ]
  },
  {
   "cell_type": "code",
   "execution_count": 136,
   "metadata": {},
   "outputs": [
    {
     "data": {
      "image/png": "[encoded data removed]",
      "text/plain": [
       "<Figure size 1000x1000 with 1 Axes>"
      ]
     },
     "metadata": {},
     "output_type": "display_data"
    }
   ],
   "source": [
    "train_time_mean = quality_modelos_clasificacion_rendimiento['train_time (s)'].mean()\n",
    "train_time_min = quality_modelos_clasificacion_rendimiento['train_time (s)'].min()\n",
    "\n",
    "fig = plt.figure(figsize=(10, 10))\n",
    "ax = plt.axes()\n",
    "\n",
    "sns.barplot(y='train_time (s)', data=quality_modelos_clasificacion_rendimiento, ax=ax, hue=quality_modelos_clasificacion_rendimiento.index)\n",
    "ax.axhline(train_time_mean, label=f'Mean of train time: {train_time_mean}', c='red', linestyle='--')\n",
    "ax.axhline(train_time_min, label=f'Min of train time: {train_time_min}', c='green', linestyle='-')\n",
    "ax.legend()\n",
    "\n",
    "plt.show()"
   ]
  },
  {
   "cell_type": "code",
   "execution_count": 137,
   "metadata": {},
   "outputs": [
    {
     "data": {
      "image/png": "[encoded data removed]",
      "text/plain": [
       "<Figure size 1000x1000 with 1 Axes>"
      ]
     },
     "metadata": {},
     "output_type": "display_data"
    }
   ],
   "source": [
    "accuracy_mean = quality_modelos_clasificacion_rendimiento['accuracy'].mean()\n",
    "accuracy_max = quality_modelos_clasificacion_rendimiento['accuracy'].max()\n",
    "\n",
    "fig = plt.figure(figsize=(10, 10))\n",
    "ax = plt.axes()\n",
    "\n",
    "sns.barplot(y='accuracy', data=quality_modelos_clasificacion_rendimiento, ax=ax, hue=quality_modelos_clasificacion_rendimiento.index)\n",
    "ax.axhline(accuracy_mean, label=f'Mean of accuracy: {accuracy_mean}', c='red', linestyle='--')\n",
    "ax.axhline(accuracy_max, label=f'Max of accuracy: {accuracy_max}', c='green', linestyle='-')\n",
    "\n",
    "ax.legend()\n",
    "plt.show()"
   ]
  },
  {
   "cell_type": "code",
   "execution_count": 138,
   "metadata": {},
   "outputs": [
    {
     "data": {
      "text/html": [
       "<div>\n",
       "<style scoped>\n",
       "    .dataframe tbody tr th:only-of-type {\n",
       "        vertical-align: middle;\n",
       "    }\n",
       "\n",
       "    .dataframe tbody tr th {\n",
       "        vertical-align: top;\n",
       "    }\n",
       "\n",
       "    .dataframe thead th {\n",
       "        text-align: right;\n",
       "    }\n",
       "</style>\n",
       "<table border=\"1\" class=\"dataframe\">\n",
       "  <thead>\n",
       "    <tr style=\"text-align: right;\">\n",
       "      <th></th>\n",
       "      <th>train_time (s)</th>\n",
       "      <th>f1_weighted</th>\n",
       "      <th>accuracy</th>\n",
       "    </tr>\n",
       "  </thead>\n",
       "  <tbody>\n",
       "    <tr>\n",
       "      <th>XGBClassifierOpt</th>\n",
       "      <td>8.179859</td>\n",
       "      <td>0.81913</td>\n",
       "      <td>0.820308</td>\n",
       "    </tr>\n",
       "  </tbody>\n",
       "</table>\n",
       "</div>"
      ],
      "text/plain": [
       "                 train_time (s) f1_weighted  accuracy\n",
       "XGBClassifierOpt       8.179859     0.81913  0.820308"
      ]
     },
     "execution_count": 138,
     "metadata": {},
     "output_type": "execute_result"
    }
   ],
   "source": [
    "mask_quality_modelos_clasificación_rendimiento = (\n",
    "    (quality_modelos_clasificacion_rendimiento['f1_weighted'] >= quality_modelos_clasificacion_rendimiento['f1_weighted'].quantile(0.60)) &\n",
    "    (quality_modelos_clasificacion_rendimiento['accuracy'] >= quality_modelos_clasificacion_rendimiento['accuracy'].quantile(0.60)) &\n",
    "    (quality_modelos_clasificacion_rendimiento['train_time (s)'] < quality_modelos_clasificacion_rendimiento['train_time (s)'].quantile(0.50))\n",
    ")\n",
    "\n",
    "quality_modelos_clasificacion_rendimiento_filtrado = quality_modelos_clasificacion_rendimiento[mask_quality_modelos_clasificación_rendimiento]\n",
    "quality_modelos_clasificacion_rendimiento_filtrado"
   ]
  },
  {
   "cell_type": "code",
   "execution_count": 139,
   "metadata": {},
   "outputs": [
    {
     "data": {
      "text/html": [
       "<style type=\"text/css\">\n",
       "#T_10190_row3_col0, #T_10190_row3_col1, #T_10190_row3_col2 {\n",
       "  background-color: lightgreen;\n",
       "}\n",
       "</style>\n",
       "<table id=\"T_10190\">\n",
       "  <thead>\n",
       "    <tr>\n",
       "      <th class=\"blank level0\" >&nbsp;</th>\n",
       "      <th id=\"T_10190_level0_col0\" class=\"col_heading level0 col0\" >train_time (s)</th>\n",
       "      <th id=\"T_10190_level0_col1\" class=\"col_heading level0 col1\" >f1_weighted</th>\n",
       "      <th id=\"T_10190_level0_col2\" class=\"col_heading level0 col2\" >accuracy</th>\n",
       "    </tr>\n",
       "  </thead>\n",
       "  <tbody>\n",
       "    <tr>\n",
       "      <th id=\"T_10190_level0_row0\" class=\"row_heading level0 row0\" >DecisionTreeClassifierOpt</th>\n",
       "      <td id=\"T_10190_row0_col0\" class=\"data row0 col0\" >24.000408</td>\n",
       "      <td id=\"T_10190_row0_col1\" class=\"data row0 col1\" >0.750004</td>\n",
       "      <td id=\"T_10190_row0_col2\" class=\"data row0 col2\" >0.748308</td>\n",
       "    </tr>\n",
       "    <tr>\n",
       "      <th id=\"T_10190_level0_row1\" class=\"row_heading level0 row1\" >LogisticRegressionOpt</th>\n",
       "      <td id=\"T_10190_row1_col0\" class=\"data row1 col0\" >14.530353</td>\n",
       "      <td id=\"T_10190_row1_col1\" class=\"data row1 col1\" >0.340205</td>\n",
       "      <td id=\"T_10190_row1_col2\" class=\"data row1 col2\" >0.410462</td>\n",
       "    </tr>\n",
       "    <tr>\n",
       "      <th id=\"T_10190_level0_row2\" class=\"row_heading level0 row2\" >RandomForestClassifierOpt</th>\n",
       "      <td id=\"T_10190_row2_col0\" class=\"data row2 col0\" >88.000986</td>\n",
       "      <td id=\"T_10190_row2_col1\" class=\"data row2 col1\" >0.834065</td>\n",
       "      <td id=\"T_10190_row2_col2\" class=\"data row2 col2\" >0.835077</td>\n",
       "    </tr>\n",
       "    <tr>\n",
       "      <th id=\"T_10190_level0_row3\" class=\"row_heading level0 row3\" >XGBClassifierOpt</th>\n",
       "      <td id=\"T_10190_row3_col0\" class=\"data row3 col0\" >8.179859</td>\n",
       "      <td id=\"T_10190_row3_col1\" class=\"data row3 col1\" >0.819130</td>\n",
       "      <td id=\"T_10190_row3_col2\" class=\"data row3 col2\" >0.820308</td>\n",
       "    </tr>\n",
       "  </tbody>\n",
       "</table>\n"
      ],
      "text/plain": [
       "<pandas.io.formats.style.Styler at 0x132c27dd0>"
      ]
     },
     "execution_count": 139,
     "metadata": {},
     "output_type": "execute_result"
    }
   ],
   "source": [
    "row_index = 'XGBClassifierOpt'\n",
    "\n",
    "# Aplicar estilo\n",
    "quality_modelos_clasificacion_rendimiento.style.apply(highlight_best, axis=1, row_index=row_index)"
   ]
  },
  {
   "cell_type": "markdown",
   "metadata": {
    "id": "V6aZaArQ61v4"
   },
   "source": [
    "### Conclusión de la Tarea de Regresión\n",
    "\n",
    "**Escriban su conclusión aquí.**\n",
    "*¿Qué modelo tuvo el mejor rendimiento? ¿Qué significan los valores de MAE y R² que obtuvieron? ¿La predicción de la calidad es una tarea fácil o difícil para estos modelos? Justifiquen su respuesta basándose en las métricas y el gráfico.*"
   ]
  },
  {
   "cell_type": "markdown",
   "metadata": {},
   "source": [
    "<font color='green'>Respuesta:</font>\n",
    "\n",
    "El modelo de regresión que mostró el mejor rendimiento para predecir la calidad del vino fue el árbol de decisión. Sin embargo, su desempeño fue limitado (con un valor de R^2 considerablemente inferior a 0.5), lo que indica una baja capacidad predictiva.\n",
    "Debido a estos resultados, se decidió no continuar con la optimización de hiperparámetros en el enfoque de regresión y, en su lugar, discretizar la variable objetivo para transformar el problema en una tarea de clasificación binaria con dos posibles categorías: `'good_quality'` y `'bad_quality'`.\n",
    "\n",
    "En este nuevo contexto supervisado, el modelo que obtuvo el mejor desempeño global fue el `XGBClassifier` optimizado, con los siguientes resultados:\n",
    "- Tiempo de entrenamiento: 11.42 segundos\n",
    "- F1-score ponderado: 0.8235\n",
    "- Accuracy: 0.8240"
   ]
  },
  {
   "cell_type": "markdown",
   "metadata": {
    "id": "MnOPEHhP64LV"
   },
   "source": [
    "<a name=\"final\"></a>\n",
    "## 6. (A COMPLETAR) Conclusiones Finales del Proyecto\n",
    "\n",
    "En esta sección final, deben resumir los hallazgos de todo el proyecto.\n",
    "* ¿Qué tarea fue más \"fácil\" para los modelos: clasificar el tipo de vino o predecir su calidad? ¿Por qué creen que fue así?\n",
    "* ¿Qué importancia tuvo el preprocesamiento (escalado de datos)?\n",
    "* ¿Valió la pena utilizar `GridSearchCV`? ¿Mejoró significativamente el rendimiento de los modelos base?\n",
    "* Si tuvieran que presentarle una solución a la bodega, ¿qué modelos recomendarían para cada tarea y por qué?"
   ]
  },
  {
   "cell_type": "markdown",
   "metadata": {},
   "source": [
    "<font color='green'>Respuesta:</font>"
   ]
  },
  {
   "cell_type": "markdown",
   "metadata": {},
   "source": [
    "En términos generales, resultó más sencillo predecir el tipo de vino que su calidad. Esto se debe a que el tipo de vino (por ejemplo, blanco o tinto) es una característica más directamente relacionada con las propiedades fisicoquímicas medidas en las variables predictoras, las cuales permiten distinguir con gran facilidad entre ambas categorías.\n",
    "\n",
    "Por el contrario, la calidad del vino es una variable más subjetiva y compleja, ya que no depende únicamente de las propiedades químicas u objetivas del producto. Factores como estrategias de mercadeo o aspectos contextuales pueden influir en la percepción de calidad, lo que dificulta su predicción precisa mediante modelos puramente fisicoquímicos."
   ]
  },
  {
   "cell_type": "markdown",
   "metadata": {},
   "source": [
    "El escalado de los datos demostró ser un paso relevante para los modelos lineales, como Logistic Regression o Linear Regression, ya que estos algoritmos son sensibles a las magnitudes de las variables y pueden mejorar su rendimiento cuando las características se encuentran en escalas comparables.\n",
    "\n",
    "Sin embargo, como era de esperarse, esta ventaja no se manifestó en los modelos basados en árboles de decisión, los cuales no dependen de la escala de las variables, sino que se basan en criterios de partición o rangos (bins) para dividir el espacio de datos y modelar relaciones no lineales."
   ]
  },
  {
   "cell_type": "markdown",
   "metadata": {},
   "source": [
    "Aunque no se aplicó el enfoque en los modelos de regresión debido a su bajo desempeño inicial, el uso de GridSearchCV en los modelos de clasificación permitió observar mejoras moderadas en el rendimiento, especialmente en aquellos casos donde el modelo base ya mostraba un desempeño aceptable. Esto sugiere que, si bien la optimización de hiperparámetros puede aportar un ajuste fino, su impacto es limitado cuando naturalmente hay algunos datos atípicos entre las clases."
   ]
  },
  {
   "cell_type": "markdown",
   "metadata": {},
   "source": [
    "En ambas tareas —predecir el tipo de vino y predecir la calidad del vino— se asume un contexto de aplicación práctica, como podría ser identificar el tipo de vino en una etapa intermedia del proceso de producción o estimar su calidad en la fase final.\n",
    "En estos escenarios, se busca lograr un alto rendimiento predictivo sin sacrificar eficiencia computacional, especialmente considerando la posibilidad de que el volumen de datos crezca y sea necesario reentrenar periódicamente los modelos.\n",
    "\n",
    "Por este motivo, en ambas tareas se priorizó un equilibrio entre precisión y tiempo de entrenamiento, haciendo mas enfacis en la primera:\n",
    "- **Predicción del tipo de vino:** el modelo XGBClassifier en su configuración base ofreció un desempeño sólido y consistente, tal como se detalla en su respectivo análisis.\n",
    "- **Predicción de la calidad del vino:** el modelo XGBClassifier optimizado mediante GridSearchCV mostró una mejora significativa en las métricas, justificando su elección como el mejor modelo para esta tarea."
   ]
  }
 ],
 "metadata": {
  "colab": {
   "provenance": [
    {
     "file_id": "1uv-nKcgzM4RNpCYNWgv-nsBtfF5fyFeP",
     "timestamp": 1756151198307
    }
   ]
  },
  "kernelspec": {
   "display_name": "data_science",
   "language": "python",
   "name": "python3"
  },
  "language_info": {
   "codemirror_mode": {
    "name": "ipython",
    "version": 3
   },
   "file_extension": ".py",
   "mimetype": "text/x-python",
   "name": "python",
   "nbconvert_exporter": "python",
   "pygments_lexer": "ipython3",
   "version": "3.12.2"
  }
 },
 "nbformat": 4,
 "nbformat_minor": 0
}
