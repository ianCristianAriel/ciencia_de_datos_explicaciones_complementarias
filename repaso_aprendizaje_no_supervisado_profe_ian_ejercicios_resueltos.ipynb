{
  "nbformat": 4,
  "nbformat_minor": 0,
  "metadata": {
    "colab": {
      "provenance": [],
      "collapsed_sections": [
        "ncqNkHuenRm-",
        "d3WRxAF_nRI8",
        "SupDIYO7q2PC",
        "XLTMwNNdnQrn",
        "v4_T-w17nC9h",
        "JFEZbHZCtW-7",
        "UXZg1K3ktpUb",
        "EUeJem66uTrh",
        "SujSOsgsvk_Y",
        "DAaw2lSfwpuF",
        "rhWT-3Sm0cP0",
        "8Ejbzhlkyn_u"
      ]
    },
    "kernelspec": {
      "name": "python3",
      "display_name": "Python 3"
    },
    "language_info": {
      "name": "python"
    }
  },
  "cells": [
    {
      "cell_type": "markdown",
      "source": [
        "# **Unidad 2: Ejercicios de repaso (regresión y clasificación)**\n",
        "1. Carga y limpieza del dataset\n",
        "2. Separación de Datos\n",
        "3. Preprocesamiento de datos\n",
        "4. Machine learning\n",
        "5. Sistematización del Flujo"
      ],
      "metadata": {
        "id": "JRlWUeHZqcZP"
      }
    },
    {
      "cell_type": "markdown",
      "source": [
        "---\n",
        "## **Problemas de Clasificación**"
      ],
      "metadata": {
        "id": "Ljn6Mr1WQLHe"
      }
    },
    {
      "cell_type": "markdown",
      "source": [
        "### 1. Carga y limpieza del dataset\n",
        "\n",
        "\n"
      ],
      "metadata": {
        "id": "TJkpD6hgO9kM"
      }
    },
    {
      "cell_type": "markdown",
      "source": [
        "#### Carga del dataset"
      ],
      "metadata": {
        "id": "2AzSCY9VliBk"
      }
    },
    {
      "cell_type": "markdown",
      "source": [
        "#### Solución Carga del dataset:\n",
        "\n"
      ],
      "metadata": {
        "id": "ncqNkHuenRm-"
      }
    },
    {
      "cell_type": "code",
      "source": [
        "import pandas as pd\n",
        "import seaborn as sns"
      ],
      "metadata": {
        "id": "n2H9AuQIL_29"
      },
      "execution_count": null,
      "outputs": []
    },
    {
      "cell_type": "code",
      "source": [
        " df = sns.load_dataset(\"penguins\")       # carga CSV integrado en seaborn"
      ],
      "metadata": {
        "id": "CptzV6WRnRm_"
      },
      "execution_count": null,
      "outputs": []
    },
    {
      "cell_type": "code",
      "source": [
        "df.read_csv('./penguins.csv')"
      ],
      "metadata": {
        "id": "V4tdoZ_IMTeY"
      },
      "execution_count": null,
      "outputs": []
    },
    {
      "cell_type": "markdown",
      "source": [
        "#### Limpieza de datos:\n",
        "- Revisar valores nulos (NaN) y decidir si imputar o eliminar.\n",
        "- Revisar outliers extremos y decidir si transformarlos, eliminarlos o dejarlos según el contexto.\n",
        "- Eliminar duplicados si no aportan información relevante."
      ],
      "metadata": {
        "id": "gw61gXyFljp7"
      }
    },
    {
      "cell_type": "code",
      "source": [
        "# investigar libreria amissingno"
      ],
      "metadata": {
        "id": "hRfRHSY99Stw"
      },
      "execution_count": null,
      "outputs": []
    },
    {
      "cell_type": "code",
      "source": [
        "df.info()"
      ],
      "metadata": {
        "id": "P-SX3FRbO-ND",
        "colab": {
          "base_uri": "https://localhost:8080/"
        },
        "outputId": "e0c847cb-c43d-4fa1-dcb1-0f71ae3622e6"
      },
      "execution_count": null,
      "outputs": [
        {
          "output_type": "stream",
          "name": "stdout",
          "text": [
            "<class 'pandas.core.frame.DataFrame'>\n",
            "RangeIndex: 199504 entries, 0 to 199503\n",
            "Data columns (total 9 columns):\n",
            " #   Column      Non-Null Count   Dtype  \n",
            "---  ------      --------------   -----  \n",
            " 0   Date        199504 non-null  object \n",
            " 1   Id          199504 non-null  int64  \n",
            " 2   suburb      199504 non-null  object \n",
            " 3   postalCode  199504 non-null  int64  \n",
            " 4   sellPrice   199504 non-null  int64  \n",
            " 5   bed         199350 non-null  float64\n",
            " 6   bath        199504 non-null  int64  \n",
            " 7   car         181353 non-null  float64\n",
            " 8   propType    199504 non-null  object \n",
            "dtypes: float64(2), int64(4), object(3)\n",
            "memory usage: 13.7+ MB\n"
          ]
        }
      ]
    },
    {
      "cell_type": "code",
      "source": [
        "df.isnull().sum()"
      ],
      "metadata": {
        "colab": {
          "base_uri": "https://localhost:8080/",
          "height": 366
        },
        "id": "_OJZZvzm77is",
        "outputId": "347cd83e-9a61-44de-87d0-50fa3f6814a8"
      },
      "execution_count": null,
      "outputs": [
        {
          "output_type": "execute_result",
          "data": {
            "text/plain": [
              "Date              0\n",
              "Id                0\n",
              "suburb            0\n",
              "postalCode        0\n",
              "sellPrice         0\n",
              "bed             154\n",
              "bath              0\n",
              "car           18151\n",
              "propType          0\n",
              "dtype: int64"
            ],
            "text/html": [
              "<div>\n",
              "<style scoped>\n",
              "    .dataframe tbody tr th:only-of-type {\n",
              "        vertical-align: middle;\n",
              "    }\n",
              "\n",
              "    .dataframe tbody tr th {\n",
              "        vertical-align: top;\n",
              "    }\n",
              "\n",
              "    .dataframe thead th {\n",
              "        text-align: right;\n",
              "    }\n",
              "</style>\n",
              "<table border=\"1\" class=\"dataframe\">\n",
              "  <thead>\n",
              "    <tr style=\"text-align: right;\">\n",
              "      <th></th>\n",
              "      <th>0</th>\n",
              "    </tr>\n",
              "  </thead>\n",
              "  <tbody>\n",
              "    <tr>\n",
              "      <th>Date</th>\n",
              "      <td>0</td>\n",
              "    </tr>\n",
              "    <tr>\n",
              "      <th>Id</th>\n",
              "      <td>0</td>\n",
              "    </tr>\n",
              "    <tr>\n",
              "      <th>suburb</th>\n",
              "      <td>0</td>\n",
              "    </tr>\n",
              "    <tr>\n",
              "      <th>postalCode</th>\n",
              "      <td>0</td>\n",
              "    </tr>\n",
              "    <tr>\n",
              "      <th>sellPrice</th>\n",
              "      <td>0</td>\n",
              "    </tr>\n",
              "    <tr>\n",
              "      <th>bed</th>\n",
              "      <td>154</td>\n",
              "    </tr>\n",
              "    <tr>\n",
              "      <th>bath</th>\n",
              "      <td>0</td>\n",
              "    </tr>\n",
              "    <tr>\n",
              "      <th>car</th>\n",
              "      <td>18151</td>\n",
              "    </tr>\n",
              "    <tr>\n",
              "      <th>propType</th>\n",
              "      <td>0</td>\n",
              "    </tr>\n",
              "  </tbody>\n",
              "</table>\n",
              "</div><br><label><b>dtype:</b> int64</label>"
            ]
          },
          "metadata": {},
          "execution_count": 11
        }
      ]
    },
    {
      "cell_type": "code",
      "source": [
        "df.shape"
      ],
      "metadata": {
        "colab": {
          "base_uri": "https://localhost:8080/"
        },
        "id": "5ZLkW3Ou8sXz",
        "outputId": "a361bca0-804c-41ce-c3ae-0ccf06e09949"
      },
      "execution_count": null,
      "outputs": [
        {
          "output_type": "execute_result",
          "data": {
            "text/plain": [
              "(199504, 9)"
            ]
          },
          "metadata": {},
          "execution_count": 13
        }
      ]
    },
    {
      "cell_type": "code",
      "source": [
        "from sklearn.impute import SimpleImputer, KNNImputer"
      ],
      "metadata": {
        "id": "d32v3F76O-H0"
      },
      "execution_count": null,
      "outputs": []
    },
    {
      "cell_type": "code",
      "source": [
        "help(SimpleImputer())"
      ],
      "metadata": {
        "colab": {
          "base_uri": "https://localhost:8080/"
        },
        "id": "C3zlPsky-6OV",
        "outputId": "c8ddcf86-b502-4361-97ed-b931e52aaa33"
      },
      "execution_count": null,
      "outputs": [
        {
          "output_type": "stream",
          "name": "stdout",
          "text": [
            "Help on SimpleImputer in module sklearn.impute._base object:\n",
            "\n",
            "class SimpleImputer(_BaseImputer)\n",
            " |  SimpleImputer(*, missing_values=nan, strategy='mean', fill_value=None, copy=True, add_indicator=False, keep_empty_features=False)\n",
            " |\n",
            " |  Univariate imputer for completing missing values with simple strategies.\n",
            " |\n",
            " |  Replace missing values using a descriptive statistic (e.g. mean, median, or\n",
            " |  most frequent) along each column, or using a constant value.\n",
            " |\n",
            " |  Read more in the :ref:`User Guide <impute>`.\n",
            " |\n",
            " |  .. versionadded:: 0.20\n",
            " |     `SimpleImputer` replaces the previous `sklearn.preprocessing.Imputer`\n",
            " |     estimator which is now removed.\n",
            " |\n",
            " |  Parameters\n",
            " |  ----------\n",
            " |  missing_values : int, float, str, np.nan, None or pandas.NA, default=np.nan\n",
            " |      The placeholder for the missing values. All occurrences of\n",
            " |      `missing_values` will be imputed. For pandas' dataframes with\n",
            " |      nullable integer dtypes with missing values, `missing_values`\n",
            " |      can be set to either `np.nan` or `pd.NA`.\n",
            " |\n",
            " |  strategy : str or Callable, default='mean'\n",
            " |      The imputation strategy.\n",
            " |\n",
            " |      - If \"mean\", then replace missing values using the mean along\n",
            " |        each column. Can only be used with numeric data.\n",
            " |      - If \"median\", then replace missing values using the median along\n",
            " |        each column. Can only be used with numeric data.\n",
            " |      - If \"most_frequent\", then replace missing using the most frequent\n",
            " |        value along each column. Can be used with strings or numeric data.\n",
            " |        If there is more than one such value, only the smallest is returned.\n",
            " |      - If \"constant\", then replace missing values with fill_value. Can be\n",
            " |        used with strings or numeric data.\n",
            " |      - If an instance of Callable, then replace missing values using the\n",
            " |        scalar statistic returned by running the callable over a dense 1d\n",
            " |        array containing non-missing values of each column.\n",
            " |\n",
            " |      .. versionadded:: 0.20\n",
            " |         strategy=\"constant\" for fixed value imputation.\n",
            " |\n",
            " |      .. versionadded:: 1.5\n",
            " |         strategy=callable for custom value imputation.\n",
            " |\n",
            " |  fill_value : str or numerical value, default=None\n",
            " |      When strategy == \"constant\", `fill_value` is used to replace all\n",
            " |      occurrences of missing_values. For string or object data types,\n",
            " |      `fill_value` must be a string.\n",
            " |      If `None`, `fill_value` will be 0 when imputing numerical\n",
            " |      data and \"missing_value\" for strings or object data types.\n",
            " |\n",
            " |  copy : bool, default=True\n",
            " |      If True, a copy of X will be created. If False, imputation will\n",
            " |      be done in-place whenever possible. Note that, in the following cases,\n",
            " |      a new copy will always be made, even if `copy=False`:\n",
            " |\n",
            " |      - If `X` is not an array of floating values;\n",
            " |      - If `X` is encoded as a CSR matrix;\n",
            " |      - If `add_indicator=True`.\n",
            " |\n",
            " |  add_indicator : bool, default=False\n",
            " |      If True, a :class:`MissingIndicator` transform will stack onto output\n",
            " |      of the imputer's transform. This allows a predictive estimator\n",
            " |      to account for missingness despite imputation. If a feature has no\n",
            " |      missing values at fit/train time, the feature won't appear on\n",
            " |      the missing indicator even if there are missing values at\n",
            " |      transform/test time.\n",
            " |\n",
            " |  keep_empty_features : bool, default=False\n",
            " |      If True, features that consist exclusively of missing values when\n",
            " |      `fit` is called are returned in results when `transform` is called.\n",
            " |      The imputed value is always `0` except when `strategy=\"constant\"`\n",
            " |      in which case `fill_value` will be used instead.\n",
            " |\n",
            " |      .. versionadded:: 1.2\n",
            " |\n",
            " |      .. versionchanged:: 1.6\n",
            " |          Currently, when `keep_empty_feature=False` and `strategy=\"constant\"`,\n",
            " |          empty features are not dropped. This behaviour will change in version\n",
            " |          1.8. Set `keep_empty_feature=True` to preserve this behaviour.\n",
            " |\n",
            " |  Attributes\n",
            " |  ----------\n",
            " |  statistics_ : array of shape (n_features,)\n",
            " |      The imputation fill value for each feature.\n",
            " |      Computing statistics can result in `np.nan` values.\n",
            " |      During :meth:`transform`, features corresponding to `np.nan`\n",
            " |      statistics will be discarded.\n",
            " |\n",
            " |  indicator_ : :class:`~sklearn.impute.MissingIndicator`\n",
            " |      Indicator used to add binary indicators for missing values.\n",
            " |      `None` if `add_indicator=False`.\n",
            " |\n",
            " |  n_features_in_ : int\n",
            " |      Number of features seen during :term:`fit`.\n",
            " |\n",
            " |      .. versionadded:: 0.24\n",
            " |\n",
            " |  feature_names_in_ : ndarray of shape (`n_features_in_`,)\n",
            " |      Names of features seen during :term:`fit`. Defined only when `X`\n",
            " |      has feature names that are all strings.\n",
            " |\n",
            " |      .. versionadded:: 1.0\n",
            " |\n",
            " |  See Also\n",
            " |  --------\n",
            " |  IterativeImputer : Multivariate imputer that estimates values to impute for\n",
            " |      each feature with missing values from all the others.\n",
            " |  KNNImputer : Multivariate imputer that estimates missing features using\n",
            " |      nearest samples.\n",
            " |\n",
            " |  Notes\n",
            " |  -----\n",
            " |  Columns which only contained missing values at :meth:`fit` are discarded\n",
            " |  upon :meth:`transform` if strategy is not `\"constant\"`.\n",
            " |\n",
            " |  In a prediction context, simple imputation usually performs poorly when\n",
            " |  associated with a weak learner. However, with a powerful learner, it can\n",
            " |  lead to as good or better performance than complex imputation such as\n",
            " |  :class:`~sklearn.impute.IterativeImputer` or :class:`~sklearn.impute.KNNImputer`.\n",
            " |\n",
            " |  Examples\n",
            " |  --------\n",
            " |  >>> import numpy as np\n",
            " |  >>> from sklearn.impute import SimpleImputer\n",
            " |  >>> imp_mean = SimpleImputer(missing_values=np.nan, strategy='mean')\n",
            " |  >>> imp_mean.fit([[7, 2, 3], [4, np.nan, 6], [10, 5, 9]])\n",
            " |  SimpleImputer()\n",
            " |  >>> X = [[np.nan, 2, 3], [4, np.nan, 6], [10, np.nan, 9]]\n",
            " |  >>> print(imp_mean.transform(X))\n",
            " |  [[ 7.   2.   3. ]\n",
            " |   [ 4.   3.5  6. ]\n",
            " |   [10.   3.5  9. ]]\n",
            " |\n",
            " |  For a more detailed example see\n",
            " |  :ref:`sphx_glr_auto_examples_impute_plot_missing_values.py`.\n",
            " |\n",
            " |  Method resolution order:\n",
            " |      SimpleImputer\n",
            " |      _BaseImputer\n",
            " |      sklearn.base.TransformerMixin\n",
            " |      sklearn.utils._set_output._SetOutputMixin\n",
            " |      sklearn.base.BaseEstimator\n",
            " |      sklearn.utils._estimator_html_repr._HTMLDocumentationLinkMixin\n",
            " |      sklearn.utils._metadata_requests._MetadataRequester\n",
            " |      builtins.object\n",
            " |\n",
            " |  Methods defined here:\n",
            " |\n",
            " |  __init__(self, *, missing_values=nan, strategy='mean', fill_value=None, copy=True, add_indicator=False, keep_empty_features=False)\n",
            " |      Initialize self.  See help(type(self)) for accurate signature.\n",
            " |\n",
            " |  __sklearn_tags__(self)\n",
            " |\n",
            " |  fit(self, X, y=None)\n",
            " |      Fit the imputer on `X`.\n",
            " |\n",
            " |      Parameters\n",
            " |      ----------\n",
            " |      X : {array-like, sparse matrix}, shape (n_samples, n_features)\n",
            " |          Input data, where `n_samples` is the number of samples and\n",
            " |          `n_features` is the number of features.\n",
            " |\n",
            " |      y : Ignored\n",
            " |          Not used, present here for API consistency by convention.\n",
            " |\n",
            " |      Returns\n",
            " |      -------\n",
            " |      self : object\n",
            " |          Fitted estimator.\n",
            " |\n",
            " |  get_feature_names_out(self, input_features=None)\n",
            " |      Get output feature names for transformation.\n",
            " |\n",
            " |      Parameters\n",
            " |      ----------\n",
            " |      input_features : array-like of str or None, default=None\n",
            " |          Input features.\n",
            " |\n",
            " |          - If `input_features` is `None`, then `feature_names_in_` is\n",
            " |            used as feature names in. If `feature_names_in_` is not defined,\n",
            " |            then the following input feature names are generated:\n",
            " |            `[\"x0\", \"x1\", ..., \"x(n_features_in_ - 1)\"]`.\n",
            " |          - If `input_features` is an array-like, then `input_features` must\n",
            " |            match `feature_names_in_` if `feature_names_in_` is defined.\n",
            " |\n",
            " |      Returns\n",
            " |      -------\n",
            " |      feature_names_out : ndarray of str objects\n",
            " |          Transformed feature names.\n",
            " |\n",
            " |  inverse_transform(self, X)\n",
            " |      Convert the data back to the original representation.\n",
            " |\n",
            " |      Inverts the `transform` operation performed on an array.\n",
            " |      This operation can only be performed after :class:`SimpleImputer` is\n",
            " |      instantiated with `add_indicator=True`.\n",
            " |\n",
            " |      Note that `inverse_transform` can only invert the transform in\n",
            " |      features that have binary indicators for missing values. If a feature\n",
            " |      has no missing values at `fit` time, the feature won't have a binary\n",
            " |      indicator, and the imputation done at `transform` time won't be\n",
            " |      inverted.\n",
            " |\n",
            " |      .. versionadded:: 0.24\n",
            " |\n",
            " |      Parameters\n",
            " |      ----------\n",
            " |      X : array-like of shape                 (n_samples, n_features + n_features_missing_indicator)\n",
            " |          The imputed data to be reverted to original data. It has to be\n",
            " |          an augmented array of imputed data and the missing indicator mask.\n",
            " |\n",
            " |      Returns\n",
            " |      -------\n",
            " |      X_original : ndarray of shape (n_samples, n_features)\n",
            " |          The original `X` with missing values as it was prior\n",
            " |          to imputation.\n",
            " |\n",
            " |  transform(self, X)\n",
            " |      Impute all missing values in `X`.\n",
            " |\n",
            " |      Parameters\n",
            " |      ----------\n",
            " |      X : {array-like, sparse matrix}, shape (n_samples, n_features)\n",
            " |          The input data to complete.\n",
            " |\n",
            " |      Returns\n",
            " |      -------\n",
            " |      X_imputed : {ndarray, sparse matrix} of shape                 (n_samples, n_features_out)\n",
            " |          `X` with imputed values.\n",
            " |\n",
            " |  ----------------------------------------------------------------------\n",
            " |  Data and other attributes defined here:\n",
            " |\n",
            " |  __annotations__ = {'_parameter_constraints': <class 'dict'>}\n",
            " |\n",
            " |  ----------------------------------------------------------------------\n",
            " |  Methods inherited from sklearn.base.TransformerMixin:\n",
            " |\n",
            " |  fit_transform(self, X, y=None, **fit_params)\n",
            " |      Fit to data, then transform it.\n",
            " |\n",
            " |      Fits transformer to `X` and `y` with optional parameters `fit_params`\n",
            " |      and returns a transformed version of `X`.\n",
            " |\n",
            " |      Parameters\n",
            " |      ----------\n",
            " |      X : array-like of shape (n_samples, n_features)\n",
            " |          Input samples.\n",
            " |\n",
            " |      y :  array-like of shape (n_samples,) or (n_samples, n_outputs),                 default=None\n",
            " |          Target values (None for unsupervised transformations).\n",
            " |\n",
            " |      **fit_params : dict\n",
            " |          Additional fit parameters.\n",
            " |\n",
            " |      Returns\n",
            " |      -------\n",
            " |      X_new : ndarray array of shape (n_samples, n_features_new)\n",
            " |          Transformed array.\n",
            " |\n",
            " |  ----------------------------------------------------------------------\n",
            " |  Methods inherited from sklearn.utils._set_output._SetOutputMixin:\n",
            " |\n",
            " |  set_output(self, *, transform=None)\n",
            " |      Set output container.\n",
            " |\n",
            " |      See :ref:`sphx_glr_auto_examples_miscellaneous_plot_set_output.py`\n",
            " |      for an example on how to use the API.\n",
            " |\n",
            " |      Parameters\n",
            " |      ----------\n",
            " |      transform : {\"default\", \"pandas\", \"polars\"}, default=None\n",
            " |          Configure output of `transform` and `fit_transform`.\n",
            " |\n",
            " |          - `\"default\"`: Default output format of a transformer\n",
            " |          - `\"pandas\"`: DataFrame output\n",
            " |          - `\"polars\"`: Polars output\n",
            " |          - `None`: Transform configuration is unchanged\n",
            " |\n",
            " |          .. versionadded:: 1.4\n",
            " |              `\"polars\"` option was added.\n",
            " |\n",
            " |      Returns\n",
            " |      -------\n",
            " |      self : estimator instance\n",
            " |          Estimator instance.\n",
            " |\n",
            " |  ----------------------------------------------------------------------\n",
            " |  Class methods inherited from sklearn.utils._set_output._SetOutputMixin:\n",
            " |\n",
            " |  __init_subclass__(auto_wrap_output_keys=('transform',), **kwargs)\n",
            " |      Set the ``set_{method}_request`` methods.\n",
            " |\n",
            " |      This uses PEP-487 [1]_ to set the ``set_{method}_request`` methods. It\n",
            " |      looks for the information available in the set default values which are\n",
            " |      set using ``__metadata_request__*`` class attributes, or inferred\n",
            " |      from method signatures.\n",
            " |\n",
            " |      The ``__metadata_request__*`` class attributes are used when a method\n",
            " |      does not explicitly accept a metadata through its arguments or if the\n",
            " |      developer would like to specify a request value for those metadata\n",
            " |      which are different from the default ``None``.\n",
            " |\n",
            " |      References\n",
            " |      ----------\n",
            " |      .. [1] https://www.python.org/dev/peps/pep-0487\n",
            " |\n",
            " |  ----------------------------------------------------------------------\n",
            " |  Data descriptors inherited from sklearn.utils._set_output._SetOutputMixin:\n",
            " |\n",
            " |  __dict__\n",
            " |      dictionary for instance variables\n",
            " |\n",
            " |  __weakref__\n",
            " |      list of weak references to the object\n",
            " |\n",
            " |  ----------------------------------------------------------------------\n",
            " |  Methods inherited from sklearn.base.BaseEstimator:\n",
            " |\n",
            " |  __getstate__(self)\n",
            " |      Helper for pickle.\n",
            " |\n",
            " |  __repr__(self, N_CHAR_MAX=700)\n",
            " |      Return repr(self).\n",
            " |\n",
            " |  __setstate__(self, state)\n",
            " |\n",
            " |  __sklearn_clone__(self)\n",
            " |\n",
            " |  get_params(self, deep=True)\n",
            " |      Get parameters for this estimator.\n",
            " |\n",
            " |      Parameters\n",
            " |      ----------\n",
            " |      deep : bool, default=True\n",
            " |          If True, will return the parameters for this estimator and\n",
            " |          contained subobjects that are estimators.\n",
            " |\n",
            " |      Returns\n",
            " |      -------\n",
            " |      params : dict\n",
            " |          Parameter names mapped to their values.\n",
            " |\n",
            " |  set_params(self, **params)\n",
            " |      Set the parameters of this estimator.\n",
            " |\n",
            " |      The method works on simple estimators as well as on nested objects\n",
            " |      (such as :class:`~sklearn.pipeline.Pipeline`). The latter have\n",
            " |      parameters of the form ``<component>__<parameter>`` so that it's\n",
            " |      possible to update each component of a nested object.\n",
            " |\n",
            " |      Parameters\n",
            " |      ----------\n",
            " |      **params : dict\n",
            " |          Estimator parameters.\n",
            " |\n",
            " |      Returns\n",
            " |      -------\n",
            " |      self : estimator instance\n",
            " |          Estimator instance.\n",
            " |\n",
            " |  ----------------------------------------------------------------------\n",
            " |  Methods inherited from sklearn.utils._metadata_requests._MetadataRequester:\n",
            " |\n",
            " |  get_metadata_routing(self)\n",
            " |      Get metadata routing of this object.\n",
            " |\n",
            " |      Please check :ref:`User Guide <metadata_routing>` on how the routing\n",
            " |      mechanism works.\n",
            " |\n",
            " |      Returns\n",
            " |      -------\n",
            " |      routing : MetadataRequest\n",
            " |          A :class:`~sklearn.utils.metadata_routing.MetadataRequest` encapsulating\n",
            " |          routing information.\n",
            "\n"
          ]
        }
      ]
    },
    {
      "cell_type": "code",
      "source": [
        "import seaborn as sns\n",
        "import matplotlib.pyplot as plt"
      ],
      "metadata": {
        "id": "Bi_oEXgUAKnj"
      },
      "execution_count": null,
      "outputs": []
    },
    {
      "cell_type": "code",
      "source": [
        "sns.kdeplot(df['car'])"
      ],
      "metadata": {
        "colab": {
          "base_uri": "https://localhost:8080/",
          "height": 466
        },
        "id": "XxK9epLFAPTp",
        "outputId": "cd1e8e47-1838-4c6e-ef51-200b0d9cff79"
      },
      "execution_count": null,
      "outputs": [
        {
          "output_type": "execute_result",
          "data": {
            "text/plain": [
              "<Axes: xlabel='car', ylabel='Density'>"
            ]
          },
          "metadata": {},
          "execution_count": 20
        },
        {
          "output_type": "display_data",
          "data": {
            "text/plain": [
              "<Figure size 640x480 with 1 Axes>"
            ],
            "image/png": "[encoded data removed]"
          },
          "metadata": {}
        }
      ]
    },
    {
      "cell_type": "code",
      "source": [
        "# df\n",
        "simple_i_car = SimpleImputer(strategy='mean')"
      ],
      "metadata": {
        "id": "pGD0yujXQB16"
      },
      "execution_count": null,
      "outputs": []
    },
    {
      "cell_type": "code",
      "source": [
        "type(df['car'])"
      ],
      "metadata": {
        "colab": {
          "base_uri": "https://localhost:8080/",
          "height": 203
        },
        "id": "BgQIwrFeBjaU",
        "outputId": "54326c94-c9ba-4da7-fd6d-97c79e3a6577"
      },
      "execution_count": null,
      "outputs": [
        {
          "output_type": "execute_result",
          "data": {
            "text/plain": [
              "pandas.core.series.Series"
            ],
            "text/html": [
              "<div style=\"max-width:800px; border: 1px solid var(--colab-border-color);\"><style>\n",
              "      pre.function-repr-contents {\n",
              "        overflow-x: auto;\n",
              "        padding: 8px 12px;\n",
              "        max-height: 500px;\n",
              "      }\n",
              "\n",
              "      pre.function-repr-contents.function-repr-contents-collapsed {\n",
              "        cursor: pointer;\n",
              "        max-height: 100px;\n",
              "      }\n",
              "    </style>\n",
              "    <pre style=\"white-space: initial; background:\n",
              "         var(--colab-secondary-surface-color); padding: 8px 12px;\n",
              "         border-bottom: 1px solid var(--colab-border-color);\"><b>pandas.core.series.Series</b><br/>def __init__(data=None, index=None, dtype: Dtype | None=None, name=None, copy: bool | None=None, fastpath: bool | lib.NoDefault=lib.no_default) -&gt; None</pre><pre class=\"function-repr-contents function-repr-contents-collapsed\" style=\"\"><a class=\"filepath\" style=\"display:none\" href=\"#\">/usr/local/lib/python3.12/dist-packages/pandas/core/series.py</a>One-dimensional ndarray with axis labels (including time series).\n",
              "\n",
              "Labels need not be unique but must be a hashable type. The object\n",
              "supports both integer- and label-based indexing and provides a host of\n",
              "methods for performing operations involving the index. Statistical\n",
              "methods from ndarray have been overridden to automatically exclude\n",
              "missing data (currently represented as NaN).\n",
              "\n",
              "Operations between Series (+, -, /, \\*, \\*\\*) align values based on their\n",
              "associated index values-- they need not be the same length. The result\n",
              "index will be the sorted union of the two indexes.\n",
              "\n",
              "Parameters\n",
              "----------\n",
              "data : array-like, Iterable, dict, or scalar value\n",
              "    Contains data stored in Series. If data is a dict, argument order is\n",
              "    maintained.\n",
              "index : array-like or Index (1d)\n",
              "    Values must be hashable and have the same length as `data`.\n",
              "    Non-unique index values are allowed. Will default to\n",
              "    RangeIndex (0, 1, 2, ..., n) if not provided. If data is dict-like\n",
              "    and index is None, then the keys in the data are used as the index. If the\n",
              "    index is not None, the resulting Series is reindexed with the index values.\n",
              "dtype : str, numpy.dtype, or ExtensionDtype, optional\n",
              "    Data type for the output Series. If not specified, this will be\n",
              "    inferred from `data`.\n",
              "    See the :ref:`user guide &lt;basics.dtypes&gt;` for more usages.\n",
              "name : Hashable, default None\n",
              "    The name to give to the Series.\n",
              "copy : bool, default False\n",
              "    Copy input data. Only affects Series or 1d ndarray input. See examples.\n",
              "\n",
              "Notes\n",
              "-----\n",
              "Please reference the :ref:`User Guide &lt;basics.series&gt;` for more information.\n",
              "\n",
              "Examples\n",
              "--------\n",
              "Constructing Series from a dictionary with an Index specified\n",
              "\n",
              "&gt;&gt;&gt; d = {&#x27;a&#x27;: 1, &#x27;b&#x27;: 2, &#x27;c&#x27;: 3}\n",
              "&gt;&gt;&gt; ser = pd.Series(data=d, index=[&#x27;a&#x27;, &#x27;b&#x27;, &#x27;c&#x27;])\n",
              "&gt;&gt;&gt; ser\n",
              "a   1\n",
              "b   2\n",
              "c   3\n",
              "dtype: int64\n",
              "\n",
              "The keys of the dictionary match with the Index values, hence the Index\n",
              "values have no effect.\n",
              "\n",
              "&gt;&gt;&gt; d = {&#x27;a&#x27;: 1, &#x27;b&#x27;: 2, &#x27;c&#x27;: 3}\n",
              "&gt;&gt;&gt; ser = pd.Series(data=d, index=[&#x27;x&#x27;, &#x27;y&#x27;, &#x27;z&#x27;])\n",
              "&gt;&gt;&gt; ser\n",
              "x   NaN\n",
              "y   NaN\n",
              "z   NaN\n",
              "dtype: float64\n",
              "\n",
              "Note that the Index is first build with the keys from the dictionary.\n",
              "After this the Series is reindexed with the given Index values, hence we\n",
              "get all NaN as a result.\n",
              "\n",
              "Constructing Series from a list with `copy=False`.\n",
              "\n",
              "&gt;&gt;&gt; r = [1, 2]\n",
              "&gt;&gt;&gt; ser = pd.Series(r, copy=False)\n",
              "&gt;&gt;&gt; ser.iloc[0] = 999\n",
              "&gt;&gt;&gt; r\n",
              "[1, 2]\n",
              "&gt;&gt;&gt; ser\n",
              "0    999\n",
              "1      2\n",
              "dtype: int64\n",
              "\n",
              "Due to input data type the Series has a `copy` of\n",
              "the original data even though `copy=False`, so\n",
              "the data is unchanged.\n",
              "\n",
              "Constructing Series from a 1d ndarray with `copy=False`.\n",
              "\n",
              "&gt;&gt;&gt; r = np.array([1, 2])\n",
              "&gt;&gt;&gt; ser = pd.Series(r, copy=False)\n",
              "&gt;&gt;&gt; ser.iloc[0] = 999\n",
              "&gt;&gt;&gt; r\n",
              "array([999,   2])\n",
              "&gt;&gt;&gt; ser\n",
              "0    999\n",
              "1      2\n",
              "dtype: int64\n",
              "\n",
              "Due to input data type the Series has a `view` on\n",
              "the original data, so\n",
              "the data is changed as well.</pre>\n",
              "      <script>\n",
              "      if (google.colab.kernel.accessAllowed && google.colab.files && google.colab.files.view) {\n",
              "        for (const element of document.querySelectorAll('.filepath')) {\n",
              "          element.style.display = 'block'\n",
              "          element.onclick = (event) => {\n",
              "            event.preventDefault();\n",
              "            event.stopPropagation();\n",
              "            google.colab.files.view(element.textContent, 263);\n",
              "          };\n",
              "        }\n",
              "      }\n",
              "      for (const element of document.querySelectorAll('.function-repr-contents')) {\n",
              "        element.onclick = (event) => {\n",
              "          event.preventDefault();\n",
              "          event.stopPropagation();\n",
              "          element.classList.toggle('function-repr-contents-collapsed');\n",
              "        };\n",
              "      }\n",
              "      </script>\n",
              "      </div>"
            ]
          },
          "metadata": {},
          "execution_count": 30
        }
      ]
    },
    {
      "cell_type": "code",
      "source": [
        "type(df[['car']])"
      ],
      "metadata": {
        "colab": {
          "base_uri": "https://localhost:8080/",
          "height": 203
        },
        "id": "BvoM9y3KBkGx",
        "outputId": "798be979-69c6-4029-e465-06db11d8df30"
      },
      "execution_count": null,
      "outputs": [
        {
          "output_type": "execute_result",
          "data": {
            "text/plain": [
              "pandas.core.frame.DataFrame"
            ],
            "text/html": [
              "<div style=\"max-width:800px; border: 1px solid var(--colab-border-color);\"><style>\n",
              "      pre.function-repr-contents {\n",
              "        overflow-x: auto;\n",
              "        padding: 8px 12px;\n",
              "        max-height: 500px;\n",
              "      }\n",
              "\n",
              "      pre.function-repr-contents.function-repr-contents-collapsed {\n",
              "        cursor: pointer;\n",
              "        max-height: 100px;\n",
              "      }\n",
              "    </style>\n",
              "    <pre style=\"white-space: initial; background:\n",
              "         var(--colab-secondary-surface-color); padding: 8px 12px;\n",
              "         border-bottom: 1px solid var(--colab-border-color);\"><b>pandas.core.frame.DataFrame</b><br/>def __init__(data=None, index: Axes | None=None, columns: Axes | None=None, dtype: Dtype | None=None, copy: bool | None=None) -&gt; None</pre><pre class=\"function-repr-contents function-repr-contents-collapsed\" style=\"\"><a class=\"filepath\" style=\"display:none\" href=\"#\">/usr/local/lib/python3.12/dist-packages/pandas/core/frame.py</a>Two-dimensional, size-mutable, potentially heterogeneous tabular data.\n",
              "\n",
              "Data structure also contains labeled axes (rows and columns).\n",
              "Arithmetic operations align on both row and column labels. Can be\n",
              "thought of as a dict-like container for Series objects. The primary\n",
              "pandas data structure.\n",
              "\n",
              "Parameters\n",
              "----------\n",
              "data : ndarray (structured or homogeneous), Iterable, dict, or DataFrame\n",
              "    Dict can contain Series, arrays, constants, dataclass or list-like objects. If\n",
              "    data is a dict, column order follows insertion-order. If a dict contains Series\n",
              "    which have an index defined, it is aligned by its index. This alignment also\n",
              "    occurs if data is a Series or a DataFrame itself. Alignment is done on\n",
              "    Series/DataFrame inputs.\n",
              "\n",
              "    If data is a list of dicts, column order follows insertion-order.\n",
              "\n",
              "index : Index or array-like\n",
              "    Index to use for resulting frame. Will default to RangeIndex if\n",
              "    no indexing information part of input data and no index provided.\n",
              "columns : Index or array-like\n",
              "    Column labels to use for resulting frame when data does not have them,\n",
              "    defaulting to RangeIndex(0, 1, 2, ..., n). If data contains column labels,\n",
              "    will perform column selection instead.\n",
              "dtype : dtype, default None\n",
              "    Data type to force. Only a single dtype is allowed. If None, infer.\n",
              "copy : bool or None, default None\n",
              "    Copy data from inputs.\n",
              "    For dict data, the default of None behaves like ``copy=True``.  For DataFrame\n",
              "    or 2d ndarray input, the default of None behaves like ``copy=False``.\n",
              "    If data is a dict containing one or more Series (possibly of different dtypes),\n",
              "    ``copy=False`` will ensure that these inputs are not copied.\n",
              "\n",
              "    .. versionchanged:: 1.3.0\n",
              "\n",
              "See Also\n",
              "--------\n",
              "DataFrame.from_records : Constructor from tuples, also record arrays.\n",
              "DataFrame.from_dict : From dicts of Series, arrays, or dicts.\n",
              "read_csv : Read a comma-separated values (csv) file into DataFrame.\n",
              "read_table : Read general delimited file into DataFrame.\n",
              "read_clipboard : Read text from clipboard into DataFrame.\n",
              "\n",
              "Notes\n",
              "-----\n",
              "Please reference the :ref:`User Guide &lt;basics.dataframe&gt;` for more information.\n",
              "\n",
              "Examples\n",
              "--------\n",
              "Constructing DataFrame from a dictionary.\n",
              "\n",
              "&gt;&gt;&gt; d = {&#x27;col1&#x27;: [1, 2], &#x27;col2&#x27;: [3, 4]}\n",
              "&gt;&gt;&gt; df = pd.DataFrame(data=d)\n",
              "&gt;&gt;&gt; df\n",
              "   col1  col2\n",
              "0     1     3\n",
              "1     2     4\n",
              "\n",
              "Notice that the inferred dtype is int64.\n",
              "\n",
              "&gt;&gt;&gt; df.dtypes\n",
              "col1    int64\n",
              "col2    int64\n",
              "dtype: object\n",
              "\n",
              "To enforce a single dtype:\n",
              "\n",
              "&gt;&gt;&gt; df = pd.DataFrame(data=d, dtype=np.int8)\n",
              "&gt;&gt;&gt; df.dtypes\n",
              "col1    int8\n",
              "col2    int8\n",
              "dtype: object\n",
              "\n",
              "Constructing DataFrame from a dictionary including Series:\n",
              "\n",
              "&gt;&gt;&gt; d = {&#x27;col1&#x27;: [0, 1, 2, 3], &#x27;col2&#x27;: pd.Series([2, 3], index=[2, 3])}\n",
              "&gt;&gt;&gt; pd.DataFrame(data=d, index=[0, 1, 2, 3])\n",
              "   col1  col2\n",
              "0     0   NaN\n",
              "1     1   NaN\n",
              "2     2   2.0\n",
              "3     3   3.0\n",
              "\n",
              "Constructing DataFrame from numpy ndarray:\n",
              "\n",
              "&gt;&gt;&gt; df2 = pd.DataFrame(np.array([[1, 2, 3], [4, 5, 6], [7, 8, 9]]),\n",
              "...                    columns=[&#x27;a&#x27;, &#x27;b&#x27;, &#x27;c&#x27;])\n",
              "&gt;&gt;&gt; df2\n",
              "   a  b  c\n",
              "0  1  2  3\n",
              "1  4  5  6\n",
              "2  7  8  9\n",
              "\n",
              "Constructing DataFrame from a numpy ndarray that has labeled columns:\n",
              "\n",
              "&gt;&gt;&gt; data = np.array([(1, 2, 3), (4, 5, 6), (7, 8, 9)],\n",
              "...                 dtype=[(&quot;a&quot;, &quot;i4&quot;), (&quot;b&quot;, &quot;i4&quot;), (&quot;c&quot;, &quot;i4&quot;)])\n",
              "&gt;&gt;&gt; df3 = pd.DataFrame(data, columns=[&#x27;c&#x27;, &#x27;a&#x27;])\n",
              "...\n",
              "&gt;&gt;&gt; df3\n",
              "   c  a\n",
              "0  3  1\n",
              "1  6  4\n",
              "2  9  7\n",
              "\n",
              "Constructing DataFrame from dataclass:\n",
              "\n",
              "&gt;&gt;&gt; from dataclasses import make_dataclass\n",
              "&gt;&gt;&gt; Point = make_dataclass(&quot;Point&quot;, [(&quot;x&quot;, int), (&quot;y&quot;, int)])\n",
              "&gt;&gt;&gt; pd.DataFrame([Point(0, 0), Point(0, 3), Point(2, 3)])\n",
              "   x  y\n",
              "0  0  0\n",
              "1  0  3\n",
              "2  2  3\n",
              "\n",
              "Constructing DataFrame from Series/DataFrame:\n",
              "\n",
              "&gt;&gt;&gt; ser = pd.Series([1, 2, 3], index=[&quot;a&quot;, &quot;b&quot;, &quot;c&quot;])\n",
              "&gt;&gt;&gt; df = pd.DataFrame(data=ser, index=[&quot;a&quot;, &quot;c&quot;])\n",
              "&gt;&gt;&gt; df\n",
              "   0\n",
              "a  1\n",
              "c  3\n",
              "\n",
              "&gt;&gt;&gt; df1 = pd.DataFrame([1, 2, 3], index=[&quot;a&quot;, &quot;b&quot;, &quot;c&quot;], columns=[&quot;x&quot;])\n",
              "&gt;&gt;&gt; df2 = pd.DataFrame(data=df1, index=[&quot;a&quot;, &quot;c&quot;])\n",
              "&gt;&gt;&gt; df2\n",
              "   x\n",
              "a  1\n",
              "c  3</pre>\n",
              "      <script>\n",
              "      if (google.colab.kernel.accessAllowed && google.colab.files && google.colab.files.view) {\n",
              "        for (const element of document.querySelectorAll('.filepath')) {\n",
              "          element.style.display = 'block'\n",
              "          element.onclick = (event) => {\n",
              "            event.preventDefault();\n",
              "            event.stopPropagation();\n",
              "            google.colab.files.view(element.textContent, 509);\n",
              "          };\n",
              "        }\n",
              "      }\n",
              "      for (const element of document.querySelectorAll('.function-repr-contents')) {\n",
              "        element.onclick = (event) => {\n",
              "          event.preventDefault();\n",
              "          event.stopPropagation();\n",
              "          element.classList.toggle('function-repr-contents-collapsed');\n",
              "        };\n",
              "      }\n",
              "      </script>\n",
              "      </div>"
            ]
          },
          "metadata": {},
          "execution_count": 29
        }
      ]
    },
    {
      "cell_type": "code",
      "source": [
        "simple_i_car.fit(df[['car']])"
      ],
      "metadata": {
        "colab": {
          "base_uri": "https://localhost:8080/",
          "height": 79
        },
        "id": "9DOeI1FcBMgl",
        "outputId": "cd0d1af1-e088-46bf-e6b9-90fbfd9c406c"
      },
      "execution_count": null,
      "outputs": [
        {
          "output_type": "execute_result",
          "data": {
            "text/plain": [
              "SimpleImputer()"
            ],
            "text/html": [
              "<style>#sk-container-id-1 {\n",
              "  /* Definition of color scheme common for light and dark mode */\n",
              "  --sklearn-color-text: #000;\n",
              "  --sklearn-color-text-muted: #666;\n",
              "  --sklearn-color-line: gray;\n",
              "  /* Definition of color scheme for unfitted estimators */\n",
              "  --sklearn-color-unfitted-level-0: #fff5e6;\n",
              "  --sklearn-color-unfitted-level-1: #f6e4d2;\n",
              "  --sklearn-color-unfitted-level-2: #ffe0b3;\n",
              "  --sklearn-color-unfitted-level-3: chocolate;\n",
              "  /* Definition of color scheme for fitted estimators */\n",
              "  --sklearn-color-fitted-level-0: #f0f8ff;\n",
              "  --sklearn-color-fitted-level-1: #d4ebff;\n",
              "  --sklearn-color-fitted-level-2: #b3dbfd;\n",
              "  --sklearn-color-fitted-level-3: cornflowerblue;\n",
              "\n",
              "  /* Specific color for light theme */\n",
              "  --sklearn-color-text-on-default-background: var(--sg-text-color, var(--theme-code-foreground, var(--jp-content-font-color1, black)));\n",
              "  --sklearn-color-background: var(--sg-background-color, var(--theme-background, var(--jp-layout-color0, white)));\n",
              "  --sklearn-color-border-box: var(--sg-text-color, var(--theme-code-foreground, var(--jp-content-font-color1, black)));\n",
              "  --sklearn-color-icon: #696969;\n",
              "\n",
              "  @media (prefers-color-scheme: dark) {\n",
              "    /* Redefinition of color scheme for dark theme */\n",
              "    --sklearn-color-text-on-default-background: var(--sg-text-color, var(--theme-code-foreground, var(--jp-content-font-color1, white)));\n",
              "    --sklearn-color-background: var(--sg-background-color, var(--theme-background, var(--jp-layout-color0, #111)));\n",
              "    --sklearn-color-border-box: var(--sg-text-color, var(--theme-code-foreground, var(--jp-content-font-color1, white)));\n",
              "    --sklearn-color-icon: #878787;\n",
              "  }\n",
              "}\n",
              "\n",
              "#sk-container-id-1 {\n",
              "  color: var(--sklearn-color-text);\n",
              "}\n",
              "\n",
              "#sk-container-id-1 pre {\n",
              "  padding: 0;\n",
              "}\n",
              "\n",
              "#sk-container-id-1 input.sk-hidden--visually {\n",
              "  border: 0;\n",
              "  clip: rect(1px 1px 1px 1px);\n",
              "  clip: rect(1px, 1px, 1px, 1px);\n",
              "  height: 1px;\n",
              "  margin: -1px;\n",
              "  overflow: hidden;\n",
              "  padding: 0;\n",
              "  position: absolute;\n",
              "  width: 1px;\n",
              "}\n",
              "\n",
              "#sk-container-id-1 div.sk-dashed-wrapped {\n",
              "  border: 1px dashed var(--sklearn-color-line);\n",
              "  margin: 0 0.4em 0.5em 0.4em;\n",
              "  box-sizing: border-box;\n",
              "  padding-bottom: 0.4em;\n",
              "  background-color: var(--sklearn-color-background);\n",
              "}\n",
              "\n",
              "#sk-container-id-1 div.sk-container {\n",
              "  /* jupyter's `normalize.less` sets `[hidden] { display: none; }`\n",
              "     but bootstrap.min.css set `[hidden] { display: none !important; }`\n",
              "     so we also need the `!important` here to be able to override the\n",
              "     default hidden behavior on the sphinx rendered scikit-learn.org.\n",
              "     See: https://github.com/scikit-learn/scikit-learn/issues/21755 */\n",
              "  display: inline-block !important;\n",
              "  position: relative;\n",
              "}\n",
              "\n",
              "#sk-container-id-1 div.sk-text-repr-fallback {\n",
              "  display: none;\n",
              "}\n",
              "\n",
              "div.sk-parallel-item,\n",
              "div.sk-serial,\n",
              "div.sk-item {\n",
              "  /* draw centered vertical line to link estimators */\n",
              "  background-image: linear-gradient(var(--sklearn-color-text-on-default-background), var(--sklearn-color-text-on-default-background));\n",
              "  background-size: 2px 100%;\n",
              "  background-repeat: no-repeat;\n",
              "  background-position: center center;\n",
              "}\n",
              "\n",
              "/* Parallel-specific style estimator block */\n",
              "\n",
              "#sk-container-id-1 div.sk-parallel-item::after {\n",
              "  content: \"\";\n",
              "  width: 100%;\n",
              "  border-bottom: 2px solid var(--sklearn-color-text-on-default-background);\n",
              "  flex-grow: 1;\n",
              "}\n",
              "\n",
              "#sk-container-id-1 div.sk-parallel {\n",
              "  display: flex;\n",
              "  align-items: stretch;\n",
              "  justify-content: center;\n",
              "  background-color: var(--sklearn-color-background);\n",
              "  position: relative;\n",
              "}\n",
              "\n",
              "#sk-container-id-1 div.sk-parallel-item {\n",
              "  display: flex;\n",
              "  flex-direction: column;\n",
              "}\n",
              "\n",
              "#sk-container-id-1 div.sk-parallel-item:first-child::after {\n",
              "  align-self: flex-end;\n",
              "  width: 50%;\n",
              "}\n",
              "\n",
              "#sk-container-id-1 div.sk-parallel-item:last-child::after {\n",
              "  align-self: flex-start;\n",
              "  width: 50%;\n",
              "}\n",
              "\n",
              "#sk-container-id-1 div.sk-parallel-item:only-child::after {\n",
              "  width: 0;\n",
              "}\n",
              "\n",
              "/* Serial-specific style estimator block */\n",
              "\n",
              "#sk-container-id-1 div.sk-serial {\n",
              "  display: flex;\n",
              "  flex-direction: column;\n",
              "  align-items: center;\n",
              "  background-color: var(--sklearn-color-background);\n",
              "  padding-right: 1em;\n",
              "  padding-left: 1em;\n",
              "}\n",
              "\n",
              "\n",
              "/* Toggleable style: style used for estimator/Pipeline/ColumnTransformer box that is\n",
              "clickable and can be expanded/collapsed.\n",
              "- Pipeline and ColumnTransformer use this feature and define the default style\n",
              "- Estimators will overwrite some part of the style using the `sk-estimator` class\n",
              "*/\n",
              "\n",
              "/* Pipeline and ColumnTransformer style (default) */\n",
              "\n",
              "#sk-container-id-1 div.sk-toggleable {\n",
              "  /* Default theme specific background. It is overwritten whether we have a\n",
              "  specific estimator or a Pipeline/ColumnTransformer */\n",
              "  background-color: var(--sklearn-color-background);\n",
              "}\n",
              "\n",
              "/* Toggleable label */\n",
              "#sk-container-id-1 label.sk-toggleable__label {\n",
              "  cursor: pointer;\n",
              "  display: flex;\n",
              "  width: 100%;\n",
              "  margin-bottom: 0;\n",
              "  padding: 0.5em;\n",
              "  box-sizing: border-box;\n",
              "  text-align: center;\n",
              "  align-items: start;\n",
              "  justify-content: space-between;\n",
              "  gap: 0.5em;\n",
              "}\n",
              "\n",
              "#sk-container-id-1 label.sk-toggleable__label .caption {\n",
              "  font-size: 0.6rem;\n",
              "  font-weight: lighter;\n",
              "  color: var(--sklearn-color-text-muted);\n",
              "}\n",
              "\n",
              "#sk-container-id-1 label.sk-toggleable__label-arrow:before {\n",
              "  /* Arrow on the left of the label */\n",
              "  content: \"▸\";\n",
              "  float: left;\n",
              "  margin-right: 0.25em;\n",
              "  color: var(--sklearn-color-icon);\n",
              "}\n",
              "\n",
              "#sk-container-id-1 label.sk-toggleable__label-arrow:hover:before {\n",
              "  color: var(--sklearn-color-text);\n",
              "}\n",
              "\n",
              "/* Toggleable content - dropdown */\n",
              "\n",
              "#sk-container-id-1 div.sk-toggleable__content {\n",
              "  max-height: 0;\n",
              "  max-width: 0;\n",
              "  overflow: hidden;\n",
              "  text-align: left;\n",
              "  /* unfitted */\n",
              "  background-color: var(--sklearn-color-unfitted-level-0);\n",
              "}\n",
              "\n",
              "#sk-container-id-1 div.sk-toggleable__content.fitted {\n",
              "  /* fitted */\n",
              "  background-color: var(--sklearn-color-fitted-level-0);\n",
              "}\n",
              "\n",
              "#sk-container-id-1 div.sk-toggleable__content pre {\n",
              "  margin: 0.2em;\n",
              "  border-radius: 0.25em;\n",
              "  color: var(--sklearn-color-text);\n",
              "  /* unfitted */\n",
              "  background-color: var(--sklearn-color-unfitted-level-0);\n",
              "}\n",
              "\n",
              "#sk-container-id-1 div.sk-toggleable__content.fitted pre {\n",
              "  /* unfitted */\n",
              "  background-color: var(--sklearn-color-fitted-level-0);\n",
              "}\n",
              "\n",
              "#sk-container-id-1 input.sk-toggleable__control:checked~div.sk-toggleable__content {\n",
              "  /* Expand drop-down */\n",
              "  max-height: 200px;\n",
              "  max-width: 100%;\n",
              "  overflow: auto;\n",
              "}\n",
              "\n",
              "#sk-container-id-1 input.sk-toggleable__control:checked~label.sk-toggleable__label-arrow:before {\n",
              "  content: \"▾\";\n",
              "}\n",
              "\n",
              "/* Pipeline/ColumnTransformer-specific style */\n",
              "\n",
              "#sk-container-id-1 div.sk-label input.sk-toggleable__control:checked~label.sk-toggleable__label {\n",
              "  color: var(--sklearn-color-text);\n",
              "  background-color: var(--sklearn-color-unfitted-level-2);\n",
              "}\n",
              "\n",
              "#sk-container-id-1 div.sk-label.fitted input.sk-toggleable__control:checked~label.sk-toggleable__label {\n",
              "  background-color: var(--sklearn-color-fitted-level-2);\n",
              "}\n",
              "\n",
              "/* Estimator-specific style */\n",
              "\n",
              "/* Colorize estimator box */\n",
              "#sk-container-id-1 div.sk-estimator input.sk-toggleable__control:checked~label.sk-toggleable__label {\n",
              "  /* unfitted */\n",
              "  background-color: var(--sklearn-color-unfitted-level-2);\n",
              "}\n",
              "\n",
              "#sk-container-id-1 div.sk-estimator.fitted input.sk-toggleable__control:checked~label.sk-toggleable__label {\n",
              "  /* fitted */\n",
              "  background-color: var(--sklearn-color-fitted-level-2);\n",
              "}\n",
              "\n",
              "#sk-container-id-1 div.sk-label label.sk-toggleable__label,\n",
              "#sk-container-id-1 div.sk-label label {\n",
              "  /* The background is the default theme color */\n",
              "  color: var(--sklearn-color-text-on-default-background);\n",
              "}\n",
              "\n",
              "/* On hover, darken the color of the background */\n",
              "#sk-container-id-1 div.sk-label:hover label.sk-toggleable__label {\n",
              "  color: var(--sklearn-color-text);\n",
              "  background-color: var(--sklearn-color-unfitted-level-2);\n",
              "}\n",
              "\n",
              "/* Label box, darken color on hover, fitted */\n",
              "#sk-container-id-1 div.sk-label.fitted:hover label.sk-toggleable__label.fitted {\n",
              "  color: var(--sklearn-color-text);\n",
              "  background-color: var(--sklearn-color-fitted-level-2);\n",
              "}\n",
              "\n",
              "/* Estimator label */\n",
              "\n",
              "#sk-container-id-1 div.sk-label label {\n",
              "  font-family: monospace;\n",
              "  font-weight: bold;\n",
              "  display: inline-block;\n",
              "  line-height: 1.2em;\n",
              "}\n",
              "\n",
              "#sk-container-id-1 div.sk-label-container {\n",
              "  text-align: center;\n",
              "}\n",
              "\n",
              "/* Estimator-specific */\n",
              "#sk-container-id-1 div.sk-estimator {\n",
              "  font-family: monospace;\n",
              "  border: 1px dotted var(--sklearn-color-border-box);\n",
              "  border-radius: 0.25em;\n",
              "  box-sizing: border-box;\n",
              "  margin-bottom: 0.5em;\n",
              "  /* unfitted */\n",
              "  background-color: var(--sklearn-color-unfitted-level-0);\n",
              "}\n",
              "\n",
              "#sk-container-id-1 div.sk-estimator.fitted {\n",
              "  /* fitted */\n",
              "  background-color: var(--sklearn-color-fitted-level-0);\n",
              "}\n",
              "\n",
              "/* on hover */\n",
              "#sk-container-id-1 div.sk-estimator:hover {\n",
              "  /* unfitted */\n",
              "  background-color: var(--sklearn-color-unfitted-level-2);\n",
              "}\n",
              "\n",
              "#sk-container-id-1 div.sk-estimator.fitted:hover {\n",
              "  /* fitted */\n",
              "  background-color: var(--sklearn-color-fitted-level-2);\n",
              "}\n",
              "\n",
              "/* Specification for estimator info (e.g. \"i\" and \"?\") */\n",
              "\n",
              "/* Common style for \"i\" and \"?\" */\n",
              "\n",
              ".sk-estimator-doc-link,\n",
              "a:link.sk-estimator-doc-link,\n",
              "a:visited.sk-estimator-doc-link {\n",
              "  float: right;\n",
              "  font-size: smaller;\n",
              "  line-height: 1em;\n",
              "  font-family: monospace;\n",
              "  background-color: var(--sklearn-color-background);\n",
              "  border-radius: 1em;\n",
              "  height: 1em;\n",
              "  width: 1em;\n",
              "  text-decoration: none !important;\n",
              "  margin-left: 0.5em;\n",
              "  text-align: center;\n",
              "  /* unfitted */\n",
              "  border: var(--sklearn-color-unfitted-level-1) 1pt solid;\n",
              "  color: var(--sklearn-color-unfitted-level-1);\n",
              "}\n",
              "\n",
              ".sk-estimator-doc-link.fitted,\n",
              "a:link.sk-estimator-doc-link.fitted,\n",
              "a:visited.sk-estimator-doc-link.fitted {\n",
              "  /* fitted */\n",
              "  border: var(--sklearn-color-fitted-level-1) 1pt solid;\n",
              "  color: var(--sklearn-color-fitted-level-1);\n",
              "}\n",
              "\n",
              "/* On hover */\n",
              "div.sk-estimator:hover .sk-estimator-doc-link:hover,\n",
              ".sk-estimator-doc-link:hover,\n",
              "div.sk-label-container:hover .sk-estimator-doc-link:hover,\n",
              ".sk-estimator-doc-link:hover {\n",
              "  /* unfitted */\n",
              "  background-color: var(--sklearn-color-unfitted-level-3);\n",
              "  color: var(--sklearn-color-background);\n",
              "  text-decoration: none;\n",
              "}\n",
              "\n",
              "div.sk-estimator.fitted:hover .sk-estimator-doc-link.fitted:hover,\n",
              ".sk-estimator-doc-link.fitted:hover,\n",
              "div.sk-label-container:hover .sk-estimator-doc-link.fitted:hover,\n",
              ".sk-estimator-doc-link.fitted:hover {\n",
              "  /* fitted */\n",
              "  background-color: var(--sklearn-color-fitted-level-3);\n",
              "  color: var(--sklearn-color-background);\n",
              "  text-decoration: none;\n",
              "}\n",
              "\n",
              "/* Span, style for the box shown on hovering the info icon */\n",
              ".sk-estimator-doc-link span {\n",
              "  display: none;\n",
              "  z-index: 9999;\n",
              "  position: relative;\n",
              "  font-weight: normal;\n",
              "  right: .2ex;\n",
              "  padding: .5ex;\n",
              "  margin: .5ex;\n",
              "  width: min-content;\n",
              "  min-width: 20ex;\n",
              "  max-width: 50ex;\n",
              "  color: var(--sklearn-color-text);\n",
              "  box-shadow: 2pt 2pt 4pt #999;\n",
              "  /* unfitted */\n",
              "  background: var(--sklearn-color-unfitted-level-0);\n",
              "  border: .5pt solid var(--sklearn-color-unfitted-level-3);\n",
              "}\n",
              "\n",
              ".sk-estimator-doc-link.fitted span {\n",
              "  /* fitted */\n",
              "  background: var(--sklearn-color-fitted-level-0);\n",
              "  border: var(--sklearn-color-fitted-level-3);\n",
              "}\n",
              "\n",
              ".sk-estimator-doc-link:hover span {\n",
              "  display: block;\n",
              "}\n",
              "\n",
              "/* \"?\"-specific style due to the `<a>` HTML tag */\n",
              "\n",
              "#sk-container-id-1 a.estimator_doc_link {\n",
              "  float: right;\n",
              "  font-size: 1rem;\n",
              "  line-height: 1em;\n",
              "  font-family: monospace;\n",
              "  background-color: var(--sklearn-color-background);\n",
              "  border-radius: 1rem;\n",
              "  height: 1rem;\n",
              "  width: 1rem;\n",
              "  text-decoration: none;\n",
              "  /* unfitted */\n",
              "  color: var(--sklearn-color-unfitted-level-1);\n",
              "  border: var(--sklearn-color-unfitted-level-1) 1pt solid;\n",
              "}\n",
              "\n",
              "#sk-container-id-1 a.estimator_doc_link.fitted {\n",
              "  /* fitted */\n",
              "  border: var(--sklearn-color-fitted-level-1) 1pt solid;\n",
              "  color: var(--sklearn-color-fitted-level-1);\n",
              "}\n",
              "\n",
              "/* On hover */\n",
              "#sk-container-id-1 a.estimator_doc_link:hover {\n",
              "  /* unfitted */\n",
              "  background-color: var(--sklearn-color-unfitted-level-3);\n",
              "  color: var(--sklearn-color-background);\n",
              "  text-decoration: none;\n",
              "}\n",
              "\n",
              "#sk-container-id-1 a.estimator_doc_link.fitted:hover {\n",
              "  /* fitted */\n",
              "  background-color: var(--sklearn-color-fitted-level-3);\n",
              "}\n",
              "</style><div id=\"sk-container-id-1\" class=\"sk-top-container\"><div class=\"sk-text-repr-fallback\"><pre>SimpleImputer()</pre><b>In a Jupyter environment, please rerun this cell to show the HTML representation or trust the notebook. <br />On GitHub, the HTML representation is unable to render, please try loading this page with nbviewer.org.</b></div><div class=\"sk-container\" hidden><div class=\"sk-item\"><div class=\"sk-estimator fitted sk-toggleable\"><input class=\"sk-toggleable__control sk-hidden--visually\" id=\"sk-estimator-id-1\" type=\"checkbox\" checked><label for=\"sk-estimator-id-1\" class=\"sk-toggleable__label fitted sk-toggleable__label-arrow\"><div><div>SimpleImputer</div></div><div><a class=\"sk-estimator-doc-link fitted\" rel=\"noreferrer\" target=\"_blank\" href=\"https://scikit-learn.org/1.6/modules/generated/sklearn.impute.SimpleImputer.html\">?<span>Documentation for SimpleImputer</span></a><span class=\"sk-estimator-doc-link fitted\">i<span>Fitted</span></span></div></label><div class=\"sk-toggleable__content fitted\"><pre>SimpleImputer()</pre></div> </div></div></div></div>"
            ]
          },
          "metadata": {},
          "execution_count": 31
        }
      ]
    },
    {
      "cell_type": "code",
      "source": [
        "df_procesado = df.copy()"
      ],
      "metadata": {
        "id": "tJbYVDp9CEvT"
      },
      "execution_count": null,
      "outputs": []
    },
    {
      "cell_type": "code",
      "source": [
        "simple_i_car.transform(df_procesado[['car']])"
      ],
      "metadata": {
        "colab": {
          "base_uri": "https://localhost:8080/"
        },
        "id": "IRSDne9bB7MN",
        "outputId": "9d3f00fd-3720-43ea-d3c2-182bad2ae8df"
      },
      "execution_count": null,
      "outputs": [
        {
          "output_type": "execute_result",
          "data": {
            "text/plain": [
              "array([[2.],\n",
              "       [4.],\n",
              "       [2.],\n",
              "       ...,\n",
              "       [2.],\n",
              "       [2.],\n",
              "       [3.]])"
            ]
          },
          "metadata": {},
          "execution_count": 32
        }
      ]
    },
    {
      "cell_type": "code",
      "source": [
        "df_procesado['car'] = simple_i_car.transform(df_procesado[['car']])"
      ],
      "metadata": {
        "id": "XXeFOMmQCK4T"
      },
      "execution_count": null,
      "outputs": []
    },
    {
      "cell_type": "code",
      "source": [
        "df_procesado.isna().sum()"
      ],
      "metadata": {
        "colab": {
          "base_uri": "https://localhost:8080/",
          "height": 366
        },
        "id": "yaGg0h9uCYiP",
        "outputId": "8b2f577e-0f6f-4c97-c3fc-9701dacb0c78"
      },
      "execution_count": null,
      "outputs": [
        {
          "output_type": "execute_result",
          "data": {
            "text/plain": [
              "Date            0\n",
              "Id              0\n",
              "suburb          0\n",
              "postalCode      0\n",
              "sellPrice       0\n",
              "bed           154\n",
              "bath            0\n",
              "car             0\n",
              "propType        0\n",
              "dtype: int64"
            ],
            "text/html": [
              "<div>\n",
              "<style scoped>\n",
              "    .dataframe tbody tr th:only-of-type {\n",
              "        vertical-align: middle;\n",
              "    }\n",
              "\n",
              "    .dataframe tbody tr th {\n",
              "        vertical-align: top;\n",
              "    }\n",
              "\n",
              "    .dataframe thead th {\n",
              "        text-align: right;\n",
              "    }\n",
              "</style>\n",
              "<table border=\"1\" class=\"dataframe\">\n",
              "  <thead>\n",
              "    <tr style=\"text-align: right;\">\n",
              "      <th></th>\n",
              "      <th>0</th>\n",
              "    </tr>\n",
              "  </thead>\n",
              "  <tbody>\n",
              "    <tr>\n",
              "      <th>Date</th>\n",
              "      <td>0</td>\n",
              "    </tr>\n",
              "    <tr>\n",
              "      <th>Id</th>\n",
              "      <td>0</td>\n",
              "    </tr>\n",
              "    <tr>\n",
              "      <th>suburb</th>\n",
              "      <td>0</td>\n",
              "    </tr>\n",
              "    <tr>\n",
              "      <th>postalCode</th>\n",
              "      <td>0</td>\n",
              "    </tr>\n",
              "    <tr>\n",
              "      <th>sellPrice</th>\n",
              "      <td>0</td>\n",
              "    </tr>\n",
              "    <tr>\n",
              "      <th>bed</th>\n",
              "      <td>154</td>\n",
              "    </tr>\n",
              "    <tr>\n",
              "      <th>bath</th>\n",
              "      <td>0</td>\n",
              "    </tr>\n",
              "    <tr>\n",
              "      <th>car</th>\n",
              "      <td>0</td>\n",
              "    </tr>\n",
              "    <tr>\n",
              "      <th>propType</th>\n",
              "      <td>0</td>\n",
              "    </tr>\n",
              "  </tbody>\n",
              "</table>\n",
              "</div><br><label><b>dtype:</b> int64</label>"
            ]
          },
          "metadata": {},
          "execution_count": 39
        }
      ]
    },
    {
      "cell_type": "markdown",
      "source": [
        "#### Solución Limpieza de datos::\n",
        "\n"
      ],
      "metadata": {
        "id": "d3WRxAF_nRI8"
      }
    },
    {
      "cell_type": "code",
      "source": [
        "# Revisar valores nulos\n",
        "df.isnull().sum()"
      ],
      "metadata": {
        "id": "bCAf73htntd8"
      },
      "execution_count": null,
      "outputs": []
    },
    {
      "cell_type": "code",
      "source": [
        "# Imputar valores faltantes (ejemplo: media para numéricas, moda para categóricas)\n",
        "for col in df.select_dtypes(include='number'):\n",
        "    df[col].fillna(df[col].mean(), inplace=True)\n",
        "for col in df.select_dtypes(include='object'):\n",
        "    df[col].fillna(df[col].mode()[0], inplace=True)"
      ],
      "metadata": {
        "id": "yG8zoxYDnwXm"
      },
      "execution_count": null,
      "outputs": []
    },
    {
      "cell_type": "code",
      "source": [
        "# Eliminar duplicados\n",
        "df.drop_duplicates(inplace=True)"
      ],
      "metadata": {
        "id": "-aPqLcPonygS"
      },
      "execution_count": null,
      "outputs": []
    },
    {
      "cell_type": "markdown",
      "source": [
        "### 2. Separación de Datos\n",
        "- Separar variables predictoras (`X`) y target (`y`).\n",
        "- Dividir en conjunto de entrenamiento y testeo:\n",
        "  - `X_train`, `X_test`\n",
        "  - `y_train`, `y_test`."
      ],
      "metadata": {
        "id": "Lb4vaaq_PBKJ"
      }
    },
    {
      "cell_type": "code",
      "source": [],
      "metadata": {
        "id": "s_H-UNqcPLez"
      },
      "execution_count": null,
      "outputs": []
    },
    {
      "cell_type": "code",
      "source": [],
      "metadata": {
        "id": "SWojiPp3PLTg"
      },
      "execution_count": null,
      "outputs": []
    },
    {
      "cell_type": "markdown",
      "source": [
        "#### Solución Separación de Datos:\n",
        "\n"
      ],
      "metadata": {
        "id": "SupDIYO7q2PC"
      }
    },
    {
      "cell_type": "code",
      "source": [
        "X = df.drop(columns='species').copy()\n",
        "y = df['species'].copy()"
      ],
      "metadata": {
        "id": "WtdzlSwGr7rK"
      },
      "execution_count": null,
      "outputs": []
    },
    {
      "cell_type": "code",
      "source": [
        "X_train, X_test, y_train, y_test = train_test_split(X, y, stratify=y, random_state=42)"
      ],
      "metadata": {
        "id": "NYj_6aFdrxHs"
      },
      "execution_count": null,
      "outputs": []
    },
    {
      "cell_type": "markdown",
      "source": [
        "### 3. Preprocesamiento\n",
        "\n",
        "- Encoding de variables categóricas. (usar solo X_train para ajustar el encoder).\n",
        "- Escalado de variables (usar solo X_train para ajustar el scaler).\n"
      ],
      "metadata": {
        "id": "QN_phinFrR-d"
      }
    },
    {
      "cell_type": "code",
      "source": [
        "# binarizar target para mayor compativilidad\n"
      ],
      "metadata": {
        "id": "0LwV_E-x0-ZP"
      },
      "execution_count": null,
      "outputs": []
    },
    {
      "cell_type": "markdown",
      "source": [
        "#### Encoding de variables categóricas\n",
        "\n",
        "-\tEscoger entre:\n",
        "  - One-Hot Encoding: para categorías sin orden.\n",
        "  - Ordinal Encoding: si las categorías tienen un orden natural.\n",
        "\n",
        "- Solo ajustar el encoder usando X_train para evitar data leakage.\n",
        "- Aplicar el encoder ajustado a X_test sin recalibrar.\n",
        "\n"
      ],
      "metadata": {
        "id": "XDI94Jmsl0jb"
      }
    },
    {
      "cell_type": "code",
      "source": [],
      "metadata": {
        "id": "WP88uuC0mDJE"
      },
      "execution_count": null,
      "outputs": []
    },
    {
      "cell_type": "code",
      "source": [],
      "metadata": {
        "id": "H-BWXqt7mC7l"
      },
      "execution_count": null,
      "outputs": []
    },
    {
      "cell_type": "code",
      "source": [],
      "metadata": {
        "id": "e0niRcAgmCsW"
      },
      "execution_count": null,
      "outputs": []
    },
    {
      "cell_type": "markdown",
      "source": [
        "#### Solución Encoding de variables categóricas:\n",
        "\n"
      ],
      "metadata": {
        "id": "XLTMwNNdnQrn"
      }
    },
    {
      "cell_type": "code",
      "source": [
        "# Separar variables categóricas nomianles\n",
        "cat_cols_nom = #\n",
        "\n",
        "# Separar variables categóricas ordinales\n",
        "cat_cols_ord = #"
      ],
      "metadata": {
        "id": "mOUJ04jNoA9O"
      },
      "execution_count": null,
      "outputs": []
    },
    {
      "cell_type": "code",
      "source": [
        "# Crear y ajustar el encoder solo con X_train\n",
        "encoder_nom = OneHotEncoder(sparse=False, handle_unknown='ignore')\n",
        "X_train_encoded = encoder_nom.fit_transform(X_train[cat_cols_nom])\n",
        "\n",
        "# Aplicar a X_test\n",
        "X_test_encoded = encoder_nom.transform(X_test[cat_cols])"
      ],
      "metadata": {
        "id": "3WVtJm01oLlB"
      },
      "execution_count": null,
      "outputs": []
    },
    {
      "cell_type": "code",
      "source": [
        "# Crear y ajustar el encoder solo con X_train\n",
        "encoder_ord = OneHotEncoder(sparse=False, handle_unknown='ignore')\n",
        "X_train_encoded = encoder_ord.fit_transform(X_train[cat_cols_nom])\n",
        "\n",
        "# Aplicar a X_test\n",
        "X_test_encoded = encoder_ord.transform(X_test[cat_cols])"
      ],
      "metadata": {
        "id": "CX8Q7PUUoDEg"
      },
      "execution_count": null,
      "outputs": []
    },
    {
      "cell_type": "markdown",
      "source": [
        "#### Escalado de variables\n",
        "\n",
        "- Escoger el tipo de escalado según distribución empirica de los datos:\n",
        "  - `StandardScaler` → normalización a media 0, desviación 1 (útil si la distribución se parece a una distribución teorica normal).\n",
        "  - `MinMaxScaler` → rango [0,1] (útil en distribuciones que se alejan bastante a una distribución teorica normal).\n",
        "- Ajustar el scaler solo en `X_trai` y aplicar a `X_test` para evitar data leakage."
      ],
      "metadata": {
        "id": "uPPPbyUGmMSq"
      }
    },
    {
      "cell_type": "code",
      "source": [],
      "metadata": {
        "id": "pCmP78x9mv0S"
      },
      "execution_count": null,
      "outputs": []
    },
    {
      "cell_type": "code",
      "source": [],
      "metadata": {
        "id": "477XSB5omvyF"
      },
      "execution_count": null,
      "outputs": []
    },
    {
      "cell_type": "markdown",
      "source": [
        "#### Solución escalado de variables:\n",
        "\n"
      ],
      "metadata": {
        "id": "v4_T-w17nC9h"
      }
    },
    {
      "cell_type": "code",
      "source": [
        "# Seleccionar columnas numéricas\n",
        "num_cols = X_train.select_dtypes(include='number').columns"
      ],
      "metadata": {
        "id": "rU7lTB9jpf_0"
      },
      "execution_count": null,
      "outputs": []
    },
    {
      "cell_type": "code",
      "source": [
        "# Crear y ajustar el scaler solo con X_train\n",
        "scaler = StandardScaler()\n",
        "X_train[num_cols] = scaler.fit_transform(X_train[num_cols])\n",
        "\n",
        "# Aplicar a X_test\n",
        "X_test[num_cols] = scaler.transform(X_test[num_cols])"
      ],
      "metadata": {
        "id": "CW4bt-AunG6U"
      },
      "execution_count": null,
      "outputs": []
    },
    {
      "cell_type": "markdown",
      "source": [
        "### 4. Machine learning"
      ],
      "metadata": {
        "id": "5hY8rNy_QbRC"
      }
    },
    {
      "cell_type": "markdown",
      "source": [
        "#### 4.1. Modelos bases out of the box (sin optimización)\n",
        "\n",
        "- KNNClassifier\n",
        "- DecisionTreeClassifier.\n",
        "\n"
      ],
      "metadata": {
        "id": "HmvgmOByPPqk"
      }
    },
    {
      "cell_type": "code",
      "source": [],
      "metadata": {
        "id": "lY_ULHFhPiEF"
      },
      "execution_count": null,
      "outputs": []
    },
    {
      "cell_type": "code",
      "source": [],
      "metadata": {
        "id": "IhPgQomSPip9"
      },
      "execution_count": null,
      "outputs": []
    },
    {
      "cell_type": "markdown",
      "source": [
        "#### Solución Modelos bases out of the box (sin optimización):"
      ],
      "metadata": {
        "id": "JFEZbHZCtW-7"
      }
    },
    {
      "cell_type": "code",
      "source": [
        "from sklearn.neighbors import KNeighborsClassifier\n",
        "\n",
        "# Instanciar el modelo base\n",
        "knn = KNeighborsClassifier()  # parámetros por defecto: n_neighbors=5\n",
        "\n",
        "# Entrenar el modelo con X_train e y_train\n",
        "knn.fit(X_train, y_train)\n",
        "\n",
        "# Predecir sobre X_test\n",
        "y_pred_knn = knn.predict(X_test)"
      ],
      "metadata": {
        "id": "bVr0JIWutZ8s"
      },
      "execution_count": null,
      "outputs": []
    },
    {
      "cell_type": "code",
      "source": [
        "from sklearn.tree import DecisionTreeClassifier\n",
        "\n",
        "# Instanciar el modelo base\n",
        "dt = DecisionTreeClassifier(random_state=42)  # random_state para reproducibilidad\n",
        "\n",
        "# Entrenar el modelo\n",
        "dt.fit(X_train, y_train)\n",
        "\n",
        "# Predecir sobre X_test\n",
        "y_pred_dt = dt.predict(X_test)"
      ],
      "metadata": {
        "id": "e0E7t0aCtiiv"
      },
      "execution_count": null,
      "outputs": []
    },
    {
      "cell_type": "markdown",
      "source": [
        "\n",
        "\n",
        "#### 4.2. Modelos de Ensemble out of the box (sin optimización)\n",
        "- Bagging (ej: [RandomForestClassifier](https://scikit-learn.org/stable/modules/generated/sklearn.ensemble.RandomForestClassifier.html)).\n",
        "- Boosting (ej: [XGBClassifier](https://xgboost.readthedocs.io/en/stable/python/python_api.html#xgboost.XGBClassifier))."
      ],
      "metadata": {
        "id": "JmmxUGVrPiUW"
      }
    },
    {
      "cell_type": "code",
      "source": [],
      "metadata": {
        "id": "4f-lux5yPnEo"
      },
      "execution_count": null,
      "outputs": []
    },
    {
      "cell_type": "code",
      "source": [],
      "metadata": {
        "id": "sx6jDhUgPm8q"
      },
      "execution_count": null,
      "outputs": []
    },
    {
      "cell_type": "markdown",
      "source": [
        "#### Solución Modelos de ensemble out of the box (sin optimización):"
      ],
      "metadata": {
        "id": "UXZg1K3ktpUb"
      }
    },
    {
      "cell_type": "code",
      "source": [
        "from sklearn.ensemble import RandomForestClassifier\n",
        "\n",
        "# Instanciar el modelo base\n",
        "rf = RandomForestClassifier(random_state=42)  # random_state para reproducibilidad\n",
        "\n",
        "# Entrenar el modelo\n",
        "rf.fit(X_train, y_train)\n",
        "\n",
        "# Predecir sobre X_test\n",
        "y_pred_rf = rf.predict(X_test)"
      ],
      "metadata": {
        "id": "5PO1793QtsAw"
      },
      "execution_count": null,
      "outputs": []
    },
    {
      "cell_type": "code",
      "source": [
        "from xgboost import XGBClassifier\n",
        "\n",
        "# Instanciar el modelo base\n",
        "xgb = XGBClassifier(use_label_encoder=False, eval_metric='logloss', random_state=42)\n",
        "\n",
        "# Entrenar el modelo\n",
        "xgb.fit(X_train, y_train)\n",
        "\n",
        "# Predecir sobre X_test\n",
        "y_pred_xgb = xgb.predict(X_test)"
      ],
      "metadata": {
        "id": "M-iU4mjVt6SR"
      },
      "execution_count": null,
      "outputs": []
    },
    {
      "cell_type": "markdown",
      "source": [
        "#### 4.3. Optimización de Hiperparámetros sobre modelos base (GridSearchCV y RandomizedSearchCV)\n",
        "- Optimizar un Árbol de Decisión al máximo\n",
        "- Optimizar un KNN al máximo"
      ],
      "metadata": {
        "id": "uyInNUAIaDA-"
      }
    },
    {
      "cell_type": "code",
      "source": [],
      "metadata": {
        "id": "TUtmyEPRgbGy"
      },
      "execution_count": null,
      "outputs": []
    },
    {
      "cell_type": "code",
      "source": [],
      "metadata": {
        "id": "Bzv192tIgbEB"
      },
      "execution_count": null,
      "outputs": []
    },
    {
      "cell_type": "markdown",
      "source": [
        "#### Solución Optimización de Hiperparámetros sobre modelos base (GridSearchCV y RandomizedSearchCV)"
      ],
      "metadata": {
        "id": "EUeJem66uTrh"
      }
    },
    {
      "cell_type": "code",
      "source": [
        "from sklearn.model_selection import GridSearchCV"
      ],
      "metadata": {
        "id": "wq1k1gJpuYbS"
      },
      "execution_count": null,
      "outputs": []
    },
    {
      "cell_type": "code",
      "source": [
        "# --- KNN ---\n",
        "knn = KNeighborsClassifier()\n",
        "param_grid_knn = {\n",
        "    'n_neighbors': [3, 5, 7, 9],\n",
        "    'weights': ['uniform', 'distance'],\n",
        "    'p': [1, 2]  # 1=L1, 2=L2\n",
        "}\n",
        "grid_knn = GridSearchCV(knn, param_grid_knn, cv=5, scoring='f1-macro', n_jobs=-1)\n",
        "grid_knn.fit(X_train, y_train)\n",
        "y_pred_knn = grid_knn.predict(X_test)"
      ],
      "metadata": {
        "id": "M8uLqh5SuWGk"
      },
      "execution_count": null,
      "outputs": []
    },
    {
      "cell_type": "code",
      "source": [
        "# --- Decision Tree ---\n",
        "dt = DecisionTreeClassifier(random_state=42)\n",
        "param_grid_dt = {\n",
        "    'max_depth': [None, 5, 10, 15],\n",
        "    'min_samples_split': [2, 5, 10],\n",
        "    'min_samples_leaf': [1, 2, 4],\n",
        "    'criterion': ['gini', 'entropy']\n",
        "}\n",
        "grid_dt = GridSearchCV(dt, param_grid_dt, cv=5, scoring='f1-macro', n_jobs=-1)\n",
        "grid_dt.fit(X_train, y_train)\n",
        "y_pred_dt = grid_dt.predict(X_test)"
      ],
      "metadata": {
        "id": "k60A4fk0ul7g"
      },
      "execution_count": null,
      "outputs": []
    },
    {
      "cell_type": "markdown",
      "source": [
        "#### 4.4. Exploración Manual\n",
        "-\tUsar bucle for para variar hiperparámetros y visualizar impacto en rendimiento sobre modelos bases:\n",
        "  - KNN\n",
        "  - Árbol de Decisión"
      ],
      "metadata": {
        "id": "jRnqyiJCaKJR"
      }
    },
    {
      "cell_type": "code",
      "source": [],
      "metadata": {
        "id": "nm2BLe9SgcP4"
      },
      "execution_count": null,
      "outputs": []
    },
    {
      "cell_type": "code",
      "source": [],
      "metadata": {
        "id": "GWGp4PwbgcNQ"
      },
      "execution_count": null,
      "outputs": []
    },
    {
      "cell_type": "markdown",
      "source": [
        "#### Solución Exploración Manual"
      ],
      "metadata": {
        "id": "SujSOsgsvk_Y"
      }
    },
    {
      "cell_type": "code",
      "source": [
        "import matplotlib.pyplot as plt\n",
        "from sklearn.metrics import f1_score"
      ],
      "metadata": {
        "id": "ByY6n4x5vrQa"
      },
      "execution_count": null,
      "outputs": []
    },
    {
      "cell_type": "code",
      "source": [
        "# Rango de n_neighbors\n",
        "n_neighbors_range = [1, 3, 5, 7, 9, 11]\n",
        "f1_scores_knn = []\n",
        "\n",
        "for k in n_neighbors_range:\n",
        "    knn = KNeighborsClassifier(n_neighbors=k)\n",
        "    knn.fit(X_train, y_train)\n",
        "    y_pred = knn.predict(X_test)\n",
        "    f1_scores_knn.append(f1_score(y_test, y_pred, average='macro'))\n",
        "\n",
        "# Visualización\n",
        "plt.plot(n_neighbors_range, f1_scores_knn, marker='o')\n",
        "plt.xlabel('n_neighbors')\n",
        "plt.ylabel('F1 Macro')\n",
        "plt.title('Exploración manual KNN (n_neighbors)')\n",
        "plt.show()"
      ],
      "metadata": {
        "id": "WKI4L2_QvpSC"
      },
      "execution_count": null,
      "outputs": []
    },
    {
      "cell_type": "code",
      "source": [
        "# Rango de max_depth\n",
        "max_depth_range = [None, 3, 5, 7, 10]\n",
        "f1_scores_dt = []\n",
        "\n",
        "for depth in max_depth_range:\n",
        "    dt = DecisionTreeClassifier(max_depth=depth, random_state=42)\n",
        "    dt.fit(X_train, y_train)\n",
        "    y_pred = dt.predict(X_test)\n",
        "    f1_scores_dt.append(f1_score(y_test, y_pred, average='macro'))\n",
        "\n",
        "# Visualización\n",
        "plt.plot([str(d) for d in max_depth_range], f1_scores_dt, marker='o')\n",
        "plt.xlabel('max_depth')\n",
        "plt.ylabel('F1 Macro')\n",
        "plt.title('Exploración manual Decision Tree (max_depth)')\n",
        "plt.show()"
      ],
      "metadata": {
        "id": "kHomgy80vt1g"
      },
      "execution_count": null,
      "outputs": []
    },
    {
      "cell_type": "markdown",
      "source": [
        "#### 4.5. Métricas Avanzadas para cada modelo\n",
        "- Tiempos de entrenamiento.\n",
        "- Reporte de clasificación (classification_report).\n",
        "- Curva ROC (gráfico TPR vs FPR para todos los umbrales).\n",
        "- AUC (área bajo la curva ROC).\n"
      ],
      "metadata": {
        "id": "Jm-fmiVxPnlg"
      }
    },
    {
      "cell_type": "code",
      "source": [],
      "metadata": {
        "id": "WkFyI8YFQpwo"
      },
      "execution_count": null,
      "outputs": []
    },
    {
      "cell_type": "code",
      "source": [],
      "metadata": {
        "id": "cA2PZS3UQppq"
      },
      "execution_count": null,
      "outputs": []
    },
    {
      "cell_type": "code",
      "source": [],
      "metadata": {
        "id": "k43W0PXxQpi8"
      },
      "execution_count": null,
      "outputs": []
    },
    {
      "cell_type": "code",
      "source": [],
      "metadata": {
        "id": "lKOcPM-lQpdW"
      },
      "execution_count": null,
      "outputs": []
    },
    {
      "cell_type": "markdown",
      "source": [
        "#### Solución metricas avanzadas para cada modelo"
      ],
      "metadata": {
        "id": "DAaw2lSfwpuF"
      }
    },
    {
      "cell_type": "code",
      "source": [
        "import time\n",
        "from sklearn.metrics import classification_report, roc_curve, auc, f1_score, accuracy_score"
      ],
      "metadata": {
        "id": "ZSW0zyL00MOl"
      },
      "execution_count": null,
      "outputs": []
    },
    {
      "cell_type": "code",
      "source": [
        "# Lista de modelos y nombres\n",
        "models = [\n",
        "    ('KNN Base', knn),\n",
        "    ('KNN Optimizado', grid_knn.best_estimator_),\n",
        "    ('Decision Tree Base', dt),\n",
        "    ('Decision Tree Optimizado', grid_dt.best_estimator_),\n",
        "    ('Random Forest', rf),\n",
        "    ('XGBoost', xgb)\n",
        "]\n",
        "\n",
        "# Guardar métricas para comparativa final\n",
        "results = []\n",
        "\n",
        "plt.figure(figsize=(10, 8))\n",
        "colors = ['blue', 'green', 'red', 'orange', 'purple', 'brown']\n",
        "\n",
        "for i, (name, model) in enumerate(models):\n",
        "    # Entrenamiento y tiempo\n",
        "    start = time.time()\n",
        "    model.fit(X_train, y_train)\n",
        "    train_time = time.time() - start\n",
        "\n",
        "    # Predicciones\n",
        "    y_pred = model.predict(X_test)\n",
        "\n",
        "    # Métricas\n",
        "    acc = accuracy_score(y_test, y_pred)\n",
        "    f1 = f1_score(y_test, y_pred, average='macro')\n",
        "\n",
        "    # Probabilidades para ROC/AUC\n",
        "    if hasattr(model, \"predict_proba\"):\n",
        "        y_score = model.predict_proba(X_test)[:, 1]\n",
        "    else:\n",
        "        y_score = model.decision_function(X_test)\n",
        "\n",
        "    fpr, tpr, _ = roc_curve(y_test, y_score)\n",
        "    roc_auc = auc(fpr, tpr)\n",
        "\n",
        "    # Guardar resultados\n",
        "    results.append({\n",
        "        'Modelo': name,\n",
        "        'Tiempo': train_time,\n",
        "        'Accuracy': acc,\n",
        "        'F1': f1,\n",
        "        'AUC': roc_auc\n",
        "    })\n",
        "\n",
        "    # Mostrar reporte y ROC\n",
        "    print(f\"\\n{name} - Tiempo de entrenamiento: {train_time:.4f} s\")\n",
        "    print(classification_report(y_test, y_pred))\n",
        "    plt.plot(fpr, tpr, color=colors[i % len(colors)], label=f'{name} (AUC={roc_auc:.2f})')\n",
        "\n",
        "# Curva ROC\n",
        "plt.plot([0, 1], [0, 1], 'k--')\n",
        "plt.xlabel('False Positive Rate')\n",
        "plt.ylabel('True Positive Rate')\n",
        "plt.title('Curva ROC de todos los modelos')\n",
        "plt.legend()\n",
        "plt.show()"
      ],
      "metadata": {
        "id": "qYqqMsck0KRW"
      },
      "execution_count": null,
      "outputs": []
    },
    {
      "cell_type": "markdown",
      "source": [
        "#### 4.6. Comparaciones Finales\n",
        "- Gráfico comparativo entre todos los modelos:\n",
        "  - Tiempos de entrenamiento.\n",
        "  - Métricas de interés (accuracy, AUC, F1, etc.)."
      ],
      "metadata": {
        "id": "iHl63rcmaWR9"
      }
    },
    {
      "cell_type": "code",
      "source": [],
      "metadata": {
        "id": "vHvFCI780eS_"
      },
      "execution_count": null,
      "outputs": []
    },
    {
      "cell_type": "code",
      "source": [],
      "metadata": {
        "id": "hCiSGG7p0nhJ"
      },
      "execution_count": null,
      "outputs": []
    },
    {
      "cell_type": "code",
      "source": [],
      "metadata": {
        "id": "dSXECGzj0naX"
      },
      "execution_count": null,
      "outputs": []
    },
    {
      "cell_type": "markdown",
      "source": [
        "#### Solución comparativas finales"
      ],
      "metadata": {
        "id": "rhWT-3Sm0cP0"
      }
    },
    {
      "cell_type": "code",
      "source": [
        "import seaborn as sns"
      ],
      "metadata": {
        "id": "QgSsz-lw0ieC"
      },
      "execution_count": null,
      "outputs": []
    },
    {
      "cell_type": "code",
      "source": [
        "df_results = pd.DataFrame(results)"
      ],
      "metadata": {
        "id": "YYvya6Cq0ljM"
      },
      "execution_count": null,
      "outputs": []
    },
    {
      "cell_type": "code",
      "source": [
        "# Gráfico de tiempos de entrenamiento\n",
        "plt.figure(figsize=(8,5))\n",
        "sns.barplot(x='Modelo', y='Tiempo', data=df_results, palette='Set2')\n",
        "plt.xticks(rotation=45)\n",
        "plt.title('Tiempo de Entrenamiento por Modelo')\n",
        "plt.show()"
      ],
      "metadata": {
        "id": "OM417w850jJW"
      },
      "execution_count": null,
      "outputs": []
    },
    {
      "cell_type": "code",
      "source": [
        "# Gráfico de métricas (Accuracy, F1, AUC)\n",
        "plt.figure(figsize=(10,5))\n",
        "df_plot = df_results.melt(id_vars='Modelo', value_vars=['Accuracy','F1','AUC'], var_name='Métrica', value_name='Valor')\n",
        "sns.barplot(x='Modelo', y='Valor', hue='Métrica', data=df_plot, palette='Set1')\n",
        "plt.xticks(rotation=45)\n",
        "plt.title('Comparativa de Métricas por Modelo')\n",
        "plt.show()"
      ],
      "metadata": {
        "id": "GfBI3jMj0kuU"
      },
      "execution_count": null,
      "outputs": []
    },
    {
      "cell_type": "markdown",
      "source": [
        "### 5. Sistematización del Flujo\n",
        "\n",
        "- Construir un Pipeline que encadene:\n",
        "  - Transformaciones de datos.\n",
        "  - Modelo final.\n",
        "  - Verificar que evita fugas de datos (data leakage)."
      ],
      "metadata": {
        "id": "pxmw3hZnQ9al"
      }
    },
    {
      "cell_type": "code",
      "source": [],
      "metadata": {
        "id": "BrrzaZ7maA0p"
      },
      "execution_count": null,
      "outputs": []
    },
    {
      "cell_type": "code",
      "source": [],
      "metadata": {
        "id": "LTkJ9S5eaAsG"
      },
      "execution_count": null,
      "outputs": []
    },
    {
      "cell_type": "code",
      "source": [],
      "metadata": {
        "id": "l0IpXOrAaAJd"
      },
      "execution_count": null,
      "outputs": []
    },
    {
      "cell_type": "markdown",
      "source": [
        "#### Solución sistematización del flujo"
      ],
      "metadata": {
        "id": "8Ejbzhlkyn_u"
      }
    },
    {
      "cell_type": "code",
      "source": [
        "from sklearn.pipeline import Pipeline\n",
        "from sklearn.compose import ColumnTransformer"
      ],
      "metadata": {
        "id": "n2HoBkbry0K_"
      },
      "execution_count": null,
      "outputs": []
    },
    {
      "cell_type": "code",
      "source": [
        "# Columnas\n",
        "num_cols = X_train.select_dtypes(include='number').columns\n",
        "cat_cols = X_train.select_dtypes(include='object').columns"
      ],
      "metadata": {
        "id": "HjPyhsfqy05C"
      },
      "execution_count": null,
      "outputs": []
    },
    {
      "cell_type": "code",
      "source": [
        "# Transformaciones\n",
        "preprocessor = ColumnTransformer(transformers=[\n",
        "    ('num', StandardScaler(), num_cols),\n",
        "    ('cat', OneHotEncoder(handle_unknown='ignore'), cat_cols)\n",
        "])"
      ],
      "metadata": {
        "id": "_sOyVQ8Ey4J5"
      },
      "execution_count": null,
      "outputs": []
    },
    {
      "cell_type": "code",
      "source": [
        "# Pipeline con modelo final\n",
        "pipeline_final_model = Pipeline(steps=[\n",
        "    ('preprocessor', preprocessor),\n",
        "    ('classifier', KNeighborsClassifier(n_neighbors=5)) # o otro\n",
        "])"
      ],
      "metadata": {
        "id": "sIvhVS2Hy44C"
      },
      "execution_count": null,
      "outputs": []
    },
    {
      "cell_type": "code",
      "source": [
        "# Entrenamiento\n",
        "pipeline_final_model.fit(X_train, y_train)"
      ],
      "metadata": {
        "id": "PC9i4W1My5xo"
      },
      "execution_count": null,
      "outputs": []
    },
    {
      "cell_type": "code",
      "source": [
        "# Predicción\n",
        "y_pred = pipeline_final_model.predict(X_test)"
      ],
      "metadata": {
        "id": "VrOhNUh7y69K"
      },
      "execution_count": null,
      "outputs": []
    },
    {
      "cell_type": "markdown",
      "source": [
        "---\n",
        "## **Problemas de Regresión**"
      ],
      "metadata": {
        "id": "p8xKxM1Yav7r"
      }
    },
    {
      "cell_type": "markdown",
      "source": [
        "### 1. Carga y limpieza del dataset\n",
        "\n",
        "\n"
      ],
      "metadata": {
        "id": "SEXPDj4w11gf"
      }
    },
    {
      "cell_type": "markdown",
      "source": [
        "#### Carga del dataset"
      ],
      "metadata": {
        "id": "LILNxPut11gf"
      }
    },
    {
      "cell_type": "code",
      "source": [],
      "metadata": {
        "id": "zNjmygKe12oN"
      },
      "execution_count": null,
      "outputs": []
    },
    {
      "cell_type": "markdown",
      "source": [
        "#### Limpieza de datos:\n",
        "- Revisar valores nulos (NaN) y decidir si imputar o eliminar.\n",
        "- Revisar outliers extremos y decidir si transformarlos, eliminarlos o dejarlos según el contexto.\n",
        "- Eliminar duplicados si no aportan información relevante."
      ],
      "metadata": {
        "id": "VZbsAmMj11gf"
      }
    },
    {
      "cell_type": "code",
      "source": [],
      "metadata": {
        "id": "IPQ9JOvz13bf"
      },
      "execution_count": null,
      "outputs": []
    },
    {
      "cell_type": "code",
      "source": [],
      "metadata": {
        "id": "b67pfpyN13Ub"
      },
      "execution_count": null,
      "outputs": []
    },
    {
      "cell_type": "code",
      "source": [],
      "metadata": {
        "id": "UCFbphm313Ke"
      },
      "execution_count": null,
      "outputs": []
    },
    {
      "cell_type": "markdown",
      "source": [
        "### 2. Separación de Datos\n",
        "- Separar variables predictoras (`X`) y target (`y`).\n",
        "- Dividir en conjunto de entrenamiento y testeo:\n",
        "  - `X_train`, `X_test`\n",
        "  - `y_train`, `y_test`."
      ],
      "metadata": {
        "id": "HW-acc2zbP3w"
      }
    },
    {
      "cell_type": "code",
      "source": [],
      "metadata": {
        "id": "c3PXN8dHbP3w"
      },
      "execution_count": null,
      "outputs": []
    },
    {
      "cell_type": "code",
      "source": [],
      "metadata": {
        "id": "rHmlLsagbP3w"
      },
      "execution_count": null,
      "outputs": []
    },
    {
      "cell_type": "markdown",
      "source": [
        "### 3. Preprocesamiento\n",
        "- Cargar dataset.\n",
        "- Limpieza de datos.\n",
        "- Encoding de variables categóricas. (usar solo X_train para ajustar el encoder).\n",
        "- Escalado de variables (usar solo X_train para ajustar el scaler)."
      ],
      "metadata": {
        "id": "1bzUZ-lwbP3u"
      }
    },
    {
      "cell_type": "code",
      "source": [],
      "metadata": {
        "id": "7TgpR09HbP3v"
      },
      "execution_count": null,
      "outputs": []
    },
    {
      "cell_type": "code",
      "source": [],
      "metadata": {
        "id": "VEZO8rdHbP3v"
      },
      "execution_count": null,
      "outputs": []
    },
    {
      "cell_type": "code",
      "source": [],
      "metadata": {
        "id": "LDkbM82hbP3w"
      },
      "execution_count": null,
      "outputs": []
    },
    {
      "cell_type": "code",
      "source": [],
      "metadata": {
        "id": "et4lmnGObP3w"
      },
      "execution_count": null,
      "outputs": []
    },
    {
      "cell_type": "markdown",
      "source": [
        "### 4. Machine learning"
      ],
      "metadata": {
        "id": "Zc05G9IPbP3w"
      }
    },
    {
      "cell_type": "markdown",
      "source": [
        "#### 4.1. Modelos bases out of the box (sin optimización)\n",
        "\n",
        "- [KNeighborsRegressor](https://scikit-learn.org/stable/modules/generated/sklearn.neighbors.KNeighborsRegressor.html)\n",
        "- [DecisionTreeRegressor](https://scikit-learn.org/stable/modules/generated/sklearn.tree.DecisionTreeRegressor.html)\n",
        "\n"
      ],
      "metadata": {
        "id": "hyC59UzebP3w"
      }
    },
    {
      "cell_type": "code",
      "source": [],
      "metadata": {
        "id": "PRmhEV_jbP3w"
      },
      "execution_count": null,
      "outputs": []
    },
    {
      "cell_type": "code",
      "source": [],
      "metadata": {
        "id": "1wnN_LbUbP3w"
      },
      "execution_count": null,
      "outputs": []
    },
    {
      "cell_type": "markdown",
      "source": [
        "\n",
        "\n",
        "#### 4.2. Modelos de Ensemble out of the box (sin optimización)\n",
        "- Bagging (ej: [RandomForestRegressor](https://scikit-learn.org/stable/modules/generated/sklearn.ensemble.RandomForestRegressor.html)).\n",
        "- Boosting (ej: [XGBRegressor](https://xgboost.readthedocs.io/en/stable/python/python_api.html#xgboost.XGBRegressor))."
      ],
      "metadata": {
        "id": "dXYyKxxFbP3w"
      }
    },
    {
      "cell_type": "code",
      "source": [],
      "metadata": {
        "id": "FNWFnbYUbP3x"
      },
      "execution_count": null,
      "outputs": []
    },
    {
      "cell_type": "code",
      "source": [],
      "metadata": {
        "id": "vURFWVNhbP3x"
      },
      "execution_count": null,
      "outputs": []
    },
    {
      "cell_type": "markdown",
      "source": [
        "#### 4.3. Optimización de Hiperparámetros sobre modelos base (GridSearchCV o RandomizedSearchCV)\n",
        "\n",
        "- Optimizar un Árbol de Decisión al máximo\n",
        "- Optimizar un KNN al máximo"
      ],
      "metadata": {
        "id": "IhR33roubP3y"
      }
    },
    {
      "cell_type": "code",
      "source": [],
      "metadata": {
        "id": "2h9Di5u7bP3y"
      },
      "execution_count": null,
      "outputs": []
    },
    {
      "cell_type": "code",
      "source": [],
      "metadata": {
        "id": "fOVDDHGjbP3y"
      },
      "execution_count": null,
      "outputs": []
    },
    {
      "cell_type": "markdown",
      "source": [
        "#### 4.4. Exploración Manual\n",
        "\n",
        "-\tUsar bucle for para variar hiperparámetros y visualizar impacto en rendimiento:\n",
        "  - KNN\n",
        "  - Árbol de Decisión"
      ],
      "metadata": {
        "id": "84l50rgWbP3y"
      }
    },
    {
      "cell_type": "code",
      "source": [],
      "metadata": {
        "id": "7nFsfo_vbP3y"
      },
      "execution_count": null,
      "outputs": []
    },
    {
      "cell_type": "code",
      "source": [],
      "metadata": {
        "id": "mkHR0Y_gbP3y"
      },
      "execution_count": null,
      "outputs": []
    },
    {
      "cell_type": "markdown",
      "source": [
        "#### 4.5. Métricas Avanzadas\n",
        "- Tiempos de entrenamiento.\n",
        "- R^2, RMSE y MAE.\n"
      ],
      "metadata": {
        "id": "qIpI2IvwbP3x"
      }
    },
    {
      "cell_type": "code",
      "source": [],
      "metadata": {
        "id": "dGAaGX4BbP3x"
      },
      "execution_count": null,
      "outputs": []
    },
    {
      "cell_type": "code",
      "source": [],
      "metadata": {
        "id": "BKQVwuWNbP3x"
      },
      "execution_count": null,
      "outputs": []
    },
    {
      "cell_type": "code",
      "source": [],
      "metadata": {
        "id": "mzJcJW_gbP3x"
      },
      "execution_count": null,
      "outputs": []
    },
    {
      "cell_type": "markdown",
      "source": [
        "#### 4.6. Comparaciones Finales\n",
        "- Gráfico comparativo entre todos los modelos:\n",
        "  - Tiempos de entrenamiento.\n",
        "  - Métricas de interés (R^2, RMSE, MAE, etc.)."
      ],
      "metadata": {
        "id": "oF_2-V5lbP3y"
      }
    },
    {
      "cell_type": "code",
      "source": [],
      "metadata": {
        "id": "7UvTMfx-bP3z"
      },
      "execution_count": null,
      "outputs": []
    },
    {
      "cell_type": "code",
      "source": [],
      "metadata": {
        "id": "FhaQYw45bP3z"
      },
      "execution_count": null,
      "outputs": []
    },
    {
      "cell_type": "code",
      "source": [],
      "metadata": {
        "id": "Kix5EIDHbP3x"
      },
      "execution_count": null,
      "outputs": []
    },
    {
      "cell_type": "markdown",
      "source": [
        "### 5. Sistematización del Flujo\n",
        "\n",
        "- Construir un Pipeline que encadene:\n",
        "  - Transformaciones de datos.\n",
        "  - Modelo final.\n",
        "  - Verificar que evita fugas de datos (data leakage)."
      ],
      "metadata": {
        "id": "QQY0ytGmbP3x"
      }
    },
    {
      "cell_type": "code",
      "source": [],
      "metadata": {
        "id": "adSSEiFMbP3x"
      },
      "execution_count": null,
      "outputs": []
    },
    {
      "cell_type": "code",
      "source": [],
      "metadata": {
        "id": "mok3aWGQbP3y"
      },
      "execution_count": null,
      "outputs": []
    },
    {
      "cell_type": "code",
      "source": [],
      "metadata": {
        "id": "EbNaaczEbP3y"
      },
      "execution_count": null,
      "outputs": []
    },
    {
      "cell_type": "code",
      "source": [],
      "metadata": {
        "id": "FqCXeLxpbP3z"
      },
      "execution_count": null,
      "outputs": []
    },
    {
      "cell_type": "markdown",
      "source": [
        "---\n",
        "# Unidad 2: Ejercicios resueltos"
      ],
      "metadata": {
        "id": "gOT33m0hB8_l"
      }
    }
  ]
}