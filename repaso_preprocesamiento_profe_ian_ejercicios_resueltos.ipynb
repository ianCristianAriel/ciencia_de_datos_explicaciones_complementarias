{
  "cells": [
    {
      "cell_type": "markdown",
      "metadata": {
        "id": "JRlWUeHZqcZP"
      },
      "source": [
        "# **Unidad 1: Ejercicios de repaso**"
      ]
    },
    {
      "cell_type": "markdown",
      "metadata": {
        "id": "l5ub00Z2hqXo"
      },
      "source": [
        "\n",
        "## **Guía de apoyo para resolver los ejercicios**\n",
        "\n",
        "A continuación encontrarás una tabla con los principales métodos y clases de las librerias Pandas, NumPy, Seaborn, sklearn, etc. que pueden ayudarte a resolver esta guía de actividades. La mayoría de estas herramientas ya fueron vistas durante las clases. Sin embargo, algunos ejercicios planteados en los notebooks podrían requerir conocimientos complementarios o combinaciones de métodos.\n",
        "\n",
        "La tabla incluye:\n",
        "-\tEl propósito o tipo de análisis que se desea realizar.\n",
        "-\tEl método específico y un enlace directo a su documentación oficial.\n",
        "-\tLa librería correspondiente."
      ]
    },
    {
      "cell_type": "markdown",
      "metadata": {
        "id": "Jb6Vd9CH3qlZ"
      },
      "source": [
        "\n",
        "\n",
        "| Propósito / Tipo de Ejercicio                     | Método / Enlace a documentación                                                                 | Librería        |\n",
        "|---------------------------------------------------|--------------------------------------------------------------------------------------------------|-----------------|\n",
        "| **Exploración y estadísticos básicos** |\n",
        "| Medidas de tendencia central (media, mediana, moda) | [`mean()`, `median()`, `mode()`](https://pandas.pydata.org/docs/reference/api/pandas.DataFrame.mean.html) | Pandas |\n",
        "| Medidas de dispersión (var, std, quantiles)        | [`var()`, `std()`, `quantile()`](https://pandas.pydata.org/docs/reference/api/pandas.DataFrame.quantile.html) | Pandas |\n",
        "| Resumen general                                   | [`df.describe()`](https://pandas.pydata.org/pandas-docs/stable/reference/api/pandas.DataFrame.describe.html) | Pandas |\n",
        "| Visualización de distribución                     | [`sns.histplot()`](https://seaborn.pydata.org/generated/seaborn.histplot.html) / [`sns.kdeplot()`](https://seaborn.pydata.org/generated/seaborn.kdeplot.html) | Seaborn |\n",
        "| **Outliers y correlaciones** |\n",
        "| Visualización de outliers                        | [`sns.boxplot()`](https://seaborn.pydata.org/generated/seaborn.boxplot.html)                     | Seaborn         |\n",
        "| Filtrado de outliers                             | [`df[...]` con condiciones](https://pandas.pydata.org/docs/user_guide/indexing.html)             | Pandas          |\n",
        "| Correlación entre variables                      | [`corr()`](https://pandas.pydata.org/pandas-docs/stable/reference/api/pandas.DataFrame.corr.html) | Pandas |\n",
        "| Heatmap de correlación                           | [`sns.heatmap()`](https://seaborn.pydata.org/generated/seaborn.heatmap.html)                     | Seaborn |\n",
        "| **Transformaciones de variables numéricas** |\n",
        "| Potencias y raíces                               | `df[\"x\"] ** 2`, `df[\"x\"] ** 0.5`                                                                | Pandas / NumPy  |\n",
        "| Inversa                                          | `1 / df[\"x\"]`                                                                                   | Pandas / NumPy  |\n",
        "| Transformaciones personalizadas en pipeline      | [`FunctionTransformer`](https://scikit-learn.org/stable/modules/generated/sklearn.preprocessing.FunctionTransformer.html) | Scikit-learn |\n",
        "| Polinomiales                                     | [`PolynomialFeatures`](https://scikit-learn.org/stable/modules/generated/sklearn.preprocessing.PolynomialFeatures.html) | Scikit-learn |\n",
        "| **Imputación de valores faltantes** |\n",
        "| Relleno simple                                   | [`fillna()`](https://pandas.pydata.org/docs/reference/api/pandas.DataFrame.fillna.html)          | Pandas |\n",
        "| Eliminación de nulos                             | [`dropna()`](https://pandas.pydata.org/docs/reference/api/pandas.DataFrame.dropna.html)          | Pandas |\n",
        "| Imputación simple (media, mediana, moda)         | [`SimpleImputer`](https://scikit-learn.org/stable/modules/generated/sklearn.impute.SimpleImputer.html) | Scikit-learn |\n",
        "| Imputación KNN                                   | [`KNNImputer`](https://scikit-learn.org/stable/modules/generated/sklearn.impute.KNNImputer.html) | Scikit-learn |\n",
        "| Imputación por regresión                        | [`IterativeImputer`](https://scikit-learn.org/stable/modules/generated/sklearn.impute.IterativeImputer.html) | Scikit-learn |\n",
        "| **Creación y combinación de variables** |\n",
        "| Combinación de columnas                          | `df[\"new\"] = df[\"col1\"] + df[\"col2\"]` (suma, resta, multiplicación, ratio)                       | Pandas |\n",
        "| Aplicar funciones fila a fila                    | [`apply()`](https://pandas.pydata.org/docs/reference/api/pandas.DataFrame.apply.html)            | Pandas |\n",
        "| Unir DataFrames horizontales                     | [`pd.concat()`](https://pandas.pydata.org/docs/reference/api/pandas.concat.html)                 | Pandas |\n",
        "| Uniones por clave (SQL-like)                     | [`merge()`](https://pandas.pydata.org/docs/reference/api/pandas.DataFrame.merge.html) / [`join()`](https://pandas.pydata.org/docs/reference/api/pandas.DataFrame.join.html) | Pandas |\n",
        "| **Codificación de variables categóricas** |\n",
        "| One-Hot Encoding (manual)                        | [`pd.get_dummies()`](https://pandas.pydata.org/docs/reference/api/pandas.get_dummies.html)       | Pandas |\n",
        "| One-Hot Encoding (sklearn)                       | [`OneHotEncoder`](https://scikit-learn.org/stable/modules/generated/sklearn.preprocessing.OneHotEncoder.html) | Scikit-learn |\n",
        "| Label Encoding                                   | [`LabelEncoder`](https://scikit-learn.org/stable/modules/generated/sklearn.preprocessing.LabelEncoder.html) | Scikit-learn |\n",
        "| Codificación ordinal                            | [`OrdinalEncoder`](https://scikit-learn.org/stable/modules/generated/sklearn.preprocessing.OrdinalEncoder.html) | Scikit-learn |\n",
        "| **Visualización para análisis** |\n",
        "| Dispersión (scatterplot)                        | [`sns.scatterplot()`](https://seaborn.pydata.org/generated/seaborn.scatterplot.html)             | Seaborn |\n",
        "| Boxplot por categoría                           | [`sns.boxplot(x, y)`](https://seaborn.pydata.org/generated/seaborn.boxplot.html)                 | Seaborn |\n",
        "| Gráfico de barras agrupadas                     | [`sns.countplot(hue=...)`](https://seaborn.pydata.org/generated/seaborn.countplot.html)          | Seaborn |\n",
        "| Tabla de contingencia                           | [`pd.crosstab()`](https://pandas.pydata.org/pandas-docs/stable/reference/api/pandas.crosstab.html) | Pandas |"
      ]
    },
    {
      "cell_type": "markdown",
      "metadata": {
        "id": "4UjQ6h2-ysBV"
      },
      "source": [
        "## Imports y lectura de dataset\n"
      ]
    },
    {
      "cell_type": "markdown",
      "metadata": {
        "id": "uccUQRpMyzRg"
      },
      "source": [
        "Cargaremos las librerías que el estudiante ya conoce."
      ]
    },
    {
      "cell_type": "code",
      "execution_count": null,
      "metadata": {},
      "outputs": [],
      "source": [
        "import warnings\n",
        "warnings.filterwarnings('ignore')"
      ]
    },
    {
      "cell_type": "code",
      "execution_count": null,
      "metadata": {
        "id": "ugvYm3H5PZP5"
      },
      "outputs": [],
      "source": [
        "import pandas as pd\n",
        "import numpy as np"
      ]
    },
    {
      "cell_type": "code",
      "execution_count": null,
      "metadata": {
        "id": "psuOAfyxf_GF"
      },
      "outputs": [],
      "source": [
        "import matplotlib.pyplot as plt\n",
        "import seaborn as sns"
      ]
    },
    {
      "cell_type": "code",
      "execution_count": null,
      "metadata": {
        "id": "4wmHn4PkgC5D"
      },
      "outputs": [],
      "source": [
        "from sklearn.preprocessing import StandardScaler, OneHotEncoder, LabelEncoder"
      ]
    },
    {
      "cell_type": "markdown",
      "metadata": {
        "id": "CEMRypZQy389"
      },
      "source": [
        "Lectura del dataset"
      ]
    },
    {
      "cell_type": "code",
      "execution_count": null,
      "metadata": {
        "id": "KLQcWCpPpbn5"
      },
      "outputs": [],
      "source": [
        "df = pd.read_csv('./SydneyHousePrices.csv')"
      ]
    },
    {
      "cell_type": "code",
      "execution_count": null,
      "metadata": {
        "colab": {
          "base_uri": "https://localhost:8080/",
          "height": 423
        },
        "id": "f6qGaydb1NIo",
        "outputId": "a471a015-50ed-4f63-d78c-92491be85d93"
      },
      "outputs": [],
      "source": [
        "df"
      ]
    },
    {
      "cell_type": "markdown",
      "metadata": {
        "id": "ZdhcQtPzifqV"
      },
      "source": [
        "## **EDA**"
      ]
    },
    {
      "cell_type": "markdown",
      "metadata": {
        "id": "BuJBewkVfWbP"
      },
      "source": [
        "### Nivel Básico (Exploración general)\n",
        "1.\t¿Cuál es la casa más cara?\n",
        "2.\t¿Cuál es la casa más barata?\n",
        "3.\t¿Cuántas propiedades tipo “townhouse” hay en el código postal 2107?\n",
        "4.\t¿Qué variables tienen valores extremos (outliers)?\n",
        "5.\t¿Cuáles son los valores promedio de sellPrice, bed y bath?\n",
        "\n",
        "\n"
      ]
    },
    {
      "cell_type": "code",
      "execution_count": null,
      "metadata": {
        "colab": {
          "base_uri": "https://localhost:8080/",
          "height": 80
        },
        "id": "J1cAM_4XqUci",
        "outputId": "f5ae3e8b-c3f5-4f55-9aa4-0ddcec7877c9"
      },
      "outputs": [],
      "source": [
        "# obtenemos el precio mas alto\n",
        "df['sellPrice'].max()\n",
        "\n",
        "# creamos la mascara booleana con la condición donde el precio es igual al mas alto\n",
        "casa_mas_cara = df['sellPrice'] == df['sellPrice'].max()\n",
        "casa_tipo_house = df['propType'] == 'house'\n",
        "\n",
        "# Utilizamos la mascara para seleccionar las filas\n",
        "df[casa_mas_cara & casa_tipo_house]"
      ]
    },
    {
      "cell_type": "code",
      "execution_count": null,
      "metadata": {
        "colab": {
          "base_uri": "https://localhost:8080/",
          "height": 331
        },
        "id": "2lO-AyvV2rMH",
        "outputId": "dcc6794f-87ea-4af6-d8a4-31dc868e1267"
      },
      "outputs": [],
      "source": [
        "# obtenemos el precio mas alto\n",
        "# creamos la mascara booleana con la condición donde el precio es igual al mas alto\n",
        "casa_mas_economica = df['sellPrice'] == df['sellPrice'].min()\n",
        "#casa_tipo_house = df['propType'] == 'house'\n",
        "\n",
        "# Utilizamos la mascara para seleccionar las filas\n",
        "df[casa_mas_economica]"
      ]
    },
    {
      "cell_type": "code",
      "execution_count": null,
      "metadata": {
        "colab": {
          "base_uri": "https://localhost:8080/"
        },
        "id": "No92lWW934UV",
        "outputId": "e3f1f994-a77c-4827-e501-5f317f35c3e6"
      },
      "outputs": [],
      "source": [
        "# ¿Cuántas propiedades tipo “townhouse” hay en el código postal 2107?\n",
        "\n",
        "# mascara1: propType == “townhouse”\n",
        "mascara_th = df['propType'] == 'townhouse'\n",
        "\n",
        "# mascara2: postalCode == 2107\n",
        "mascara_pc = df['postalCode'] == 2107\n",
        "\n",
        "# conteo de los resultados despues del filtro\n",
        "df[mascara_th & mascara_pc].shape[0]\n",
        "df[mascara_th & mascara_pc].count().unique()"
      ]
    },
    {
      "cell_type": "code",
      "execution_count": null,
      "metadata": {
        "id": "DJdhE_lm5uWj"
      },
      "outputs": [],
      "source": [
        "# outliers según Tukey\n",
        "\n",
        "# sellprices\n",
        "\n",
        "q1 = df['sellPrice'].quantile(0.25)\n",
        "q3 = df['sellPrice'].quantile(0.75)\n",
        "iqr = q3 - q1\n",
        "\n",
        "outliers_inf = (q1 - iqr * 1.5)\n",
        "outliers_sup = (q3 + iqr * 1.5)"
      ]
    },
    {
      "cell_type": "code",
      "execution_count": null,
      "metadata": {
        "colab": {
          "base_uri": "https://localhost:8080/"
        },
        "id": "x94UlHbZ7FsG",
        "outputId": "675e447a-a78b-49ef-eb6f-dfd1c3409ba3"
      },
      "outputs": [],
      "source": [
        "outliers_inf"
      ]
    },
    {
      "cell_type": "code",
      "execution_count": null,
      "metadata": {
        "colab": {
          "base_uri": "https://localhost:8080/"
        },
        "id": "khfnPjdR7JiJ",
        "outputId": "c5f208e9-4568-4bee-fec5-9143292b6b23"
      },
      "outputs": [],
      "source": [
        "outliers_sup"
      ]
    },
    {
      "cell_type": "code",
      "execution_count": null,
      "metadata": {
        "id": "A4vl7CBNCCxV"
      },
      "outputs": [],
      "source": [
        "number_cols = df.select_dtypes(np.number).columns"
      ]
    },
    {
      "cell_type": "code",
      "execution_count": null,
      "metadata": {
        "id": "skYElbDO7bFG"
      },
      "outputs": [],
      "source": [
        "q1 = df.quantile(0.25, numeric_only=True)\n",
        "q3 = df.quantile(0.75, numeric_only=True)\n",
        "iqr = q3 - q1\n",
        "\n",
        "outliers_inf = q1 - iqr * 1.5\n",
        "outliers_sup = q3 + iqr * 1.5"
      ]
    },
    {
      "cell_type": "code",
      "execution_count": null,
      "metadata": {
        "colab": {
          "base_uri": "https://localhost:8080/",
          "height": 272
        },
        "id": "_wAePf-BG1Lj",
        "outputId": "5e679d29-0868-42a5-d2c9-35ad6abfd90e"
      },
      "outputs": [],
      "source": [
        "outliers_inf"
      ]
    },
    {
      "cell_type": "code",
      "execution_count": null,
      "metadata": {
        "colab": {
          "base_uri": "https://localhost:8080/",
          "height": 272
        },
        "id": "_jBDSvpJG1yV",
        "outputId": "e72dd999-0ae9-4d12-a146-0ba30b0d299f"
      },
      "outputs": [],
      "source": [
        "outliers_sup"
      ]
    },
    {
      "cell_type": "code",
      "execution_count": null,
      "metadata": {
        "colab": {
          "base_uri": "https://localhost:8080/"
        },
        "id": "A_W6EQjtE8LL",
        "outputId": "d2b5747c-bb81-44cb-de1d-3a0fbbe5cecb"
      },
      "outputs": [],
      "source": [
        "help(pd.Series.all)"
      ]
    },
    {
      "cell_type": "code",
      "execution_count": null,
      "metadata": {
        "id": "KJyEBVg1E7iA"
      },
      "outputs": [],
      "source": [
        "mask = ((df[number_cols] >= outliers_inf) & (df[number_cols] <= outliers_sup)).all(axis=1)\n",
        "df_sin_outliers = df[mask].copy()"
      ]
    },
    {
      "cell_type": "code",
      "execution_count": null,
      "metadata": {
        "id": "Q-toazAGGQ10"
      },
      "outputs": [],
      "source": [
        "mask = ((df[number_cols] <= outliers_inf) | (df[number_cols] >= outliers_sup)).any(axis=1)\n",
        "df_outliers = df[mask].copy()"
      ]
    },
    {
      "cell_type": "code",
      "execution_count": null,
      "metadata": {
        "colab": {
          "base_uri": "https://localhost:8080/",
          "height": 178
        },
        "id": "mn40C9rm9qgH",
        "outputId": "1ec1d9b3-0d22-46f1-ff99-7defb31194c2"
      },
      "outputs": [],
      "source": [
        "# promedio: bed, bath y sellprice\n",
        "df[['bath', 'bed', 'sellPrice']].mean().round(2)"
      ]
    },
    {
      "cell_type": "markdown",
      "metadata": {
        "id": "I1G_3PtHfvz0"
      },
      "source": [
        "### Nivel Intermedio (Análisis con filtrado y agrupamiento)\n",
        "7.\t¿Cómo cambian los resultados del describe() después de filtrar outliers?\n",
        "8.\t¿En qué barrio están la casa más cara y la más barata?\n",
        "9.\t¿Cuántos baños tienen esas casas?\n",
        "10.\t¿Cuál es el precio medio de venta (sellPrice) por barrio (suburb)?\n",
        "11.\t¿Cuál es el precio medio de venta por tipo de propiedad (propType)?\n",
        "\n"
      ]
    },
    {
      "cell_type": "code",
      "execution_count": null,
      "metadata": {
        "colab": {
          "base_uri": "https://localhost:8080/",
          "height": 146
        },
        "id": "wBPymFsbfxE8",
        "outputId": "6fbfd2c6-5385-4236-b965-755534602601"
      },
      "outputs": [],
      "source": [
        "# ¿En qué barrio están la casa más cara y la más barata?\n",
        "df[casa_mas_cara]['suburb']"
      ]
    },
    {
      "cell_type": "code",
      "execution_count": null,
      "metadata": {
        "colab": {
          "base_uri": "https://localhost:8080/"
        },
        "id": "7Bm5_8n__ilg",
        "outputId": "249a9db6-b7f5-422e-bc91-08e7b765987d"
      },
      "outputs": [],
      "source": [
        "# ¿En qué barrio están la casa más cara y la más barata?\n",
        "df[casa_mas_economica]['suburb'].unique()"
      ]
    },
    {
      "cell_type": "code",
      "execution_count": null,
      "metadata": {
        "colab": {
          "base_uri": "https://localhost:8080/",
          "height": 178
        },
        "id": "YZU_iDQ8_u12",
        "outputId": "ac379122-6532-4d65-cd88-fa372dd648fb"
      },
      "outputs": [],
      "source": [
        "# ¿Cuántos baños tienen esas casas?\n",
        "df[casa_mas_economica]['bath'].value_counts()\n"
      ]
    },
    {
      "cell_type": "code",
      "execution_count": null,
      "metadata": {
        "colab": {
          "base_uri": "https://localhost:8080/"
        },
        "id": "xzadSNguAJLc",
        "outputId": "70f11637-ccfa-46dd-e44b-b7626a80c064"
      },
      "outputs": [],
      "source": [
        "df[casa_mas_economica]['bath'].unique()"
      ]
    },
    {
      "cell_type": "code",
      "execution_count": null,
      "metadata": {
        "colab": {
          "base_uri": "https://localhost:8080/",
          "height": 489
        },
        "id": "8v2KCKsdAQ48",
        "outputId": "5ca944e0-b697-496b-9963-a31ee3f4e397"
      },
      "outputs": [],
      "source": [
        "# Cuál es el precio medio de venta (sellPrice) por barrio (suburb)\n",
        "df.groupby(by=['suburb'])['sellPrice'].mean()"
      ]
    },
    {
      "cell_type": "code",
      "execution_count": null,
      "metadata": {
        "colab": {
          "base_uri": "https://localhost:8080/",
          "height": 300
        },
        "id": "UFgR4ruwBHch",
        "outputId": "e286dcbb-2d67-4972-8dd6-9600e4f5465a"
      },
      "outputs": [],
      "source": [
        "# Cuál es el precio medio de venta (sellPrice) por el tipo de propiedad\n",
        "df.groupby(by=['propType'], as_index=False)['sellPrice'].mean()"
      ]
    },
    {
      "cell_type": "markdown",
      "metadata": {
        "id": "6mIoV0jlfxbX"
      },
      "source": [
        "### Nivel Avanzado (Relaciones entre variables y visualización avanzada)\n",
        "13.\t¿Cuál es la correlación entre sellPrice y bed por tipo de propiedad?\n",
        "14.\t¿Qué correlaciones existen entre sellPrice y otras variables dentro de los outliers?\n",
        "15.\t¿Cómo se distribuye propType en los 3 barrios más poblados? (tabla de contingencia + heatmap con frecuencias relativas)\n",
        "17.\t¿Cómo cambia el heatmap luego de filtrar outliers en las variables clave?"
      ]
    },
    {
      "cell_type": "code",
      "execution_count": null,
      "metadata": {
        "colab": {
          "base_uri": "https://localhost:8080/",
          "height": 582
        },
        "id": "xfaTwa8pfyAf",
        "outputId": "ecb19471-ae05-4ace-f929-a00d43246900"
      },
      "outputs": [],
      "source": [
        "# ¿Cuál es la correlación entre sellPrice y bed por tipo de propiedad?\n",
        "columnas_correlacion = ['sellPrice', 'bed']\n",
        "df.groupby(by='propType')[columnas_correlacion].corr()"
      ]
    },
    {
      "cell_type": "code",
      "execution_count": null,
      "metadata": {
        "colab": {
          "base_uri": "https://localhost:8080/"
        },
        "id": "_1m297pgF79I",
        "outputId": "d224689f-1023-448d-e4f7-14d851f155f3"
      },
      "outputs": [],
      "source": [
        "np.triu(df_sin_outliers)"
      ]
    },
    {
      "cell_type": "code",
      "execution_count": null,
      "metadata": {
        "colab": {
          "base_uri": "https://localhost:8080/",
          "height": 494
        },
        "id": "LYbydw44FWPC",
        "outputId": "4a8db98c-9cee-4d08-dc4f-e50dec5bb37a"
      },
      "outputs": [],
      "source": [
        "# ¿Qué correlaciones existen entre sellPrice y otras variables dentro de los outliers?\n",
        "mascara_diag = np.triu(df_sin_outliers.corr(numeric_only=True))\n",
        "\n",
        "sns.heatmap(df_sin_outliers.corr(numeric_only=True), annot=True, cmap='coolwarm', mask=mascara_diag)\n",
        "plt.show()"
      ]
    },
    {
      "cell_type": "code",
      "execution_count": null,
      "metadata": {
        "colab": {
          "base_uri": "https://localhost:8080/",
          "height": 494
        },
        "id": "I1ELYcQEGYue",
        "outputId": "55332e0e-e38b-44a8-a60f-4523c096e8a4"
      },
      "outputs": [],
      "source": [
        "# ¿Qué correlaciones existen entre sellPrice y otras variables dentro de los outliers?\n",
        "mascara_diag = np.triu(df_outliers.corr(numeric_only=True))\n",
        "\n",
        "sns.heatmap(df_outliers.corr(numeric_only=True), annot=True, cmap='coolwarm', mask=mascara_diag)\n",
        "plt.show()"
      ]
    },
    {
      "cell_type": "code",
      "execution_count": null,
      "metadata": {
        "colab": {
          "base_uri": "https://localhost:8080/"
        },
        "id": "b41cWut-Cxqv",
        "outputId": "37519c1f-1ad3-4ca0-a73c-ecda47763315"
      },
      "outputs": [],
      "source": [
        "# ¿Cómo se distribuye propType en los 3 barrios más poblados? (tabla de contingencia + heatmap con frecuencias relativas)\n",
        "top3_barrios =df['suburb'].value_counts().head(n=3).index\n",
        "\n",
        "# 3. Filtrar el DataFrame para incluir solo esos 3 barrios\n",
        "df_top3 = df[df['suburb'].isin(top3_barrios)]\n",
        "\n",
        "# 4. Crear tabla de contingencia suburb vs propType\n",
        "tabla_contingencia = pd.crosstab(\n",
        "    index=df_top3['suburb'],       # Filas = suburbios\n",
        "    columns=df_top3['propType'],   # Columnas = tipos de propiedad\n",
        "    normalize='index'              # Normalización por fila → frecuencias relativas\n",
        ")\n",
        "\n",
        "# 5. Mostrar resultados\n",
        "print(\"Tabla de contingencia (frecuencias relativas):\\n\")\n",
        "print(tabla_contingencia)"
      ]
    },
    {
      "cell_type": "code",
      "execution_count": null,
      "metadata": {
        "colab": {
          "base_uri": "https://localhost:8080/",
          "height": 488
        },
        "id": "EYTIl2Z1EeCi",
        "outputId": "520088b1-6416-4446-88f9-4adb6695276f"
      },
      "outputs": [],
      "source": [
        "# Heatmap\n",
        "plt.figure(figsize=(8,5))\n",
        "sns.heatmap(tabla_contingencia, annot=True, fmt=\".2f\", cmap=\"coolwarm\")\n",
        "plt.title('Distribución de propType en los 3 barrios más poblados')\n",
        "plt.show()"
      ]
    },
    {
      "cell_type": "code",
      "execution_count": null,
      "metadata": {
        "id": "utkmk1L1FHdH"
      },
      "outputs": [],
      "source": [
        "# agregar respuesta outliers"
      ]
    },
    {
      "cell_type": "markdown",
      "metadata": {
        "id": "Qobepi1CihZ_"
      },
      "source": [
        "## **Preprocesamiento**"
      ]
    },
    {
      "cell_type": "markdown",
      "metadata": {
        "id": "iyMdCR5qA6AP"
      },
      "source": [
        "### Nivel Básico: Transformaciones de variables numéricas"
      ]
    },
    {
      "cell_type": "markdown",
      "metadata": {
        "id": "RFPJxZQdd_e7"
      },
      "source": [
        "\n",
        "\n",
        "\n",
        "1. Elige una variable numérica y aplica dos transformaciones:\n",
        "- $y = 1/x$\n",
        "- $y = \\sqrt{x}$\n",
        "- $y = x^2$.\n",
        "\n",
        "2. Para la variable original y las transformadas:\n",
        "  - Grafica distribución y boxplot.\n",
        "  - Calcula medidas de tendencia central (media, mediana, moda).\n",
        "  - Compara los resultados."
      ]
    },
    {
      "cell_type": "code",
      "execution_count": null,
      "metadata": {
        "colab": {
          "base_uri": "https://localhost:8080/",
          "height": 366
        },
        "id": "aNPiue_OFSE4",
        "outputId": "2df611db-3246-4659-d9ca-8fb28b0a837d"
      },
      "outputs": [],
      "source": [
        "df.dtypes"
      ]
    },
    {
      "cell_type": "code",
      "execution_count": null,
      "metadata": {
        "id": "dh3FaTwWeQfu"
      },
      "outputs": [],
      "source": [
        "y = 1 / df['car']"
      ]
    },
    {
      "cell_type": "code",
      "execution_count": null,
      "metadata": {
        "colab": {
          "base_uri": "https://localhost:8080/",
          "height": 458
        },
        "id": "32NfI8NnFvYm",
        "outputId": "5d0bdbff-beb1-4c11-a3e9-d2c8e3a2a5f9"
      },
      "outputs": [],
      "source": [
        "y"
      ]
    },
    {
      "cell_type": "code",
      "execution_count": null,
      "metadata": {
        "id": "VTxn_WQ7Gt6F"
      },
      "outputs": [],
      "source": [
        "df_filtrado = df[df['car'] < 10]"
      ]
    },
    {
      "cell_type": "code",
      "execution_count": null,
      "metadata": {
        "colab": {
          "base_uri": "https://localhost:8080/",
          "height": 850
        },
        "id": "rWO_IXVdF5dR",
        "outputId": "37b4ea71-9d79-4f5f-fd47-fa45ed0a4d6b"
      },
      "outputs": [],
      "source": [
        "# Para la variable original y las transformadas:\n",
        "# Grafica distribución y boxplot.\n",
        "plt.figure(figsize=(10, 10))\n",
        "sns.histplot(df_filtrado['car'])\n",
        "plt.show()"
      ]
    },
    {
      "cell_type": "code",
      "execution_count": null,
      "metadata": {
        "colab": {
          "base_uri": "https://localhost:8080/",
          "height": 811
        },
        "id": "szp040GpHFjd",
        "outputId": "3d353be4-d314-43c8-f75c-303dda370a4c"
      },
      "outputs": [],
      "source": [
        "plt.figure(figsize=(10, 10))\n",
        "sns.violinplot(df_filtrado['car'])\n",
        "plt.show()"
      ]
    },
    {
      "cell_type": "code",
      "execution_count": null,
      "metadata": {
        "colab": {
          "base_uri": "https://localhost:8080/",
          "height": 811
        },
        "id": "Ax_H-oDNIEe_",
        "outputId": "b0167188-4929-49a1-98a1-f8e5336bd4f3"
      },
      "outputs": [],
      "source": [
        "plt.figure(figsize=(10, 10))\n",
        "sns.violinplot(y)\n",
        "plt.show()"
      ]
    },
    {
      "cell_type": "code",
      "execution_count": null,
      "metadata": {
        "colab": {
          "base_uri": "https://localhost:8080/",
          "height": 850
        },
        "id": "QrnPUkndILo2",
        "outputId": "a31afd67-ad46-4bd1-c7eb-22334c8dad9e"
      },
      "outputs": [],
      "source": [
        "plt.figure(figsize=(10, 10))\n",
        "sns.histplot(y)\n",
        "plt.show()"
      ]
    },
    {
      "cell_type": "code",
      "execution_count": null,
      "metadata": {
        "colab": {
          "base_uri": "https://localhost:8080/",
          "height": 334
        },
        "id": "A1rYtwhRHTZp",
        "outputId": "da2ecd3a-37df-4aae-be0e-cc3a023809f7"
      },
      "outputs": [],
      "source": [
        "# Calcula medidas de tendencia central (media, mediana, moda).\n",
        "df['car'].describe()"
      ]
    },
    {
      "cell_type": "code",
      "execution_count": null,
      "metadata": {
        "colab": {
          "base_uri": "https://localhost:8080/",
          "height": 115
        },
        "id": "zV1B1ALYHmoe",
        "outputId": "20c4a855-6144-41bd-9904-994397a9cd46"
      },
      "outputs": [],
      "source": [
        "df['car'].mode()"
      ]
    },
    {
      "cell_type": "code",
      "execution_count": null,
      "metadata": {
        "colab": {
          "base_uri": "https://localhost:8080/",
          "height": 334
        },
        "id": "Mj0K3yrwHefE",
        "outputId": "c6235888-2583-46ed-9e51-6ff6b5b701f5"
      },
      "outputs": [],
      "source": [
        "y.describe()"
      ]
    },
    {
      "cell_type": "markdown",
      "metadata": {
        "id": "KvRgdRtoA_Mt"
      },
      "source": [
        "### Nivel Intermedio: Tratamiento de datos faltantes y creación de nuevas variables.\n"
      ]
    },
    {
      "cell_type": "markdown",
      "metadata": {
        "id": "knScATd4BDpy"
      },
      "source": [
        "3.\tImputación de datos faltantes\n",
        "- Investiga un método de imputación distinto a los vistos (ej: KNNImputer, interpolación, regresión) -> utilizaremos KNNImputer.\n",
        "- Aplícalo en el dataset.\n",
        "4.\tCreación de nuevas variables\n",
        "-\tGenera al menos 3 nuevas variables combinando variables existentes (ejemplo: suma, razón, producto, interacciones)."
      ]
    },
    {
      "cell_type": "code",
      "execution_count": null,
      "metadata": {
        "id": "nbYoxhXiBNIR"
      },
      "outputs": [],
      "source": [
        "from sklearn.impute import KNNImputer, SimpleImputer"
      ]
    },
    {
      "cell_type": "code",
      "execution_count": null,
      "metadata": {
        "colab": {
          "base_uri": "https://localhost:8080/"
        },
        "id": "GrH-O-5JJZRL",
        "outputId": "b2b3a8ed-cc30-45ea-c433-4692b6d8749f"
      },
      "outputs": [],
      "source": [
        "help(SimpleImputer)"
      ]
    },
    {
      "cell_type": "code",
      "execution_count": null,
      "metadata": {
        "colab": {
          "base_uri": "https://localhost:8080/"
        },
        "id": "H84gIk7zJM9s",
        "outputId": "315ca45a-b72d-4373-861b-15dadc3939ec"
      },
      "outputs": [],
      "source": [
        "help(KNNImputer)"
      ]
    },
    {
      "cell_type": "code",
      "execution_count": null,
      "metadata": {
        "id": "zWretL0QKIqt"
      },
      "outputs": [],
      "source": [
        "numeric_columns = df.select_dtypes(include=np.number)"
      ]
    },
    {
      "cell_type": "code",
      "execution_count": null,
      "metadata": {
        "colab": {
          "base_uri": "https://localhost:8080/",
          "height": 423
        },
        "id": "psoJeVQmKb65",
        "outputId": "5e556499-0d91-45fd-d5c4-43b046b1c216"
      },
      "outputs": [],
      "source": [
        "numeric_columns"
      ]
    },
    {
      "cell_type": "code",
      "execution_count": null,
      "metadata": {
        "id": "0g8wvD8rKdh-"
      },
      "outputs": [],
      "source": [
        "knn_inputer = KNNImputer(n_neighbors=5, weights='distance')"
      ]
    },
    {
      "cell_type": "code",
      "execution_count": null,
      "metadata": {
        "colab": {
          "base_uri": "https://localhost:8080/",
          "height": 423
        },
        "id": "pQBAI3dBLqfo",
        "outputId": "4d8f4082-d79c-437c-c993-9939fb3d4140"
      },
      "outputs": [],
      "source": [
        "df.select_dtypes(include=np.number)"
      ]
    },
    {
      "cell_type": "code",
      "execution_count": null,
      "metadata": {
        "colab": {
          "base_uri": "https://localhost:8080/"
        },
        "id": "BtZKcjuDL5nY",
        "outputId": "329c1bc5-5f93-486a-e1d3-37fd3821b1b2"
      },
      "outputs": [],
      "source": [
        "df.select_dtypes(include=np.number).columns"
      ]
    },
    {
      "cell_type": "code",
      "execution_count": null,
      "metadata": {
        "id": "Z1-VZwrDLDB1"
      },
      "outputs": [],
      "source": [
        "df[['Id', 'postalCode', 'sellPrice', 'bed', 'bath', 'car']] = knn_inputer.fit_transform(numeric_columns)"
      ]
    },
    {
      "cell_type": "code",
      "execution_count": null,
      "metadata": {
        "colab": {
          "base_uri": "https://localhost:8080/",
          "height": 272
        },
        "id": "MSKAAH1PNoZ9",
        "outputId": "bf4c0a6c-7060-46e8-ec6a-d5881c2d8985"
      },
      "outputs": [],
      "source": [
        "df[['Id', 'postalCode', 'sellPrice', 'bed', 'bath', 'car']].isnull().sum()"
      ]
    },
    {
      "cell_type": "code",
      "execution_count": null,
      "metadata": {
        "id": "Zpi7pg5bMRVa"
      },
      "outputs": [],
      "source": [
        "# columna derivada\n",
        "df['price / bed'] = df['sellPrice'] / df['bed']"
      ]
    },
    {
      "cell_type": "code",
      "execution_count": null,
      "metadata": {
        "colab": {
          "base_uri": "https://localhost:8080/",
          "height": 458
        },
        "id": "Yr2K4uYCNPUf",
        "outputId": "43a698da-4d11-420f-a5fb-098dd7397a82"
      },
      "outputs": [],
      "source": [
        "df['price / bed']"
      ]
    },
    {
      "cell_type": "markdown",
      "metadata": {
        "id": "r_fnR7-QBT1N"
      },
      "source": [
        "### Nivel Avanzado: Análisis más profundo y codificación de variables categóricas.\n"
      ]
    },
    {
      "cell_type": "markdown",
      "metadata": {
        "id": "17UK_1XLBcA5"
      },
      "source": [
        "5.\tAnálisis de las nuevas variables. Evalúa su comportamiento mediante:\n",
        "- Distribución y boxplot.\n",
        "- Correlación con sellPrice.\n",
        "\n",
        "6.\tCodificación de variables categóricas (Encoding). Selecciona dos variables categóricas nuevas:\n",
        "- Aplica One-Hot Encoding a una.\n",
        "- Aplica Label Encoding o OrdinalEncdoing a la otra.\n",
        "- Añade las columnas resultantes al df -> Investiga y aplica un método para integrarlas con el DataFrame (merge, join o concat)."
      ]
    },
    {
      "cell_type": "code",
      "execution_count": null,
      "metadata": {
        "colab": {
          "base_uri": "https://localhost:8080/",
          "height": 397
        },
        "id": "vMKKA_74O0TW",
        "outputId": "5383e47a-d21c-4760-ba4c-e0efd4a9e075"
      },
      "outputs": [],
      "source": [
        "df.dtypes"
      ]
    },
    {
      "cell_type": "code",
      "execution_count": null,
      "metadata": {
        "colab": {
          "base_uri": "https://localhost:8080/"
        },
        "id": "St8lgko4PaIN",
        "outputId": "cc101b94-e676-4107-d4ef-0eaf9b0825d9"
      },
      "outputs": [],
      "source": [
        "help(OneHotEncoder(handle_unknown=''))"
      ]
    },
    {
      "cell_type": "code",
      "execution_count": null,
      "metadata": {
        "colab": {
          "base_uri": "https://localhost:8080/",
          "height": 429
        },
        "id": "HiEZRdGvQCKz",
        "outputId": "ef1a84eb-626f-48e7-b750-e6101a27c968"
      },
      "outputs": [],
      "source": [
        "df['suburb'].value_counts().head(10)"
      ]
    },
    {
      "cell_type": "code",
      "execution_count": null,
      "metadata": {
        "id": "VwqMc-B5OzuL"
      },
      "outputs": [],
      "source": [
        "# Codificación de variables categóricas\n",
        "# One-Hot Encoding\n",
        "# pandas\n",
        "# df_ohe = pd.get_dummies(df['propType'], prefix='propType')\n",
        "\n",
        "# sklearn\n",
        "from sklearn.preprocessing import OneHotEncoder\n",
        "\n",
        "nomial_cat = 'suburb'\n",
        "\n",
        "# instancia\n",
        "nomial_ohe = OneHotEncoder(handle_unknown='ignore', sparse_output=False)\n",
        "\n",
        "nomial_ohe.fit(df[[nomial_cat]])\n",
        "suburb_ohe_df = nomial_ohe.transform(df[[nomial_cat]])"
      ]
    },
    {
      "cell_type": "code",
      "execution_count": null,
      "metadata": {
        "colab": {
          "base_uri": "https://localhost:8080/"
        },
        "id": "f3JXf7RXQYZH",
        "outputId": "807363e7-6598-44e9-e3dd-4b9b0fd356a0"
      },
      "outputs": [],
      "source": [
        "help(nomial_ohe)"
      ]
    },
    {
      "cell_type": "code",
      "execution_count": null,
      "metadata": {
        "colab": {
          "base_uri": "https://localhost:8080/"
        },
        "id": "_ZTYU_4KQs5p",
        "outputId": "3d9fe00e-1dee-47a6-cbee-3edc7561ff78"
      },
      "outputs": [],
      "source": [
        "nomial_ohe.get_feature_names_out()"
      ]
    },
    {
      "cell_type": "code",
      "execution_count": null,
      "metadata": {
        "colab": {
          "base_uri": "https://localhost:8080/"
        },
        "id": "hOoTE4P3QU5l",
        "outputId": "553eac85-1ec8-4be3-858a-2b7ca9c71d25"
      },
      "outputs": [],
      "source": [
        "suburb_ohe_fd"
      ]
    },
    {
      "cell_type": "code",
      "execution_count": null,
      "metadata": {
        "colab": {
          "base_uri": "https://localhost:8080/"
        },
        "id": "mgF38aApRGFT",
        "outputId": "9dc80564-f158-498c-b729-5a4a8359c63c"
      },
      "outputs": [],
      "source": [
        "df.index"
      ]
    },
    {
      "cell_type": "code",
      "execution_count": null,
      "metadata": {
        "id": "BCKziBYvQ37g"
      },
      "outputs": [],
      "source": [
        "suburb_oh_df = pd.DataFrame(data=suburb_ohe_df, columns=nomial_ohe.get_feature_names_out(), index=df.index)"
      ]
    },
    {
      "cell_type": "code",
      "execution_count": null,
      "metadata": {
        "id": "XLqy643BRfXC"
      },
      "outputs": [],
      "source": [
        "df = pd.concat([df, suburb_oh_df], axis=1)"
      ]
    },
    {
      "cell_type": "code",
      "execution_count": null,
      "metadata": {
        "id": "ocyE37ikpxzl"
      },
      "outputs": [],
      "source": [
        "df.drop(columns=nomial_cat, inplace=True)"
      ]
    },
    {
      "cell_type": "code",
      "execution_count": null,
      "metadata": {
        "colab": {
          "base_uri": "https://localhost:8080/"
        },
        "id": "7Tf5VT3jqfpp",
        "outputId": "3a910cc8-2733-4554-a233-42b6e81f1af2"
      },
      "outputs": [],
      "source": [
        "df['propType'].unique()"
      ]
    },
    {
      "cell_type": "code",
      "execution_count": null,
      "metadata": {
        "colab": {
          "base_uri": "https://localhost:8080/"
        },
        "id": "Zagigi3UqnpX",
        "outputId": "ec08e5ae-ad27-47f2-a466-36d102eebda3"
      },
      "outputs": [],
      "source": [
        "# Label Encoding\n",
        "from sklearn.preprocessing import OrdinalEncoder\n",
        "\n",
        "help(OrdinalEncoder())"
      ]
    },
    {
      "cell_type": "code",
      "execution_count": null,
      "metadata": {
        "colab": {
          "base_uri": "https://localhost:8080/"
        },
        "id": "UknskhuRrQiU",
        "outputId": "c73aaa62-e33b-49ed-d719-2845e7085b1c"
      },
      "outputs": [],
      "source": [
        "df.propType.unique()"
      ]
    },
    {
      "cell_type": "code",
      "execution_count": null,
      "metadata": {
        "id": "Poucj4v5uTw0"
      },
      "outputs": [],
      "source": [
        "# categorias ordinales ordenadas\n",
        "cat_ord_col = ['other','villa', 'acreage', 'warehouse', 'terrace', 'house', 'townhouse', 'duplex/semi-detached']"
      ]
    },
    {
      "cell_type": "code",
      "execution_count": null,
      "metadata": {
        "id": "raDUDdcFBb4D"
      },
      "outputs": [],
      "source": [
        "Ordinal_enc = OrdinalEncoder(handle_unknown='error', categories=[cat_ord_col], dtype=int)\n",
        "df['propType_enc'] = Ordinal_enc.fit_transform(df[['propType']])"
      ]
    },
    {
      "cell_type": "code",
      "execution_count": null,
      "metadata": {
        "colab": {
          "base_uri": "https://localhost:8080/"
        },
        "id": "GfDxekMbwxuF",
        "outputId": "5e756a30-3ba3-4c0c-9a77-a9a0f3e7a09e"
      },
      "outputs": [],
      "source": [
        "Ordinal_enc.get_feature_names_out()"
      ]
    },
    {
      "cell_type": "code",
      "execution_count": null,
      "metadata": {
        "colab": {
          "base_uri": "https://localhost:8080/"
        },
        "id": "MCYI5vXew2Cg",
        "outputId": "258fa499-0918-4ad7-eb12-560e99b4aa40"
      },
      "outputs": [],
      "source": [
        "Ordinal_enc.categories_"
      ]
    },
    {
      "cell_type": "code",
      "execution_count": null,
      "metadata": {
        "colab": {
          "base_uri": "https://localhost:8080/"
        },
        "id": "x9HdBub9x9TL",
        "outputId": "30c1e28a-81b2-4d02-935d-9da8f57219a0"
      },
      "outputs": [],
      "source": [
        "categoria_ord_enc = {}\n",
        "\n",
        "for indice, cat in enumerate(Ordinal_enc.categories_[0]):\n",
        "  categoria_ord_enc[indice] = cat\n",
        "\n",
        "categoria_ord_enc"
      ]
    },
    {
      "cell_type": "markdown",
      "metadata": {
        "id": "gOT33m0hB8_l"
      },
      "source": [
        "# Unidad 1: Ejercicios resueltos"
      ]
    },
    {
      "cell_type": "markdown",
      "metadata": {
        "id": "jpswDJGzd6wX"
      },
      "source": [
        "## **EDA**"
      ]
    },
    {
      "cell_type": "markdown",
      "metadata": {
        "id": "Cby8BJYA9XWb"
      },
      "source": [
        "#### Solución EDA, nivel básico"
      ]
    },
    {
      "cell_type": "code",
      "execution_count": null,
      "metadata": {
        "id": "zcyQVYG49b0r"
      },
      "outputs": [],
      "source": [
        "# Casa más cara\n",
        "max_price = df['sellPrice'].max()\n",
        "casa_mas_cara = df[df['sellPrice'] == max_price]\n",
        "print(\"Casa más cara:\\n\", casa_mas_cara"
      ]
    },
    {
      "cell_type": "code",
      "execution_count": null,
      "metadata": {
        "id": "0c4Tilpp9vUT"
      },
      "outputs": [],
      "source": [
        "# Casa más barata\n",
        "min_price = df['sellPrice'].min()\n",
        "casa_mas_barata = df[df['sellPrice'] == min_price]\n",
        "print(\"Casa más barata:\\n\", casa_mas_barata)"
      ]
    },
    {
      "cell_type": "code",
      "execution_count": null,
      "metadata": {
        "id": "3L7s-cKF9yzs"
      },
      "outputs": [],
      "source": [
        "# Cantidad de “townhouse” en el código postal 2107\n",
        "num_townhouse_2107 = df[(df['propType'] == 'townhouse') & (df['postalCode'] == 2107)].shape[0]\n",
        "print(\"Cantidad de townhouses en 2107:\", num_townhouse_2107)"
      ]
    },
    {
      "cell_type": "code",
      "execution_count": null,
      "metadata": {
        "id": "yyo580IcoSci"
      },
      "outputs": [],
      "source": [
        "num_cols.quantile(0.25)"
      ]
    },
    {
      "cell_type": "code",
      "execution_count": null,
      "metadata": {
        "colab": {
          "base_uri": "https://localhost:8080/",
          "height": 423
        },
        "id": "Q5C4D6U6-KpW",
        "outputId": "de1b8a51-e2b4-46aa-cd8f-1ff05808d4ed"
      },
      "outputs": [],
      "source": [
        "# Variables con valores extremos\n",
        "# Seleccionamos solo las columnas numéricas\n",
        "num_cols = df.select_dtypes(include='number')\n",
        "\n",
        "Q1 = num_cols.quantile(0.25)\n",
        "Q3 = num_cols.quantile(0.75)\n",
        "IQR = Q3 - Q1\n",
        "\n",
        "# Calcular outliers solo en columnas numéricas\n",
        "outliers = ((num_cols < (Q1 - 1.5*IQR)) | (num_cols > (Q3 + 1.5*IQR)))#.sum()\n",
        "df[outliers]"
      ]
    },
    {
      "cell_type": "code",
      "execution_count": null,
      "metadata": {
        "id": "n8XiBMGG_5VN"
      },
      "outputs": [],
      "source": [
        "# Valores promedio de sellPrice, bed y bath\n",
        "promedios = df[['sellPrice', 'bed', 'bath']].mean()\n",
        "print(\"Valores promedio:\\n\", promedios)"
      ]
    },
    {
      "cell_type": "markdown",
      "metadata": {
        "id": "zx3nNSl8Ab3R"
      },
      "source": [
        "#### Solución EDA, nivel intermedio"
      ]
    },
    {
      "cell_type": "code",
      "execution_count": null,
      "metadata": {
        "id": "ZiISycobAdBg"
      },
      "outputs": [],
      "source": [
        "# Filtrar outliers\n",
        "Q1 = df[['sellPrice', 'bed', 'bath']].quantile(0.25)\n",
        "Q3 = df[['sellPrice', 'bed', 'bath']].quantile(0.75)\n",
        "IQR = Q3 - Q1\n",
        "\n",
        "# Filtrar filas dentro del rango IQR\n",
        "df_filtrado = df[~((df[['sellPrice', 'bed', 'bath']] < (Q1 - 1.5*IQR)) |\n",
        "                   (df[['sellPrice', 'bed', 'bath']] > (Q3 + 1.5*IQR))).any(axis=1)]"
      ]
    },
    {
      "cell_type": "code",
      "execution_count": null,
      "metadata": {
        "id": "X7HvccBWA2Fq"
      },
      "outputs": [],
      "source": [
        "# Cambios en describe() después de filtrar outliers\n",
        "print(\"Describe - original:\\n\", df[['sellPrice', 'bed', 'bath']].describe())\n",
        "print(\"\\nDescribe - filtrado:\\n\", df_filtrado[['sellPrice', 'bed', 'bath']].describe())"
      ]
    },
    {
      "cell_type": "code",
      "execution_count": null,
      "metadata": {
        "id": "G1eugX8zA5Z-"
      },
      "outputs": [],
      "source": [
        "# Barrios de la casa más cara y más barata\n",
        "casa_mas_cara = df.loc[df['sellPrice'].idxmax()]\n",
        "casa_mas_barata = df.loc[df['sellPrice'].idxmin()]\n",
        "\n",
        "print(\"Casa más cara - barrio:\", casa_mas_cara['suburb'])\n",
        "print(\"Casa más barata - barrio:\", casa_mas_barata['suburb'])"
      ]
    },
    {
      "cell_type": "code",
      "execution_count": null,
      "metadata": {
        "id": "yMEvP5asA72M"
      },
      "outputs": [],
      "source": [
        "# Cantidad de baños de esas casas\n",
        "print(\"Casa más cara - baños:\", casa_mas_cara['bath'])\n",
        "print(\"Casa más barata - baños:\", casa_mas_barata['bath'])"
      ]
    },
    {
      "cell_type": "code",
      "execution_count": null,
      "metadata": {
        "id": "K6oNO7RJA-FQ"
      },
      "outputs": [],
      "source": [
        "# Precio medio de venta por barrio (suburb)\n",
        "precio_medio_barrio = df.groupby('suburb')['sellPrice'].mean().sort_values(ascending=False)\n",
        "print(\"Precio medio por barrio:\\n\", precio_medio_barrio)"
      ]
    },
    {
      "cell_type": "code",
      "execution_count": null,
      "metadata": {
        "id": "soyTz_oABA3x"
      },
      "outputs": [],
      "source": [
        "# Precio medio de venta por tipo de propiedad (propType)\n",
        "precio_medio_tipo = df.groupby('propType')['sellPrice'].mean().sort_values(ascending=False)\n",
        "print(\"Precio medio por tipo de propiedad:\\n\", precio_medio_tipo)"
      ]
    },
    {
      "cell_type": "markdown",
      "metadata": {
        "id": "uo9C5m7kBXtE"
      },
      "source": [
        "#### Solución nivel Avanzado (Relaciones entre variables y visualización avanzada)"
      ]
    },
    {
      "cell_type": "code",
      "execution_count": null,
      "metadata": {
        "id": "hD4DDzkPBaFT"
      },
      "outputs": [],
      "source": [
        "# Agrupar por tipo de propiedad y calcular correlación\n",
        "corr_por_tipo = df.groupby('propType').apply(lambda x: x['sellPrice'].corr(x['bed']))\n",
        "print(\"Correlación entre sellPrice y bed por tipo de propiedad:\\n\", corr_por_tipo)"
      ]
    },
    {
      "cell_type": "code",
      "execution_count": null,
      "metadata": {
        "id": "GfUU-d4pBb00"
      },
      "outputs": [],
      "source": [
        "# Correlaciones de sellPrice con otras variables dentro de los outliers\n",
        "# Seleccionar solo variables numéricas\n",
        "num_cols = df_outliers.select_dtypes(include='number').columns\n",
        "\n",
        "# Correlación con sellPrice\n",
        "corr_outliers = df_outliers[num_cols].corr()['sellPrice'].sort_values(ascending=False)\n",
        "print(\"Correlaciones de sellPrice dentro de outliers:\\n\", corr_outliers)"
      ]
    },
    {
      "cell_type": "code",
      "execution_count": null,
      "metadata": {
        "id": "wGQT-SDBBg4f"
      },
      "outputs": [],
      "source": [
        "# --- Distribución de propType en los 3 barrios más poblados ---\n",
        "\n",
        "# 1. Calcular la cantidad de propiedades por barrio\n",
        "conteo_barrios = df['suburb'].value_counts()\n",
        "\n",
        "# 2. Seleccionar los 3 barrios con más propiedades\n",
        "top3_barrios = conteo_barrios.head(3).index\n",
        "\n",
        "# 3. Filtrar el DataFrame para incluir solo esos 3 barrios\n",
        "df_top3 = df[df['suburb'].isin(top3_barrios)]\n",
        "\n",
        "# 4. Crear tabla de contingencia suburb vs propType\n",
        "tabla_contingencia = pd.crosstab(\n",
        "    index=df_top3['suburb'],       # Filas = suburbios\n",
        "    columns=df_top3['propType'],   # Columnas = tipos de propiedad\n",
        "    normalize='index'              # Normalización por fila → frecuencias relativas\n",
        ")\n",
        "\n",
        "# 5. Mostrar resultados\n",
        "print(\"Tabla de contingencia (frecuencias relativas):\\n\")\n",
        "print(tabla_contingencia)\n",
        "\n",
        "# Heatmap\n",
        "plt.figure(figsize=(8,5))\n",
        "sns.heatmap(tabla_contingencia, annot=True, fmt=\".2f\", cmap=\"YlGnBu\")\n",
        "plt.title('Distribución de propType en los 3 barrios más poblados')\n",
        "plt.show()"
      ]
    },
    {
      "cell_type": "code",
      "execution_count": null,
      "metadata": {
        "id": "06eihus6B0b_"
      },
      "outputs": [],
      "source": [
        "# Heatmap luego de filtrar outliers en variables clave\n",
        "\n",
        "# Seleccionar variables clave\n",
        "vars_clave = ['sellPrice','bed','bath']\n",
        "\n",
        "# Correlación antes y después de filtrar\n",
        "plt.figure(figsize=(6,5))\n",
        "sns.heatmap(df[vars_clave].corr(), annot=True, cmap='coolwarm')\n",
        "plt.title('Correlación variables clave - original')\n",
        "plt.show()\n",
        "\n",
        "plt.figure(figsize=(6,5))\n",
        "sns.heatmap(df_filtrado[vars_clave].corr(), annot=True, cmap='coolwarm')\n",
        "plt.title('Correlación variables clave - filtrado de outliers')\n",
        "plt.show()"
      ]
    },
    {
      "cell_type": "code",
      "execution_count": null,
      "metadata": {
        "id": "n8FZwz1TB6a7"
      },
      "outputs": [],
      "source": [
        "# Efecto de cambiar la paleta de colores en la interpretación de un gráfico\n",
        "plt.figure(figsize=(6,5))\n",
        "sns.heatmap(df_filtrado[vars_clave].corr(), annot=True, cmap='Reds')\n",
        "plt.title('Heatmap con paleta Reds')\n",
        "plt.show()\n",
        "\n",
        "plt.figure(figsize=(6,5))\n",
        "sns.heatmap(df_filtrado[vars_clave].corr(), annot=True, cmap='coolwarm')\n",
        "plt.title('Heatmap con paleta Coolwarm')\n",
        "plt.show()"
      ]
    },
    {
      "cell_type": "markdown",
      "metadata": {
        "id": "tVwg3oTld8WJ"
      },
      "source": [
        "## **Preprocesamiento**"
      ]
    },
    {
      "cell_type": "markdown",
      "metadata": {
        "id": "4Bf6TCPeE0Ax"
      },
      "source": [
        "#### Soluciones Nivel Básico: Transformaciones de variables numéricas"
      ]
    },
    {
      "cell_type": "code",
      "execution_count": null,
      "metadata": {
        "id": "ZK82BDD2E2S6"
      },
      "outputs": [],
      "source": [
        "# Crear transformaciones de la variable\n",
        "\n",
        "# Variable original\n",
        "x = df['sellPrice'].dropna()\n",
        "\n",
        "# Transformaciones\n",
        "y_inv = 1 / x           # y = 1/x\n",
        "y_sqrt = np.sqrt(x)     # y = sqrt(x)\n",
        "y_pow2 = x**2           # y = x^2\n",
        "\n",
        "# Guardamos en un nuevo DataFrame para analizarlas juntas\n",
        "df_transf = pd.DataFrame({\n",
        "    'Original': x,\n",
        "    'Inversa (1/x)': y_inv,\n",
        "    'Raíz cuadrada (√x)': y_sqrt,\n",
        "    'Cuadrado (x²)': y_pow2\n",
        "})"
      ]
    },
    {
      "cell_type": "code",
      "execution_count": null,
      "metadata": {
        "id": "Ug2Vyh9jFD9h"
      },
      "outputs": [],
      "source": [
        "# Graficar distribuciones y boxplots\n",
        "\n",
        "plt.figure(figsize=(14,8))\n",
        "\n",
        "# Distribuciones\n",
        "for i, col in enumerate(df_transf.columns, 1):\n",
        "    plt.subplot(2,4,i)\n",
        "    sns.histplot(df_transf[col], kde=True, bins=30)\n",
        "    plt.title(f\"Distribución - {col}\")\n",
        "\n",
        "# Boxplots\n",
        "for i, col in enumerate(df_transf.columns, 1):\n",
        "    plt.subplot(2,4,i+4)\n",
        "    sns.boxplot(x=df_transf[col])\n",
        "    plt.title(f\"Boxplot - {col}\")\n",
        "\n",
        "plt.tight_layout()\n",
        "plt.show()"
      ]
    },
    {
      "cell_type": "code",
      "execution_count": null,
      "metadata": {
        "id": "ZpAF-he8FHVL"
      },
      "outputs": [],
      "source": [
        "# Medidas de tendencia central\n",
        "\n",
        "from scipy import stats\n",
        "\n",
        "for col in df_transf.columns:\n",
        "    media = df_transf[col].mean()\n",
        "    mediana = df_transf[col].median()\n",
        "    moda = stats.mode(df_transf[col], keepdims=True)[0][0]\n",
        "    print(f\"{col} → Media: {media:.2f}, Mediana: {mediana:.2f}, Moda: {moda:.2f}\")"
      ]
    },
    {
      "cell_type": "markdown",
      "metadata": {
        "id": "lTetDTe3FdEm"
      },
      "source": [
        "Comparación de resultados (interpretación)\n",
        "- Original (sellPrice): suele estar sesgado a la derecha (casas muy caras influyen mucho en la media).\n",
        "- Inversa (1/x): “aplana” los valores grandes, haciendo que las casas caras se vean más parecidas entre sí. La distribución se sesga hacia la izquierda.\n",
        "- Raíz cuadrada (√x): reduce la asimetría, acercando media y mediana, útil para normalizar.\n",
        "- Cuadrado (x²): amplifica los valores grandes (los outliers se vuelven aún más extremos)."
      ]
    },
    {
      "cell_type": "markdown",
      "metadata": {
        "id": "A49M-_4-FtS-"
      },
      "source": [
        "#### Soluciones Nivel Intermedio: Tratamiento de datos faltantes y creación de nuevas variables."
      ]
    },
    {
      "cell_type": "code",
      "execution_count": null,
      "metadata": {
        "id": "3EsyQQriFutX"
      },
      "outputs": [],
      "source": [
        "# Imputación de datos faltantes con un método distinto -> KNNImputer\n",
        "from sklearn.impute import KNNImputer\n",
        "\n",
        "# Seleccionamos solo las columnas numéricas para imputar\n",
        "num_cols = df.select_dtypes(include='number').columns\n",
        "imputer = KNNImputer(n_neighbors=5)\n",
        "\n",
        "# Aplicamos KNNImputer\n",
        "df[num_cols] = imputer.fit_transform(df[num_cols])"
      ]
    },
    {
      "cell_type": "code",
      "execution_count": null,
      "metadata": {
        "id": "O0qSUtFdF_rt"
      },
      "outputs": [],
      "source": [
        "# Creación de nuevas variables (feature engineering)\n",
        "\n",
        "# 1. Relación precio por habitación\n",
        "df['price_per_bed'] = df['sellPrice'] / df['bed']\n",
        "\n",
        "# 2. Relación precio por baño\n",
        "df['price_per_bath'] = df['sellPrice'] / df['bath']\n",
        "\n",
        "# 3. Precio normalizado por tamaño (si existe la variable landSize o similar)\n",
        "if 'landSize' in df.columns:\n",
        "    df['price_per_m2'] = df['sellPrice'] / df['landSize']\n",
        "else:\n",
        "    # Si no está landSize, creamos una interacción alternativa\n",
        "    df['bed_bath_ratio'] = df['bed'] / df['bath'].replace(0,1)"
      ]
    },
    {
      "cell_type": "code",
      "execution_count": null,
      "metadata": {
        "id": "ruqCHYDMGh9M"
      },
      "outputs": [],
      "source": [
        "# Revisión rápida de nuevas variables\n",
        "\n",
        "print(df[['price_per_bed','price_per_bath']].describe().T)\n",
        "\n",
        "if 'price_per_m2' in df.columns:\n",
        "    print(df['price_per_m2'].describe())\n",
        "else:\n",
        "    print(df['bed_bath_ratio'].describe())"
      ]
    },
    {
      "cell_type": "markdown",
      "metadata": {
        "id": "XqzNCiB-HCe2"
      },
      "source": [
        "#### Soluciones Nivel Avanzado: Análisis más profundo y codificación de variables categóricas."
      ]
    },
    {
      "cell_type": "code",
      "execution_count": null,
      "metadata": {
        "id": "A0MZTn0uHD2l"
      },
      "outputs": [],
      "source": [
        "# Análisis de las nuevas variables creadas\n",
        "\n",
        "nuevas_vars = ['price_per_bed', 'price_per_bath']\n",
        "\n",
        "if 'price_per_m2' in df.columns:\n",
        "    nuevas_vars.append('price_per_m2')\n",
        "else:\n",
        "    nuevas_vars.append('bed_bath_ratio')"
      ]
    },
    {
      "cell_type": "code",
      "execution_count": null,
      "metadata": {
        "id": "PukqZ2BvHUeA"
      },
      "outputs": [],
      "source": [
        "# Distribución y boxplot.\n",
        "plt.figure(figsize=(12,6))\n",
        "for i, col in enumerate(nuevas_vars, 1):\n",
        "    plt.subplot(2, len(nuevas_vars), i)\n",
        "    sns.histplot(df[col], kde=True, bins=30)\n",
        "    plt.title(f\"Distribución de {col}\")\n",
        "\n",
        "    plt.subplot(2, len(nuevas_vars), i+len(nuevas_vars))\n",
        "    sns.boxplot(x=df[col])\n",
        "    plt.title(f\"Boxplot de {col}\")\n",
        "\n",
        "plt.tight_layout()\n",
        "plt.show()"
      ]
    },
    {
      "cell_type": "code",
      "execution_count": null,
      "metadata": {
        "id": "dk2B-ETnHWXc"
      },
      "outputs": [],
      "source": [
        "# Correlación con sellPrice\n",
        "\n",
        "corrs = df[nuevas_vars + ['sellPrice']].corr()['sellPrice'].sort_values(ascending=False)\n",
        "print(\"Correlación con sellPrice:\\n\", corrs)"
      ]
    },
    {
      "cell_type": "code",
      "execution_count": null,
      "metadata": {
        "id": "vIEqMqBOHYo_"
      },
      "outputs": [],
      "source": [
        "# Scatterplot frente a sellPrice\n",
        "plt.figure(figsize=(12,5))\n",
        "for i, col in enumerate(nuevas_vars, 1):\n",
        "    plt.subplot(1, len(nuevas_vars), i)\n",
        "    sns.scatterplot(x=df[col], y=df['sellPrice'], alpha=0.5)\n",
        "    plt.title(f\"{col} vs sellPrice\")\n",
        "\n",
        "plt.tight_layout()\n",
        "plt.show()"
      ]
    },
    {
      "cell_type": "code",
      "execution_count": null,
      "metadata": {
        "id": "Uhtk6cfoHco-"
      },
      "outputs": [],
      "source": [
        "# Codificación de variables categóricas\n",
        "# One-Hot Encoding\n",
        "# pandas\n",
        "# df_ohe = pd.get_dummies(df['propType'], prefix='propType')\n",
        "\n",
        "# sklearn\n",
        "from sklearn.preprocessing import OneHotEncoder\n",
        "\n",
        "\n",
        "\n",
        "# Label Encoding\n",
        "from sklearn.preprocessing import LabelEncoder, OrdinalEncoder\n",
        "\n",
        "le = LabelEncoder()\n",
        "df['suburb_le'] = le.fit_transform(df['suburb'])"
      ]
    },
    {
      "cell_type": "code",
      "execution_count": null,
      "metadata": {
        "id": "xJ7DXvEaHvUo"
      },
      "outputs": [],
      "source": [
        "# Integrar nuevas columnas al DataFrame\n",
        "# Concatenamos el One-Hot Encoding con el df original\n",
        "df_final = pd.concat([df, df_ohe], axis=1)"
      ]
    },
    {
      "cell_type": "markdown",
      "metadata": {
        "id": "o9tEXW5oB8Rd"
      },
      "source": [
        "---"
      ]
    }
  ],
  "metadata": {
    "colab": {
      "collapsed_sections": [
        "l5ub00Z2hqXo",
        "Cby8BJYA9XWb",
        "zx3nNSl8Ab3R",
        "uo9C5m7kBXtE",
        "4Bf6TCPeE0Ax",
        "A49M-_4-FtS-"
      ],
      "provenance": []
    },
    "kernelspec": {
      "display_name": "Python 3",
      "name": "python3"
    },
    "language_info": {
      "name": "python"
    }
  },
  "nbformat": 4,
  "nbformat_minor": 0
}
